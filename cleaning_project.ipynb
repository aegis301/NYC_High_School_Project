{
 "metadata": {
  "language_info": {
   "codemirror_mode": {
    "name": "ipython",
    "version": 3
   },
   "file_extension": ".py",
   "mimetype": "text/x-python",
   "name": "python",
   "nbconvert_exporter": "python",
   "pygments_lexer": "ipython3",
   "version": "3.8.5-final"
  },
  "orig_nbformat": 2,
  "kernelspec": {
   "name": "python3",
   "display_name": "Python 3"
  }
 },
 "nbformat": 4,
 "nbformat_minor": 2,
 "cells": [
  {
   "source": [
    "# Investiagating School Data\n",
    "\n",
    "*Disclaimer: This project is based on the data cleaning walkthrough provided by dataquest.io. Though my own take on this project might differ from what can be found on their website.*\n",
    "\n",
    "### The Project\n",
    "In this project I will try to showcase my skills in data cleaning, data exploration and presentation. While I will perform some analyses on this project, they will remain at a lower level of complexity. If you want to see my performance on more complex issues, I would refer you to my other projects.\n",
    "\n",
    "### The Question\n",
    "In this project, I will try to investigate whether standardized testing in U.S. highschools is efficiant and if certain groups are at a disadvantage.  \n",
    "\n",
    "### The Data\n",
    "In order to answer said question, I am going to use publicly accessible SAT data from 2012 from the city of New York. In order to investigate demographics I need more data though. Here's a list of all datasets I am going to use:\n",
    "\n",
    "* [SAT scores by school](https://data.cityofnewyork.us/Education/2012-SAT-Results/f9bf-2cp4) - SAT scores for each high school in New York City\n",
    "* [School attendance](https://data.cityofnewyork.us/Education/2010-2011-School-Attendance-and-Enrollment-Statist/7z8d-msnt) - Attendance information for each school in New York City\n",
    "* [Class size](https://data.cityofnewyork.us/Education/2010-2011-Class-Size-School-level-detail/urz7-pzb3) - Information on class size for each school\n",
    "* [AP test results](https://data.cityofnewyork.us/Education/AP-College-Board-2010-School-Level-Results/itfs-ms3e) - Advanced Placement (AP) exam results for each high school (passing an optional AP exam in a particular subject can earn a student college credit in that subject)\n",
    "* [Graduation outcomes](https://data.cityofnewyork.us/Education/2005-2010-Graduation-Outcomes-School-Level/vh2h-md7a) - The percentage of students who graduated, and other outcome information\n",
    "* [Demographics](https://data.cityofnewyork.us/Education/2006-2012-School-Demographics-and-Accountability-S/ihfw-zy9j) - Demographic information for each school\n",
    "* [School survey](https://data.cityofnewyork.us/Education/2011-NYC-School-Survey/mnz3-dyi8) - Surveys of parents, teachers, and students at each school\n",
    "\n",
    "\n",
    "\n",
    "\n",
    "\n",
    "\n",
    "\n",
    "\n"
   ],
   "cell_type": "markdown",
   "metadata": {}
  },
  {
   "source": [
    "## Reading the Data"
   ],
   "cell_type": "markdown",
   "metadata": {}
  },
  {
   "cell_type": "code",
   "execution_count": 3,
   "metadata": {},
   "outputs": [],
   "source": [
    "#read in the csv files\n",
    "import pandas as pd\n",
    "data_files = [\"ap_2010.csv\",\n",
    "    \"class_size.csv\",\n",
    "    \"demographics.csv\",\n",
    "    \"graduation.csv\",\n",
    "    \"hs_directory.csv\",\n",
    "    \"sat_results.csv\"\n",
    "]\n",
    "data = {}\n",
    "for f in data_files:\n",
    "    d = pd.read_csv('data/{}'.format(f))\n",
    "    key_name = f.replace('.csv', '')\n",
    "    data[key_name] = d"
   ]
  },
  {
   "cell_type": "code",
   "execution_count": 6,
   "metadata": {},
   "outputs": [
    {
     "output_type": "execute_result",
     "data": {
      "text/plain": [
       "      DBN                                    SCHOOL NAME  \\\n",
       "0  01M292  HENRY STREET SCHOOL FOR INTERNATIONAL STUDIES   \n",
       "1  01M448            UNIVERSITY NEIGHBORHOOD HIGH SCHOOL   \n",
       "2  01M450                     EAST SIDE COMMUNITY SCHOOL   \n",
       "3  01M458                      FORSYTH SATELLITE ACADEMY   \n",
       "4  01M509                        MARTA VALLE HIGH SCHOOL   \n",
       "\n",
       "  Num of SAT Test Takers SAT Critical Reading Avg. Score SAT Math Avg. Score  \\\n",
       "0                     29                             355                 404   \n",
       "1                     91                             383                 423   \n",
       "2                     70                             377                 402   \n",
       "3                      7                             414                 401   \n",
       "4                     44                             390                 433   \n",
       "\n",
       "  SAT Writing Avg. Score  \n",
       "0                    363  \n",
       "1                    366  \n",
       "2                    370  \n",
       "3                    359  \n",
       "4                    384  "
      ],
      "text/html": "<div>\n<style scoped>\n    .dataframe tbody tr th:only-of-type {\n        vertical-align: middle;\n    }\n\n    .dataframe tbody tr th {\n        vertical-align: top;\n    }\n\n    .dataframe thead th {\n        text-align: right;\n    }\n</style>\n<table border=\"1\" class=\"dataframe\">\n  <thead>\n    <tr style=\"text-align: right;\">\n      <th></th>\n      <th>DBN</th>\n      <th>SCHOOL NAME</th>\n      <th>Num of SAT Test Takers</th>\n      <th>SAT Critical Reading Avg. Score</th>\n      <th>SAT Math Avg. Score</th>\n      <th>SAT Writing Avg. Score</th>\n    </tr>\n  </thead>\n  <tbody>\n    <tr>\n      <th>0</th>\n      <td>01M292</td>\n      <td>HENRY STREET SCHOOL FOR INTERNATIONAL STUDIES</td>\n      <td>29</td>\n      <td>355</td>\n      <td>404</td>\n      <td>363</td>\n    </tr>\n    <tr>\n      <th>1</th>\n      <td>01M448</td>\n      <td>UNIVERSITY NEIGHBORHOOD HIGH SCHOOL</td>\n      <td>91</td>\n      <td>383</td>\n      <td>423</td>\n      <td>366</td>\n    </tr>\n    <tr>\n      <th>2</th>\n      <td>01M450</td>\n      <td>EAST SIDE COMMUNITY SCHOOL</td>\n      <td>70</td>\n      <td>377</td>\n      <td>402</td>\n      <td>370</td>\n    </tr>\n    <tr>\n      <th>3</th>\n      <td>01M458</td>\n      <td>FORSYTH SATELLITE ACADEMY</td>\n      <td>7</td>\n      <td>414</td>\n      <td>401</td>\n      <td>359</td>\n    </tr>\n    <tr>\n      <th>4</th>\n      <td>01M509</td>\n      <td>MARTA VALLE HIGH SCHOOL</td>\n      <td>44</td>\n      <td>390</td>\n      <td>433</td>\n      <td>384</td>\n    </tr>\n  </tbody>\n</table>\n</div>"
     },
     "metadata": {},
     "execution_count": 6
    }
   ],
   "source": [
    "data['sat_results'].head()"
   ]
  },
  {
   "cell_type": "code",
   "execution_count": 11,
   "metadata": {},
   "outputs": [
    {
     "output_type": "stream",
     "name": "stdout",
     "text": [
      "      DBN                             SchoolName  AP Test Takers   \\\n0  01M448           UNIVERSITY NEIGHBORHOOD H.S.             39.0   \n1  01M450                 EAST SIDE COMMUNITY HS             19.0   \n2  01M515                    LOWER EASTSIDE PREP             24.0   \n3  01M539         NEW EXPLORATIONS SCI,TECH,MATH            255.0   \n4  02M296  High School of Hospitality Management              NaN   \n\n   Total Exams Taken  Number of Exams with scores 3 4 or 5  \n0               49.0                                  10.0  \n1               21.0                                   NaN  \n2               26.0                                  24.0  \n3              377.0                                 191.0  \n4                NaN                                   NaN  \n   CSD BOROUGH SCHOOL CODE                SCHOOL NAME GRADE  PROGRAM TYPE  \\\n0    1       M        M015  P.S. 015 Roberto Clemente     0K       GEN ED   \n1    1       M        M015  P.S. 015 Roberto Clemente     0K          CTT   \n2    1       M        M015  P.S. 015 Roberto Clemente     01       GEN ED   \n3    1       M        M015  P.S. 015 Roberto Clemente     01          CTT   \n4    1       M        M015  P.S. 015 Roberto Clemente     02       GEN ED   \n\n  CORE SUBJECT (MS CORE and 9-12 ONLY) CORE COURSE (MS CORE and 9-12 ONLY)  \\\n0                                    -                                   -   \n1                                    -                                   -   \n2                                    -                                   -   \n3                                    -                                   -   \n4                                    -                                   -   \n\n  SERVICE CATEGORY(K-9* ONLY)  NUMBER OF STUDENTS / SEATS FILLED  \\\n0                           -                               19.0   \n1                           -                               21.0   \n2                           -                               17.0   \n3                           -                               17.0   \n4                           -                               15.0   \n\n   NUMBER OF SECTIONS  AVERAGE CLASS SIZE  SIZE OF SMALLEST CLASS  \\\n0                 1.0                19.0                    19.0   \n1                 1.0                21.0                    21.0   \n2                 1.0                17.0                    17.0   \n3                 1.0                17.0                    17.0   \n4                 1.0                15.0                    15.0   \n\n   SIZE OF LARGEST CLASS DATA SOURCE  SCHOOLWIDE PUPIL-TEACHER RATIO  \n0                   19.0         ATS                             NaN  \n1                   21.0         ATS                             NaN  \n2                   17.0         ATS                             NaN  \n3                   17.0         ATS                             NaN  \n4                   15.0         ATS                             NaN  \n      DBN                       Name  schoolyear fl_percent  frl_percent  \\\n0  01M015  P.S. 015 ROBERTO CLEMENTE    20052006       89.4          NaN   \n1  01M015  P.S. 015 ROBERTO CLEMENTE    20062007       89.4          NaN   \n2  01M015  P.S. 015 ROBERTO CLEMENTE    20072008       89.4          NaN   \n3  01M015  P.S. 015 ROBERTO CLEMENTE    20082009       89.4          NaN   \n4  01M015  P.S. 015 ROBERTO CLEMENTE    20092010                    96.5   \n\n   total_enrollment prek   k grade1 grade2  ... black_num black_per  \\\n0               281   15  36     40     33  ...        74      26.3   \n1               243   15  29     39     38  ...        68      28.0   \n2               261   18  43     39     36  ...        77      29.5   \n3               252   17  37     44     32  ...        75      29.8   \n4               208   16  40     28     32  ...        67      32.2   \n\n  hispanic_num hispanic_per white_num white_per male_num male_per female_num  \\\n0          189         67.3         5       1.8    158.0     56.2      123.0   \n1          153         63.0         4       1.6    140.0     57.6      103.0   \n2          157         60.2         7       2.7    143.0     54.8      118.0   \n3          149         59.1         7       2.8    149.0     59.1      103.0   \n4          118         56.7         6       2.9    124.0     59.6       84.0   \n\n  female_per  \n0       43.8  \n1       42.4  \n2       45.2  \n3       40.9  \n4       40.4  \n\n[5 rows x 38 columns]\n    Demographic     DBN                            School Name    Cohort  \\\n0  Total Cohort  01M292  HENRY STREET SCHOOL FOR INTERNATIONAL      2003   \n1  Total Cohort  01M292  HENRY STREET SCHOOL FOR INTERNATIONAL      2004   \n2  Total Cohort  01M292  HENRY STREET SCHOOL FOR INTERNATIONAL      2005   \n3  Total Cohort  01M292  HENRY STREET SCHOOL FOR INTERNATIONAL      2006   \n4  Total Cohort  01M292  HENRY STREET SCHOOL FOR INTERNATIONAL  2006 Aug   \n\n   Total Cohort Total Grads - n  Total Grads - % of cohort Total Regents - n  \\\n0             5               s                        NaN                 s   \n1            55              37                       67.3                17   \n2            64              43                       67.2                27   \n3            78              43                       55.1                36   \n4            78              44                       56.4                37   \n\n   Total Regents - % of cohort  Total Regents - % of grads  ...  \\\n0                          NaN                         NaN  ...   \n1                         30.9                        45.9  ...   \n2                         42.2                        62.8  ...   \n3                         46.2                        83.7  ...   \n4                         47.4                        84.1  ...   \n\n  Regents w/o Advanced - n  Regents w/o Advanced - % of cohort  \\\n0                        s                                 NaN   \n1                       17                                30.9   \n2                       27                                42.2   \n3                       36                                46.2   \n4                       37                                47.4   \n\n   Regents w/o Advanced - % of grads Local - n  Local - % of cohort  \\\n0                                NaN         s                  NaN   \n1                               45.9        20                 36.4   \n2                               62.8        16                 25.0   \n3                               83.7         7                  9.0   \n4                               84.1         7                  9.0   \n\n   Local - % of grads Still Enrolled - n  Still Enrolled - % of cohort  \\\n0                 NaN                  s                           NaN   \n1                54.1                 15                          27.3   \n2                37.2                  9                          14.1   \n3                16.3                 16                          20.5   \n4                15.9                 15                          19.2   \n\n   Dropped Out - n Dropped Out - % of cohort  \n0                s                       NaN  \n1                3                       5.5  \n2                9                      14.1  \n3               11                      14.1  \n4               11                      14.1  \n\n[5 rows x 23 columns]\n      dbn                                        school_name    borough  \\\n0  27Q260          Frederick Douglass Academy VI High School     Queens   \n1  21K559        Life Academy High School for Film and Music   Brooklyn   \n2  16K393     Frederick Douglass Academy IV Secondary School   Brooklyn   \n3  08X305                               Pablo Neruda Academy      Bronx   \n4  03M485  Fiorello H. LaGuardia High School of Music & A...  Manhattan   \n\n  building_code  phone_number    fax_number  grade_span_min  grade_span_max  \\\n0          Q465  718-471-2154  718-471-2890             9.0              12   \n1          K400  718-333-7750  718-333-7775             9.0              12   \n2          K026  718-574-2820  718-574-2821             9.0              12   \n3          X450  718-824-1682  718-824-1663             9.0              12   \n4          M485  212-496-0700  212-724-5748             9.0              12   \n\n   expgrade_span_min  expgrade_span_max  ... priority08 priority09 priority10  \\\n0                NaN                NaN  ...        NaN        NaN        NaN   \n1                NaN                NaN  ...        NaN        NaN        NaN   \n2                NaN                NaN  ...        NaN        NaN        NaN   \n3                NaN                NaN  ...        NaN        NaN        NaN   \n4                NaN                NaN  ...        NaN        NaN        NaN   \n\n                                          Location 1 Community Board  \\\n0  8 21 Bay 25 Street\\nFar Rockaway, NY 11691\\n(4...            14.0   \n1  2630 Benson Avenue\\nBrooklyn, NY 11214\\n(40.59...            13.0   \n2  1014 Lafayette Avenue\\nBrooklyn, NY 11221\\n(40...             3.0   \n3  1980 Lafayette Avenue\\nBronx, NY 10473\\n(40.82...             9.0   \n4  100 Amsterdam Avenue\\nNew York, NY 10023\\n(40....             7.0   \n\n   Council District Census Tract        BIN           BBL  \\\n0              31.0     100802.0  4300730.0  4.157360e+09   \n1              47.0        306.0  3186454.0  3.068830e+09   \n2              36.0        291.0  3393805.0  3.016160e+09   \n3              18.0         16.0  2022205.0  2.036040e+09   \n4               6.0        151.0  1030341.0  1.011560e+09   \n\n                                                 NTA  \n0  Far Rockaway-Bayswater                        ...  \n1  Gravesend                                     ...  \n2  Stuyvesant Heights                            ...  \n3  Soundview-Castle Hill-Clason Point-Harding Par...  \n4  Lincoln Square                                ...  \n\n[5 rows x 64 columns]\n      DBN                                    SCHOOL NAME  \\\n0  01M292  HENRY STREET SCHOOL FOR INTERNATIONAL STUDIES   \n1  01M448            UNIVERSITY NEIGHBORHOOD HIGH SCHOOL   \n2  01M450                     EAST SIDE COMMUNITY SCHOOL   \n3  01M458                      FORSYTH SATELLITE ACADEMY   \n4  01M509                        MARTA VALLE HIGH SCHOOL   \n\n  Num of SAT Test Takers SAT Critical Reading Avg. Score SAT Math Avg. Score  \\\n0                     29                             355                 404   \n1                     91                             383                 423   \n2                     70                             377                 402   \n3                      7                             414                 401   \n4                     44                             390                 433   \n\n  SAT Writing Avg. Score  \n0                    363  \n1                    366  \n2                    370  \n3                    359  \n4                    384  \n"
     ]
    }
   ],
   "source": [
    "for c in data:\n",
    "    print(data[c].head())"
   ]
  },
  {
   "cell_type": "code",
   "execution_count": 14,
   "metadata": {},
   "outputs": [],
   "source": [
    "# reading in the survey files\n",
    "\n",
    "all_survey = pd.read_csv('data/survey_all.txt', delimiter='\\t', encoding='windows-1252')\n",
    "d75_survey = pd.read_csv('data/survey_d75.txt', delimiter='\\t', encoding='windows-1252')"
   ]
  },
  {
   "cell_type": "code",
   "execution_count": 18,
   "metadata": {},
   "outputs": [
    {
     "output_type": "execute_result",
     "data": {
      "text/plain": [
       "      dbn    bn                      schoolname  d75 studentssurveyed  \\\n",
       "0  01M015  M015       P.S. 015 Roberto Clemente    0               No   \n",
       "1  01M019  M019             P.S. 019 Asher Levy    0               No   \n",
       "2  01M020  M020            P.S. 020 Anna Silver    0               No   \n",
       "3  01M034  M034  P.S. 034 Franklin D. Roosevelt    0              Yes   \n",
       "4  01M063  M063       P.S. 063 William McKinley    0               No   \n",
       "\n",
       "   highschool                  schooltype  rr_s  rr_t  rr_p  ...  s_q14_2  \\\n",
       "0         0.0           Elementary School   NaN    88    60  ...      NaN   \n",
       "1         0.0           Elementary School   NaN   100    60  ...      NaN   \n",
       "2         0.0           Elementary School   NaN    88    73  ...      NaN   \n",
       "3         0.0  Elementary / Middle School  89.0    73    50  ...      NaN   \n",
       "4         0.0           Elementary School   NaN   100    60  ...      NaN   \n",
       "\n",
       "   s_q14_3  s_q14_4  s_q14_5  s_q14_6  s_q14_7  s_q14_8  s_q14_9  s_q14_10  \\\n",
       "0      NaN      NaN      NaN      NaN      NaN      NaN      NaN       NaN   \n",
       "1      NaN      NaN      NaN      NaN      NaN      NaN      NaN       NaN   \n",
       "2      NaN      NaN      NaN      NaN      NaN      NaN      NaN       NaN   \n",
       "3      NaN      NaN      NaN      NaN      NaN      NaN      NaN       NaN   \n",
       "4      NaN      NaN      NaN      NaN      NaN      NaN      NaN       NaN   \n",
       "\n",
       "   s_q14_11  \n",
       "0       NaN  \n",
       "1       NaN  \n",
       "2       NaN  \n",
       "3       NaN  \n",
       "4       NaN  \n",
       "\n",
       "[5 rows x 2773 columns]"
      ],
      "text/html": "<div>\n<style scoped>\n    .dataframe tbody tr th:only-of-type {\n        vertical-align: middle;\n    }\n\n    .dataframe tbody tr th {\n        vertical-align: top;\n    }\n\n    .dataframe thead th {\n        text-align: right;\n    }\n</style>\n<table border=\"1\" class=\"dataframe\">\n  <thead>\n    <tr style=\"text-align: right;\">\n      <th></th>\n      <th>dbn</th>\n      <th>bn</th>\n      <th>schoolname</th>\n      <th>d75</th>\n      <th>studentssurveyed</th>\n      <th>highschool</th>\n      <th>schooltype</th>\n      <th>rr_s</th>\n      <th>rr_t</th>\n      <th>rr_p</th>\n      <th>...</th>\n      <th>s_q14_2</th>\n      <th>s_q14_3</th>\n      <th>s_q14_4</th>\n      <th>s_q14_5</th>\n      <th>s_q14_6</th>\n      <th>s_q14_7</th>\n      <th>s_q14_8</th>\n      <th>s_q14_9</th>\n      <th>s_q14_10</th>\n      <th>s_q14_11</th>\n    </tr>\n  </thead>\n  <tbody>\n    <tr>\n      <th>0</th>\n      <td>01M015</td>\n      <td>M015</td>\n      <td>P.S. 015 Roberto Clemente</td>\n      <td>0</td>\n      <td>No</td>\n      <td>0.0</td>\n      <td>Elementary School</td>\n      <td>NaN</td>\n      <td>88</td>\n      <td>60</td>\n      <td>...</td>\n      <td>NaN</td>\n      <td>NaN</td>\n      <td>NaN</td>\n      <td>NaN</td>\n      <td>NaN</td>\n      <td>NaN</td>\n      <td>NaN</td>\n      <td>NaN</td>\n      <td>NaN</td>\n      <td>NaN</td>\n    </tr>\n    <tr>\n      <th>1</th>\n      <td>01M019</td>\n      <td>M019</td>\n      <td>P.S. 019 Asher Levy</td>\n      <td>0</td>\n      <td>No</td>\n      <td>0.0</td>\n      <td>Elementary School</td>\n      <td>NaN</td>\n      <td>100</td>\n      <td>60</td>\n      <td>...</td>\n      <td>NaN</td>\n      <td>NaN</td>\n      <td>NaN</td>\n      <td>NaN</td>\n      <td>NaN</td>\n      <td>NaN</td>\n      <td>NaN</td>\n      <td>NaN</td>\n      <td>NaN</td>\n      <td>NaN</td>\n    </tr>\n    <tr>\n      <th>2</th>\n      <td>01M020</td>\n      <td>M020</td>\n      <td>P.S. 020 Anna Silver</td>\n      <td>0</td>\n      <td>No</td>\n      <td>0.0</td>\n      <td>Elementary School</td>\n      <td>NaN</td>\n      <td>88</td>\n      <td>73</td>\n      <td>...</td>\n      <td>NaN</td>\n      <td>NaN</td>\n      <td>NaN</td>\n      <td>NaN</td>\n      <td>NaN</td>\n      <td>NaN</td>\n      <td>NaN</td>\n      <td>NaN</td>\n      <td>NaN</td>\n      <td>NaN</td>\n    </tr>\n    <tr>\n      <th>3</th>\n      <td>01M034</td>\n      <td>M034</td>\n      <td>P.S. 034 Franklin D. Roosevelt</td>\n      <td>0</td>\n      <td>Yes</td>\n      <td>0.0</td>\n      <td>Elementary / Middle School</td>\n      <td>89.0</td>\n      <td>73</td>\n      <td>50</td>\n      <td>...</td>\n      <td>NaN</td>\n      <td>NaN</td>\n      <td>NaN</td>\n      <td>NaN</td>\n      <td>NaN</td>\n      <td>NaN</td>\n      <td>NaN</td>\n      <td>NaN</td>\n      <td>NaN</td>\n      <td>NaN</td>\n    </tr>\n    <tr>\n      <th>4</th>\n      <td>01M063</td>\n      <td>M063</td>\n      <td>P.S. 063 William McKinley</td>\n      <td>0</td>\n      <td>No</td>\n      <td>0.0</td>\n      <td>Elementary School</td>\n      <td>NaN</td>\n      <td>100</td>\n      <td>60</td>\n      <td>...</td>\n      <td>NaN</td>\n      <td>NaN</td>\n      <td>NaN</td>\n      <td>NaN</td>\n      <td>NaN</td>\n      <td>NaN</td>\n      <td>NaN</td>\n      <td>NaN</td>\n      <td>NaN</td>\n      <td>NaN</td>\n    </tr>\n  </tbody>\n</table>\n<p>5 rows × 2773 columns</p>\n</div>"
     },
     "metadata": {},
     "execution_count": 18
    }
   ],
   "source": [
    "survey = pd.concat([all_survey, d75_survey], axis=0)\n",
    "survey.head()"
   ]
  },
  {
   "cell_type": "code",
   "execution_count": null,
   "metadata": {},
   "outputs": [],
   "source": []
  }
 ]
}