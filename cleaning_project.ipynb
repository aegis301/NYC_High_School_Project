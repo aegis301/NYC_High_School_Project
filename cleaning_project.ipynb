{
 "metadata": {
  "language_info": {
   "codemirror_mode": {
    "name": "ipython",
    "version": 3
   },
   "file_extension": ".py",
   "mimetype": "text/x-python",
   "name": "python",
   "nbconvert_exporter": "python",
   "pygments_lexer": "ipython3",
   "version": "3.8.5-final"
  },
  "orig_nbformat": 2,
  "kernelspec": {
   "name": "python3",
   "display_name": "Python 3"
  }
 },
 "nbformat": 4,
 "nbformat_minor": 2,
 "cells": [
  {
   "source": [
    "# Investiagating School Data\n",
    "\n",
    "*Disclaimer: This project is based on the data cleaning walkthrough provided by dataquest.io. Though my own take on this project might differ from what can be found on their website.*\n",
    "\n",
    "### The Project\n",
    "In this project I will try to showcase my skills in data cleaning, data exploration and presentation. While I will perform some analyses on this project, they will remain at a lower level of complexity. If you want to see my performance on more complex issues, I would refer you to my other projects.\n",
    "\n",
    "### The Question\n",
    "In this project, I will try to investigate whether standardized testing in U.S. highschools is efficiant and if certain groups are at a disadvantage.  \n",
    "\n",
    "### The Data\n",
    "In order to answer said question, I am going to use publicly accessible SAT data from 2012 from the city of New York. In order to investigate demographics I need more data though. Here's a list of all datasets I am going to use:\n",
    "\n",
    "* [SAT scores by school](https://data.cityofnewyork.us/Education/2012-SAT-Results/f9bf-2cp4) - SAT scores for each high school in New York City\n",
    "* [School attendance](https://data.cityofnewyork.us/Education/2010-2011-School-Attendance-and-Enrollment-Statist/7z8d-msnt) - Attendance information for each school in New York City\n",
    "* [Class size](https://data.cityofnewyork.us/Education/2010-2011-Class-Size-School-level-detail/urz7-pzb3) - Information on class size for each school\n",
    "* [AP test results](https://data.cityofnewyork.us/Education/AP-College-Board-2010-School-Level-Results/itfs-ms3e) - Advanced Placement (AP) exam results for each high school (passing an optional AP exam in a particular subject can earn a student college credit in that subject)\n",
    "* [Graduation outcomes](https://data.cityofnewyork.us/Education/2005-2010-Graduation-Outcomes-School-Level/vh2h-md7a) - The percentage of students who graduated, and other outcome information\n",
    "* [Demographics](https://data.cityofnewyork.us/Education/2006-2012-School-Demographics-and-Accountability-S/ihfw-zy9j) - Demographic information for each school\n",
    "* [School survey](https://data.cityofnewyork.us/Education/2011-NYC-School-Survey/mnz3-dyi8) - Surveys of parents, teachers, and students at each school\n",
    "\n",
    "\n",
    "\n",
    "\n",
    "\n",
    "\n",
    "\n",
    "\n"
   ],
   "cell_type": "markdown",
   "metadata": {}
  },
  {
   "source": [
    "## Reading the Data"
   ],
   "cell_type": "markdown",
   "metadata": {}
  },
  {
   "cell_type": "code",
   "execution_count": 318,
   "metadata": {},
   "outputs": [],
   "source": [
    "#read in the csv files\n",
    "import pandas as pd\n",
    "data_files = [\"ap_2010.csv\",\n",
    "    \"class_size.csv\",\n",
    "    \"demographics.csv\",\n",
    "    \"graduation.csv\",\n",
    "    \"hs_directory.csv\",\n",
    "    \"sat_results.csv\"\n",
    "]\n",
    "data = {}\n",
    "for f in data_files:\n",
    "    d = pd.read_csv('data/{}'.format(f))\n",
    "    key_name = f.replace('.csv', '')\n",
    "    data[key_name] = d"
   ]
  },
  {
   "cell_type": "code",
   "execution_count": 319,
   "metadata": {},
   "outputs": [
    {
     "output_type": "execute_result",
     "data": {
      "text/plain": [
       "      DBN                                    SCHOOL NAME  \\\n",
       "0  01M292  HENRY STREET SCHOOL FOR INTERNATIONAL STUDIES   \n",
       "1  01M448            UNIVERSITY NEIGHBORHOOD HIGH SCHOOL   \n",
       "2  01M450                     EAST SIDE COMMUNITY SCHOOL   \n",
       "3  01M458                      FORSYTH SATELLITE ACADEMY   \n",
       "4  01M509                        MARTA VALLE HIGH SCHOOL   \n",
       "\n",
       "  Num of SAT Test Takers SAT Critical Reading Avg. Score SAT Math Avg. Score  \\\n",
       "0                     29                             355                 404   \n",
       "1                     91                             383                 423   \n",
       "2                     70                             377                 402   \n",
       "3                      7                             414                 401   \n",
       "4                     44                             390                 433   \n",
       "\n",
       "  SAT Writing Avg. Score  \n",
       "0                    363  \n",
       "1                    366  \n",
       "2                    370  \n",
       "3                    359  \n",
       "4                    384  "
      ],
      "text/html": "<div>\n<style scoped>\n    .dataframe tbody tr th:only-of-type {\n        vertical-align: middle;\n    }\n\n    .dataframe tbody tr th {\n        vertical-align: top;\n    }\n\n    .dataframe thead th {\n        text-align: right;\n    }\n</style>\n<table border=\"1\" class=\"dataframe\">\n  <thead>\n    <tr style=\"text-align: right;\">\n      <th></th>\n      <th>DBN</th>\n      <th>SCHOOL NAME</th>\n      <th>Num of SAT Test Takers</th>\n      <th>SAT Critical Reading Avg. Score</th>\n      <th>SAT Math Avg. Score</th>\n      <th>SAT Writing Avg. Score</th>\n    </tr>\n  </thead>\n  <tbody>\n    <tr>\n      <th>0</th>\n      <td>01M292</td>\n      <td>HENRY STREET SCHOOL FOR INTERNATIONAL STUDIES</td>\n      <td>29</td>\n      <td>355</td>\n      <td>404</td>\n      <td>363</td>\n    </tr>\n    <tr>\n      <th>1</th>\n      <td>01M448</td>\n      <td>UNIVERSITY NEIGHBORHOOD HIGH SCHOOL</td>\n      <td>91</td>\n      <td>383</td>\n      <td>423</td>\n      <td>366</td>\n    </tr>\n    <tr>\n      <th>2</th>\n      <td>01M450</td>\n      <td>EAST SIDE COMMUNITY SCHOOL</td>\n      <td>70</td>\n      <td>377</td>\n      <td>402</td>\n      <td>370</td>\n    </tr>\n    <tr>\n      <th>3</th>\n      <td>01M458</td>\n      <td>FORSYTH SATELLITE ACADEMY</td>\n      <td>7</td>\n      <td>414</td>\n      <td>401</td>\n      <td>359</td>\n    </tr>\n    <tr>\n      <th>4</th>\n      <td>01M509</td>\n      <td>MARTA VALLE HIGH SCHOOL</td>\n      <td>44</td>\n      <td>390</td>\n      <td>433</td>\n      <td>384</td>\n    </tr>\n  </tbody>\n</table>\n</div>"
     },
     "metadata": {},
     "execution_count": 319
    }
   ],
   "source": [
    "data['sat_results'].head()"
   ]
  },
  {
   "cell_type": "code",
   "execution_count": 320,
   "metadata": {},
   "outputs": [
    {
     "output_type": "stream",
     "name": "stdout",
     "text": [
      "      DBN                             SchoolName  AP Test Takers   \\\n0  01M448           UNIVERSITY NEIGHBORHOOD H.S.             39.0   \n1  01M450                 EAST SIDE COMMUNITY HS             19.0   \n2  01M515                    LOWER EASTSIDE PREP             24.0   \n3  01M539         NEW EXPLORATIONS SCI,TECH,MATH            255.0   \n4  02M296  High School of Hospitality Management              NaN   \n\n   Total Exams Taken  Number of Exams with scores 3 4 or 5  \n0               49.0                                  10.0  \n1               21.0                                   NaN  \n2               26.0                                  24.0  \n3              377.0                                 191.0  \n4                NaN                                   NaN  \n   CSD BOROUGH SCHOOL CODE                SCHOOL NAME GRADE  PROGRAM TYPE  \\\n0    1       M        M015  P.S. 015 Roberto Clemente     0K       GEN ED   \n1    1       M        M015  P.S. 015 Roberto Clemente     0K          CTT   \n2    1       M        M015  P.S. 015 Roberto Clemente     01       GEN ED   \n3    1       M        M015  P.S. 015 Roberto Clemente     01          CTT   \n4    1       M        M015  P.S. 015 Roberto Clemente     02       GEN ED   \n\n  CORE SUBJECT (MS CORE and 9-12 ONLY) CORE COURSE (MS CORE and 9-12 ONLY)  \\\n0                                    -                                   -   \n1                                    -                                   -   \n2                                    -                                   -   \n3                                    -                                   -   \n4                                    -                                   -   \n\n  SERVICE CATEGORY(K-9* ONLY)  NUMBER OF STUDENTS / SEATS FILLED  \\\n0                           -                               19.0   \n1                           -                               21.0   \n2                           -                               17.0   \n3                           -                               17.0   \n4                           -                               15.0   \n\n   NUMBER OF SECTIONS  AVERAGE CLASS SIZE  SIZE OF SMALLEST CLASS  \\\n0                 1.0                19.0                    19.0   \n1                 1.0                21.0                    21.0   \n2                 1.0                17.0                    17.0   \n3                 1.0                17.0                    17.0   \n4                 1.0                15.0                    15.0   \n\n   SIZE OF LARGEST CLASS DATA SOURCE  SCHOOLWIDE PUPIL-TEACHER RATIO  \n0                   19.0         ATS                             NaN  \n1                   21.0         ATS                             NaN  \n2                   17.0         ATS                             NaN  \n3                   17.0         ATS                             NaN  \n4                   15.0         ATS                             NaN  \n      DBN                       Name  schoolyear fl_percent  frl_percent  \\\n0  01M015  P.S. 015 ROBERTO CLEMENTE    20052006       89.4          NaN   \n1  01M015  P.S. 015 ROBERTO CLEMENTE    20062007       89.4          NaN   \n2  01M015  P.S. 015 ROBERTO CLEMENTE    20072008       89.4          NaN   \n3  01M015  P.S. 015 ROBERTO CLEMENTE    20082009       89.4          NaN   \n4  01M015  P.S. 015 ROBERTO CLEMENTE    20092010                    96.5   \n\n   total_enrollment prek   k grade1 grade2  ... black_num black_per  \\\n0               281   15  36     40     33  ...        74      26.3   \n1               243   15  29     39     38  ...        68      28.0   \n2               261   18  43     39     36  ...        77      29.5   \n3               252   17  37     44     32  ...        75      29.8   \n4               208   16  40     28     32  ...        67      32.2   \n\n  hispanic_num hispanic_per white_num white_per male_num male_per female_num  \\\n0          189         67.3         5       1.8    158.0     56.2      123.0   \n1          153         63.0         4       1.6    140.0     57.6      103.0   \n2          157         60.2         7       2.7    143.0     54.8      118.0   \n3          149         59.1         7       2.8    149.0     59.1      103.0   \n4          118         56.7         6       2.9    124.0     59.6       84.0   \n\n  female_per  \n0       43.8  \n1       42.4  \n2       45.2  \n3       40.9  \n4       40.4  \n\n[5 rows x 38 columns]\n    Demographic     DBN                            School Name    Cohort  \\\n0  Total Cohort  01M292  HENRY STREET SCHOOL FOR INTERNATIONAL      2003   \n1  Total Cohort  01M292  HENRY STREET SCHOOL FOR INTERNATIONAL      2004   \n2  Total Cohort  01M292  HENRY STREET SCHOOL FOR INTERNATIONAL      2005   \n3  Total Cohort  01M292  HENRY STREET SCHOOL FOR INTERNATIONAL      2006   \n4  Total Cohort  01M292  HENRY STREET SCHOOL FOR INTERNATIONAL  2006 Aug   \n\n   Total Cohort Total Grads - n  Total Grads - % of cohort Total Regents - n  \\\n0             5               s                        NaN                 s   \n1            55              37                       67.3                17   \n2            64              43                       67.2                27   \n3            78              43                       55.1                36   \n4            78              44                       56.4                37   \n\n   Total Regents - % of cohort  Total Regents - % of grads  ...  \\\n0                          NaN                         NaN  ...   \n1                         30.9                        45.9  ...   \n2                         42.2                        62.8  ...   \n3                         46.2                        83.7  ...   \n4                         47.4                        84.1  ...   \n\n  Regents w/o Advanced - n  Regents w/o Advanced - % of cohort  \\\n0                        s                                 NaN   \n1                       17                                30.9   \n2                       27                                42.2   \n3                       36                                46.2   \n4                       37                                47.4   \n\n   Regents w/o Advanced - % of grads Local - n  Local - % of cohort  \\\n0                                NaN         s                  NaN   \n1                               45.9        20                 36.4   \n2                               62.8        16                 25.0   \n3                               83.7         7                  9.0   \n4                               84.1         7                  9.0   \n\n   Local - % of grads Still Enrolled - n  Still Enrolled - % of cohort  \\\n0                 NaN                  s                           NaN   \n1                54.1                 15                          27.3   \n2                37.2                  9                          14.1   \n3                16.3                 16                          20.5   \n4                15.9                 15                          19.2   \n\n   Dropped Out - n Dropped Out - % of cohort  \n0                s                       NaN  \n1                3                       5.5  \n2                9                      14.1  \n3               11                      14.1  \n4               11                      14.1  \n\n[5 rows x 23 columns]\n      dbn                                        school_name    borough  \\\n0  27Q260          Frederick Douglass Academy VI High School     Queens   \n1  21K559        Life Academy High School for Film and Music   Brooklyn   \n2  16K393     Frederick Douglass Academy IV Secondary School   Brooklyn   \n3  08X305                               Pablo Neruda Academy      Bronx   \n4  03M485  Fiorello H. LaGuardia High School of Music & A...  Manhattan   \n\n  building_code  phone_number    fax_number  grade_span_min  grade_span_max  \\\n0          Q465  718-471-2154  718-471-2890             9.0              12   \n1          K400  718-333-7750  718-333-7775             9.0              12   \n2          K026  718-574-2820  718-574-2821             9.0              12   \n3          X450  718-824-1682  718-824-1663             9.0              12   \n4          M485  212-496-0700  212-724-5748             9.0              12   \n\n   expgrade_span_min  expgrade_span_max  ... priority08 priority09 priority10  \\\n0                NaN                NaN  ...        NaN        NaN        NaN   \n1                NaN                NaN  ...        NaN        NaN        NaN   \n2                NaN                NaN  ...        NaN        NaN        NaN   \n3                NaN                NaN  ...        NaN        NaN        NaN   \n4                NaN                NaN  ...        NaN        NaN        NaN   \n\n                                          Location 1 Community Board  \\\n0  8 21 Bay 25 Street\\nFar Rockaway, NY 11691\\n(4...            14.0   \n1  2630 Benson Avenue\\nBrooklyn, NY 11214\\n(40.59...            13.0   \n2  1014 Lafayette Avenue\\nBrooklyn, NY 11221\\n(40...             3.0   \n3  1980 Lafayette Avenue\\nBronx, NY 10473\\n(40.82...             9.0   \n4  100 Amsterdam Avenue\\nNew York, NY 10023\\n(40....             7.0   \n\n   Council District Census Tract        BIN           BBL  \\\n0              31.0     100802.0  4300730.0  4.157360e+09   \n1              47.0        306.0  3186454.0  3.068830e+09   \n2              36.0        291.0  3393805.0  3.016160e+09   \n3              18.0         16.0  2022205.0  2.036040e+09   \n4               6.0        151.0  1030341.0  1.011560e+09   \n\n                                                 NTA  \n0  Far Rockaway-Bayswater                        ...  \n1  Gravesend                                     ...  \n2  Stuyvesant Heights                            ...  \n3  Soundview-Castle Hill-Clason Point-Harding Par...  \n4  Lincoln Square                                ...  \n\n[5 rows x 64 columns]\n      DBN                                    SCHOOL NAME  \\\n0  01M292  HENRY STREET SCHOOL FOR INTERNATIONAL STUDIES   \n1  01M448            UNIVERSITY NEIGHBORHOOD HIGH SCHOOL   \n2  01M450                     EAST SIDE COMMUNITY SCHOOL   \n3  01M458                      FORSYTH SATELLITE ACADEMY   \n4  01M509                        MARTA VALLE HIGH SCHOOL   \n\n  Num of SAT Test Takers SAT Critical Reading Avg. Score SAT Math Avg. Score  \\\n0                     29                             355                 404   \n1                     91                             383                 423   \n2                     70                             377                 402   \n3                      7                             414                 401   \n4                     44                             390                 433   \n\n  SAT Writing Avg. Score  \n0                    363  \n1                    366  \n2                    370  \n3                    359  \n4                    384  \n"
     ]
    }
   ],
   "source": [
    "for c in data:\n",
    "    print(data[c].head())"
   ]
  },
  {
   "cell_type": "code",
   "execution_count": 321,
   "metadata": {},
   "outputs": [],
   "source": [
    "# reading in the survey files\n",
    "\n",
    "all_survey = pd.read_csv('data/survey_all.txt', delimiter='\\t', encoding='windows-1252')\n",
    "d75_survey = pd.read_csv('data/survey_d75.txt', delimiter='\\t', encoding='windows-1252')"
   ]
  },
  {
   "cell_type": "code",
   "execution_count": 322,
   "metadata": {},
   "outputs": [
    {
     "output_type": "execute_result",
     "data": {
      "text/plain": [
       "      dbn    bn                      schoolname  d75 studentssurveyed  \\\n",
       "0  01M015  M015       P.S. 015 Roberto Clemente    0               No   \n",
       "1  01M019  M019             P.S. 019 Asher Levy    0               No   \n",
       "2  01M020  M020            P.S. 020 Anna Silver    0               No   \n",
       "3  01M034  M034  P.S. 034 Franklin D. Roosevelt    0              Yes   \n",
       "4  01M063  M063       P.S. 063 William McKinley    0               No   \n",
       "\n",
       "   highschool                  schooltype  rr_s  rr_t  rr_p  ...  s_q14_2  \\\n",
       "0         0.0           Elementary School   NaN    88    60  ...      NaN   \n",
       "1         0.0           Elementary School   NaN   100    60  ...      NaN   \n",
       "2         0.0           Elementary School   NaN    88    73  ...      NaN   \n",
       "3         0.0  Elementary / Middle School  89.0    73    50  ...      NaN   \n",
       "4         0.0           Elementary School   NaN   100    60  ...      NaN   \n",
       "\n",
       "   s_q14_3  s_q14_4  s_q14_5  s_q14_6  s_q14_7  s_q14_8  s_q14_9  s_q14_10  \\\n",
       "0      NaN      NaN      NaN      NaN      NaN      NaN      NaN       NaN   \n",
       "1      NaN      NaN      NaN      NaN      NaN      NaN      NaN       NaN   \n",
       "2      NaN      NaN      NaN      NaN      NaN      NaN      NaN       NaN   \n",
       "3      NaN      NaN      NaN      NaN      NaN      NaN      NaN       NaN   \n",
       "4      NaN      NaN      NaN      NaN      NaN      NaN      NaN       NaN   \n",
       "\n",
       "   s_q14_11  \n",
       "0       NaN  \n",
       "1       NaN  \n",
       "2       NaN  \n",
       "3       NaN  \n",
       "4       NaN  \n",
       "\n",
       "[5 rows x 2773 columns]"
      ],
      "text/html": "<div>\n<style scoped>\n    .dataframe tbody tr th:only-of-type {\n        vertical-align: middle;\n    }\n\n    .dataframe tbody tr th {\n        vertical-align: top;\n    }\n\n    .dataframe thead th {\n        text-align: right;\n    }\n</style>\n<table border=\"1\" class=\"dataframe\">\n  <thead>\n    <tr style=\"text-align: right;\">\n      <th></th>\n      <th>dbn</th>\n      <th>bn</th>\n      <th>schoolname</th>\n      <th>d75</th>\n      <th>studentssurveyed</th>\n      <th>highschool</th>\n      <th>schooltype</th>\n      <th>rr_s</th>\n      <th>rr_t</th>\n      <th>rr_p</th>\n      <th>...</th>\n      <th>s_q14_2</th>\n      <th>s_q14_3</th>\n      <th>s_q14_4</th>\n      <th>s_q14_5</th>\n      <th>s_q14_6</th>\n      <th>s_q14_7</th>\n      <th>s_q14_8</th>\n      <th>s_q14_9</th>\n      <th>s_q14_10</th>\n      <th>s_q14_11</th>\n    </tr>\n  </thead>\n  <tbody>\n    <tr>\n      <th>0</th>\n      <td>01M015</td>\n      <td>M015</td>\n      <td>P.S. 015 Roberto Clemente</td>\n      <td>0</td>\n      <td>No</td>\n      <td>0.0</td>\n      <td>Elementary School</td>\n      <td>NaN</td>\n      <td>88</td>\n      <td>60</td>\n      <td>...</td>\n      <td>NaN</td>\n      <td>NaN</td>\n      <td>NaN</td>\n      <td>NaN</td>\n      <td>NaN</td>\n      <td>NaN</td>\n      <td>NaN</td>\n      <td>NaN</td>\n      <td>NaN</td>\n      <td>NaN</td>\n    </tr>\n    <tr>\n      <th>1</th>\n      <td>01M019</td>\n      <td>M019</td>\n      <td>P.S. 019 Asher Levy</td>\n      <td>0</td>\n      <td>No</td>\n      <td>0.0</td>\n      <td>Elementary School</td>\n      <td>NaN</td>\n      <td>100</td>\n      <td>60</td>\n      <td>...</td>\n      <td>NaN</td>\n      <td>NaN</td>\n      <td>NaN</td>\n      <td>NaN</td>\n      <td>NaN</td>\n      <td>NaN</td>\n      <td>NaN</td>\n      <td>NaN</td>\n      <td>NaN</td>\n      <td>NaN</td>\n    </tr>\n    <tr>\n      <th>2</th>\n      <td>01M020</td>\n      <td>M020</td>\n      <td>P.S. 020 Anna Silver</td>\n      <td>0</td>\n      <td>No</td>\n      <td>0.0</td>\n      <td>Elementary School</td>\n      <td>NaN</td>\n      <td>88</td>\n      <td>73</td>\n      <td>...</td>\n      <td>NaN</td>\n      <td>NaN</td>\n      <td>NaN</td>\n      <td>NaN</td>\n      <td>NaN</td>\n      <td>NaN</td>\n      <td>NaN</td>\n      <td>NaN</td>\n      <td>NaN</td>\n      <td>NaN</td>\n    </tr>\n    <tr>\n      <th>3</th>\n      <td>01M034</td>\n      <td>M034</td>\n      <td>P.S. 034 Franklin D. Roosevelt</td>\n      <td>0</td>\n      <td>Yes</td>\n      <td>0.0</td>\n      <td>Elementary / Middle School</td>\n      <td>89.0</td>\n      <td>73</td>\n      <td>50</td>\n      <td>...</td>\n      <td>NaN</td>\n      <td>NaN</td>\n      <td>NaN</td>\n      <td>NaN</td>\n      <td>NaN</td>\n      <td>NaN</td>\n      <td>NaN</td>\n      <td>NaN</td>\n      <td>NaN</td>\n      <td>NaN</td>\n    </tr>\n    <tr>\n      <th>4</th>\n      <td>01M063</td>\n      <td>M063</td>\n      <td>P.S. 063 William McKinley</td>\n      <td>0</td>\n      <td>No</td>\n      <td>0.0</td>\n      <td>Elementary School</td>\n      <td>NaN</td>\n      <td>100</td>\n      <td>60</td>\n      <td>...</td>\n      <td>NaN</td>\n      <td>NaN</td>\n      <td>NaN</td>\n      <td>NaN</td>\n      <td>NaN</td>\n      <td>NaN</td>\n      <td>NaN</td>\n      <td>NaN</td>\n      <td>NaN</td>\n      <td>NaN</td>\n    </tr>\n  </tbody>\n</table>\n<p>5 rows × 2773 columns</p>\n</div>"
     },
     "metadata": {},
     "execution_count": 322
    }
   ],
   "source": [
    "survey = pd.concat([all_survey, d75_survey], axis=0)\n",
    "survey.head()"
   ]
  },
  {
   "source": [
    "Most of the data displayed is not of interest for us. It seems the most interesting columns for us, according to the dictionary available at the source of the data are:\n",
    "\n",
    "\\[\"dbn\", \"rr_s\", \"rr_t\", \"rr_p\", \"N_s\", \"N_t\", \"N_p\", \"saf_p_11\", \"com_p_11\", \"eng_p_11\", \"aca_p_11\", \"saf_t_11\", \"com_t_11\", \"eng_t_11\", \"aca_t_11\", \"saf_s_11\", \"com_s_11\", \"eng_s_11\", \"aca_s_11\", \"saf_tot_11\", \"com_tot_11\", \"eng_tot_11\", \"aca_tot_11\"\\]\n",
    "\n",
    "We want to filter the data and also change the name of the column 'dbn' to 'DBN' to match our other datasets.\n"
   ],
   "cell_type": "markdown",
   "metadata": {}
  },
  {
   "cell_type": "code",
   "execution_count": 323,
   "metadata": {},
   "outputs": [],
   "source": [
    "survey['DBN'] = survey['dbn']"
   ]
  },
  {
   "cell_type": "code",
   "execution_count": 324,
   "metadata": {},
   "outputs": [
    {
     "output_type": "execute_result",
     "data": {
      "text/plain": [
       "      dbn    bn                      schoolname  d75 studentssurveyed  \\\n",
       "0  01M015  M015       P.S. 015 Roberto Clemente    0               No   \n",
       "1  01M019  M019             P.S. 019 Asher Levy    0               No   \n",
       "2  01M020  M020            P.S. 020 Anna Silver    0               No   \n",
       "3  01M034  M034  P.S. 034 Franklin D. Roosevelt    0              Yes   \n",
       "4  01M063  M063       P.S. 063 William McKinley    0               No   \n",
       "\n",
       "   highschool                  schooltype  rr_s  rr_t  rr_p  ...  s_q14_3  \\\n",
       "0         0.0           Elementary School   NaN    88    60  ...      NaN   \n",
       "1         0.0           Elementary School   NaN   100    60  ...      NaN   \n",
       "2         0.0           Elementary School   NaN    88    73  ...      NaN   \n",
       "3         0.0  Elementary / Middle School  89.0    73    50  ...      NaN   \n",
       "4         0.0           Elementary School   NaN   100    60  ...      NaN   \n",
       "\n",
       "   s_q14_4  s_q14_5  s_q14_6  s_q14_7  s_q14_8  s_q14_9  s_q14_10  s_q14_11  \\\n",
       "0      NaN      NaN      NaN      NaN      NaN      NaN       NaN       NaN   \n",
       "1      NaN      NaN      NaN      NaN      NaN      NaN       NaN       NaN   \n",
       "2      NaN      NaN      NaN      NaN      NaN      NaN       NaN       NaN   \n",
       "3      NaN      NaN      NaN      NaN      NaN      NaN       NaN       NaN   \n",
       "4      NaN      NaN      NaN      NaN      NaN      NaN       NaN       NaN   \n",
       "\n",
       "      DBN  \n",
       "0  01M015  \n",
       "1  01M019  \n",
       "2  01M020  \n",
       "3  01M034  \n",
       "4  01M063  \n",
       "\n",
       "[5 rows x 2774 columns]"
      ],
      "text/html": "<div>\n<style scoped>\n    .dataframe tbody tr th:only-of-type {\n        vertical-align: middle;\n    }\n\n    .dataframe tbody tr th {\n        vertical-align: top;\n    }\n\n    .dataframe thead th {\n        text-align: right;\n    }\n</style>\n<table border=\"1\" class=\"dataframe\">\n  <thead>\n    <tr style=\"text-align: right;\">\n      <th></th>\n      <th>dbn</th>\n      <th>bn</th>\n      <th>schoolname</th>\n      <th>d75</th>\n      <th>studentssurveyed</th>\n      <th>highschool</th>\n      <th>schooltype</th>\n      <th>rr_s</th>\n      <th>rr_t</th>\n      <th>rr_p</th>\n      <th>...</th>\n      <th>s_q14_3</th>\n      <th>s_q14_4</th>\n      <th>s_q14_5</th>\n      <th>s_q14_6</th>\n      <th>s_q14_7</th>\n      <th>s_q14_8</th>\n      <th>s_q14_9</th>\n      <th>s_q14_10</th>\n      <th>s_q14_11</th>\n      <th>DBN</th>\n    </tr>\n  </thead>\n  <tbody>\n    <tr>\n      <th>0</th>\n      <td>01M015</td>\n      <td>M015</td>\n      <td>P.S. 015 Roberto Clemente</td>\n      <td>0</td>\n      <td>No</td>\n      <td>0.0</td>\n      <td>Elementary School</td>\n      <td>NaN</td>\n      <td>88</td>\n      <td>60</td>\n      <td>...</td>\n      <td>NaN</td>\n      <td>NaN</td>\n      <td>NaN</td>\n      <td>NaN</td>\n      <td>NaN</td>\n      <td>NaN</td>\n      <td>NaN</td>\n      <td>NaN</td>\n      <td>NaN</td>\n      <td>01M015</td>\n    </tr>\n    <tr>\n      <th>1</th>\n      <td>01M019</td>\n      <td>M019</td>\n      <td>P.S. 019 Asher Levy</td>\n      <td>0</td>\n      <td>No</td>\n      <td>0.0</td>\n      <td>Elementary School</td>\n      <td>NaN</td>\n      <td>100</td>\n      <td>60</td>\n      <td>...</td>\n      <td>NaN</td>\n      <td>NaN</td>\n      <td>NaN</td>\n      <td>NaN</td>\n      <td>NaN</td>\n      <td>NaN</td>\n      <td>NaN</td>\n      <td>NaN</td>\n      <td>NaN</td>\n      <td>01M019</td>\n    </tr>\n    <tr>\n      <th>2</th>\n      <td>01M020</td>\n      <td>M020</td>\n      <td>P.S. 020 Anna Silver</td>\n      <td>0</td>\n      <td>No</td>\n      <td>0.0</td>\n      <td>Elementary School</td>\n      <td>NaN</td>\n      <td>88</td>\n      <td>73</td>\n      <td>...</td>\n      <td>NaN</td>\n      <td>NaN</td>\n      <td>NaN</td>\n      <td>NaN</td>\n      <td>NaN</td>\n      <td>NaN</td>\n      <td>NaN</td>\n      <td>NaN</td>\n      <td>NaN</td>\n      <td>01M020</td>\n    </tr>\n    <tr>\n      <th>3</th>\n      <td>01M034</td>\n      <td>M034</td>\n      <td>P.S. 034 Franklin D. Roosevelt</td>\n      <td>0</td>\n      <td>Yes</td>\n      <td>0.0</td>\n      <td>Elementary / Middle School</td>\n      <td>89.0</td>\n      <td>73</td>\n      <td>50</td>\n      <td>...</td>\n      <td>NaN</td>\n      <td>NaN</td>\n      <td>NaN</td>\n      <td>NaN</td>\n      <td>NaN</td>\n      <td>NaN</td>\n      <td>NaN</td>\n      <td>NaN</td>\n      <td>NaN</td>\n      <td>01M034</td>\n    </tr>\n    <tr>\n      <th>4</th>\n      <td>01M063</td>\n      <td>M063</td>\n      <td>P.S. 063 William McKinley</td>\n      <td>0</td>\n      <td>No</td>\n      <td>0.0</td>\n      <td>Elementary School</td>\n      <td>NaN</td>\n      <td>100</td>\n      <td>60</td>\n      <td>...</td>\n      <td>NaN</td>\n      <td>NaN</td>\n      <td>NaN</td>\n      <td>NaN</td>\n      <td>NaN</td>\n      <td>NaN</td>\n      <td>NaN</td>\n      <td>NaN</td>\n      <td>NaN</td>\n      <td>01M063</td>\n    </tr>\n  </tbody>\n</table>\n<p>5 rows × 2774 columns</p>\n</div>"
     },
     "metadata": {},
     "execution_count": 324
    }
   ],
   "source": [
    "survey.head()"
   ]
  },
  {
   "cell_type": "code",
   "execution_count": 325,
   "metadata": {},
   "outputs": [],
   "source": [
    "target_fields =[\n",
    "\"dbn\", \"rr_s\", \"rr_t\", \"rr_p\", \"N_s\", \"N_t\", \"N_p\", \"saf_p_11\", \"com_p_11\", \"eng_p_11\", \"aca_p_11\", \"saf_t_11\", \"com_t_11\", \"eng_t_11\", \"aca_t_11\", \"saf_s_11\", \"com_s_11\", \"eng_s_11\", \"aca_s_11\", \"saf_tot_11\", \"com_tot_11\", \"eng_tot_11\", \"aca_tot_11\"\n",
    "]\n",
    "\n",
    "data['survey'] = survey.loc[:, target_fields]\n"
   ]
  },
  {
   "cell_type": "code",
   "execution_count": 326,
   "metadata": {},
   "outputs": [
    {
     "output_type": "execute_result",
     "data": {
      "text/plain": [
       "       dbn  rr_s  rr_t  rr_p    N_s   N_t    N_p  saf_p_11  com_p_11  \\\n",
       "0   01M015   NaN    88    60    NaN  22.0   90.0       8.5       7.6   \n",
       "1   01M019   NaN   100    60    NaN  34.0  161.0       8.4       7.6   \n",
       "2   01M020   NaN    88    73    NaN  42.0  367.0       8.9       8.3   \n",
       "3   01M034  89.0    73    50  145.0  29.0  151.0       8.8       8.2   \n",
       "4   01M063   NaN   100    60    NaN  23.0   90.0       8.7       7.9   \n",
       "..     ...   ...   ...   ...    ...   ...    ...       ...       ...   \n",
       "51  75X352  90.0    58    48   38.0  46.0  160.0       8.9       8.3   \n",
       "52  75X721  84.0    90    48  237.0  82.0  239.0       8.6       7.6   \n",
       "53  75X723  77.0    74    20  103.0  69.0   74.0       8.4       7.8   \n",
       "54  75X754  63.0    93    22  336.0  82.0  124.0       8.3       7.5   \n",
       "55  75X811  38.0    63    19   44.0  71.0  119.0       8.5       7.8   \n",
       "\n",
       "    eng_p_11  ...  eng_t_11  aca_t_11  saf_s_11  com_s_11  eng_s_11  aca_s_11  \\\n",
       "0        7.5  ...       7.6       7.9       NaN       NaN       NaN       NaN   \n",
       "1        7.6  ...       8.9       9.1       NaN       NaN       NaN       NaN   \n",
       "2        8.3  ...       6.8       7.5       NaN       NaN       NaN       NaN   \n",
       "3        8.0  ...       6.8       7.8       6.2       5.9       6.5       7.4   \n",
       "4        8.1  ...       7.8       8.1       NaN       NaN       NaN       NaN   \n",
       "..       ...  ...       ...       ...       ...       ...       ...       ...   \n",
       "51       7.9  ...       5.7       5.8       6.8       6.0       7.8       7.6   \n",
       "52       7.5  ...       6.7       7.0       7.8       7.2       7.8       7.9   \n",
       "53       7.8  ...       6.7       7.6       6.7       7.2       7.7       7.7   \n",
       "54       7.5  ...       6.6       7.1       6.8       6.6       7.6       7.7   \n",
       "55       7.7  ...       6.5       7.0       7.7       6.1       7.7       7.7   \n",
       "\n",
       "    saf_tot_11  com_tot_11  eng_tot_11  aca_tot_11  \n",
       "0          8.0         7.7         7.5         7.9  \n",
       "1          8.5         8.1         8.2         8.4  \n",
       "2          8.2         7.3         7.5         8.0  \n",
       "3          7.3         6.7         7.1         7.9  \n",
       "4          8.5         7.6         7.9         8.0  \n",
       "..         ...         ...         ...         ...  \n",
       "51         7.4         6.6         7.1         7.2  \n",
       "52         8.0         7.1         7.3         7.6  \n",
       "53         7.6         7.4         7.4         7.7  \n",
       "54         7.2         6.9         7.3         7.5  \n",
       "55         7.7         6.8         7.3         7.5  \n",
       "\n",
       "[1702 rows x 23 columns]"
      ],
      "text/html": "<div>\n<style scoped>\n    .dataframe tbody tr th:only-of-type {\n        vertical-align: middle;\n    }\n\n    .dataframe tbody tr th {\n        vertical-align: top;\n    }\n\n    .dataframe thead th {\n        text-align: right;\n    }\n</style>\n<table border=\"1\" class=\"dataframe\">\n  <thead>\n    <tr style=\"text-align: right;\">\n      <th></th>\n      <th>dbn</th>\n      <th>rr_s</th>\n      <th>rr_t</th>\n      <th>rr_p</th>\n      <th>N_s</th>\n      <th>N_t</th>\n      <th>N_p</th>\n      <th>saf_p_11</th>\n      <th>com_p_11</th>\n      <th>eng_p_11</th>\n      <th>...</th>\n      <th>eng_t_11</th>\n      <th>aca_t_11</th>\n      <th>saf_s_11</th>\n      <th>com_s_11</th>\n      <th>eng_s_11</th>\n      <th>aca_s_11</th>\n      <th>saf_tot_11</th>\n      <th>com_tot_11</th>\n      <th>eng_tot_11</th>\n      <th>aca_tot_11</th>\n    </tr>\n  </thead>\n  <tbody>\n    <tr>\n      <th>0</th>\n      <td>01M015</td>\n      <td>NaN</td>\n      <td>88</td>\n      <td>60</td>\n      <td>NaN</td>\n      <td>22.0</td>\n      <td>90.0</td>\n      <td>8.5</td>\n      <td>7.6</td>\n      <td>7.5</td>\n      <td>...</td>\n      <td>7.6</td>\n      <td>7.9</td>\n      <td>NaN</td>\n      <td>NaN</td>\n      <td>NaN</td>\n      <td>NaN</td>\n      <td>8.0</td>\n      <td>7.7</td>\n      <td>7.5</td>\n      <td>7.9</td>\n    </tr>\n    <tr>\n      <th>1</th>\n      <td>01M019</td>\n      <td>NaN</td>\n      <td>100</td>\n      <td>60</td>\n      <td>NaN</td>\n      <td>34.0</td>\n      <td>161.0</td>\n      <td>8.4</td>\n      <td>7.6</td>\n      <td>7.6</td>\n      <td>...</td>\n      <td>8.9</td>\n      <td>9.1</td>\n      <td>NaN</td>\n      <td>NaN</td>\n      <td>NaN</td>\n      <td>NaN</td>\n      <td>8.5</td>\n      <td>8.1</td>\n      <td>8.2</td>\n      <td>8.4</td>\n    </tr>\n    <tr>\n      <th>2</th>\n      <td>01M020</td>\n      <td>NaN</td>\n      <td>88</td>\n      <td>73</td>\n      <td>NaN</td>\n      <td>42.0</td>\n      <td>367.0</td>\n      <td>8.9</td>\n      <td>8.3</td>\n      <td>8.3</td>\n      <td>...</td>\n      <td>6.8</td>\n      <td>7.5</td>\n      <td>NaN</td>\n      <td>NaN</td>\n      <td>NaN</td>\n      <td>NaN</td>\n      <td>8.2</td>\n      <td>7.3</td>\n      <td>7.5</td>\n      <td>8.0</td>\n    </tr>\n    <tr>\n      <th>3</th>\n      <td>01M034</td>\n      <td>89.0</td>\n      <td>73</td>\n      <td>50</td>\n      <td>145.0</td>\n      <td>29.0</td>\n      <td>151.0</td>\n      <td>8.8</td>\n      <td>8.2</td>\n      <td>8.0</td>\n      <td>...</td>\n      <td>6.8</td>\n      <td>7.8</td>\n      <td>6.2</td>\n      <td>5.9</td>\n      <td>6.5</td>\n      <td>7.4</td>\n      <td>7.3</td>\n      <td>6.7</td>\n      <td>7.1</td>\n      <td>7.9</td>\n    </tr>\n    <tr>\n      <th>4</th>\n      <td>01M063</td>\n      <td>NaN</td>\n      <td>100</td>\n      <td>60</td>\n      <td>NaN</td>\n      <td>23.0</td>\n      <td>90.0</td>\n      <td>8.7</td>\n      <td>7.9</td>\n      <td>8.1</td>\n      <td>...</td>\n      <td>7.8</td>\n      <td>8.1</td>\n      <td>NaN</td>\n      <td>NaN</td>\n      <td>NaN</td>\n      <td>NaN</td>\n      <td>8.5</td>\n      <td>7.6</td>\n      <td>7.9</td>\n      <td>8.0</td>\n    </tr>\n    <tr>\n      <th>...</th>\n      <td>...</td>\n      <td>...</td>\n      <td>...</td>\n      <td>...</td>\n      <td>...</td>\n      <td>...</td>\n      <td>...</td>\n      <td>...</td>\n      <td>...</td>\n      <td>...</td>\n      <td>...</td>\n      <td>...</td>\n      <td>...</td>\n      <td>...</td>\n      <td>...</td>\n      <td>...</td>\n      <td>...</td>\n      <td>...</td>\n      <td>...</td>\n      <td>...</td>\n      <td>...</td>\n    </tr>\n    <tr>\n      <th>51</th>\n      <td>75X352</td>\n      <td>90.0</td>\n      <td>58</td>\n      <td>48</td>\n      <td>38.0</td>\n      <td>46.0</td>\n      <td>160.0</td>\n      <td>8.9</td>\n      <td>8.3</td>\n      <td>7.9</td>\n      <td>...</td>\n      <td>5.7</td>\n      <td>5.8</td>\n      <td>6.8</td>\n      <td>6.0</td>\n      <td>7.8</td>\n      <td>7.6</td>\n      <td>7.4</td>\n      <td>6.6</td>\n      <td>7.1</td>\n      <td>7.2</td>\n    </tr>\n    <tr>\n      <th>52</th>\n      <td>75X721</td>\n      <td>84.0</td>\n      <td>90</td>\n      <td>48</td>\n      <td>237.0</td>\n      <td>82.0</td>\n      <td>239.0</td>\n      <td>8.6</td>\n      <td>7.6</td>\n      <td>7.5</td>\n      <td>...</td>\n      <td>6.7</td>\n      <td>7.0</td>\n      <td>7.8</td>\n      <td>7.2</td>\n      <td>7.8</td>\n      <td>7.9</td>\n      <td>8.0</td>\n      <td>7.1</td>\n      <td>7.3</td>\n      <td>7.6</td>\n    </tr>\n    <tr>\n      <th>53</th>\n      <td>75X723</td>\n      <td>77.0</td>\n      <td>74</td>\n      <td>20</td>\n      <td>103.0</td>\n      <td>69.0</td>\n      <td>74.0</td>\n      <td>8.4</td>\n      <td>7.8</td>\n      <td>7.8</td>\n      <td>...</td>\n      <td>6.7</td>\n      <td>7.6</td>\n      <td>6.7</td>\n      <td>7.2</td>\n      <td>7.7</td>\n      <td>7.7</td>\n      <td>7.6</td>\n      <td>7.4</td>\n      <td>7.4</td>\n      <td>7.7</td>\n    </tr>\n    <tr>\n      <th>54</th>\n      <td>75X754</td>\n      <td>63.0</td>\n      <td>93</td>\n      <td>22</td>\n      <td>336.0</td>\n      <td>82.0</td>\n      <td>124.0</td>\n      <td>8.3</td>\n      <td>7.5</td>\n      <td>7.5</td>\n      <td>...</td>\n      <td>6.6</td>\n      <td>7.1</td>\n      <td>6.8</td>\n      <td>6.6</td>\n      <td>7.6</td>\n      <td>7.7</td>\n      <td>7.2</td>\n      <td>6.9</td>\n      <td>7.3</td>\n      <td>7.5</td>\n    </tr>\n    <tr>\n      <th>55</th>\n      <td>75X811</td>\n      <td>38.0</td>\n      <td>63</td>\n      <td>19</td>\n      <td>44.0</td>\n      <td>71.0</td>\n      <td>119.0</td>\n      <td>8.5</td>\n      <td>7.8</td>\n      <td>7.7</td>\n      <td>...</td>\n      <td>6.5</td>\n      <td>7.0</td>\n      <td>7.7</td>\n      <td>6.1</td>\n      <td>7.7</td>\n      <td>7.7</td>\n      <td>7.7</td>\n      <td>6.8</td>\n      <td>7.3</td>\n      <td>7.5</td>\n    </tr>\n  </tbody>\n</table>\n<p>1702 rows × 23 columns</p>\n</div>"
     },
     "metadata": {},
     "execution_count": 326
    }
   ],
   "source": [
    "data['survey']"
   ]
  },
  {
   "source": [
    "## Insert DBN Fields\n",
    "\n",
    "Almost all of our datasets contain the column 'DBN' so that is a great column to later merge the data on. Some datasets do not contain said field though, so I need to make up for that. Since DBN is just the padded CSD plus the School Code like in the 'class_size' dataset I can combine those two columns."
   ],
   "cell_type": "markdown",
   "metadata": {}
  },
  {
   "cell_type": "code",
   "execution_count": 327,
   "metadata": {},
   "outputs": [],
   "source": [
    "data['hs_directory']['DBN'] = data['hs_directory']['dbn']\n",
    "\n",
    "# define function to create padded CSDs\n",
    "def pad_csd(num):\n",
    "    return str(num).zfill(2)\n",
    "data[\"class_size\"][\"padded_csd\"] = data[\"class_size\"][\"CSD\"].apply(pad_csd)"
   ]
  },
  {
   "cell_type": "code",
   "execution_count": 328,
   "metadata": {},
   "outputs": [
    {
     "output_type": "execute_result",
     "data": {
      "text/plain": [
       "   CSD BOROUGH SCHOOL CODE                SCHOOL NAME GRADE  PROGRAM TYPE  \\\n",
       "0    1       M        M015  P.S. 015 Roberto Clemente     0K       GEN ED   \n",
       "1    1       M        M015  P.S. 015 Roberto Clemente     0K          CTT   \n",
       "2    1       M        M015  P.S. 015 Roberto Clemente     01       GEN ED   \n",
       "3    1       M        M015  P.S. 015 Roberto Clemente     01          CTT   \n",
       "4    1       M        M015  P.S. 015 Roberto Clemente     02       GEN ED   \n",
       "\n",
       "  CORE SUBJECT (MS CORE and 9-12 ONLY) CORE COURSE (MS CORE and 9-12 ONLY)  \\\n",
       "0                                    -                                   -   \n",
       "1                                    -                                   -   \n",
       "2                                    -                                   -   \n",
       "3                                    -                                   -   \n",
       "4                                    -                                   -   \n",
       "\n",
       "  SERVICE CATEGORY(K-9* ONLY)  NUMBER OF STUDENTS / SEATS FILLED  \\\n",
       "0                           -                               19.0   \n",
       "1                           -                               21.0   \n",
       "2                           -                               17.0   \n",
       "3                           -                               17.0   \n",
       "4                           -                               15.0   \n",
       "\n",
       "   NUMBER OF SECTIONS  AVERAGE CLASS SIZE  SIZE OF SMALLEST CLASS  \\\n",
       "0                 1.0                19.0                    19.0   \n",
       "1                 1.0                21.0                    21.0   \n",
       "2                 1.0                17.0                    17.0   \n",
       "3                 1.0                17.0                    17.0   \n",
       "4                 1.0                15.0                    15.0   \n",
       "\n",
       "   SIZE OF LARGEST CLASS DATA SOURCE  SCHOOLWIDE PUPIL-TEACHER RATIO  \\\n",
       "0                   19.0         ATS                             NaN   \n",
       "1                   21.0         ATS                             NaN   \n",
       "2                   17.0         ATS                             NaN   \n",
       "3                   17.0         ATS                             NaN   \n",
       "4                   15.0         ATS                             NaN   \n",
       "\n",
       "  padded_csd  \n",
       "0         01  \n",
       "1         01  \n",
       "2         01  \n",
       "3         01  \n",
       "4         01  "
      ],
      "text/html": "<div>\n<style scoped>\n    .dataframe tbody tr th:only-of-type {\n        vertical-align: middle;\n    }\n\n    .dataframe tbody tr th {\n        vertical-align: top;\n    }\n\n    .dataframe thead th {\n        text-align: right;\n    }\n</style>\n<table border=\"1\" class=\"dataframe\">\n  <thead>\n    <tr style=\"text-align: right;\">\n      <th></th>\n      <th>CSD</th>\n      <th>BOROUGH</th>\n      <th>SCHOOL CODE</th>\n      <th>SCHOOL NAME</th>\n      <th>GRADE</th>\n      <th>PROGRAM TYPE</th>\n      <th>CORE SUBJECT (MS CORE and 9-12 ONLY)</th>\n      <th>CORE COURSE (MS CORE and 9-12 ONLY)</th>\n      <th>SERVICE CATEGORY(K-9* ONLY)</th>\n      <th>NUMBER OF STUDENTS / SEATS FILLED</th>\n      <th>NUMBER OF SECTIONS</th>\n      <th>AVERAGE CLASS SIZE</th>\n      <th>SIZE OF SMALLEST CLASS</th>\n      <th>SIZE OF LARGEST CLASS</th>\n      <th>DATA SOURCE</th>\n      <th>SCHOOLWIDE PUPIL-TEACHER RATIO</th>\n      <th>padded_csd</th>\n    </tr>\n  </thead>\n  <tbody>\n    <tr>\n      <th>0</th>\n      <td>1</td>\n      <td>M</td>\n      <td>M015</td>\n      <td>P.S. 015 Roberto Clemente</td>\n      <td>0K</td>\n      <td>GEN ED</td>\n      <td>-</td>\n      <td>-</td>\n      <td>-</td>\n      <td>19.0</td>\n      <td>1.0</td>\n      <td>19.0</td>\n      <td>19.0</td>\n      <td>19.0</td>\n      <td>ATS</td>\n      <td>NaN</td>\n      <td>01</td>\n    </tr>\n    <tr>\n      <th>1</th>\n      <td>1</td>\n      <td>M</td>\n      <td>M015</td>\n      <td>P.S. 015 Roberto Clemente</td>\n      <td>0K</td>\n      <td>CTT</td>\n      <td>-</td>\n      <td>-</td>\n      <td>-</td>\n      <td>21.0</td>\n      <td>1.0</td>\n      <td>21.0</td>\n      <td>21.0</td>\n      <td>21.0</td>\n      <td>ATS</td>\n      <td>NaN</td>\n      <td>01</td>\n    </tr>\n    <tr>\n      <th>2</th>\n      <td>1</td>\n      <td>M</td>\n      <td>M015</td>\n      <td>P.S. 015 Roberto Clemente</td>\n      <td>01</td>\n      <td>GEN ED</td>\n      <td>-</td>\n      <td>-</td>\n      <td>-</td>\n      <td>17.0</td>\n      <td>1.0</td>\n      <td>17.0</td>\n      <td>17.0</td>\n      <td>17.0</td>\n      <td>ATS</td>\n      <td>NaN</td>\n      <td>01</td>\n    </tr>\n    <tr>\n      <th>3</th>\n      <td>1</td>\n      <td>M</td>\n      <td>M015</td>\n      <td>P.S. 015 Roberto Clemente</td>\n      <td>01</td>\n      <td>CTT</td>\n      <td>-</td>\n      <td>-</td>\n      <td>-</td>\n      <td>17.0</td>\n      <td>1.0</td>\n      <td>17.0</td>\n      <td>17.0</td>\n      <td>17.0</td>\n      <td>ATS</td>\n      <td>NaN</td>\n      <td>01</td>\n    </tr>\n    <tr>\n      <th>4</th>\n      <td>1</td>\n      <td>M</td>\n      <td>M015</td>\n      <td>P.S. 015 Roberto Clemente</td>\n      <td>02</td>\n      <td>GEN ED</td>\n      <td>-</td>\n      <td>-</td>\n      <td>-</td>\n      <td>15.0</td>\n      <td>1.0</td>\n      <td>15.0</td>\n      <td>15.0</td>\n      <td>15.0</td>\n      <td>ATS</td>\n      <td>NaN</td>\n      <td>01</td>\n    </tr>\n  </tbody>\n</table>\n</div>"
     },
     "metadata": {},
     "execution_count": 328
    }
   ],
   "source": [
    "data[\"class_size\"].head()"
   ]
  },
  {
   "cell_type": "code",
   "execution_count": 329,
   "metadata": {},
   "outputs": [
    {
     "output_type": "stream",
     "name": "stdout",
     "text": [
      "<class 'pandas.core.frame.DataFrame'>\nRangeIndex: 27611 entries, 0 to 27610\nData columns (total 17 columns):\n #   Column                                Non-Null Count  Dtype  \n---  ------                                --------------  -----  \n 0   CSD                                   27611 non-null  int64  \n 1   BOROUGH                               27611 non-null  object \n 2   SCHOOL CODE                           27611 non-null  object \n 3   SCHOOL NAME                           27611 non-null  object \n 4   GRADE                                 26127 non-null  object \n 5   PROGRAM TYPE                          26127 non-null  object \n 6   CORE SUBJECT (MS CORE and 9-12 ONLY)  26127 non-null  object \n 7   CORE COURSE (MS CORE and 9-12 ONLY)   26127 non-null  object \n 8   SERVICE CATEGORY(K-9* ONLY)           26127 non-null  object \n 9   NUMBER OF STUDENTS / SEATS FILLED     26127 non-null  float64\n 10  NUMBER OF SECTIONS                    26127 non-null  float64\n 11  AVERAGE CLASS SIZE                    26127 non-null  float64\n 12  SIZE OF SMALLEST CLASS                26127 non-null  float64\n 13  SIZE OF LARGEST CLASS                 26127 non-null  float64\n 14  DATA SOURCE                           26127 non-null  object \n 15  SCHOOLWIDE PUPIL-TEACHER RATIO        1484 non-null   float64\n 16  padded_csd                            27611 non-null  object \ndtypes: float64(6), int64(1), object(10)\nmemory usage: 3.6+ MB\n"
     ]
    }
   ],
   "source": [
    "data[\"class_size\"].info()"
   ]
  },
  {
   "cell_type": "code",
   "execution_count": 330,
   "metadata": {},
   "outputs": [],
   "source": [
    "data[\"class_size\"][\"DBN\"] = data[\"class_size\"][\"padded_csd\"] + data[\"class_size\"][\"SCHOOL CODE\"]"
   ]
  },
  {
   "cell_type": "code",
   "execution_count": 331,
   "metadata": {},
   "outputs": [
    {
     "output_type": "execute_result",
     "data": {
      "text/plain": [
       "   CSD BOROUGH SCHOOL CODE                SCHOOL NAME GRADE  PROGRAM TYPE  \\\n",
       "0    1       M        M015  P.S. 015 Roberto Clemente     0K       GEN ED   \n",
       "1    1       M        M015  P.S. 015 Roberto Clemente     0K          CTT   \n",
       "2    1       M        M015  P.S. 015 Roberto Clemente     01       GEN ED   \n",
       "3    1       M        M015  P.S. 015 Roberto Clemente     01          CTT   \n",
       "4    1       M        M015  P.S. 015 Roberto Clemente     02       GEN ED   \n",
       "\n",
       "  CORE SUBJECT (MS CORE and 9-12 ONLY) CORE COURSE (MS CORE and 9-12 ONLY)  \\\n",
       "0                                    -                                   -   \n",
       "1                                    -                                   -   \n",
       "2                                    -                                   -   \n",
       "3                                    -                                   -   \n",
       "4                                    -                                   -   \n",
       "\n",
       "  SERVICE CATEGORY(K-9* ONLY)  NUMBER OF STUDENTS / SEATS FILLED  \\\n",
       "0                           -                               19.0   \n",
       "1                           -                               21.0   \n",
       "2                           -                               17.0   \n",
       "3                           -                               17.0   \n",
       "4                           -                               15.0   \n",
       "\n",
       "   NUMBER OF SECTIONS  AVERAGE CLASS SIZE  SIZE OF SMALLEST CLASS  \\\n",
       "0                 1.0                19.0                    19.0   \n",
       "1                 1.0                21.0                    21.0   \n",
       "2                 1.0                17.0                    17.0   \n",
       "3                 1.0                17.0                    17.0   \n",
       "4                 1.0                15.0                    15.0   \n",
       "\n",
       "   SIZE OF LARGEST CLASS DATA SOURCE  SCHOOLWIDE PUPIL-TEACHER RATIO  \\\n",
       "0                   19.0         ATS                             NaN   \n",
       "1                   21.0         ATS                             NaN   \n",
       "2                   17.0         ATS                             NaN   \n",
       "3                   17.0         ATS                             NaN   \n",
       "4                   15.0         ATS                             NaN   \n",
       "\n",
       "  padded_csd     DBN  \n",
       "0         01  01M015  \n",
       "1         01  01M015  \n",
       "2         01  01M015  \n",
       "3         01  01M015  \n",
       "4         01  01M015  "
      ],
      "text/html": "<div>\n<style scoped>\n    .dataframe tbody tr th:only-of-type {\n        vertical-align: middle;\n    }\n\n    .dataframe tbody tr th {\n        vertical-align: top;\n    }\n\n    .dataframe thead th {\n        text-align: right;\n    }\n</style>\n<table border=\"1\" class=\"dataframe\">\n  <thead>\n    <tr style=\"text-align: right;\">\n      <th></th>\n      <th>CSD</th>\n      <th>BOROUGH</th>\n      <th>SCHOOL CODE</th>\n      <th>SCHOOL NAME</th>\n      <th>GRADE</th>\n      <th>PROGRAM TYPE</th>\n      <th>CORE SUBJECT (MS CORE and 9-12 ONLY)</th>\n      <th>CORE COURSE (MS CORE and 9-12 ONLY)</th>\n      <th>SERVICE CATEGORY(K-9* ONLY)</th>\n      <th>NUMBER OF STUDENTS / SEATS FILLED</th>\n      <th>NUMBER OF SECTIONS</th>\n      <th>AVERAGE CLASS SIZE</th>\n      <th>SIZE OF SMALLEST CLASS</th>\n      <th>SIZE OF LARGEST CLASS</th>\n      <th>DATA SOURCE</th>\n      <th>SCHOOLWIDE PUPIL-TEACHER RATIO</th>\n      <th>padded_csd</th>\n      <th>DBN</th>\n    </tr>\n  </thead>\n  <tbody>\n    <tr>\n      <th>0</th>\n      <td>1</td>\n      <td>M</td>\n      <td>M015</td>\n      <td>P.S. 015 Roberto Clemente</td>\n      <td>0K</td>\n      <td>GEN ED</td>\n      <td>-</td>\n      <td>-</td>\n      <td>-</td>\n      <td>19.0</td>\n      <td>1.0</td>\n      <td>19.0</td>\n      <td>19.0</td>\n      <td>19.0</td>\n      <td>ATS</td>\n      <td>NaN</td>\n      <td>01</td>\n      <td>01M015</td>\n    </tr>\n    <tr>\n      <th>1</th>\n      <td>1</td>\n      <td>M</td>\n      <td>M015</td>\n      <td>P.S. 015 Roberto Clemente</td>\n      <td>0K</td>\n      <td>CTT</td>\n      <td>-</td>\n      <td>-</td>\n      <td>-</td>\n      <td>21.0</td>\n      <td>1.0</td>\n      <td>21.0</td>\n      <td>21.0</td>\n      <td>21.0</td>\n      <td>ATS</td>\n      <td>NaN</td>\n      <td>01</td>\n      <td>01M015</td>\n    </tr>\n    <tr>\n      <th>2</th>\n      <td>1</td>\n      <td>M</td>\n      <td>M015</td>\n      <td>P.S. 015 Roberto Clemente</td>\n      <td>01</td>\n      <td>GEN ED</td>\n      <td>-</td>\n      <td>-</td>\n      <td>-</td>\n      <td>17.0</td>\n      <td>1.0</td>\n      <td>17.0</td>\n      <td>17.0</td>\n      <td>17.0</td>\n      <td>ATS</td>\n      <td>NaN</td>\n      <td>01</td>\n      <td>01M015</td>\n    </tr>\n    <tr>\n      <th>3</th>\n      <td>1</td>\n      <td>M</td>\n      <td>M015</td>\n      <td>P.S. 015 Roberto Clemente</td>\n      <td>01</td>\n      <td>CTT</td>\n      <td>-</td>\n      <td>-</td>\n      <td>-</td>\n      <td>17.0</td>\n      <td>1.0</td>\n      <td>17.0</td>\n      <td>17.0</td>\n      <td>17.0</td>\n      <td>ATS</td>\n      <td>NaN</td>\n      <td>01</td>\n      <td>01M015</td>\n    </tr>\n    <tr>\n      <th>4</th>\n      <td>1</td>\n      <td>M</td>\n      <td>M015</td>\n      <td>P.S. 015 Roberto Clemente</td>\n      <td>02</td>\n      <td>GEN ED</td>\n      <td>-</td>\n      <td>-</td>\n      <td>-</td>\n      <td>15.0</td>\n      <td>1.0</td>\n      <td>15.0</td>\n      <td>15.0</td>\n      <td>15.0</td>\n      <td>ATS</td>\n      <td>NaN</td>\n      <td>01</td>\n      <td>01M015</td>\n    </tr>\n  </tbody>\n</table>\n</div>"
     },
     "metadata": {},
     "execution_count": 331
    }
   ],
   "source": [
    "data[\"class_size\"].head()"
   ]
  },
  {
   "source": [
    "## Combining SAT Scores\n",
    "\n",
    "In the following, I will create a variable summing up the SAT scores in the three different sections of the exam in order to facilitate correlating scores with demographic factors."
   ],
   "cell_type": "markdown",
   "metadata": {}
  },
  {
   "cell_type": "code",
   "execution_count": 332,
   "metadata": {},
   "outputs": [
    {
     "output_type": "stream",
     "name": "stdout",
     "text": [
      "<class 'pandas.core.frame.DataFrame'>\nRangeIndex: 478 entries, 0 to 477\nData columns (total 6 columns):\n #   Column                           Non-Null Count  Dtype  \n---  ------                           --------------  -----  \n 0   DBN                              478 non-null    object \n 1   SCHOOL NAME                      478 non-null    object \n 2   Num of SAT Test Takers           478 non-null    object \n 3   SAT Critical Reading Avg. Score  421 non-null    float64\n 4   SAT Math Avg. Score              421 non-null    float64\n 5   SAT Writing Avg. Score           421 non-null    float64\ndtypes: float64(3), object(3)\nmemory usage: 22.5+ KB\n"
     ]
    }
   ],
   "source": [
    "target_cols = ['SAT Math Avg. Score', 'SAT Critical Reading Avg. Score', 'SAT Writing Avg. Score']\n",
    "for col in target_cols:\n",
    "    data['sat_results'].loc[:,col] = pd.to_numeric(data['sat_results'].loc[:,col],errors='coerce')\n",
    "data['sat_results'].info()"
   ]
  },
  {
   "cell_type": "code",
   "execution_count": 333,
   "metadata": {},
   "outputs": [],
   "source": [
    "data['sat_results']['sat_score'] = data['sat_results'][target_cols[0]] + data['sat_results'][target_cols[1]] + data['sat_results'][target_cols[2]]"
   ]
  },
  {
   "cell_type": "code",
   "execution_count": 334,
   "metadata": {},
   "outputs": [
    {
     "output_type": "execute_result",
     "data": {
      "text/plain": [
       "      DBN                                    SCHOOL NAME  \\\n",
       "0  01M292  HENRY STREET SCHOOL FOR INTERNATIONAL STUDIES   \n",
       "1  01M448            UNIVERSITY NEIGHBORHOOD HIGH SCHOOL   \n",
       "2  01M450                     EAST SIDE COMMUNITY SCHOOL   \n",
       "3  01M458                      FORSYTH SATELLITE ACADEMY   \n",
       "4  01M509                        MARTA VALLE HIGH SCHOOL   \n",
       "\n",
       "  Num of SAT Test Takers  SAT Critical Reading Avg. Score  \\\n",
       "0                     29                            355.0   \n",
       "1                     91                            383.0   \n",
       "2                     70                            377.0   \n",
       "3                      7                            414.0   \n",
       "4                     44                            390.0   \n",
       "\n",
       "   SAT Math Avg. Score  SAT Writing Avg. Score  sat_score  \n",
       "0                404.0                   363.0     1122.0  \n",
       "1                423.0                   366.0     1172.0  \n",
       "2                402.0                   370.0     1149.0  \n",
       "3                401.0                   359.0     1174.0  \n",
       "4                433.0                   384.0     1207.0  "
      ],
      "text/html": "<div>\n<style scoped>\n    .dataframe tbody tr th:only-of-type {\n        vertical-align: middle;\n    }\n\n    .dataframe tbody tr th {\n        vertical-align: top;\n    }\n\n    .dataframe thead th {\n        text-align: right;\n    }\n</style>\n<table border=\"1\" class=\"dataframe\">\n  <thead>\n    <tr style=\"text-align: right;\">\n      <th></th>\n      <th>DBN</th>\n      <th>SCHOOL NAME</th>\n      <th>Num of SAT Test Takers</th>\n      <th>SAT Critical Reading Avg. Score</th>\n      <th>SAT Math Avg. Score</th>\n      <th>SAT Writing Avg. Score</th>\n      <th>sat_score</th>\n    </tr>\n  </thead>\n  <tbody>\n    <tr>\n      <th>0</th>\n      <td>01M292</td>\n      <td>HENRY STREET SCHOOL FOR INTERNATIONAL STUDIES</td>\n      <td>29</td>\n      <td>355.0</td>\n      <td>404.0</td>\n      <td>363.0</td>\n      <td>1122.0</td>\n    </tr>\n    <tr>\n      <th>1</th>\n      <td>01M448</td>\n      <td>UNIVERSITY NEIGHBORHOOD HIGH SCHOOL</td>\n      <td>91</td>\n      <td>383.0</td>\n      <td>423.0</td>\n      <td>366.0</td>\n      <td>1172.0</td>\n    </tr>\n    <tr>\n      <th>2</th>\n      <td>01M450</td>\n      <td>EAST SIDE COMMUNITY SCHOOL</td>\n      <td>70</td>\n      <td>377.0</td>\n      <td>402.0</td>\n      <td>370.0</td>\n      <td>1149.0</td>\n    </tr>\n    <tr>\n      <th>3</th>\n      <td>01M458</td>\n      <td>FORSYTH SATELLITE ACADEMY</td>\n      <td>7</td>\n      <td>414.0</td>\n      <td>401.0</td>\n      <td>359.0</td>\n      <td>1174.0</td>\n    </tr>\n    <tr>\n      <th>4</th>\n      <td>01M509</td>\n      <td>MARTA VALLE HIGH SCHOOL</td>\n      <td>44</td>\n      <td>390.0</td>\n      <td>433.0</td>\n      <td>384.0</td>\n      <td>1207.0</td>\n    </tr>\n  </tbody>\n</table>\n</div>"
     },
     "metadata": {},
     "execution_count": 334
    }
   ],
   "source": [
    "data['sat_results'].head()"
   ]
  },
  {
   "source": [
    "## Parsing Geographic Coordinates for Schools\n",
    "\n",
    "Parsing latitude and longitude for each school is going to be the next step in line.  The coordinates are currently in the text field 'Location 1' in the 'hs_directory' data set."
   ],
   "cell_type": "markdown",
   "metadata": {}
  },
  {
   "cell_type": "code",
   "execution_count": 335,
   "metadata": {},
   "outputs": [
    {
     "output_type": "execute_result",
     "data": {
      "text/plain": [
       "0    8 21 Bay 25 Street\\nFar Rockaway, NY 11691\\n(4...\n",
       "1    2630 Benson Avenue\\nBrooklyn, NY 11214\\n(40.59...\n",
       "2    1014 Lafayette Avenue\\nBrooklyn, NY 11221\\n(40...\n",
       "3    1980 Lafayette Avenue\\nBronx, NY 10473\\n(40.82...\n",
       "4    100 Amsterdam Avenue\\nNew York, NY 10023\\n(40....\n",
       "Name: Location 1, dtype: object"
      ]
     },
     "metadata": {},
     "execution_count": 335
    }
   ],
   "source": [
    "data['hs_directory']['Location 1'].head()"
   ]
  },
  {
   "source": [
    "I will extract the coordinates using a regex pattern."
   ],
   "cell_type": "markdown",
   "metadata": {}
  },
  {
   "cell_type": "code",
   "execution_count": 336,
   "metadata": {},
   "outputs": [
    {
     "output_type": "execute_result",
     "data": {
      "text/plain": [
       "      dbn                                        school_name    borough  \\\n",
       "0  27Q260          Frederick Douglass Academy VI High School     Queens   \n",
       "1  21K559        Life Academy High School for Film and Music   Brooklyn   \n",
       "2  16K393     Frederick Douglass Academy IV Secondary School   Brooklyn   \n",
       "3  08X305                               Pablo Neruda Academy      Bronx   \n",
       "4  03M485  Fiorello H. LaGuardia High School of Music & A...  Manhattan   \n",
       "\n",
       "  building_code  phone_number    fax_number  grade_span_min  grade_span_max  \\\n",
       "0          Q465  718-471-2154  718-471-2890             9.0              12   \n",
       "1          K400  718-333-7750  718-333-7775             9.0              12   \n",
       "2          K026  718-574-2820  718-574-2821             9.0              12   \n",
       "3          X450  718-824-1682  718-824-1663             9.0              12   \n",
       "4          M485  212-496-0700  212-724-5748             9.0              12   \n",
       "\n",
       "   expgrade_span_min  expgrade_span_max  ... priority10  \\\n",
       "0                NaN                NaN  ...        NaN   \n",
       "1                NaN                NaN  ...        NaN   \n",
       "2                NaN                NaN  ...        NaN   \n",
       "3                NaN                NaN  ...        NaN   \n",
       "4                NaN                NaN  ...        NaN   \n",
       "\n",
       "                                          Location 1 Community Board  \\\n",
       "0  8 21 Bay 25 Street\\nFar Rockaway, NY 11691\\n(4...            14.0   \n",
       "1  2630 Benson Avenue\\nBrooklyn, NY 11214\\n(40.59...            13.0   \n",
       "2  1014 Lafayette Avenue\\nBrooklyn, NY 11221\\n(40...             3.0   \n",
       "3  1980 Lafayette Avenue\\nBronx, NY 10473\\n(40.82...             9.0   \n",
       "4  100 Amsterdam Avenue\\nNew York, NY 10023\\n(40....             7.0   \n",
       "\n",
       "  Council District Census Tract        BIN           BBL  \\\n",
       "0             31.0     100802.0  4300730.0  4.157360e+09   \n",
       "1             47.0        306.0  3186454.0  3.068830e+09   \n",
       "2             36.0        291.0  3393805.0  3.016160e+09   \n",
       "3             18.0         16.0  2022205.0  2.036040e+09   \n",
       "4              6.0        151.0  1030341.0  1.011560e+09   \n",
       "\n",
       "                                                 NTA     DBN           lat  \n",
       "0  Far Rockaway-Bayswater                        ...  27Q260  40.601989336  \n",
       "1  Gravesend                                     ...  21K559  40.593593811  \n",
       "2  Stuyvesant Heights                            ...  16K393  40.692133704  \n",
       "3  Soundview-Castle Hill-Clason Point-Harding Par...  08X305  40.822303765  \n",
       "4  Lincoln Square                                ...  03M485  40.773670507  \n",
       "\n",
       "[5 rows x 66 columns]"
      ],
      "text/html": "<div>\n<style scoped>\n    .dataframe tbody tr th:only-of-type {\n        vertical-align: middle;\n    }\n\n    .dataframe tbody tr th {\n        vertical-align: top;\n    }\n\n    .dataframe thead th {\n        text-align: right;\n    }\n</style>\n<table border=\"1\" class=\"dataframe\">\n  <thead>\n    <tr style=\"text-align: right;\">\n      <th></th>\n      <th>dbn</th>\n      <th>school_name</th>\n      <th>borough</th>\n      <th>building_code</th>\n      <th>phone_number</th>\n      <th>fax_number</th>\n      <th>grade_span_min</th>\n      <th>grade_span_max</th>\n      <th>expgrade_span_min</th>\n      <th>expgrade_span_max</th>\n      <th>...</th>\n      <th>priority10</th>\n      <th>Location 1</th>\n      <th>Community Board</th>\n      <th>Council District</th>\n      <th>Census Tract</th>\n      <th>BIN</th>\n      <th>BBL</th>\n      <th>NTA</th>\n      <th>DBN</th>\n      <th>lat</th>\n    </tr>\n  </thead>\n  <tbody>\n    <tr>\n      <th>0</th>\n      <td>27Q260</td>\n      <td>Frederick Douglass Academy VI High School</td>\n      <td>Queens</td>\n      <td>Q465</td>\n      <td>718-471-2154</td>\n      <td>718-471-2890</td>\n      <td>9.0</td>\n      <td>12</td>\n      <td>NaN</td>\n      <td>NaN</td>\n      <td>...</td>\n      <td>NaN</td>\n      <td>8 21 Bay 25 Street\\nFar Rockaway, NY 11691\\n(4...</td>\n      <td>14.0</td>\n      <td>31.0</td>\n      <td>100802.0</td>\n      <td>4300730.0</td>\n      <td>4.157360e+09</td>\n      <td>Far Rockaway-Bayswater                        ...</td>\n      <td>27Q260</td>\n      <td>40.601989336</td>\n    </tr>\n    <tr>\n      <th>1</th>\n      <td>21K559</td>\n      <td>Life Academy High School for Film and Music</td>\n      <td>Brooklyn</td>\n      <td>K400</td>\n      <td>718-333-7750</td>\n      <td>718-333-7775</td>\n      <td>9.0</td>\n      <td>12</td>\n      <td>NaN</td>\n      <td>NaN</td>\n      <td>...</td>\n      <td>NaN</td>\n      <td>2630 Benson Avenue\\nBrooklyn, NY 11214\\n(40.59...</td>\n      <td>13.0</td>\n      <td>47.0</td>\n      <td>306.0</td>\n      <td>3186454.0</td>\n      <td>3.068830e+09</td>\n      <td>Gravesend                                     ...</td>\n      <td>21K559</td>\n      <td>40.593593811</td>\n    </tr>\n    <tr>\n      <th>2</th>\n      <td>16K393</td>\n      <td>Frederick Douglass Academy IV Secondary School</td>\n      <td>Brooklyn</td>\n      <td>K026</td>\n      <td>718-574-2820</td>\n      <td>718-574-2821</td>\n      <td>9.0</td>\n      <td>12</td>\n      <td>NaN</td>\n      <td>NaN</td>\n      <td>...</td>\n      <td>NaN</td>\n      <td>1014 Lafayette Avenue\\nBrooklyn, NY 11221\\n(40...</td>\n      <td>3.0</td>\n      <td>36.0</td>\n      <td>291.0</td>\n      <td>3393805.0</td>\n      <td>3.016160e+09</td>\n      <td>Stuyvesant Heights                            ...</td>\n      <td>16K393</td>\n      <td>40.692133704</td>\n    </tr>\n    <tr>\n      <th>3</th>\n      <td>08X305</td>\n      <td>Pablo Neruda Academy</td>\n      <td>Bronx</td>\n      <td>X450</td>\n      <td>718-824-1682</td>\n      <td>718-824-1663</td>\n      <td>9.0</td>\n      <td>12</td>\n      <td>NaN</td>\n      <td>NaN</td>\n      <td>...</td>\n      <td>NaN</td>\n      <td>1980 Lafayette Avenue\\nBronx, NY 10473\\n(40.82...</td>\n      <td>9.0</td>\n      <td>18.0</td>\n      <td>16.0</td>\n      <td>2022205.0</td>\n      <td>2.036040e+09</td>\n      <td>Soundview-Castle Hill-Clason Point-Harding Par...</td>\n      <td>08X305</td>\n      <td>40.822303765</td>\n    </tr>\n    <tr>\n      <th>4</th>\n      <td>03M485</td>\n      <td>Fiorello H. LaGuardia High School of Music &amp; A...</td>\n      <td>Manhattan</td>\n      <td>M485</td>\n      <td>212-496-0700</td>\n      <td>212-724-5748</td>\n      <td>9.0</td>\n      <td>12</td>\n      <td>NaN</td>\n      <td>NaN</td>\n      <td>...</td>\n      <td>NaN</td>\n      <td>100 Amsterdam Avenue\\nNew York, NY 10023\\n(40....</td>\n      <td>7.0</td>\n      <td>6.0</td>\n      <td>151.0</td>\n      <td>1030341.0</td>\n      <td>1.011560e+09</td>\n      <td>Lincoln Square                                ...</td>\n      <td>03M485</td>\n      <td>40.773670507</td>\n    </tr>\n  </tbody>\n</table>\n<p>5 rows × 66 columns</p>\n</div>"
     },
     "metadata": {},
     "execution_count": 336
    }
   ],
   "source": [
    "import re\n",
    "\n",
    "# define function to find pattern in string\n",
    "def find_coordinates(str):\n",
    "    pattern = r'\\(.+\\)'\n",
    "    coordinates = re.findall(pattern, str)\n",
    "    # strip expected pattern of junk chars, split them up and strip them\n",
    "    latitude = coordinates[0].split(\",\")[0].replace(\"(\", \"\")\n",
    "    return latitude\n",
    "\n",
    "data['hs_directory']['lat'] = data['hs_directory']['Location 1'].apply(find_coordinates)\n",
    "data['hs_directory'].head()\n",
    "\n",
    "\n"
   ]
  },
  {
   "cell_type": "code",
   "execution_count": 337,
   "metadata": {},
   "outputs": [
    {
     "output_type": "execute_result",
     "data": {
      "text/plain": [
       "      dbn                                        school_name    borough  \\\n",
       "0  27Q260          Frederick Douglass Academy VI High School     Queens   \n",
       "1  21K559        Life Academy High School for Film and Music   Brooklyn   \n",
       "2  16K393     Frederick Douglass Academy IV Secondary School   Brooklyn   \n",
       "3  08X305                               Pablo Neruda Academy      Bronx   \n",
       "4  03M485  Fiorello H. LaGuardia High School of Music & A...  Manhattan   \n",
       "\n",
       "  building_code  phone_number    fax_number  grade_span_min  grade_span_max  \\\n",
       "0          Q465  718-471-2154  718-471-2890             9.0              12   \n",
       "1          K400  718-333-7750  718-333-7775             9.0              12   \n",
       "2          K026  718-574-2820  718-574-2821             9.0              12   \n",
       "3          X450  718-824-1682  718-824-1663             9.0              12   \n",
       "4          M485  212-496-0700  212-724-5748             9.0              12   \n",
       "\n",
       "   expgrade_span_min  expgrade_span_max  ...  \\\n",
       "0                NaN                NaN  ...   \n",
       "1                NaN                NaN  ...   \n",
       "2                NaN                NaN  ...   \n",
       "3                NaN                NaN  ...   \n",
       "4                NaN                NaN  ...   \n",
       "\n",
       "                                          Location 1 Community Board  \\\n",
       "0  8 21 Bay 25 Street\\nFar Rockaway, NY 11691\\n(4...            14.0   \n",
       "1  2630 Benson Avenue\\nBrooklyn, NY 11214\\n(40.59...            13.0   \n",
       "2  1014 Lafayette Avenue\\nBrooklyn, NY 11221\\n(40...             3.0   \n",
       "3  1980 Lafayette Avenue\\nBronx, NY 10473\\n(40.82...             9.0   \n",
       "4  100 Amsterdam Avenue\\nNew York, NY 10023\\n(40....             7.0   \n",
       "\n",
       "  Council District Census Tract        BIN           BBL  \\\n",
       "0             31.0     100802.0  4300730.0  4.157360e+09   \n",
       "1             47.0        306.0  3186454.0  3.068830e+09   \n",
       "2             36.0        291.0  3393805.0  3.016160e+09   \n",
       "3             18.0         16.0  2022205.0  2.036040e+09   \n",
       "4              6.0        151.0  1030341.0  1.011560e+09   \n",
       "\n",
       "                                                 NTA     DBN           lat  \\\n",
       "0  Far Rockaway-Bayswater                        ...  27Q260  40.601989336   \n",
       "1  Gravesend                                     ...  21K559  40.593593811   \n",
       "2  Stuyvesant Heights                            ...  16K393  40.692133704   \n",
       "3  Soundview-Castle Hill-Clason Point-Harding Par...  08X305  40.822303765   \n",
       "4  Lincoln Square                                ...  03M485  40.773670507   \n",
       "\n",
       "              lon  \n",
       "0   -73.762834323  \n",
       "1   -73.984729232  \n",
       "2   -73.931503172  \n",
       "3    -73.85596139  \n",
       "4   -73.985268558  \n",
       "\n",
       "[5 rows x 67 columns]"
      ],
      "text/html": "<div>\n<style scoped>\n    .dataframe tbody tr th:only-of-type {\n        vertical-align: middle;\n    }\n\n    .dataframe tbody tr th {\n        vertical-align: top;\n    }\n\n    .dataframe thead th {\n        text-align: right;\n    }\n</style>\n<table border=\"1\" class=\"dataframe\">\n  <thead>\n    <tr style=\"text-align: right;\">\n      <th></th>\n      <th>dbn</th>\n      <th>school_name</th>\n      <th>borough</th>\n      <th>building_code</th>\n      <th>phone_number</th>\n      <th>fax_number</th>\n      <th>grade_span_min</th>\n      <th>grade_span_max</th>\n      <th>expgrade_span_min</th>\n      <th>expgrade_span_max</th>\n      <th>...</th>\n      <th>Location 1</th>\n      <th>Community Board</th>\n      <th>Council District</th>\n      <th>Census Tract</th>\n      <th>BIN</th>\n      <th>BBL</th>\n      <th>NTA</th>\n      <th>DBN</th>\n      <th>lat</th>\n      <th>lon</th>\n    </tr>\n  </thead>\n  <tbody>\n    <tr>\n      <th>0</th>\n      <td>27Q260</td>\n      <td>Frederick Douglass Academy VI High School</td>\n      <td>Queens</td>\n      <td>Q465</td>\n      <td>718-471-2154</td>\n      <td>718-471-2890</td>\n      <td>9.0</td>\n      <td>12</td>\n      <td>NaN</td>\n      <td>NaN</td>\n      <td>...</td>\n      <td>8 21 Bay 25 Street\\nFar Rockaway, NY 11691\\n(4...</td>\n      <td>14.0</td>\n      <td>31.0</td>\n      <td>100802.0</td>\n      <td>4300730.0</td>\n      <td>4.157360e+09</td>\n      <td>Far Rockaway-Bayswater                        ...</td>\n      <td>27Q260</td>\n      <td>40.601989336</td>\n      <td>-73.762834323</td>\n    </tr>\n    <tr>\n      <th>1</th>\n      <td>21K559</td>\n      <td>Life Academy High School for Film and Music</td>\n      <td>Brooklyn</td>\n      <td>K400</td>\n      <td>718-333-7750</td>\n      <td>718-333-7775</td>\n      <td>9.0</td>\n      <td>12</td>\n      <td>NaN</td>\n      <td>NaN</td>\n      <td>...</td>\n      <td>2630 Benson Avenue\\nBrooklyn, NY 11214\\n(40.59...</td>\n      <td>13.0</td>\n      <td>47.0</td>\n      <td>306.0</td>\n      <td>3186454.0</td>\n      <td>3.068830e+09</td>\n      <td>Gravesend                                     ...</td>\n      <td>21K559</td>\n      <td>40.593593811</td>\n      <td>-73.984729232</td>\n    </tr>\n    <tr>\n      <th>2</th>\n      <td>16K393</td>\n      <td>Frederick Douglass Academy IV Secondary School</td>\n      <td>Brooklyn</td>\n      <td>K026</td>\n      <td>718-574-2820</td>\n      <td>718-574-2821</td>\n      <td>9.0</td>\n      <td>12</td>\n      <td>NaN</td>\n      <td>NaN</td>\n      <td>...</td>\n      <td>1014 Lafayette Avenue\\nBrooklyn, NY 11221\\n(40...</td>\n      <td>3.0</td>\n      <td>36.0</td>\n      <td>291.0</td>\n      <td>3393805.0</td>\n      <td>3.016160e+09</td>\n      <td>Stuyvesant Heights                            ...</td>\n      <td>16K393</td>\n      <td>40.692133704</td>\n      <td>-73.931503172</td>\n    </tr>\n    <tr>\n      <th>3</th>\n      <td>08X305</td>\n      <td>Pablo Neruda Academy</td>\n      <td>Bronx</td>\n      <td>X450</td>\n      <td>718-824-1682</td>\n      <td>718-824-1663</td>\n      <td>9.0</td>\n      <td>12</td>\n      <td>NaN</td>\n      <td>NaN</td>\n      <td>...</td>\n      <td>1980 Lafayette Avenue\\nBronx, NY 10473\\n(40.82...</td>\n      <td>9.0</td>\n      <td>18.0</td>\n      <td>16.0</td>\n      <td>2022205.0</td>\n      <td>2.036040e+09</td>\n      <td>Soundview-Castle Hill-Clason Point-Harding Par...</td>\n      <td>08X305</td>\n      <td>40.822303765</td>\n      <td>-73.85596139</td>\n    </tr>\n    <tr>\n      <th>4</th>\n      <td>03M485</td>\n      <td>Fiorello H. LaGuardia High School of Music &amp; A...</td>\n      <td>Manhattan</td>\n      <td>M485</td>\n      <td>212-496-0700</td>\n      <td>212-724-5748</td>\n      <td>9.0</td>\n      <td>12</td>\n      <td>NaN</td>\n      <td>NaN</td>\n      <td>...</td>\n      <td>100 Amsterdam Avenue\\nNew York, NY 10023\\n(40....</td>\n      <td>7.0</td>\n      <td>6.0</td>\n      <td>151.0</td>\n      <td>1030341.0</td>\n      <td>1.011560e+09</td>\n      <td>Lincoln Square                                ...</td>\n      <td>03M485</td>\n      <td>40.773670507</td>\n      <td>-73.985268558</td>\n    </tr>\n  </tbody>\n</table>\n<p>5 rows × 67 columns</p>\n</div>"
     },
     "metadata": {},
     "execution_count": 337
    }
   ],
   "source": [
    "# define function to find pattern in string\n",
    "def find_coordinates(str):\n",
    "    pattern = r'\\(.+\\)'\n",
    "    coordinates = re.findall(pattern, str)\n",
    "    # strip expected pattern of junk chars, split them up and strip them\n",
    "    latitude = coordinates[0].split(\",\")[1].replace(\")\", \"\")\n",
    "    return latitude\n",
    "\n",
    "data['hs_directory']['lon'] = data['hs_directory']['Location 1'].apply(find_coordinates)\n",
    "data['hs_directory'].head()"
   ]
  },
  {
   "cell_type": "code",
   "execution_count": 338,
   "metadata": {},
   "outputs": [
    {
     "output_type": "execute_result",
     "data": {
      "text/plain": [
       "      dbn                                        school_name    borough  \\\n",
       "0  27Q260          Frederick Douglass Academy VI High School     Queens   \n",
       "1  21K559        Life Academy High School for Film and Music   Brooklyn   \n",
       "2  16K393     Frederick Douglass Academy IV Secondary School   Brooklyn   \n",
       "3  08X305                               Pablo Neruda Academy      Bronx   \n",
       "4  03M485  Fiorello H. LaGuardia High School of Music & A...  Manhattan   \n",
       "\n",
       "  building_code  phone_number    fax_number  grade_span_min  grade_span_max  \\\n",
       "0          Q465  718-471-2154  718-471-2890             9.0              12   \n",
       "1          K400  718-333-7750  718-333-7775             9.0              12   \n",
       "2          K026  718-574-2820  718-574-2821             9.0              12   \n",
       "3          X450  718-824-1682  718-824-1663             9.0              12   \n",
       "4          M485  212-496-0700  212-724-5748             9.0              12   \n",
       "\n",
       "   expgrade_span_min  expgrade_span_max  ...  \\\n",
       "0                NaN                NaN  ...   \n",
       "1                NaN                NaN  ...   \n",
       "2                NaN                NaN  ...   \n",
       "3                NaN                NaN  ...   \n",
       "4                NaN                NaN  ...   \n",
       "\n",
       "                                          Location 1 Community Board  \\\n",
       "0  8 21 Bay 25 Street\\nFar Rockaway, NY 11691\\n(4...            14.0   \n",
       "1  2630 Benson Avenue\\nBrooklyn, NY 11214\\n(40.59...            13.0   \n",
       "2  1014 Lafayette Avenue\\nBrooklyn, NY 11221\\n(40...             3.0   \n",
       "3  1980 Lafayette Avenue\\nBronx, NY 10473\\n(40.82...             9.0   \n",
       "4  100 Amsterdam Avenue\\nNew York, NY 10023\\n(40....             7.0   \n",
       "\n",
       "  Council District Census Tract        BIN           BBL  \\\n",
       "0             31.0     100802.0  4300730.0  4.157360e+09   \n",
       "1             47.0        306.0  3186454.0  3.068830e+09   \n",
       "2             36.0        291.0  3393805.0  3.016160e+09   \n",
       "3             18.0         16.0  2022205.0  2.036040e+09   \n",
       "4              6.0        151.0  1030341.0  1.011560e+09   \n",
       "\n",
       "                                                 NTA     DBN        lat  \\\n",
       "0  Far Rockaway-Bayswater                        ...  27Q260  40.601989   \n",
       "1  Gravesend                                     ...  21K559  40.593594   \n",
       "2  Stuyvesant Heights                            ...  16K393  40.692134   \n",
       "3  Soundview-Castle Hill-Clason Point-Harding Par...  08X305  40.822304   \n",
       "4  Lincoln Square                                ...  03M485  40.773671   \n",
       "\n",
       "         lon  \n",
       "0 -73.762834  \n",
       "1 -73.984729  \n",
       "2 -73.931503  \n",
       "3 -73.855961  \n",
       "4 -73.985269  \n",
       "\n",
       "[5 rows x 67 columns]"
      ],
      "text/html": "<div>\n<style scoped>\n    .dataframe tbody tr th:only-of-type {\n        vertical-align: middle;\n    }\n\n    .dataframe tbody tr th {\n        vertical-align: top;\n    }\n\n    .dataframe thead th {\n        text-align: right;\n    }\n</style>\n<table border=\"1\" class=\"dataframe\">\n  <thead>\n    <tr style=\"text-align: right;\">\n      <th></th>\n      <th>dbn</th>\n      <th>school_name</th>\n      <th>borough</th>\n      <th>building_code</th>\n      <th>phone_number</th>\n      <th>fax_number</th>\n      <th>grade_span_min</th>\n      <th>grade_span_max</th>\n      <th>expgrade_span_min</th>\n      <th>expgrade_span_max</th>\n      <th>...</th>\n      <th>Location 1</th>\n      <th>Community Board</th>\n      <th>Council District</th>\n      <th>Census Tract</th>\n      <th>BIN</th>\n      <th>BBL</th>\n      <th>NTA</th>\n      <th>DBN</th>\n      <th>lat</th>\n      <th>lon</th>\n    </tr>\n  </thead>\n  <tbody>\n    <tr>\n      <th>0</th>\n      <td>27Q260</td>\n      <td>Frederick Douglass Academy VI High School</td>\n      <td>Queens</td>\n      <td>Q465</td>\n      <td>718-471-2154</td>\n      <td>718-471-2890</td>\n      <td>9.0</td>\n      <td>12</td>\n      <td>NaN</td>\n      <td>NaN</td>\n      <td>...</td>\n      <td>8 21 Bay 25 Street\\nFar Rockaway, NY 11691\\n(4...</td>\n      <td>14.0</td>\n      <td>31.0</td>\n      <td>100802.0</td>\n      <td>4300730.0</td>\n      <td>4.157360e+09</td>\n      <td>Far Rockaway-Bayswater                        ...</td>\n      <td>27Q260</td>\n      <td>40.601989</td>\n      <td>-73.762834</td>\n    </tr>\n    <tr>\n      <th>1</th>\n      <td>21K559</td>\n      <td>Life Academy High School for Film and Music</td>\n      <td>Brooklyn</td>\n      <td>K400</td>\n      <td>718-333-7750</td>\n      <td>718-333-7775</td>\n      <td>9.0</td>\n      <td>12</td>\n      <td>NaN</td>\n      <td>NaN</td>\n      <td>...</td>\n      <td>2630 Benson Avenue\\nBrooklyn, NY 11214\\n(40.59...</td>\n      <td>13.0</td>\n      <td>47.0</td>\n      <td>306.0</td>\n      <td>3186454.0</td>\n      <td>3.068830e+09</td>\n      <td>Gravesend                                     ...</td>\n      <td>21K559</td>\n      <td>40.593594</td>\n      <td>-73.984729</td>\n    </tr>\n    <tr>\n      <th>2</th>\n      <td>16K393</td>\n      <td>Frederick Douglass Academy IV Secondary School</td>\n      <td>Brooklyn</td>\n      <td>K026</td>\n      <td>718-574-2820</td>\n      <td>718-574-2821</td>\n      <td>9.0</td>\n      <td>12</td>\n      <td>NaN</td>\n      <td>NaN</td>\n      <td>...</td>\n      <td>1014 Lafayette Avenue\\nBrooklyn, NY 11221\\n(40...</td>\n      <td>3.0</td>\n      <td>36.0</td>\n      <td>291.0</td>\n      <td>3393805.0</td>\n      <td>3.016160e+09</td>\n      <td>Stuyvesant Heights                            ...</td>\n      <td>16K393</td>\n      <td>40.692134</td>\n      <td>-73.931503</td>\n    </tr>\n    <tr>\n      <th>3</th>\n      <td>08X305</td>\n      <td>Pablo Neruda Academy</td>\n      <td>Bronx</td>\n      <td>X450</td>\n      <td>718-824-1682</td>\n      <td>718-824-1663</td>\n      <td>9.0</td>\n      <td>12</td>\n      <td>NaN</td>\n      <td>NaN</td>\n      <td>...</td>\n      <td>1980 Lafayette Avenue\\nBronx, NY 10473\\n(40.82...</td>\n      <td>9.0</td>\n      <td>18.0</td>\n      <td>16.0</td>\n      <td>2022205.0</td>\n      <td>2.036040e+09</td>\n      <td>Soundview-Castle Hill-Clason Point-Harding Par...</td>\n      <td>08X305</td>\n      <td>40.822304</td>\n      <td>-73.855961</td>\n    </tr>\n    <tr>\n      <th>4</th>\n      <td>03M485</td>\n      <td>Fiorello H. LaGuardia High School of Music &amp; A...</td>\n      <td>Manhattan</td>\n      <td>M485</td>\n      <td>212-496-0700</td>\n      <td>212-724-5748</td>\n      <td>9.0</td>\n      <td>12</td>\n      <td>NaN</td>\n      <td>NaN</td>\n      <td>...</td>\n      <td>100 Amsterdam Avenue\\nNew York, NY 10023\\n(40....</td>\n      <td>7.0</td>\n      <td>6.0</td>\n      <td>151.0</td>\n      <td>1030341.0</td>\n      <td>1.011560e+09</td>\n      <td>Lincoln Square                                ...</td>\n      <td>03M485</td>\n      <td>40.773671</td>\n      <td>-73.985269</td>\n    </tr>\n  </tbody>\n</table>\n<p>5 rows × 67 columns</p>\n</div>"
     },
     "metadata": {},
     "execution_count": 338
    }
   ],
   "source": [
    "data['hs_directory']['lat'] = pd.to_numeric(data['hs_directory']['lat'], errors='coerce')\n",
    "data['hs_directory']['lon'] = pd.to_numeric(data['hs_directory']['lon'], errors='coerce')\n",
    "data['hs_directory'].head()"
   ]
  },
  {
   "cell_type": "code",
   "execution_count": 339,
   "metadata": {},
   "outputs": [
    {
     "output_type": "stream",
     "name": "stdout",
     "text": [
      "<class 'pandas.core.frame.DataFrame'>\nRangeIndex: 435 entries, 0 to 434\nData columns (total 67 columns):\n #   Column                            Non-Null Count  Dtype  \n---  ------                            --------------  -----  \n 0   dbn                               435 non-null    object \n 1   school_name                       435 non-null    object \n 2   borough                           435 non-null    object \n 3   building_code                     435 non-null    object \n 4   phone_number                      435 non-null    object \n 5   fax_number                        423 non-null    object \n 6   grade_span_min                    432 non-null    float64\n 7   grade_span_max                    435 non-null    int64  \n 8   expgrade_span_min                 31 non-null     float64\n 9   expgrade_span_max                 33 non-null     float64\n 10  bus                               434 non-null    object \n 11  subway                            358 non-null    object \n 12  primary_address_line_1            435 non-null    object \n 13  city                              435 non-null    object \n 14  state_code                        435 non-null    object \n 15  postcode                          435 non-null    int64  \n 16  website                           430 non-null    object \n 17  total_students                    426 non-null    float64\n 18  campus_name                       217 non-null    object \n 19  school_type                       104 non-null    object \n 20  overview_paragraph                434 non-null    object \n 21  program_highlights                434 non-null    object \n 22  language_classes                  412 non-null    object \n 23  advancedplacement_courses         340 non-null    object \n 24  online_ap_courses                 64 non-null     object \n 25  online_language_courses           73 non-null     object \n 26  extracurricular_activities        435 non-null    object \n 27  psal_sports_boys                  373 non-null    object \n 28  psal_sports_girls                 373 non-null    object \n 29  psal_sports_coed                  147 non-null    object \n 30  school_sports                     297 non-null    object \n 31  partner_cbo                       354 non-null    object \n 32  partner_hospital                  196 non-null    object \n 33  partner_highered                  378 non-null    object \n 34  partner_cultural                  305 non-null    object \n 35  partner_nonprofit                 297 non-null    object \n 36  partner_corporate                 198 non-null    object \n 37  partner_financial                 72 non-null     object \n 38  partner_other                     188 non-null    object \n 39  addtl_info1                       354 non-null    object \n 40  addtl_info2                       229 non-null    object \n 41  start_time                        431 non-null    object \n 42  end_time                          431 non-null    object \n 43  se_services                       435 non-null    object \n 44  ell_programs                      435 non-null    object \n 45  school_accessibility_description  435 non-null    object \n 46  number_programs                   435 non-null    int64  \n 47  priority01                        435 non-null    object \n 48  priority02                        352 non-null    object \n 49  priority03                        243 non-null    object \n 50  priority04                        177 non-null    object \n 51  priority05                        39 non-null     object \n 52  priority06                        17 non-null     object \n 53  priority07                        4 non-null      object \n 54  priority08                        1 non-null      object \n 55  priority09                        1 non-null      object \n 56  priority10                        1 non-null      object \n 57  Location 1                        435 non-null    object \n 58  Community Board                   432 non-null    float64\n 59  Council District                  432 non-null    float64\n 60  Census Tract                      432 non-null    float64\n 61  BIN                               431 non-null    float64\n 62  BBL                               431 non-null    float64\n 63  NTA                               432 non-null    object \n 64  DBN                               435 non-null    object \n 65  lat                               435 non-null    float64\n 66  lon                               435 non-null    float64\ndtypes: float64(11), int64(3), object(53)\nmemory usage: 227.8+ KB\n"
     ]
    }
   ],
   "source": [
    "data['hs_directory'].info()"
   ]
  },
  {
   "source": [
    "# Condensing Data\n",
    "\n",
    "## Condensing the Class Size Dataset\n",
    "I plan to join the datasets on the DBN col. Therefore it is critical that those values are unique in all of the datasets. While that is already the case in most of our datasets, the class_size dataset appears to contain some duplicates here. "
   ],
   "cell_type": "markdown",
   "metadata": {}
  },
  {
   "cell_type": "code",
   "execution_count": 340,
   "metadata": {},
   "outputs": [
    {
     "output_type": "execute_result",
     "data": {
      "text/plain": [
       "   CSD BOROUGH SCHOOL CODE                SCHOOL NAME GRADE  PROGRAM TYPE  \\\n",
       "0    1       M        M015  P.S. 015 Roberto Clemente     0K       GEN ED   \n",
       "1    1       M        M015  P.S. 015 Roberto Clemente     0K          CTT   \n",
       "2    1       M        M015  P.S. 015 Roberto Clemente     01       GEN ED   \n",
       "3    1       M        M015  P.S. 015 Roberto Clemente     01          CTT   \n",
       "4    1       M        M015  P.S. 015 Roberto Clemente     02       GEN ED   \n",
       "5    1       M        M015  P.S. 015 Roberto Clemente     02          CTT   \n",
       "6    1       M        M015  P.S. 015 Roberto Clemente     03       GEN ED   \n",
       "7    1       M        M015  P.S. 015 Roberto Clemente     03          CTT   \n",
       "8    1       M        M015  P.S. 015 Roberto Clemente     04       GEN ED   \n",
       "9    1       M        M015  P.S. 015 Roberto Clemente     05       GEN ED   \n",
       "\n",
       "  CORE SUBJECT (MS CORE and 9-12 ONLY) CORE COURSE (MS CORE and 9-12 ONLY)  \\\n",
       "0                                    -                                   -   \n",
       "1                                    -                                   -   \n",
       "2                                    -                                   -   \n",
       "3                                    -                                   -   \n",
       "4                                    -                                   -   \n",
       "5                                    -                                   -   \n",
       "6                                    -                                   -   \n",
       "7                                    -                                   -   \n",
       "8                                    -                                   -   \n",
       "9                                    -                                   -   \n",
       "\n",
       "  SERVICE CATEGORY(K-9* ONLY)  NUMBER OF STUDENTS / SEATS FILLED  \\\n",
       "0                           -                               19.0   \n",
       "1                           -                               21.0   \n",
       "2                           -                               17.0   \n",
       "3                           -                               17.0   \n",
       "4                           -                               15.0   \n",
       "5                           -                               17.0   \n",
       "6                           -                               12.0   \n",
       "7                           -                               15.0   \n",
       "8                           -                               26.0   \n",
       "9                           -                               27.0   \n",
       "\n",
       "   NUMBER OF SECTIONS  AVERAGE CLASS SIZE  SIZE OF SMALLEST CLASS  \\\n",
       "0                 1.0                19.0                    19.0   \n",
       "1                 1.0                21.0                    21.0   \n",
       "2                 1.0                17.0                    17.0   \n",
       "3                 1.0                17.0                    17.0   \n",
       "4                 1.0                15.0                    15.0   \n",
       "5                 1.0                17.0                    17.0   \n",
       "6                 1.0                12.0                    12.0   \n",
       "7                 1.0                15.0                    15.0   \n",
       "8                 2.0                13.0                    12.0   \n",
       "9                 1.0                27.0                    27.0   \n",
       "\n",
       "   SIZE OF LARGEST CLASS DATA SOURCE  SCHOOLWIDE PUPIL-TEACHER RATIO  \\\n",
       "0                   19.0         ATS                             NaN   \n",
       "1                   21.0         ATS                             NaN   \n",
       "2                   17.0         ATS                             NaN   \n",
       "3                   17.0         ATS                             NaN   \n",
       "4                   15.0         ATS                             NaN   \n",
       "5                   17.0         ATS                             NaN   \n",
       "6                   12.0         ATS                             NaN   \n",
       "7                   15.0         ATS                             NaN   \n",
       "8                   14.0         ATS                             NaN   \n",
       "9                   27.0         ATS                             NaN   \n",
       "\n",
       "  padded_csd     DBN  \n",
       "0         01  01M015  \n",
       "1         01  01M015  \n",
       "2         01  01M015  \n",
       "3         01  01M015  \n",
       "4         01  01M015  \n",
       "5         01  01M015  \n",
       "6         01  01M015  \n",
       "7         01  01M015  \n",
       "8         01  01M015  \n",
       "9         01  01M015  "
      ],
      "text/html": "<div>\n<style scoped>\n    .dataframe tbody tr th:only-of-type {\n        vertical-align: middle;\n    }\n\n    .dataframe tbody tr th {\n        vertical-align: top;\n    }\n\n    .dataframe thead th {\n        text-align: right;\n    }\n</style>\n<table border=\"1\" class=\"dataframe\">\n  <thead>\n    <tr style=\"text-align: right;\">\n      <th></th>\n      <th>CSD</th>\n      <th>BOROUGH</th>\n      <th>SCHOOL CODE</th>\n      <th>SCHOOL NAME</th>\n      <th>GRADE</th>\n      <th>PROGRAM TYPE</th>\n      <th>CORE SUBJECT (MS CORE and 9-12 ONLY)</th>\n      <th>CORE COURSE (MS CORE and 9-12 ONLY)</th>\n      <th>SERVICE CATEGORY(K-9* ONLY)</th>\n      <th>NUMBER OF STUDENTS / SEATS FILLED</th>\n      <th>NUMBER OF SECTIONS</th>\n      <th>AVERAGE CLASS SIZE</th>\n      <th>SIZE OF SMALLEST CLASS</th>\n      <th>SIZE OF LARGEST CLASS</th>\n      <th>DATA SOURCE</th>\n      <th>SCHOOLWIDE PUPIL-TEACHER RATIO</th>\n      <th>padded_csd</th>\n      <th>DBN</th>\n    </tr>\n  </thead>\n  <tbody>\n    <tr>\n      <th>0</th>\n      <td>1</td>\n      <td>M</td>\n      <td>M015</td>\n      <td>P.S. 015 Roberto Clemente</td>\n      <td>0K</td>\n      <td>GEN ED</td>\n      <td>-</td>\n      <td>-</td>\n      <td>-</td>\n      <td>19.0</td>\n      <td>1.0</td>\n      <td>19.0</td>\n      <td>19.0</td>\n      <td>19.0</td>\n      <td>ATS</td>\n      <td>NaN</td>\n      <td>01</td>\n      <td>01M015</td>\n    </tr>\n    <tr>\n      <th>1</th>\n      <td>1</td>\n      <td>M</td>\n      <td>M015</td>\n      <td>P.S. 015 Roberto Clemente</td>\n      <td>0K</td>\n      <td>CTT</td>\n      <td>-</td>\n      <td>-</td>\n      <td>-</td>\n      <td>21.0</td>\n      <td>1.0</td>\n      <td>21.0</td>\n      <td>21.0</td>\n      <td>21.0</td>\n      <td>ATS</td>\n      <td>NaN</td>\n      <td>01</td>\n      <td>01M015</td>\n    </tr>\n    <tr>\n      <th>2</th>\n      <td>1</td>\n      <td>M</td>\n      <td>M015</td>\n      <td>P.S. 015 Roberto Clemente</td>\n      <td>01</td>\n      <td>GEN ED</td>\n      <td>-</td>\n      <td>-</td>\n      <td>-</td>\n      <td>17.0</td>\n      <td>1.0</td>\n      <td>17.0</td>\n      <td>17.0</td>\n      <td>17.0</td>\n      <td>ATS</td>\n      <td>NaN</td>\n      <td>01</td>\n      <td>01M015</td>\n    </tr>\n    <tr>\n      <th>3</th>\n      <td>1</td>\n      <td>M</td>\n      <td>M015</td>\n      <td>P.S. 015 Roberto Clemente</td>\n      <td>01</td>\n      <td>CTT</td>\n      <td>-</td>\n      <td>-</td>\n      <td>-</td>\n      <td>17.0</td>\n      <td>1.0</td>\n      <td>17.0</td>\n      <td>17.0</td>\n      <td>17.0</td>\n      <td>ATS</td>\n      <td>NaN</td>\n      <td>01</td>\n      <td>01M015</td>\n    </tr>\n    <tr>\n      <th>4</th>\n      <td>1</td>\n      <td>M</td>\n      <td>M015</td>\n      <td>P.S. 015 Roberto Clemente</td>\n      <td>02</td>\n      <td>GEN ED</td>\n      <td>-</td>\n      <td>-</td>\n      <td>-</td>\n      <td>15.0</td>\n      <td>1.0</td>\n      <td>15.0</td>\n      <td>15.0</td>\n      <td>15.0</td>\n      <td>ATS</td>\n      <td>NaN</td>\n      <td>01</td>\n      <td>01M015</td>\n    </tr>\n    <tr>\n      <th>5</th>\n      <td>1</td>\n      <td>M</td>\n      <td>M015</td>\n      <td>P.S. 015 Roberto Clemente</td>\n      <td>02</td>\n      <td>CTT</td>\n      <td>-</td>\n      <td>-</td>\n      <td>-</td>\n      <td>17.0</td>\n      <td>1.0</td>\n      <td>17.0</td>\n      <td>17.0</td>\n      <td>17.0</td>\n      <td>ATS</td>\n      <td>NaN</td>\n      <td>01</td>\n      <td>01M015</td>\n    </tr>\n    <tr>\n      <th>6</th>\n      <td>1</td>\n      <td>M</td>\n      <td>M015</td>\n      <td>P.S. 015 Roberto Clemente</td>\n      <td>03</td>\n      <td>GEN ED</td>\n      <td>-</td>\n      <td>-</td>\n      <td>-</td>\n      <td>12.0</td>\n      <td>1.0</td>\n      <td>12.0</td>\n      <td>12.0</td>\n      <td>12.0</td>\n      <td>ATS</td>\n      <td>NaN</td>\n      <td>01</td>\n      <td>01M015</td>\n    </tr>\n    <tr>\n      <th>7</th>\n      <td>1</td>\n      <td>M</td>\n      <td>M015</td>\n      <td>P.S. 015 Roberto Clemente</td>\n      <td>03</td>\n      <td>CTT</td>\n      <td>-</td>\n      <td>-</td>\n      <td>-</td>\n      <td>15.0</td>\n      <td>1.0</td>\n      <td>15.0</td>\n      <td>15.0</td>\n      <td>15.0</td>\n      <td>ATS</td>\n      <td>NaN</td>\n      <td>01</td>\n      <td>01M015</td>\n    </tr>\n    <tr>\n      <th>8</th>\n      <td>1</td>\n      <td>M</td>\n      <td>M015</td>\n      <td>P.S. 015 Roberto Clemente</td>\n      <td>04</td>\n      <td>GEN ED</td>\n      <td>-</td>\n      <td>-</td>\n      <td>-</td>\n      <td>26.0</td>\n      <td>2.0</td>\n      <td>13.0</td>\n      <td>12.0</td>\n      <td>14.0</td>\n      <td>ATS</td>\n      <td>NaN</td>\n      <td>01</td>\n      <td>01M015</td>\n    </tr>\n    <tr>\n      <th>9</th>\n      <td>1</td>\n      <td>M</td>\n      <td>M015</td>\n      <td>P.S. 015 Roberto Clemente</td>\n      <td>05</td>\n      <td>GEN ED</td>\n      <td>-</td>\n      <td>-</td>\n      <td>-</td>\n      <td>27.0</td>\n      <td>1.0</td>\n      <td>27.0</td>\n      <td>27.0</td>\n      <td>27.0</td>\n      <td>ATS</td>\n      <td>NaN</td>\n      <td>01</td>\n      <td>01M015</td>\n    </tr>\n  </tbody>\n</table>\n</div>"
     },
     "metadata": {},
     "execution_count": 340
    }
   ],
   "source": [
    "data[\"class_size\"].head(10)"
   ]
  },
  {
   "source": [
    "Each schools data seems to be disaggregated by grade, program and courses. Since these are not parameters I need for my analysis I will drop most of them, especially rows where the grade is not between 9 and 12 (since this is an analysis of high school data). "
   ],
   "cell_type": "markdown",
   "metadata": {}
  },
  {
   "cell_type": "code",
   "execution_count": 341,
   "metadata": {},
   "outputs": [
    {
     "output_type": "execute_result",
     "data": {
      "text/plain": [
       "array(['0K', '01', '02', '03', '04', '05', '0K-09', nan, '06', '07', '08',\n",
       "       'MS Core', '09-12', '09'], dtype=object)"
      ]
     },
     "metadata": {},
     "execution_count": 341
    }
   ],
   "source": [
    "# create variable to facilitate code\n",
    "class_size = data[\"class_size\"]\n",
    "\n",
    "# investigate values in GRADE col\n",
    "class_size[\"GRADE \"].unique()\n"
   ]
  },
  {
   "source": [
    "class_size.info()"
   ],
   "cell_type": "code",
   "metadata": {},
   "execution_count": 342,
   "outputs": [
    {
     "output_type": "stream",
     "name": "stdout",
     "text": [
      "<class 'pandas.core.frame.DataFrame'>\nRangeIndex: 27611 entries, 0 to 27610\nData columns (total 18 columns):\n #   Column                                Non-Null Count  Dtype  \n---  ------                                --------------  -----  \n 0   CSD                                   27611 non-null  int64  \n 1   BOROUGH                               27611 non-null  object \n 2   SCHOOL CODE                           27611 non-null  object \n 3   SCHOOL NAME                           27611 non-null  object \n 4   GRADE                                 26127 non-null  object \n 5   PROGRAM TYPE                          26127 non-null  object \n 6   CORE SUBJECT (MS CORE and 9-12 ONLY)  26127 non-null  object \n 7   CORE COURSE (MS CORE and 9-12 ONLY)   26127 non-null  object \n 8   SERVICE CATEGORY(K-9* ONLY)           26127 non-null  object \n 9   NUMBER OF STUDENTS / SEATS FILLED     26127 non-null  float64\n 10  NUMBER OF SECTIONS                    26127 non-null  float64\n 11  AVERAGE CLASS SIZE                    26127 non-null  float64\n 12  SIZE OF SMALLEST CLASS                26127 non-null  float64\n 13  SIZE OF LARGEST CLASS                 26127 non-null  float64\n 14  DATA SOURCE                           26127 non-null  object \n 15  SCHOOLWIDE PUPIL-TEACHER RATIO        1484 non-null   float64\n 16  padded_csd                            27611 non-null  object \n 17  DBN                                   27611 non-null  object \ndtypes: float64(6), int64(1), object(11)\nmemory usage: 3.8+ MB\n"
     ]
    }
   ]
  },
  {
   "cell_type": "code",
   "execution_count": 343,
   "metadata": {},
   "outputs": [
    {
     "output_type": "execute_result",
     "data": {
      "text/plain": [
       "Int64Index([    0,     1,     2,     3,     4,     5,     6,     7,     8,\n",
       "                9,\n",
       "            ...\n",
       "            27547, 27548, 27549, 27550, 27551, 27552, 27553, 27570, 27594,\n",
       "            27610],\n",
       "           dtype='int64', length=16967)"
      ]
     },
     "metadata": {},
     "execution_count": 343
    }
   ],
   "source": [
    "# drop non high school classes\n",
    "drop_rows = class_size.index[class_size[\"GRADE \"] != \"09-12\"]\n",
    "drop_rows"
   ]
  },
  {
   "cell_type": "code",
   "execution_count": 344,
   "metadata": {},
   "outputs": [],
   "source": [
    "class_size.drop(drop_rows, inplace=True)"
   ]
  },
  {
   "cell_type": "code",
   "execution_count": 345,
   "metadata": {},
   "outputs": [
    {
     "output_type": "execute_result",
     "data": {
      "text/plain": [
       "Int64Index([  240,   241,   242,   243,   244,   245,   246,   247,   248,\n",
       "              249,\n",
       "            ...\n",
       "            27539, 27586, 27587, 27588, 27589, 27590, 27591, 27592, 27593,\n",
       "            27609],\n",
       "           dtype='int64', length=4131)"
      ]
     },
     "metadata": {},
     "execution_count": 345
    }
   ],
   "source": [
    "drop_rows_pr = class_size.index[class_size[\"PROGRAM TYPE\"] != \"GEN ED\"]\n",
    "drop_rows_pr"
   ]
  },
  {
   "cell_type": "code",
   "execution_count": 346,
   "metadata": {},
   "outputs": [
    {
     "output_type": "execute_result",
     "data": {
      "text/plain": [
       "       CSD BOROUGH SCHOOL CODE                                    SCHOOL NAME  \\\n",
       "225      1       M        M292  Henry Street School for International Studies   \n",
       "226      1       M        M292  Henry Street School for International Studies   \n",
       "227      1       M        M292  Henry Street School for International Studies   \n",
       "228      1       M        M292  Henry Street School for International Studies   \n",
       "229      1       M        M292  Henry Street School for International Studies   \n",
       "...    ...     ...         ...                                            ...   \n",
       "27604   32       K        K564                 Bushwick Community High School   \n",
       "27605   32       K        K564                 Bushwick Community High School   \n",
       "27606   32       K        K564                 Bushwick Community High School   \n",
       "27607   32       K        K564                 Bushwick Community High School   \n",
       "27608   32       K        K564                 Bushwick Community High School   \n",
       "\n",
       "      GRADE  PROGRAM TYPE CORE SUBJECT (MS CORE and 9-12 ONLY)  \\\n",
       "225    09-12       GEN ED                              ENGLISH   \n",
       "226    09-12       GEN ED                              ENGLISH   \n",
       "227    09-12       GEN ED                              ENGLISH   \n",
       "228    09-12       GEN ED                              ENGLISH   \n",
       "229    09-12       GEN ED                                 MATH   \n",
       "...      ...          ...                                  ...   \n",
       "27604  09-12       GEN ED                              SCIENCE   \n",
       "27605  09-12       GEN ED                       SOCIAL STUDIES   \n",
       "27606  09-12       GEN ED                       SOCIAL STUDIES   \n",
       "27607  09-12       GEN ED                       SOCIAL STUDIES   \n",
       "27608  09-12       GEN ED                       SOCIAL STUDIES   \n",
       "\n",
       "      CORE COURSE (MS CORE and 9-12 ONLY) SERVICE CATEGORY(K-9* ONLY)  \\\n",
       "225                             English 9                           -   \n",
       "226                            English 10                           -   \n",
       "227                            English 11                           -   \n",
       "228                            English 12                           -   \n",
       "229                    Integrated Algebra                           -   \n",
       "...                                   ...                         ...   \n",
       "27604                             Physics                           -   \n",
       "27605          Global History & Geography                           -   \n",
       "27606             US History & Government                           -   \n",
       "27607                           Economics                           -   \n",
       "27608         Participation in Government                           -   \n",
       "\n",
       "       NUMBER OF STUDENTS / SEATS FILLED  NUMBER OF SECTIONS  \\\n",
       "225                                 63.0                 3.0   \n",
       "226                                 79.0                 3.0   \n",
       "227                                 38.0                 2.0   \n",
       "228                                 69.0                 3.0   \n",
       "229                                 53.0                 3.0   \n",
       "...                                  ...                 ...   \n",
       "27604                               49.0                 2.0   \n",
       "27605                              237.0                10.0   \n",
       "27606                              256.0                10.0   \n",
       "27607                               65.0                 2.0   \n",
       "27608                               53.0                 2.0   \n",
       "\n",
       "       AVERAGE CLASS SIZE  SIZE OF SMALLEST CLASS  SIZE OF LARGEST CLASS  \\\n",
       "225                  21.0                    19.0                   25.0   \n",
       "226                  26.3                    24.0                   31.0   \n",
       "227                  19.0                    16.0                   22.0   \n",
       "228                  23.0                    13.0                   30.0   \n",
       "229                  17.7                    16.0                   21.0   \n",
       "...                   ...                     ...                    ...   \n",
       "27604                24.5                    22.0                   27.0   \n",
       "27605                23.7                    15.0                   31.0   \n",
       "27606                25.6                    15.0                   35.0   \n",
       "27607                32.5                    32.0                   33.0   \n",
       "27608                26.5                    25.0                   28.0   \n",
       "\n",
       "      DATA SOURCE  SCHOOLWIDE PUPIL-TEACHER RATIO padded_csd     DBN  \n",
       "225         STARS                             NaN         01  01M292  \n",
       "226         STARS                             NaN         01  01M292  \n",
       "227         STARS                             NaN         01  01M292  \n",
       "228         STARS                             NaN         01  01M292  \n",
       "229         STARS                             NaN         01  01M292  \n",
       "...           ...                             ...        ...     ...  \n",
       "27604       STARS                             NaN         32  32K564  \n",
       "27605       STARS                             NaN         32  32K564  \n",
       "27606       STARS                             NaN         32  32K564  \n",
       "27607       STARS                             NaN         32  32K564  \n",
       "27608       STARS                             NaN         32  32K564  \n",
       "\n",
       "[6513 rows x 18 columns]"
      ],
      "text/html": "<div>\n<style scoped>\n    .dataframe tbody tr th:only-of-type {\n        vertical-align: middle;\n    }\n\n    .dataframe tbody tr th {\n        vertical-align: top;\n    }\n\n    .dataframe thead th {\n        text-align: right;\n    }\n</style>\n<table border=\"1\" class=\"dataframe\">\n  <thead>\n    <tr style=\"text-align: right;\">\n      <th></th>\n      <th>CSD</th>\n      <th>BOROUGH</th>\n      <th>SCHOOL CODE</th>\n      <th>SCHOOL NAME</th>\n      <th>GRADE</th>\n      <th>PROGRAM TYPE</th>\n      <th>CORE SUBJECT (MS CORE and 9-12 ONLY)</th>\n      <th>CORE COURSE (MS CORE and 9-12 ONLY)</th>\n      <th>SERVICE CATEGORY(K-9* ONLY)</th>\n      <th>NUMBER OF STUDENTS / SEATS FILLED</th>\n      <th>NUMBER OF SECTIONS</th>\n      <th>AVERAGE CLASS SIZE</th>\n      <th>SIZE OF SMALLEST CLASS</th>\n      <th>SIZE OF LARGEST CLASS</th>\n      <th>DATA SOURCE</th>\n      <th>SCHOOLWIDE PUPIL-TEACHER RATIO</th>\n      <th>padded_csd</th>\n      <th>DBN</th>\n    </tr>\n  </thead>\n  <tbody>\n    <tr>\n      <th>225</th>\n      <td>1</td>\n      <td>M</td>\n      <td>M292</td>\n      <td>Henry Street School for International Studies</td>\n      <td>09-12</td>\n      <td>GEN ED</td>\n      <td>ENGLISH</td>\n      <td>English 9</td>\n      <td>-</td>\n      <td>63.0</td>\n      <td>3.0</td>\n      <td>21.0</td>\n      <td>19.0</td>\n      <td>25.0</td>\n      <td>STARS</td>\n      <td>NaN</td>\n      <td>01</td>\n      <td>01M292</td>\n    </tr>\n    <tr>\n      <th>226</th>\n      <td>1</td>\n      <td>M</td>\n      <td>M292</td>\n      <td>Henry Street School for International Studies</td>\n      <td>09-12</td>\n      <td>GEN ED</td>\n      <td>ENGLISH</td>\n      <td>English 10</td>\n      <td>-</td>\n      <td>79.0</td>\n      <td>3.0</td>\n      <td>26.3</td>\n      <td>24.0</td>\n      <td>31.0</td>\n      <td>STARS</td>\n      <td>NaN</td>\n      <td>01</td>\n      <td>01M292</td>\n    </tr>\n    <tr>\n      <th>227</th>\n      <td>1</td>\n      <td>M</td>\n      <td>M292</td>\n      <td>Henry Street School for International Studies</td>\n      <td>09-12</td>\n      <td>GEN ED</td>\n      <td>ENGLISH</td>\n      <td>English 11</td>\n      <td>-</td>\n      <td>38.0</td>\n      <td>2.0</td>\n      <td>19.0</td>\n      <td>16.0</td>\n      <td>22.0</td>\n      <td>STARS</td>\n      <td>NaN</td>\n      <td>01</td>\n      <td>01M292</td>\n    </tr>\n    <tr>\n      <th>228</th>\n      <td>1</td>\n      <td>M</td>\n      <td>M292</td>\n      <td>Henry Street School for International Studies</td>\n      <td>09-12</td>\n      <td>GEN ED</td>\n      <td>ENGLISH</td>\n      <td>English 12</td>\n      <td>-</td>\n      <td>69.0</td>\n      <td>3.0</td>\n      <td>23.0</td>\n      <td>13.0</td>\n      <td>30.0</td>\n      <td>STARS</td>\n      <td>NaN</td>\n      <td>01</td>\n      <td>01M292</td>\n    </tr>\n    <tr>\n      <th>229</th>\n      <td>1</td>\n      <td>M</td>\n      <td>M292</td>\n      <td>Henry Street School for International Studies</td>\n      <td>09-12</td>\n      <td>GEN ED</td>\n      <td>MATH</td>\n      <td>Integrated Algebra</td>\n      <td>-</td>\n      <td>53.0</td>\n      <td>3.0</td>\n      <td>17.7</td>\n      <td>16.0</td>\n      <td>21.0</td>\n      <td>STARS</td>\n      <td>NaN</td>\n      <td>01</td>\n      <td>01M292</td>\n    </tr>\n    <tr>\n      <th>...</th>\n      <td>...</td>\n      <td>...</td>\n      <td>...</td>\n      <td>...</td>\n      <td>...</td>\n      <td>...</td>\n      <td>...</td>\n      <td>...</td>\n      <td>...</td>\n      <td>...</td>\n      <td>...</td>\n      <td>...</td>\n      <td>...</td>\n      <td>...</td>\n      <td>...</td>\n      <td>...</td>\n      <td>...</td>\n      <td>...</td>\n    </tr>\n    <tr>\n      <th>27604</th>\n      <td>32</td>\n      <td>K</td>\n      <td>K564</td>\n      <td>Bushwick Community High School</td>\n      <td>09-12</td>\n      <td>GEN ED</td>\n      <td>SCIENCE</td>\n      <td>Physics</td>\n      <td>-</td>\n      <td>49.0</td>\n      <td>2.0</td>\n      <td>24.5</td>\n      <td>22.0</td>\n      <td>27.0</td>\n      <td>STARS</td>\n      <td>NaN</td>\n      <td>32</td>\n      <td>32K564</td>\n    </tr>\n    <tr>\n      <th>27605</th>\n      <td>32</td>\n      <td>K</td>\n      <td>K564</td>\n      <td>Bushwick Community High School</td>\n      <td>09-12</td>\n      <td>GEN ED</td>\n      <td>SOCIAL STUDIES</td>\n      <td>Global History &amp; Geography</td>\n      <td>-</td>\n      <td>237.0</td>\n      <td>10.0</td>\n      <td>23.7</td>\n      <td>15.0</td>\n      <td>31.0</td>\n      <td>STARS</td>\n      <td>NaN</td>\n      <td>32</td>\n      <td>32K564</td>\n    </tr>\n    <tr>\n      <th>27606</th>\n      <td>32</td>\n      <td>K</td>\n      <td>K564</td>\n      <td>Bushwick Community High School</td>\n      <td>09-12</td>\n      <td>GEN ED</td>\n      <td>SOCIAL STUDIES</td>\n      <td>US History &amp; Government</td>\n      <td>-</td>\n      <td>256.0</td>\n      <td>10.0</td>\n      <td>25.6</td>\n      <td>15.0</td>\n      <td>35.0</td>\n      <td>STARS</td>\n      <td>NaN</td>\n      <td>32</td>\n      <td>32K564</td>\n    </tr>\n    <tr>\n      <th>27607</th>\n      <td>32</td>\n      <td>K</td>\n      <td>K564</td>\n      <td>Bushwick Community High School</td>\n      <td>09-12</td>\n      <td>GEN ED</td>\n      <td>SOCIAL STUDIES</td>\n      <td>Economics</td>\n      <td>-</td>\n      <td>65.0</td>\n      <td>2.0</td>\n      <td>32.5</td>\n      <td>32.0</td>\n      <td>33.0</td>\n      <td>STARS</td>\n      <td>NaN</td>\n      <td>32</td>\n      <td>32K564</td>\n    </tr>\n    <tr>\n      <th>27608</th>\n      <td>32</td>\n      <td>K</td>\n      <td>K564</td>\n      <td>Bushwick Community High School</td>\n      <td>09-12</td>\n      <td>GEN ED</td>\n      <td>SOCIAL STUDIES</td>\n      <td>Participation in Government</td>\n      <td>-</td>\n      <td>53.0</td>\n      <td>2.0</td>\n      <td>26.5</td>\n      <td>25.0</td>\n      <td>28.0</td>\n      <td>STARS</td>\n      <td>NaN</td>\n      <td>32</td>\n      <td>32K564</td>\n    </tr>\n  </tbody>\n</table>\n<p>6513 rows × 18 columns</p>\n</div>"
     },
     "metadata": {},
     "execution_count": 346
    }
   ],
   "source": [
    "class_size.drop(drop_rows_pr, inplace=True)\n",
    "class_size"
   ]
  },
  {
   "source": [
    "After dropping columns we do not need, there are still multiple entries for each school in the dataset, since they are still disaggregated by class. I will compute the average class size across all courses for each school to work with."
   ],
   "cell_type": "markdown",
   "metadata": {}
  },
  {
   "cell_type": "code",
   "execution_count": 347,
   "metadata": {},
   "outputs": [
    {
     "output_type": "execute_result",
     "data": {
      "text/plain": [
       "        AVERAGE CLASS SIZE\n",
       "DBN                       \n",
       "01M292           22.564286\n",
       "01M332           22.000000\n",
       "01M378           33.000000\n",
       "01M448           22.231250\n",
       "01M450           21.200000\n",
       "...                    ...\n",
       "32K549           22.760000\n",
       "32K552           23.900000\n",
       "32K554           17.793750\n",
       "32K556           25.060000\n",
       "32K564           24.964286\n",
       "\n",
       "[583 rows x 1 columns]"
      ],
      "text/html": "<div>\n<style scoped>\n    .dataframe tbody tr th:only-of-type {\n        vertical-align: middle;\n    }\n\n    .dataframe tbody tr th {\n        vertical-align: top;\n    }\n\n    .dataframe thead th {\n        text-align: right;\n    }\n</style>\n<table border=\"1\" class=\"dataframe\">\n  <thead>\n    <tr style=\"text-align: right;\">\n      <th></th>\n      <th>AVERAGE CLASS SIZE</th>\n    </tr>\n    <tr>\n      <th>DBN</th>\n      <th></th>\n    </tr>\n  </thead>\n  <tbody>\n    <tr>\n      <th>01M292</th>\n      <td>22.564286</td>\n    </tr>\n    <tr>\n      <th>01M332</th>\n      <td>22.000000</td>\n    </tr>\n    <tr>\n      <th>01M378</th>\n      <td>33.000000</td>\n    </tr>\n    <tr>\n      <th>01M448</th>\n      <td>22.231250</td>\n    </tr>\n    <tr>\n      <th>01M450</th>\n      <td>21.200000</td>\n    </tr>\n    <tr>\n      <th>...</th>\n      <td>...</td>\n    </tr>\n    <tr>\n      <th>32K549</th>\n      <td>22.760000</td>\n    </tr>\n    <tr>\n      <th>32K552</th>\n      <td>23.900000</td>\n    </tr>\n    <tr>\n      <th>32K554</th>\n      <td>17.793750</td>\n    </tr>\n    <tr>\n      <th>32K556</th>\n      <td>25.060000</td>\n    </tr>\n    <tr>\n      <th>32K564</th>\n      <td>24.964286</td>\n    </tr>\n  </tbody>\n</table>\n<p>583 rows × 1 columns</p>\n</div>"
     },
     "metadata": {},
     "execution_count": 347
    }
   ],
   "source": [
    "avg_class_size = class_size.groupby('DBN')[\"AVERAGE CLASS SIZE\"].agg('mean')\n",
    "avg_class_size = pd.DataFrame(avg_class_size)\n",
    "avg_class_size\n"
   ]
  },
  {
   "cell_type": "code",
   "execution_count": 348,
   "metadata": {},
   "outputs": [
    {
     "output_type": "execute_result",
     "data": {
      "text/plain": [
       "        DBN  avg_class_size\n",
       "0    01M292       22.564286\n",
       "1    01M332       22.000000\n",
       "2    01M378       33.000000\n",
       "3    01M448       22.231250\n",
       "4    01M450       21.200000\n",
       "..      ...             ...\n",
       "578  32K549       22.760000\n",
       "579  32K552       23.900000\n",
       "580  32K554       17.793750\n",
       "581  32K556       25.060000\n",
       "582  32K564       24.964286\n",
       "\n",
       "[583 rows x 2 columns]"
      ],
      "text/html": "<div>\n<style scoped>\n    .dataframe tbody tr th:only-of-type {\n        vertical-align: middle;\n    }\n\n    .dataframe tbody tr th {\n        vertical-align: top;\n    }\n\n    .dataframe thead th {\n        text-align: right;\n    }\n</style>\n<table border=\"1\" class=\"dataframe\">\n  <thead>\n    <tr style=\"text-align: right;\">\n      <th></th>\n      <th>DBN</th>\n      <th>avg_class_size</th>\n    </tr>\n  </thead>\n  <tbody>\n    <tr>\n      <th>0</th>\n      <td>01M292</td>\n      <td>22.564286</td>\n    </tr>\n    <tr>\n      <th>1</th>\n      <td>01M332</td>\n      <td>22.000000</td>\n    </tr>\n    <tr>\n      <th>2</th>\n      <td>01M378</td>\n      <td>33.000000</td>\n    </tr>\n    <tr>\n      <th>3</th>\n      <td>01M448</td>\n      <td>22.231250</td>\n    </tr>\n    <tr>\n      <th>4</th>\n      <td>01M450</td>\n      <td>21.200000</td>\n    </tr>\n    <tr>\n      <th>...</th>\n      <td>...</td>\n      <td>...</td>\n    </tr>\n    <tr>\n      <th>578</th>\n      <td>32K549</td>\n      <td>22.760000</td>\n    </tr>\n    <tr>\n      <th>579</th>\n      <td>32K552</td>\n      <td>23.900000</td>\n    </tr>\n    <tr>\n      <th>580</th>\n      <td>32K554</td>\n      <td>17.793750</td>\n    </tr>\n    <tr>\n      <th>581</th>\n      <td>32K556</td>\n      <td>25.060000</td>\n    </tr>\n    <tr>\n      <th>582</th>\n      <td>32K564</td>\n      <td>24.964286</td>\n    </tr>\n  </tbody>\n</table>\n<p>583 rows × 2 columns</p>\n</div>"
     },
     "metadata": {},
     "execution_count": 348
    }
   ],
   "source": [
    "avg_class_size.reset_index(inplace=True)\n",
    "avg_class_size.rename(columns={\"AVERAGE CLASS SIZE\": \"avg_class_size\"}, inplace=True)\n",
    "avg_class_size"
   ]
  },
  {
   "cell_type": "code",
   "execution_count": 349,
   "metadata": {},
   "outputs": [
    {
     "output_type": "execute_result",
     "data": {
      "text/plain": [
       "      CSD BOROUGH SCHOOL CODE                                    SCHOOL NAME  \\\n",
       "0       1       M        M292  Henry Street School for International Studies   \n",
       "1       1       M        M292  Henry Street School for International Studies   \n",
       "2       1       M        M292  Henry Street School for International Studies   \n",
       "3       1       M        M292  Henry Street School for International Studies   \n",
       "4       1       M        M292  Henry Street School for International Studies   \n",
       "...   ...     ...         ...                                            ...   \n",
       "6508   32       K        K564                 Bushwick Community High School   \n",
       "6509   32       K        K564                 Bushwick Community High School   \n",
       "6510   32       K        K564                 Bushwick Community High School   \n",
       "6511   32       K        K564                 Bushwick Community High School   \n",
       "6512   32       K        K564                 Bushwick Community High School   \n",
       "\n",
       "     GRADE  PROGRAM TYPE CORE SUBJECT (MS CORE and 9-12 ONLY)  \\\n",
       "0     09-12       GEN ED                              ENGLISH   \n",
       "1     09-12       GEN ED                              ENGLISH   \n",
       "2     09-12       GEN ED                              ENGLISH   \n",
       "3     09-12       GEN ED                              ENGLISH   \n",
       "4     09-12       GEN ED                                 MATH   \n",
       "...     ...          ...                                  ...   \n",
       "6508  09-12       GEN ED                              SCIENCE   \n",
       "6509  09-12       GEN ED                       SOCIAL STUDIES   \n",
       "6510  09-12       GEN ED                       SOCIAL STUDIES   \n",
       "6511  09-12       GEN ED                       SOCIAL STUDIES   \n",
       "6512  09-12       GEN ED                       SOCIAL STUDIES   \n",
       "\n",
       "     CORE COURSE (MS CORE and 9-12 ONLY) SERVICE CATEGORY(K-9* ONLY)  \\\n",
       "0                              English 9                           -   \n",
       "1                             English 10                           -   \n",
       "2                             English 11                           -   \n",
       "3                             English 12                           -   \n",
       "4                     Integrated Algebra                           -   \n",
       "...                                  ...                         ...   \n",
       "6508                             Physics                           -   \n",
       "6509          Global History & Geography                           -   \n",
       "6510             US History & Government                           -   \n",
       "6511                           Economics                           -   \n",
       "6512         Participation in Government                           -   \n",
       "\n",
       "      NUMBER OF STUDENTS / SEATS FILLED  NUMBER OF SECTIONS  \\\n",
       "0                                  63.0                 3.0   \n",
       "1                                  79.0                 3.0   \n",
       "2                                  38.0                 2.0   \n",
       "3                                  69.0                 3.0   \n",
       "4                                  53.0                 3.0   \n",
       "...                                 ...                 ...   \n",
       "6508                               49.0                 2.0   \n",
       "6509                              237.0                10.0   \n",
       "6510                              256.0                10.0   \n",
       "6511                               65.0                 2.0   \n",
       "6512                               53.0                 2.0   \n",
       "\n",
       "      AVERAGE CLASS SIZE  SIZE OF SMALLEST CLASS  SIZE OF LARGEST CLASS  \\\n",
       "0                   21.0                    19.0                   25.0   \n",
       "1                   26.3                    24.0                   31.0   \n",
       "2                   19.0                    16.0                   22.0   \n",
       "3                   23.0                    13.0                   30.0   \n",
       "4                   17.7                    16.0                   21.0   \n",
       "...                  ...                     ...                    ...   \n",
       "6508                24.5                    22.0                   27.0   \n",
       "6509                23.7                    15.0                   31.0   \n",
       "6510                25.6                    15.0                   35.0   \n",
       "6511                32.5                    32.0                   33.0   \n",
       "6512                26.5                    25.0                   28.0   \n",
       "\n",
       "     DATA SOURCE  SCHOOLWIDE PUPIL-TEACHER RATIO padded_csd     DBN  \\\n",
       "0          STARS                             NaN         01  01M292   \n",
       "1          STARS                             NaN         01  01M292   \n",
       "2          STARS                             NaN         01  01M292   \n",
       "3          STARS                             NaN         01  01M292   \n",
       "4          STARS                             NaN         01  01M292   \n",
       "...          ...                             ...        ...     ...   \n",
       "6508       STARS                             NaN         32  32K564   \n",
       "6509       STARS                             NaN         32  32K564   \n",
       "6510       STARS                             NaN         32  32K564   \n",
       "6511       STARS                             NaN         32  32K564   \n",
       "6512       STARS                             NaN         32  32K564   \n",
       "\n",
       "      avg_class_size  \n",
       "0          22.564286  \n",
       "1          22.564286  \n",
       "2          22.564286  \n",
       "3          22.564286  \n",
       "4          22.564286  \n",
       "...              ...  \n",
       "6508       24.964286  \n",
       "6509       24.964286  \n",
       "6510       24.964286  \n",
       "6511       24.964286  \n",
       "6512       24.964286  \n",
       "\n",
       "[6513 rows x 19 columns]"
      ],
      "text/html": "<div>\n<style scoped>\n    .dataframe tbody tr th:only-of-type {\n        vertical-align: middle;\n    }\n\n    .dataframe tbody tr th {\n        vertical-align: top;\n    }\n\n    .dataframe thead th {\n        text-align: right;\n    }\n</style>\n<table border=\"1\" class=\"dataframe\">\n  <thead>\n    <tr style=\"text-align: right;\">\n      <th></th>\n      <th>CSD</th>\n      <th>BOROUGH</th>\n      <th>SCHOOL CODE</th>\n      <th>SCHOOL NAME</th>\n      <th>GRADE</th>\n      <th>PROGRAM TYPE</th>\n      <th>CORE SUBJECT (MS CORE and 9-12 ONLY)</th>\n      <th>CORE COURSE (MS CORE and 9-12 ONLY)</th>\n      <th>SERVICE CATEGORY(K-9* ONLY)</th>\n      <th>NUMBER OF STUDENTS / SEATS FILLED</th>\n      <th>NUMBER OF SECTIONS</th>\n      <th>AVERAGE CLASS SIZE</th>\n      <th>SIZE OF SMALLEST CLASS</th>\n      <th>SIZE OF LARGEST CLASS</th>\n      <th>DATA SOURCE</th>\n      <th>SCHOOLWIDE PUPIL-TEACHER RATIO</th>\n      <th>padded_csd</th>\n      <th>DBN</th>\n      <th>avg_class_size</th>\n    </tr>\n  </thead>\n  <tbody>\n    <tr>\n      <th>0</th>\n      <td>1</td>\n      <td>M</td>\n      <td>M292</td>\n      <td>Henry Street School for International Studies</td>\n      <td>09-12</td>\n      <td>GEN ED</td>\n      <td>ENGLISH</td>\n      <td>English 9</td>\n      <td>-</td>\n      <td>63.0</td>\n      <td>3.0</td>\n      <td>21.0</td>\n      <td>19.0</td>\n      <td>25.0</td>\n      <td>STARS</td>\n      <td>NaN</td>\n      <td>01</td>\n      <td>01M292</td>\n      <td>22.564286</td>\n    </tr>\n    <tr>\n      <th>1</th>\n      <td>1</td>\n      <td>M</td>\n      <td>M292</td>\n      <td>Henry Street School for International Studies</td>\n      <td>09-12</td>\n      <td>GEN ED</td>\n      <td>ENGLISH</td>\n      <td>English 10</td>\n      <td>-</td>\n      <td>79.0</td>\n      <td>3.0</td>\n      <td>26.3</td>\n      <td>24.0</td>\n      <td>31.0</td>\n      <td>STARS</td>\n      <td>NaN</td>\n      <td>01</td>\n      <td>01M292</td>\n      <td>22.564286</td>\n    </tr>\n    <tr>\n      <th>2</th>\n      <td>1</td>\n      <td>M</td>\n      <td>M292</td>\n      <td>Henry Street School for International Studies</td>\n      <td>09-12</td>\n      <td>GEN ED</td>\n      <td>ENGLISH</td>\n      <td>English 11</td>\n      <td>-</td>\n      <td>38.0</td>\n      <td>2.0</td>\n      <td>19.0</td>\n      <td>16.0</td>\n      <td>22.0</td>\n      <td>STARS</td>\n      <td>NaN</td>\n      <td>01</td>\n      <td>01M292</td>\n      <td>22.564286</td>\n    </tr>\n    <tr>\n      <th>3</th>\n      <td>1</td>\n      <td>M</td>\n      <td>M292</td>\n      <td>Henry Street School for International Studies</td>\n      <td>09-12</td>\n      <td>GEN ED</td>\n      <td>ENGLISH</td>\n      <td>English 12</td>\n      <td>-</td>\n      <td>69.0</td>\n      <td>3.0</td>\n      <td>23.0</td>\n      <td>13.0</td>\n      <td>30.0</td>\n      <td>STARS</td>\n      <td>NaN</td>\n      <td>01</td>\n      <td>01M292</td>\n      <td>22.564286</td>\n    </tr>\n    <tr>\n      <th>4</th>\n      <td>1</td>\n      <td>M</td>\n      <td>M292</td>\n      <td>Henry Street School for International Studies</td>\n      <td>09-12</td>\n      <td>GEN ED</td>\n      <td>MATH</td>\n      <td>Integrated Algebra</td>\n      <td>-</td>\n      <td>53.0</td>\n      <td>3.0</td>\n      <td>17.7</td>\n      <td>16.0</td>\n      <td>21.0</td>\n      <td>STARS</td>\n      <td>NaN</td>\n      <td>01</td>\n      <td>01M292</td>\n      <td>22.564286</td>\n    </tr>\n    <tr>\n      <th>...</th>\n      <td>...</td>\n      <td>...</td>\n      <td>...</td>\n      <td>...</td>\n      <td>...</td>\n      <td>...</td>\n      <td>...</td>\n      <td>...</td>\n      <td>...</td>\n      <td>...</td>\n      <td>...</td>\n      <td>...</td>\n      <td>...</td>\n      <td>...</td>\n      <td>...</td>\n      <td>...</td>\n      <td>...</td>\n      <td>...</td>\n      <td>...</td>\n    </tr>\n    <tr>\n      <th>6508</th>\n      <td>32</td>\n      <td>K</td>\n      <td>K564</td>\n      <td>Bushwick Community High School</td>\n      <td>09-12</td>\n      <td>GEN ED</td>\n      <td>SCIENCE</td>\n      <td>Physics</td>\n      <td>-</td>\n      <td>49.0</td>\n      <td>2.0</td>\n      <td>24.5</td>\n      <td>22.0</td>\n      <td>27.0</td>\n      <td>STARS</td>\n      <td>NaN</td>\n      <td>32</td>\n      <td>32K564</td>\n      <td>24.964286</td>\n    </tr>\n    <tr>\n      <th>6509</th>\n      <td>32</td>\n      <td>K</td>\n      <td>K564</td>\n      <td>Bushwick Community High School</td>\n      <td>09-12</td>\n      <td>GEN ED</td>\n      <td>SOCIAL STUDIES</td>\n      <td>Global History &amp; Geography</td>\n      <td>-</td>\n      <td>237.0</td>\n      <td>10.0</td>\n      <td>23.7</td>\n      <td>15.0</td>\n      <td>31.0</td>\n      <td>STARS</td>\n      <td>NaN</td>\n      <td>32</td>\n      <td>32K564</td>\n      <td>24.964286</td>\n    </tr>\n    <tr>\n      <th>6510</th>\n      <td>32</td>\n      <td>K</td>\n      <td>K564</td>\n      <td>Bushwick Community High School</td>\n      <td>09-12</td>\n      <td>GEN ED</td>\n      <td>SOCIAL STUDIES</td>\n      <td>US History &amp; Government</td>\n      <td>-</td>\n      <td>256.0</td>\n      <td>10.0</td>\n      <td>25.6</td>\n      <td>15.0</td>\n      <td>35.0</td>\n      <td>STARS</td>\n      <td>NaN</td>\n      <td>32</td>\n      <td>32K564</td>\n      <td>24.964286</td>\n    </tr>\n    <tr>\n      <th>6511</th>\n      <td>32</td>\n      <td>K</td>\n      <td>K564</td>\n      <td>Bushwick Community High School</td>\n      <td>09-12</td>\n      <td>GEN ED</td>\n      <td>SOCIAL STUDIES</td>\n      <td>Economics</td>\n      <td>-</td>\n      <td>65.0</td>\n      <td>2.0</td>\n      <td>32.5</td>\n      <td>32.0</td>\n      <td>33.0</td>\n      <td>STARS</td>\n      <td>NaN</td>\n      <td>32</td>\n      <td>32K564</td>\n      <td>24.964286</td>\n    </tr>\n    <tr>\n      <th>6512</th>\n      <td>32</td>\n      <td>K</td>\n      <td>K564</td>\n      <td>Bushwick Community High School</td>\n      <td>09-12</td>\n      <td>GEN ED</td>\n      <td>SOCIAL STUDIES</td>\n      <td>Participation in Government</td>\n      <td>-</td>\n      <td>53.0</td>\n      <td>2.0</td>\n      <td>26.5</td>\n      <td>25.0</td>\n      <td>28.0</td>\n      <td>STARS</td>\n      <td>NaN</td>\n      <td>32</td>\n      <td>32K564</td>\n      <td>24.964286</td>\n    </tr>\n  </tbody>\n</table>\n<p>6513 rows × 19 columns</p>\n</div>"
     },
     "metadata": {},
     "execution_count": 349
    }
   ],
   "source": [
    "class_size_comp = pd.merge(class_size, avg_class_size, on=\"DBN\")\n",
    "class_size_comp"
   ]
  },
  {
   "source": [
    "I computed the dataframe this way to avoid loss of too much information. Though for further analyses I probably do not need all these duplicates so I will drop them and reassign the result to the dictionary."
   ],
   "cell_type": "markdown",
   "metadata": {}
  },
  {
   "cell_type": "code",
   "execution_count": 350,
   "metadata": {},
   "outputs": [
    {
     "output_type": "execute_result",
     "data": {
      "text/plain": [
       "      CSD BOROUGH SCHOOL CODE  \\\n",
       "0       1       M        M292   \n",
       "14      1       M        M332   \n",
       "16      1       M        M378   \n",
       "17      1       M        M448   \n",
       "33      1       M        M450   \n",
       "...   ...     ...         ...   \n",
       "6437   32       K        K552   \n",
       "6453   32       K        K549   \n",
       "6468   32       K        K554   \n",
       "6484   32       K        K556   \n",
       "6499   32       K        K564   \n",
       "\n",
       "                                            SCHOOL NAME GRADE  PROGRAM TYPE  \\\n",
       "0         Henry Street School for International Studies  09-12       GEN ED   \n",
       "14                University Neighborhood Middle School  09-12       GEN ED   \n",
       "16                            School for Global Leaders  09-12       GEN ED   \n",
       "17                  University Neighborhood High School  09-12       GEN ED   \n",
       "33                           East Side Community School  09-12       GEN ED   \n",
       "...                                                 ...    ...          ...   \n",
       "6437                          Academy of Urban Planning  09-12       GEN ED   \n",
       "6453                 Bushwick School for Social Justice  09-12       GEN ED   \n",
       "6468               All City Leadership Secondary School  09-12       GEN ED   \n",
       "6484  Bushwick Leaders High School for Academic Exce...  09-12       GEN ED   \n",
       "6499                     Bushwick Community High School  09-12       GEN ED   \n",
       "\n",
       "     CORE SUBJECT (MS CORE and 9-12 ONLY) CORE COURSE (MS CORE and 9-12 ONLY)  \\\n",
       "0                                 ENGLISH                           English 9   \n",
       "14                                ENGLISH                     MS English Core   \n",
       "16                                   MATH                  Integrated Algebra   \n",
       "17                                ENGLISH                           English 9   \n",
       "33                                ENGLISH                           English 9   \n",
       "...                                   ...                                 ...   \n",
       "6437                              ENGLISH                          English 10   \n",
       "6453                              ENGLISH                           English 9   \n",
       "6468                              ENGLISH                           English 9   \n",
       "6484                              ENGLISH                           English 9   \n",
       "6499                              ENGLISH                           English 9   \n",
       "\n",
       "     SERVICE CATEGORY(K-9* ONLY)  NUMBER OF STUDENTS / SEATS FILLED  \\\n",
       "0                              -                               63.0   \n",
       "14                             -                               20.0   \n",
       "16                             -                               33.0   \n",
       "17                             -                               53.0   \n",
       "33                             -                               51.0   \n",
       "...                          ...                                ...   \n",
       "6437                           -                               74.0   \n",
       "6453                           -                               60.0   \n",
       "6468                           -                               34.0   \n",
       "6484                           -                              144.0   \n",
       "6499                           -                              261.0   \n",
       "\n",
       "      NUMBER OF SECTIONS  AVERAGE CLASS SIZE  SIZE OF SMALLEST CLASS  \\\n",
       "0                    3.0                21.0                    19.0   \n",
       "14                   1.0                20.0                    20.0   \n",
       "16                   1.0                33.0                    33.0   \n",
       "17                   3.0                17.7                    13.0   \n",
       "33                   2.0                25.5                    23.0   \n",
       "...                  ...                 ...                     ...   \n",
       "6437                 4.0                18.5                    13.0   \n",
       "6453                 3.0                20.0                    17.0   \n",
       "6468                 3.0                11.3                    11.0   \n",
       "6484                 7.0                20.6                    12.0   \n",
       "6499                10.0                26.1                    17.0   \n",
       "\n",
       "      SIZE OF LARGEST CLASS DATA SOURCE  SCHOOLWIDE PUPIL-TEACHER RATIO  \\\n",
       "0                      25.0       STARS                             NaN   \n",
       "14                     20.0       STARS                             NaN   \n",
       "16                     33.0       STARS                             NaN   \n",
       "17                     27.0       STARS                             NaN   \n",
       "33                     28.0       STARS                             NaN   \n",
       "...                     ...         ...                             ...   \n",
       "6437                   21.0       STARS                             NaN   \n",
       "6453                   22.0       STARS                             NaN   \n",
       "6468                   12.0       STARS                             NaN   \n",
       "6484                   26.0       STARS                             NaN   \n",
       "6499                   35.0       STARS                             NaN   \n",
       "\n",
       "     padded_csd     DBN  avg_class_size  \n",
       "0            01  01M292       22.564286  \n",
       "14           01  01M332       22.000000  \n",
       "16           01  01M378       33.000000  \n",
       "17           01  01M448       22.231250  \n",
       "33           01  01M450       21.200000  \n",
       "...         ...     ...             ...  \n",
       "6437         32  32K552       23.900000  \n",
       "6453         32  32K549       22.760000  \n",
       "6468         32  32K554       17.793750  \n",
       "6484         32  32K556       25.060000  \n",
       "6499         32  32K564       24.964286  \n",
       "\n",
       "[583 rows x 19 columns]"
      ],
      "text/html": "<div>\n<style scoped>\n    .dataframe tbody tr th:only-of-type {\n        vertical-align: middle;\n    }\n\n    .dataframe tbody tr th {\n        vertical-align: top;\n    }\n\n    .dataframe thead th {\n        text-align: right;\n    }\n</style>\n<table border=\"1\" class=\"dataframe\">\n  <thead>\n    <tr style=\"text-align: right;\">\n      <th></th>\n      <th>CSD</th>\n      <th>BOROUGH</th>\n      <th>SCHOOL CODE</th>\n      <th>SCHOOL NAME</th>\n      <th>GRADE</th>\n      <th>PROGRAM TYPE</th>\n      <th>CORE SUBJECT (MS CORE and 9-12 ONLY)</th>\n      <th>CORE COURSE (MS CORE and 9-12 ONLY)</th>\n      <th>SERVICE CATEGORY(K-9* ONLY)</th>\n      <th>NUMBER OF STUDENTS / SEATS FILLED</th>\n      <th>NUMBER OF SECTIONS</th>\n      <th>AVERAGE CLASS SIZE</th>\n      <th>SIZE OF SMALLEST CLASS</th>\n      <th>SIZE OF LARGEST CLASS</th>\n      <th>DATA SOURCE</th>\n      <th>SCHOOLWIDE PUPIL-TEACHER RATIO</th>\n      <th>padded_csd</th>\n      <th>DBN</th>\n      <th>avg_class_size</th>\n    </tr>\n  </thead>\n  <tbody>\n    <tr>\n      <th>0</th>\n      <td>1</td>\n      <td>M</td>\n      <td>M292</td>\n      <td>Henry Street School for International Studies</td>\n      <td>09-12</td>\n      <td>GEN ED</td>\n      <td>ENGLISH</td>\n      <td>English 9</td>\n      <td>-</td>\n      <td>63.0</td>\n      <td>3.0</td>\n      <td>21.0</td>\n      <td>19.0</td>\n      <td>25.0</td>\n      <td>STARS</td>\n      <td>NaN</td>\n      <td>01</td>\n      <td>01M292</td>\n      <td>22.564286</td>\n    </tr>\n    <tr>\n      <th>14</th>\n      <td>1</td>\n      <td>M</td>\n      <td>M332</td>\n      <td>University Neighborhood Middle School</td>\n      <td>09-12</td>\n      <td>GEN ED</td>\n      <td>ENGLISH</td>\n      <td>MS English Core</td>\n      <td>-</td>\n      <td>20.0</td>\n      <td>1.0</td>\n      <td>20.0</td>\n      <td>20.0</td>\n      <td>20.0</td>\n      <td>STARS</td>\n      <td>NaN</td>\n      <td>01</td>\n      <td>01M332</td>\n      <td>22.000000</td>\n    </tr>\n    <tr>\n      <th>16</th>\n      <td>1</td>\n      <td>M</td>\n      <td>M378</td>\n      <td>School for Global Leaders</td>\n      <td>09-12</td>\n      <td>GEN ED</td>\n      <td>MATH</td>\n      <td>Integrated Algebra</td>\n      <td>-</td>\n      <td>33.0</td>\n      <td>1.0</td>\n      <td>33.0</td>\n      <td>33.0</td>\n      <td>33.0</td>\n      <td>STARS</td>\n      <td>NaN</td>\n      <td>01</td>\n      <td>01M378</td>\n      <td>33.000000</td>\n    </tr>\n    <tr>\n      <th>17</th>\n      <td>1</td>\n      <td>M</td>\n      <td>M448</td>\n      <td>University Neighborhood High School</td>\n      <td>09-12</td>\n      <td>GEN ED</td>\n      <td>ENGLISH</td>\n      <td>English 9</td>\n      <td>-</td>\n      <td>53.0</td>\n      <td>3.0</td>\n      <td>17.7</td>\n      <td>13.0</td>\n      <td>27.0</td>\n      <td>STARS</td>\n      <td>NaN</td>\n      <td>01</td>\n      <td>01M448</td>\n      <td>22.231250</td>\n    </tr>\n    <tr>\n      <th>33</th>\n      <td>1</td>\n      <td>M</td>\n      <td>M450</td>\n      <td>East Side Community School</td>\n      <td>09-12</td>\n      <td>GEN ED</td>\n      <td>ENGLISH</td>\n      <td>English 9</td>\n      <td>-</td>\n      <td>51.0</td>\n      <td>2.0</td>\n      <td>25.5</td>\n      <td>23.0</td>\n      <td>28.0</td>\n      <td>STARS</td>\n      <td>NaN</td>\n      <td>01</td>\n      <td>01M450</td>\n      <td>21.200000</td>\n    </tr>\n    <tr>\n      <th>...</th>\n      <td>...</td>\n      <td>...</td>\n      <td>...</td>\n      <td>...</td>\n      <td>...</td>\n      <td>...</td>\n      <td>...</td>\n      <td>...</td>\n      <td>...</td>\n      <td>...</td>\n      <td>...</td>\n      <td>...</td>\n      <td>...</td>\n      <td>...</td>\n      <td>...</td>\n      <td>...</td>\n      <td>...</td>\n      <td>...</td>\n      <td>...</td>\n    </tr>\n    <tr>\n      <th>6437</th>\n      <td>32</td>\n      <td>K</td>\n      <td>K552</td>\n      <td>Academy of Urban Planning</td>\n      <td>09-12</td>\n      <td>GEN ED</td>\n      <td>ENGLISH</td>\n      <td>English 10</td>\n      <td>-</td>\n      <td>74.0</td>\n      <td>4.0</td>\n      <td>18.5</td>\n      <td>13.0</td>\n      <td>21.0</td>\n      <td>STARS</td>\n      <td>NaN</td>\n      <td>32</td>\n      <td>32K552</td>\n      <td>23.900000</td>\n    </tr>\n    <tr>\n      <th>6453</th>\n      <td>32</td>\n      <td>K</td>\n      <td>K549</td>\n      <td>Bushwick School for Social Justice</td>\n      <td>09-12</td>\n      <td>GEN ED</td>\n      <td>ENGLISH</td>\n      <td>English 9</td>\n      <td>-</td>\n      <td>60.0</td>\n      <td>3.0</td>\n      <td>20.0</td>\n      <td>17.0</td>\n      <td>22.0</td>\n      <td>STARS</td>\n      <td>NaN</td>\n      <td>32</td>\n      <td>32K549</td>\n      <td>22.760000</td>\n    </tr>\n    <tr>\n      <th>6468</th>\n      <td>32</td>\n      <td>K</td>\n      <td>K554</td>\n      <td>All City Leadership Secondary School</td>\n      <td>09-12</td>\n      <td>GEN ED</td>\n      <td>ENGLISH</td>\n      <td>English 9</td>\n      <td>-</td>\n      <td>34.0</td>\n      <td>3.0</td>\n      <td>11.3</td>\n      <td>11.0</td>\n      <td>12.0</td>\n      <td>STARS</td>\n      <td>NaN</td>\n      <td>32</td>\n      <td>32K554</td>\n      <td>17.793750</td>\n    </tr>\n    <tr>\n      <th>6484</th>\n      <td>32</td>\n      <td>K</td>\n      <td>K556</td>\n      <td>Bushwick Leaders High School for Academic Exce...</td>\n      <td>09-12</td>\n      <td>GEN ED</td>\n      <td>ENGLISH</td>\n      <td>English 9</td>\n      <td>-</td>\n      <td>144.0</td>\n      <td>7.0</td>\n      <td>20.6</td>\n      <td>12.0</td>\n      <td>26.0</td>\n      <td>STARS</td>\n      <td>NaN</td>\n      <td>32</td>\n      <td>32K556</td>\n      <td>25.060000</td>\n    </tr>\n    <tr>\n      <th>6499</th>\n      <td>32</td>\n      <td>K</td>\n      <td>K564</td>\n      <td>Bushwick Community High School</td>\n      <td>09-12</td>\n      <td>GEN ED</td>\n      <td>ENGLISH</td>\n      <td>English 9</td>\n      <td>-</td>\n      <td>261.0</td>\n      <td>10.0</td>\n      <td>26.1</td>\n      <td>17.0</td>\n      <td>35.0</td>\n      <td>STARS</td>\n      <td>NaN</td>\n      <td>32</td>\n      <td>32K564</td>\n      <td>24.964286</td>\n    </tr>\n  </tbody>\n</table>\n<p>583 rows × 19 columns</p>\n</div>"
     },
     "metadata": {},
     "execution_count": 350
    }
   ],
   "source": [
    "class_size_comp.drop_duplicates(subset='DBN', inplace=True, keep='first')\n",
    "class_size_comp"
   ]
  },
  {
   "cell_type": "code",
   "execution_count": 351,
   "metadata": {},
   "outputs": [
    {
     "output_type": "execute_result",
     "data": {
      "text/plain": [
       "        DBN  CSD  NUMBER OF STUDENTS / SEATS FILLED  NUMBER OF SECTIONS  \\\n",
       "0    01M292    1                          88.000000            4.000000   \n",
       "1    01M332    1                          46.000000            2.000000   \n",
       "2    01M378    1                          33.000000            1.000000   \n",
       "3    01M448    1                         105.687500            4.750000   \n",
       "4    01M450    1                          57.600000            2.733333   \n",
       "..      ...  ...                                ...                 ...   \n",
       "578  32K549   32                          71.066667            3.266667   \n",
       "579  32K552   32                         102.375000            4.312500   \n",
       "580  32K554   32                          66.937500            3.812500   \n",
       "581  32K556   32                         132.333333            5.400000   \n",
       "582  32K564   32                         136.142857            5.428571   \n",
       "\n",
       "     AVERAGE CLASS SIZE  SIZE OF SMALLEST CLASS  SIZE OF LARGEST CLASS  \\\n",
       "0             22.564286               18.500000              26.571429   \n",
       "1             22.000000               21.000000              23.500000   \n",
       "2             33.000000               33.000000              33.000000   \n",
       "3             22.231250               18.250000              27.062500   \n",
       "4             21.200000               19.400000              22.866667   \n",
       "..                  ...                     ...                    ...   \n",
       "578           22.760000               19.866667              25.866667   \n",
       "579           23.900000               19.937500              28.000000   \n",
       "580           17.793750               14.750000              21.625000   \n",
       "581           25.060000               18.333333              30.000000   \n",
       "582           24.964286               20.071429              28.571429   \n",
       "\n",
       "     SCHOOLWIDE PUPIL-TEACHER RATIO  \n",
       "0                               NaN  \n",
       "1                               NaN  \n",
       "2                               NaN  \n",
       "3                               NaN  \n",
       "4                               NaN  \n",
       "..                              ...  \n",
       "578                             NaN  \n",
       "579                             NaN  \n",
       "580                             NaN  \n",
       "581                             NaN  \n",
       "582                             NaN  \n",
       "\n",
       "[583 rows x 8 columns]"
      ],
      "text/html": "<div>\n<style scoped>\n    .dataframe tbody tr th:only-of-type {\n        vertical-align: middle;\n    }\n\n    .dataframe tbody tr th {\n        vertical-align: top;\n    }\n\n    .dataframe thead th {\n        text-align: right;\n    }\n</style>\n<table border=\"1\" class=\"dataframe\">\n  <thead>\n    <tr style=\"text-align: right;\">\n      <th></th>\n      <th>DBN</th>\n      <th>CSD</th>\n      <th>NUMBER OF STUDENTS / SEATS FILLED</th>\n      <th>NUMBER OF SECTIONS</th>\n      <th>AVERAGE CLASS SIZE</th>\n      <th>SIZE OF SMALLEST CLASS</th>\n      <th>SIZE OF LARGEST CLASS</th>\n      <th>SCHOOLWIDE PUPIL-TEACHER RATIO</th>\n    </tr>\n  </thead>\n  <tbody>\n    <tr>\n      <th>0</th>\n      <td>01M292</td>\n      <td>1</td>\n      <td>88.000000</td>\n      <td>4.000000</td>\n      <td>22.564286</td>\n      <td>18.500000</td>\n      <td>26.571429</td>\n      <td>NaN</td>\n    </tr>\n    <tr>\n      <th>1</th>\n      <td>01M332</td>\n      <td>1</td>\n      <td>46.000000</td>\n      <td>2.000000</td>\n      <td>22.000000</td>\n      <td>21.000000</td>\n      <td>23.500000</td>\n      <td>NaN</td>\n    </tr>\n    <tr>\n      <th>2</th>\n      <td>01M378</td>\n      <td>1</td>\n      <td>33.000000</td>\n      <td>1.000000</td>\n      <td>33.000000</td>\n      <td>33.000000</td>\n      <td>33.000000</td>\n      <td>NaN</td>\n    </tr>\n    <tr>\n      <th>3</th>\n      <td>01M448</td>\n      <td>1</td>\n      <td>105.687500</td>\n      <td>4.750000</td>\n      <td>22.231250</td>\n      <td>18.250000</td>\n      <td>27.062500</td>\n      <td>NaN</td>\n    </tr>\n    <tr>\n      <th>4</th>\n      <td>01M450</td>\n      <td>1</td>\n      <td>57.600000</td>\n      <td>2.733333</td>\n      <td>21.200000</td>\n      <td>19.400000</td>\n      <td>22.866667</td>\n      <td>NaN</td>\n    </tr>\n    <tr>\n      <th>...</th>\n      <td>...</td>\n      <td>...</td>\n      <td>...</td>\n      <td>...</td>\n      <td>...</td>\n      <td>...</td>\n      <td>...</td>\n      <td>...</td>\n    </tr>\n    <tr>\n      <th>578</th>\n      <td>32K549</td>\n      <td>32</td>\n      <td>71.066667</td>\n      <td>3.266667</td>\n      <td>22.760000</td>\n      <td>19.866667</td>\n      <td>25.866667</td>\n      <td>NaN</td>\n    </tr>\n    <tr>\n      <th>579</th>\n      <td>32K552</td>\n      <td>32</td>\n      <td>102.375000</td>\n      <td>4.312500</td>\n      <td>23.900000</td>\n      <td>19.937500</td>\n      <td>28.000000</td>\n      <td>NaN</td>\n    </tr>\n    <tr>\n      <th>580</th>\n      <td>32K554</td>\n      <td>32</td>\n      <td>66.937500</td>\n      <td>3.812500</td>\n      <td>17.793750</td>\n      <td>14.750000</td>\n      <td>21.625000</td>\n      <td>NaN</td>\n    </tr>\n    <tr>\n      <th>581</th>\n      <td>32K556</td>\n      <td>32</td>\n      <td>132.333333</td>\n      <td>5.400000</td>\n      <td>25.060000</td>\n      <td>18.333333</td>\n      <td>30.000000</td>\n      <td>NaN</td>\n    </tr>\n    <tr>\n      <th>582</th>\n      <td>32K564</td>\n      <td>32</td>\n      <td>136.142857</td>\n      <td>5.428571</td>\n      <td>24.964286</td>\n      <td>20.071429</td>\n      <td>28.571429</td>\n      <td>NaN</td>\n    </tr>\n  </tbody>\n</table>\n<p>583 rows × 8 columns</p>\n</div>"
     },
     "metadata": {},
     "execution_count": 351
    }
   ],
   "source": [
    "class_size_tot_avg = class_size.groupby('DBN').agg('mean')\n",
    "class_size_tot_avg.reset_index(inplace=True)\n",
    "class_size_tot_avg"
   ]
  },
  {
   "cell_type": "code",
   "execution_count": 352,
   "metadata": {},
   "outputs": [
    {
     "output_type": "execute_result",
     "data": {
      "text/plain": [
       "        DBN  CSD  NUMBER OF STUDENTS / SEATS FILLED  NUMBER OF SECTIONS  \\\n",
       "0    01M292    1                          88.000000            4.000000   \n",
       "1    01M332    1                          46.000000            2.000000   \n",
       "2    01M378    1                          33.000000            1.000000   \n",
       "3    01M448    1                         105.687500            4.750000   \n",
       "4    01M450    1                          57.600000            2.733333   \n",
       "..      ...  ...                                ...                 ...   \n",
       "578  32K549   32                          71.066667            3.266667   \n",
       "579  32K552   32                         102.375000            4.312500   \n",
       "580  32K554   32                          66.937500            3.812500   \n",
       "581  32K556   32                         132.333333            5.400000   \n",
       "582  32K564   32                         136.142857            5.428571   \n",
       "\n",
       "     AVERAGE CLASS SIZE  SIZE OF SMALLEST CLASS  SIZE OF LARGEST CLASS  \\\n",
       "0             22.564286               18.500000              26.571429   \n",
       "1             22.000000               21.000000              23.500000   \n",
       "2             33.000000               33.000000              33.000000   \n",
       "3             22.231250               18.250000              27.062500   \n",
       "4             21.200000               19.400000              22.866667   \n",
       "..                  ...                     ...                    ...   \n",
       "578           22.760000               19.866667              25.866667   \n",
       "579           23.900000               19.937500              28.000000   \n",
       "580           17.793750               14.750000              21.625000   \n",
       "581           25.060000               18.333333              30.000000   \n",
       "582           24.964286               20.071429              28.571429   \n",
       "\n",
       "     SCHOOLWIDE PUPIL-TEACHER RATIO  \n",
       "0                               NaN  \n",
       "1                               NaN  \n",
       "2                               NaN  \n",
       "3                               NaN  \n",
       "4                               NaN  \n",
       "..                              ...  \n",
       "578                             NaN  \n",
       "579                             NaN  \n",
       "580                             NaN  \n",
       "581                             NaN  \n",
       "582                             NaN  \n",
       "\n",
       "[583 rows x 8 columns]"
      ],
      "text/html": "<div>\n<style scoped>\n    .dataframe tbody tr th:only-of-type {\n        vertical-align: middle;\n    }\n\n    .dataframe tbody tr th {\n        vertical-align: top;\n    }\n\n    .dataframe thead th {\n        text-align: right;\n    }\n</style>\n<table border=\"1\" class=\"dataframe\">\n  <thead>\n    <tr style=\"text-align: right;\">\n      <th></th>\n      <th>DBN</th>\n      <th>CSD</th>\n      <th>NUMBER OF STUDENTS / SEATS FILLED</th>\n      <th>NUMBER OF SECTIONS</th>\n      <th>AVERAGE CLASS SIZE</th>\n      <th>SIZE OF SMALLEST CLASS</th>\n      <th>SIZE OF LARGEST CLASS</th>\n      <th>SCHOOLWIDE PUPIL-TEACHER RATIO</th>\n    </tr>\n  </thead>\n  <tbody>\n    <tr>\n      <th>0</th>\n      <td>01M292</td>\n      <td>1</td>\n      <td>88.000000</td>\n      <td>4.000000</td>\n      <td>22.564286</td>\n      <td>18.500000</td>\n      <td>26.571429</td>\n      <td>NaN</td>\n    </tr>\n    <tr>\n      <th>1</th>\n      <td>01M332</td>\n      <td>1</td>\n      <td>46.000000</td>\n      <td>2.000000</td>\n      <td>22.000000</td>\n      <td>21.000000</td>\n      <td>23.500000</td>\n      <td>NaN</td>\n    </tr>\n    <tr>\n      <th>2</th>\n      <td>01M378</td>\n      <td>1</td>\n      <td>33.000000</td>\n      <td>1.000000</td>\n      <td>33.000000</td>\n      <td>33.000000</td>\n      <td>33.000000</td>\n      <td>NaN</td>\n    </tr>\n    <tr>\n      <th>3</th>\n      <td>01M448</td>\n      <td>1</td>\n      <td>105.687500</td>\n      <td>4.750000</td>\n      <td>22.231250</td>\n      <td>18.250000</td>\n      <td>27.062500</td>\n      <td>NaN</td>\n    </tr>\n    <tr>\n      <th>4</th>\n      <td>01M450</td>\n      <td>1</td>\n      <td>57.600000</td>\n      <td>2.733333</td>\n      <td>21.200000</td>\n      <td>19.400000</td>\n      <td>22.866667</td>\n      <td>NaN</td>\n    </tr>\n    <tr>\n      <th>...</th>\n      <td>...</td>\n      <td>...</td>\n      <td>...</td>\n      <td>...</td>\n      <td>...</td>\n      <td>...</td>\n      <td>...</td>\n      <td>...</td>\n    </tr>\n    <tr>\n      <th>578</th>\n      <td>32K549</td>\n      <td>32</td>\n      <td>71.066667</td>\n      <td>3.266667</td>\n      <td>22.760000</td>\n      <td>19.866667</td>\n      <td>25.866667</td>\n      <td>NaN</td>\n    </tr>\n    <tr>\n      <th>579</th>\n      <td>32K552</td>\n      <td>32</td>\n      <td>102.375000</td>\n      <td>4.312500</td>\n      <td>23.900000</td>\n      <td>19.937500</td>\n      <td>28.000000</td>\n      <td>NaN</td>\n    </tr>\n    <tr>\n      <th>580</th>\n      <td>32K554</td>\n      <td>32</td>\n      <td>66.937500</td>\n      <td>3.812500</td>\n      <td>17.793750</td>\n      <td>14.750000</td>\n      <td>21.625000</td>\n      <td>NaN</td>\n    </tr>\n    <tr>\n      <th>581</th>\n      <td>32K556</td>\n      <td>32</td>\n      <td>132.333333</td>\n      <td>5.400000</td>\n      <td>25.060000</td>\n      <td>18.333333</td>\n      <td>30.000000</td>\n      <td>NaN</td>\n    </tr>\n    <tr>\n      <th>582</th>\n      <td>32K564</td>\n      <td>32</td>\n      <td>136.142857</td>\n      <td>5.428571</td>\n      <td>24.964286</td>\n      <td>20.071429</td>\n      <td>28.571429</td>\n      <td>NaN</td>\n    </tr>\n  </tbody>\n</table>\n<p>583 rows × 8 columns</p>\n</div>"
     },
     "metadata": {},
     "execution_count": 352
    }
   ],
   "source": [
    "data['class_size'] = class_size_tot_avg\n",
    "data['class_size']"
   ]
  },
  {
   "source": [
    "Next in line to condense the data is the demographics dataset."
   ],
   "cell_type": "markdown",
   "metadata": {}
  },
  {
   "cell_type": "code",
   "execution_count": 353,
   "metadata": {},
   "outputs": [
    {
     "output_type": "execute_result",
     "data": {
      "text/plain": [
       "          DBN                                              Name  schoolyear  \\\n",
       "0      01M015                         P.S. 015 ROBERTO CLEMENTE    20052006   \n",
       "1      01M015                         P.S. 015 ROBERTO CLEMENTE    20062007   \n",
       "2      01M015                         P.S. 015 ROBERTO CLEMENTE    20072008   \n",
       "3      01M015                         P.S. 015 ROBERTO CLEMENTE    20082009   \n",
       "4      01M015                         P.S. 015 ROBERTO CLEMENTE    20092010   \n",
       "...       ...                                               ...         ...   \n",
       "10070  32K564                    BUSHWICK COMMUNITY HIGH SCHOOL    20072008   \n",
       "10071  32K564                    BUSHWICK COMMUNITY HIGH SCHOOL    20082009   \n",
       "10072  32K564                    BUSHWICK COMMUNITY HIGH SCHOOL    20092010   \n",
       "10073  32K564                    BUSHWICK COMMUNITY HIGH SCHOOL    20102011   \n",
       "10074  32K564  BUSHWICK COMMUNITY HIGH SCHOOL                      20112012   \n",
       "\n",
       "      fl_percent  frl_percent  total_enrollment  prek     k grade1 grade2  \\\n",
       "0           89.4          NaN               281    15    36     40     33   \n",
       "1           89.4          NaN               243    15    29     39     38   \n",
       "2           89.4          NaN               261    18    43     39     36   \n",
       "3           89.4          NaN               252    17    37     44     32   \n",
       "4                        96.5               208    16    40     28     32   \n",
       "...          ...          ...               ...   ...   ...    ...    ...   \n",
       "10070       85.6          NaN               355   NaN   NaN    NaN    NaN   \n",
       "10071       65.2          NaN               383   NaN   NaN    NaN    NaN   \n",
       "10072                    89.2               395   NaN   NaN    NaN    NaN   \n",
       "10073                    88.2               420   NaN   NaN    NaN    NaN   \n",
       "10074        NaN         81.8               382                             \n",
       "\n",
       "       ... black_num black_per hispanic_num hispanic_per white_num white_per  \\\n",
       "0      ...        74      26.3          189         67.3         5       1.8   \n",
       "1      ...        68      28.0          153         63.0         4       1.6   \n",
       "2      ...        77      29.5          157         60.2         7       2.7   \n",
       "3      ...        75      29.8          149         59.1         7       2.8   \n",
       "4      ...        67      32.2          118         56.7         6       2.9   \n",
       "...    ...       ...       ...          ...          ...       ...       ...   \n",
       "10070  ...       151      42.5          198         55.8         5       1.4   \n",
       "10071  ...       132      34.5          245         64.0         2       0.5   \n",
       "10072  ...       146      37.0          242         61.3         3       0.8   \n",
       "10073  ...       166      39.5          242         57.6         8       1.9   \n",
       "10074  ...       137      35.9          235         61.5         7       1.8   \n",
       "\n",
       "      male_num male_per female_num female_per  \n",
       "0        158.0     56.2      123.0       43.8  \n",
       "1        140.0     57.6      103.0       42.4  \n",
       "2        143.0     54.8      118.0       45.2  \n",
       "3        149.0     59.1      103.0       40.9  \n",
       "4        124.0     59.6       84.0       40.4  \n",
       "...        ...      ...        ...        ...  \n",
       "10070    181.0     51.0      174.0       49.0  \n",
       "10071    206.0     53.8      177.0       46.2  \n",
       "10072    199.0     50.4      196.0       49.6  \n",
       "10073    209.0     49.8      211.0       50.2  \n",
       "10074    169.0     44.2      213.0       55.8  \n",
       "\n",
       "[10075 rows x 38 columns]"
      ],
      "text/html": "<div>\n<style scoped>\n    .dataframe tbody tr th:only-of-type {\n        vertical-align: middle;\n    }\n\n    .dataframe tbody tr th {\n        vertical-align: top;\n    }\n\n    .dataframe thead th {\n        text-align: right;\n    }\n</style>\n<table border=\"1\" class=\"dataframe\">\n  <thead>\n    <tr style=\"text-align: right;\">\n      <th></th>\n      <th>DBN</th>\n      <th>Name</th>\n      <th>schoolyear</th>\n      <th>fl_percent</th>\n      <th>frl_percent</th>\n      <th>total_enrollment</th>\n      <th>prek</th>\n      <th>k</th>\n      <th>grade1</th>\n      <th>grade2</th>\n      <th>...</th>\n      <th>black_num</th>\n      <th>black_per</th>\n      <th>hispanic_num</th>\n      <th>hispanic_per</th>\n      <th>white_num</th>\n      <th>white_per</th>\n      <th>male_num</th>\n      <th>male_per</th>\n      <th>female_num</th>\n      <th>female_per</th>\n    </tr>\n  </thead>\n  <tbody>\n    <tr>\n      <th>0</th>\n      <td>01M015</td>\n      <td>P.S. 015 ROBERTO CLEMENTE</td>\n      <td>20052006</td>\n      <td>89.4</td>\n      <td>NaN</td>\n      <td>281</td>\n      <td>15</td>\n      <td>36</td>\n      <td>40</td>\n      <td>33</td>\n      <td>...</td>\n      <td>74</td>\n      <td>26.3</td>\n      <td>189</td>\n      <td>67.3</td>\n      <td>5</td>\n      <td>1.8</td>\n      <td>158.0</td>\n      <td>56.2</td>\n      <td>123.0</td>\n      <td>43.8</td>\n    </tr>\n    <tr>\n      <th>1</th>\n      <td>01M015</td>\n      <td>P.S. 015 ROBERTO CLEMENTE</td>\n      <td>20062007</td>\n      <td>89.4</td>\n      <td>NaN</td>\n      <td>243</td>\n      <td>15</td>\n      <td>29</td>\n      <td>39</td>\n      <td>38</td>\n      <td>...</td>\n      <td>68</td>\n      <td>28.0</td>\n      <td>153</td>\n      <td>63.0</td>\n      <td>4</td>\n      <td>1.6</td>\n      <td>140.0</td>\n      <td>57.6</td>\n      <td>103.0</td>\n      <td>42.4</td>\n    </tr>\n    <tr>\n      <th>2</th>\n      <td>01M015</td>\n      <td>P.S. 015 ROBERTO CLEMENTE</td>\n      <td>20072008</td>\n      <td>89.4</td>\n      <td>NaN</td>\n      <td>261</td>\n      <td>18</td>\n      <td>43</td>\n      <td>39</td>\n      <td>36</td>\n      <td>...</td>\n      <td>77</td>\n      <td>29.5</td>\n      <td>157</td>\n      <td>60.2</td>\n      <td>7</td>\n      <td>2.7</td>\n      <td>143.0</td>\n      <td>54.8</td>\n      <td>118.0</td>\n      <td>45.2</td>\n    </tr>\n    <tr>\n      <th>3</th>\n      <td>01M015</td>\n      <td>P.S. 015 ROBERTO CLEMENTE</td>\n      <td>20082009</td>\n      <td>89.4</td>\n      <td>NaN</td>\n      <td>252</td>\n      <td>17</td>\n      <td>37</td>\n      <td>44</td>\n      <td>32</td>\n      <td>...</td>\n      <td>75</td>\n      <td>29.8</td>\n      <td>149</td>\n      <td>59.1</td>\n      <td>7</td>\n      <td>2.8</td>\n      <td>149.0</td>\n      <td>59.1</td>\n      <td>103.0</td>\n      <td>40.9</td>\n    </tr>\n    <tr>\n      <th>4</th>\n      <td>01M015</td>\n      <td>P.S. 015 ROBERTO CLEMENTE</td>\n      <td>20092010</td>\n      <td></td>\n      <td>96.5</td>\n      <td>208</td>\n      <td>16</td>\n      <td>40</td>\n      <td>28</td>\n      <td>32</td>\n      <td>...</td>\n      <td>67</td>\n      <td>32.2</td>\n      <td>118</td>\n      <td>56.7</td>\n      <td>6</td>\n      <td>2.9</td>\n      <td>124.0</td>\n      <td>59.6</td>\n      <td>84.0</td>\n      <td>40.4</td>\n    </tr>\n    <tr>\n      <th>...</th>\n      <td>...</td>\n      <td>...</td>\n      <td>...</td>\n      <td>...</td>\n      <td>...</td>\n      <td>...</td>\n      <td>...</td>\n      <td>...</td>\n      <td>...</td>\n      <td>...</td>\n      <td>...</td>\n      <td>...</td>\n      <td>...</td>\n      <td>...</td>\n      <td>...</td>\n      <td>...</td>\n      <td>...</td>\n      <td>...</td>\n      <td>...</td>\n      <td>...</td>\n      <td>...</td>\n    </tr>\n    <tr>\n      <th>10070</th>\n      <td>32K564</td>\n      <td>BUSHWICK COMMUNITY HIGH SCHOOL</td>\n      <td>20072008</td>\n      <td>85.6</td>\n      <td>NaN</td>\n      <td>355</td>\n      <td>NaN</td>\n      <td>NaN</td>\n      <td>NaN</td>\n      <td>NaN</td>\n      <td>...</td>\n      <td>151</td>\n      <td>42.5</td>\n      <td>198</td>\n      <td>55.8</td>\n      <td>5</td>\n      <td>1.4</td>\n      <td>181.0</td>\n      <td>51.0</td>\n      <td>174.0</td>\n      <td>49.0</td>\n    </tr>\n    <tr>\n      <th>10071</th>\n      <td>32K564</td>\n      <td>BUSHWICK COMMUNITY HIGH SCHOOL</td>\n      <td>20082009</td>\n      <td>65.2</td>\n      <td>NaN</td>\n      <td>383</td>\n      <td>NaN</td>\n      <td>NaN</td>\n      <td>NaN</td>\n      <td>NaN</td>\n      <td>...</td>\n      <td>132</td>\n      <td>34.5</td>\n      <td>245</td>\n      <td>64.0</td>\n      <td>2</td>\n      <td>0.5</td>\n      <td>206.0</td>\n      <td>53.8</td>\n      <td>177.0</td>\n      <td>46.2</td>\n    </tr>\n    <tr>\n      <th>10072</th>\n      <td>32K564</td>\n      <td>BUSHWICK COMMUNITY HIGH SCHOOL</td>\n      <td>20092010</td>\n      <td></td>\n      <td>89.2</td>\n      <td>395</td>\n      <td>NaN</td>\n      <td>NaN</td>\n      <td>NaN</td>\n      <td>NaN</td>\n      <td>...</td>\n      <td>146</td>\n      <td>37.0</td>\n      <td>242</td>\n      <td>61.3</td>\n      <td>3</td>\n      <td>0.8</td>\n      <td>199.0</td>\n      <td>50.4</td>\n      <td>196.0</td>\n      <td>49.6</td>\n    </tr>\n    <tr>\n      <th>10073</th>\n      <td>32K564</td>\n      <td>BUSHWICK COMMUNITY HIGH SCHOOL</td>\n      <td>20102011</td>\n      <td></td>\n      <td>88.2</td>\n      <td>420</td>\n      <td>NaN</td>\n      <td>NaN</td>\n      <td>NaN</td>\n      <td>NaN</td>\n      <td>...</td>\n      <td>166</td>\n      <td>39.5</td>\n      <td>242</td>\n      <td>57.6</td>\n      <td>8</td>\n      <td>1.9</td>\n      <td>209.0</td>\n      <td>49.8</td>\n      <td>211.0</td>\n      <td>50.2</td>\n    </tr>\n    <tr>\n      <th>10074</th>\n      <td>32K564</td>\n      <td>BUSHWICK COMMUNITY HIGH SCHOOL</td>\n      <td>20112012</td>\n      <td>NaN</td>\n      <td>81.8</td>\n      <td>382</td>\n      <td></td>\n      <td></td>\n      <td></td>\n      <td></td>\n      <td>...</td>\n      <td>137</td>\n      <td>35.9</td>\n      <td>235</td>\n      <td>61.5</td>\n      <td>7</td>\n      <td>1.8</td>\n      <td>169.0</td>\n      <td>44.2</td>\n      <td>213.0</td>\n      <td>55.8</td>\n    </tr>\n  </tbody>\n</table>\n<p>10075 rows × 38 columns</p>\n</div>"
     },
     "metadata": {},
     "execution_count": 353
    }
   ],
   "source": [
    "demographics = data['demographics']\n",
    "demographics"
   ]
  },
  {
   "source": [
    "In this dataset, the column preventin the 'DBN' from being unique is the schoolyear, I will only keep the most recent data."
   ],
   "cell_type": "markdown",
   "metadata": {}
  },
  {
   "cell_type": "code",
   "execution_count": 354,
   "metadata": {},
   "outputs": [
    {
     "output_type": "execute_result",
     "data": {
      "text/plain": [
       "20112012"
      ]
     },
     "metadata": {},
     "execution_count": 354
    }
   ],
   "source": [
    "# finding most recent year\n",
    "demographics.schoolyear.max()\n"
   ]
  },
  {
   "cell_type": "code",
   "execution_count": 355,
   "metadata": {},
   "outputs": [
    {
     "output_type": "stream",
     "name": "stdout",
     "text": [
      "<class 'pandas.core.frame.DataFrame'>\nRangeIndex: 10075 entries, 0 to 10074\nData columns (total 38 columns):\n #   Column             Non-Null Count  Dtype  \n---  ------             --------------  -----  \n 0   DBN                10075 non-null  object \n 1   Name               10075 non-null  object \n 2   schoolyear         10075 non-null  int64  \n 3   fl_percent         8560 non-null   object \n 4   frl_percent        4482 non-null   float64\n 5   total_enrollment   10075 non-null  int64  \n 6   prek               4712 non-null   object \n 7   k                  5882 non-null   object \n 8   grade1             5881 non-null   object \n 9   grade2             5851 non-null   object \n 10  grade3             5779 non-null   object \n 11  grade4             5741 non-null   object \n 12  grade5             5777 non-null   object \n 13  grade6             4517 non-null   object \n 14  grade7             4203 non-null   object \n 15  grade8             4085 non-null   object \n 16  grade9             3974 non-null   object \n 17  grade10            3846 non-null   object \n 18  grade11            3674 non-null   object \n 19  grade12            3513 non-null   object \n 20  ell_num            9885 non-null   float64\n 21  ell_percent        9963 non-null   float64\n 22  sped_num           9985 non-null   float64\n 23  sped_percent       10075 non-null  float64\n 24  ctt_num            8678 non-null   object \n 25  selfcontained_num  9075 non-null   object \n 26  asian_num          10075 non-null  int64  \n 27  asian_per          10075 non-null  float64\n 28  black_num          10075 non-null  int64  \n 29  black_per          10075 non-null  float64\n 30  hispanic_num       10075 non-null  int64  \n 31  hispanic_per       10075 non-null  float64\n 32  white_num          10075 non-null  int64  \n 33  white_per          10075 non-null  float64\n 34  male_num           10034 non-null  float64\n 35  male_per           10075 non-null  float64\n 36  female_num         10051 non-null  float64\n 37  female_per         10075 non-null  float64\ndtypes: float64(13), int64(6), object(19)\nmemory usage: 2.9+ MB\n"
     ]
    }
   ],
   "source": [
    "demographics.info()"
   ]
  },
  {
   "cell_type": "code",
   "execution_count": 356,
   "metadata": {},
   "outputs": [
    {
     "output_type": "execute_result",
     "data": {
      "text/plain": [
       "          DBN                                              Name  schoolyear  \\\n",
       "6      01M015  P.S. 015 ROBERTO CLEMENTE                           20112012   \n",
       "13     01M019  P.S. 019 ASHER LEVY                                 20112012   \n",
       "20     01M020  PS 020 ANNA SILVER                                  20112012   \n",
       "27     01M034  PS 034 FRANKLIN D ROOSEVELT                         20112012   \n",
       "35     01M063  PS 063 WILLIAM MCKINLEY                             20112012   \n",
       "...       ...                                               ...         ...   \n",
       "10046  32K549  BUSHWICK SCHOOL FOR SOCIAL JUSTICE                  20112012   \n",
       "10053  32K552  ACADEMY OF URBAN PLANNING                           20112012   \n",
       "10060  32K554  ALL CITY LEADERSHIP SECONDARY SCHOOL                20112012   \n",
       "10067  32K556  BUSHWICK LEADERS HIGH SCHOOL FOR ACADEMIC EXCELL    20112012   \n",
       "10074  32K564  BUSHWICK COMMUNITY HIGH SCHOOL                      20112012   \n",
       "\n",
       "      fl_percent  frl_percent  total_enrollment  prek     k grade1 grade2  \\\n",
       "6            NaN         89.4               189    13    31     35     28   \n",
       "13           NaN         61.5               328    32    46     52     54   \n",
       "20           NaN         92.5               626    52   102    121     87   \n",
       "27           NaN         99.7               401    14    34     38     36   \n",
       "35           NaN         78.9               176    18    20     30     21   \n",
       "...          ...          ...               ...   ...   ...    ...    ...   \n",
       "10046        NaN         75.1               434                             \n",
       "10053        NaN         77.1               398                             \n",
       "10060        NaN         81.4               263                             \n",
       "10067        NaN         88.0               462                             \n",
       "10074        NaN         81.8               382                             \n",
       "\n",
       "       ... black_num black_per hispanic_num hispanic_per white_num white_per  \\\n",
       "6      ...        63      33.3          109         57.7         4       2.1   \n",
       "13     ...        81      24.7          158         48.2        28       8.5   \n",
       "20     ...        55       8.8          357         57.0        16       2.6   \n",
       "27     ...        90      22.4          275         68.6         8       2.0   \n",
       "35     ...        41      23.3          110         62.5        15       8.5   \n",
       "...    ...       ...       ...          ...          ...       ...       ...   \n",
       "10046  ...       123      28.3          298         68.7         8       1.8   \n",
       "10053  ...       105      26.4          280         70.4         4       1.0   \n",
       "10060  ...        34      12.9          209         79.5         4       1.5   \n",
       "10067  ...        98      21.2          357         77.3         0       0.0   \n",
       "10074  ...       137      35.9          235         61.5         7       1.8   \n",
       "\n",
       "      male_num male_per female_num female_per  \n",
       "6         97.0     51.3       92.0       48.7  \n",
       "13       147.0     44.8      181.0       55.2  \n",
       "20       330.0     52.7      296.0       47.3  \n",
       "27       204.0     50.9      197.0       49.1  \n",
       "35        97.0     55.1       79.0       44.9  \n",
       "...        ...      ...        ...        ...  \n",
       "10046    210.0     48.4      224.0       51.6  \n",
       "10053    217.0     54.5      181.0       45.5  \n",
       "10060    137.0     52.1      126.0       47.9  \n",
       "10067    246.0     53.2      216.0       46.8  \n",
       "10074    169.0     44.2      213.0       55.8  \n",
       "\n",
       "[1509 rows x 38 columns]"
      ],
      "text/html": "<div>\n<style scoped>\n    .dataframe tbody tr th:only-of-type {\n        vertical-align: middle;\n    }\n\n    .dataframe tbody tr th {\n        vertical-align: top;\n    }\n\n    .dataframe thead th {\n        text-align: right;\n    }\n</style>\n<table border=\"1\" class=\"dataframe\">\n  <thead>\n    <tr style=\"text-align: right;\">\n      <th></th>\n      <th>DBN</th>\n      <th>Name</th>\n      <th>schoolyear</th>\n      <th>fl_percent</th>\n      <th>frl_percent</th>\n      <th>total_enrollment</th>\n      <th>prek</th>\n      <th>k</th>\n      <th>grade1</th>\n      <th>grade2</th>\n      <th>...</th>\n      <th>black_num</th>\n      <th>black_per</th>\n      <th>hispanic_num</th>\n      <th>hispanic_per</th>\n      <th>white_num</th>\n      <th>white_per</th>\n      <th>male_num</th>\n      <th>male_per</th>\n      <th>female_num</th>\n      <th>female_per</th>\n    </tr>\n  </thead>\n  <tbody>\n    <tr>\n      <th>6</th>\n      <td>01M015</td>\n      <td>P.S. 015 ROBERTO CLEMENTE</td>\n      <td>20112012</td>\n      <td>NaN</td>\n      <td>89.4</td>\n      <td>189</td>\n      <td>13</td>\n      <td>31</td>\n      <td>35</td>\n      <td>28</td>\n      <td>...</td>\n      <td>63</td>\n      <td>33.3</td>\n      <td>109</td>\n      <td>57.7</td>\n      <td>4</td>\n      <td>2.1</td>\n      <td>97.0</td>\n      <td>51.3</td>\n      <td>92.0</td>\n      <td>48.7</td>\n    </tr>\n    <tr>\n      <th>13</th>\n      <td>01M019</td>\n      <td>P.S. 019 ASHER LEVY</td>\n      <td>20112012</td>\n      <td>NaN</td>\n      <td>61.5</td>\n      <td>328</td>\n      <td>32</td>\n      <td>46</td>\n      <td>52</td>\n      <td>54</td>\n      <td>...</td>\n      <td>81</td>\n      <td>24.7</td>\n      <td>158</td>\n      <td>48.2</td>\n      <td>28</td>\n      <td>8.5</td>\n      <td>147.0</td>\n      <td>44.8</td>\n      <td>181.0</td>\n      <td>55.2</td>\n    </tr>\n    <tr>\n      <th>20</th>\n      <td>01M020</td>\n      <td>PS 020 ANNA SILVER</td>\n      <td>20112012</td>\n      <td>NaN</td>\n      <td>92.5</td>\n      <td>626</td>\n      <td>52</td>\n      <td>102</td>\n      <td>121</td>\n      <td>87</td>\n      <td>...</td>\n      <td>55</td>\n      <td>8.8</td>\n      <td>357</td>\n      <td>57.0</td>\n      <td>16</td>\n      <td>2.6</td>\n      <td>330.0</td>\n      <td>52.7</td>\n      <td>296.0</td>\n      <td>47.3</td>\n    </tr>\n    <tr>\n      <th>27</th>\n      <td>01M034</td>\n      <td>PS 034 FRANKLIN D ROOSEVELT</td>\n      <td>20112012</td>\n      <td>NaN</td>\n      <td>99.7</td>\n      <td>401</td>\n      <td>14</td>\n      <td>34</td>\n      <td>38</td>\n      <td>36</td>\n      <td>...</td>\n      <td>90</td>\n      <td>22.4</td>\n      <td>275</td>\n      <td>68.6</td>\n      <td>8</td>\n      <td>2.0</td>\n      <td>204.0</td>\n      <td>50.9</td>\n      <td>197.0</td>\n      <td>49.1</td>\n    </tr>\n    <tr>\n      <th>35</th>\n      <td>01M063</td>\n      <td>PS 063 WILLIAM MCKINLEY</td>\n      <td>20112012</td>\n      <td>NaN</td>\n      <td>78.9</td>\n      <td>176</td>\n      <td>18</td>\n      <td>20</td>\n      <td>30</td>\n      <td>21</td>\n      <td>...</td>\n      <td>41</td>\n      <td>23.3</td>\n      <td>110</td>\n      <td>62.5</td>\n      <td>15</td>\n      <td>8.5</td>\n      <td>97.0</td>\n      <td>55.1</td>\n      <td>79.0</td>\n      <td>44.9</td>\n    </tr>\n    <tr>\n      <th>...</th>\n      <td>...</td>\n      <td>...</td>\n      <td>...</td>\n      <td>...</td>\n      <td>...</td>\n      <td>...</td>\n      <td>...</td>\n      <td>...</td>\n      <td>...</td>\n      <td>...</td>\n      <td>...</td>\n      <td>...</td>\n      <td>...</td>\n      <td>...</td>\n      <td>...</td>\n      <td>...</td>\n      <td>...</td>\n      <td>...</td>\n      <td>...</td>\n      <td>...</td>\n      <td>...</td>\n    </tr>\n    <tr>\n      <th>10046</th>\n      <td>32K549</td>\n      <td>BUSHWICK SCHOOL FOR SOCIAL JUSTICE</td>\n      <td>20112012</td>\n      <td>NaN</td>\n      <td>75.1</td>\n      <td>434</td>\n      <td></td>\n      <td></td>\n      <td></td>\n      <td></td>\n      <td>...</td>\n      <td>123</td>\n      <td>28.3</td>\n      <td>298</td>\n      <td>68.7</td>\n      <td>8</td>\n      <td>1.8</td>\n      <td>210.0</td>\n      <td>48.4</td>\n      <td>224.0</td>\n      <td>51.6</td>\n    </tr>\n    <tr>\n      <th>10053</th>\n      <td>32K552</td>\n      <td>ACADEMY OF URBAN PLANNING</td>\n      <td>20112012</td>\n      <td>NaN</td>\n      <td>77.1</td>\n      <td>398</td>\n      <td></td>\n      <td></td>\n      <td></td>\n      <td></td>\n      <td>...</td>\n      <td>105</td>\n      <td>26.4</td>\n      <td>280</td>\n      <td>70.4</td>\n      <td>4</td>\n      <td>1.0</td>\n      <td>217.0</td>\n      <td>54.5</td>\n      <td>181.0</td>\n      <td>45.5</td>\n    </tr>\n    <tr>\n      <th>10060</th>\n      <td>32K554</td>\n      <td>ALL CITY LEADERSHIP SECONDARY SCHOOL</td>\n      <td>20112012</td>\n      <td>NaN</td>\n      <td>81.4</td>\n      <td>263</td>\n      <td></td>\n      <td></td>\n      <td></td>\n      <td></td>\n      <td>...</td>\n      <td>34</td>\n      <td>12.9</td>\n      <td>209</td>\n      <td>79.5</td>\n      <td>4</td>\n      <td>1.5</td>\n      <td>137.0</td>\n      <td>52.1</td>\n      <td>126.0</td>\n      <td>47.9</td>\n    </tr>\n    <tr>\n      <th>10067</th>\n      <td>32K556</td>\n      <td>BUSHWICK LEADERS HIGH SCHOOL FOR ACADEMIC EXCELL</td>\n      <td>20112012</td>\n      <td>NaN</td>\n      <td>88.0</td>\n      <td>462</td>\n      <td></td>\n      <td></td>\n      <td></td>\n      <td></td>\n      <td>...</td>\n      <td>98</td>\n      <td>21.2</td>\n      <td>357</td>\n      <td>77.3</td>\n      <td>0</td>\n      <td>0.0</td>\n      <td>246.0</td>\n      <td>53.2</td>\n      <td>216.0</td>\n      <td>46.8</td>\n    </tr>\n    <tr>\n      <th>10074</th>\n      <td>32K564</td>\n      <td>BUSHWICK COMMUNITY HIGH SCHOOL</td>\n      <td>20112012</td>\n      <td>NaN</td>\n      <td>81.8</td>\n      <td>382</td>\n      <td></td>\n      <td></td>\n      <td></td>\n      <td></td>\n      <td>...</td>\n      <td>137</td>\n      <td>35.9</td>\n      <td>235</td>\n      <td>61.5</td>\n      <td>7</td>\n      <td>1.8</td>\n      <td>169.0</td>\n      <td>44.2</td>\n      <td>213.0</td>\n      <td>55.8</td>\n    </tr>\n  </tbody>\n</table>\n<p>1509 rows × 38 columns</p>\n</div>"
     },
     "metadata": {},
     "execution_count": 356
    }
   ],
   "source": [
    "# filtering demographics\n",
    "data['demographics'] = demographics.loc[demographics.schoolyear == 20112012]\n",
    "data['demographics']"
   ]
  },
  {
   "source": [
    "Last but not least, I will condense the graduation data set."
   ],
   "cell_type": "markdown",
   "metadata": {}
  },
  {
   "cell_type": "code",
   "execution_count": 357,
   "metadata": {},
   "outputs": [
    {
     "output_type": "execute_result",
     "data": {
      "text/plain": [
       "        Demographic     DBN                            School Name    Cohort  \\\n",
       "0      Total Cohort  01M292  HENRY STREET SCHOOL FOR INTERNATIONAL      2003   \n",
       "1      Total Cohort  01M292  HENRY STREET SCHOOL FOR INTERNATIONAL      2004   \n",
       "2      Total Cohort  01M292  HENRY STREET SCHOOL FOR INTERNATIONAL      2005   \n",
       "3      Total Cohort  01M292  HENRY STREET SCHOOL FOR INTERNATIONAL      2006   \n",
       "4      Total Cohort  01M292  HENRY STREET SCHOOL FOR INTERNATIONAL  2006 Aug   \n",
       "...             ...     ...                                    ...       ...   \n",
       "25091          Male  32K564         BUSHWICK COMMUNITY HIGH SCHOOL      2003   \n",
       "25092          Male  32K564         BUSHWICK COMMUNITY HIGH SCHOOL      2004   \n",
       "25093          Male  32K564         BUSHWICK COMMUNITY HIGH SCHOOL      2005   \n",
       "25094          Male  32K564         BUSHWICK COMMUNITY HIGH SCHOOL      2006   \n",
       "25095          Male  32K564         BUSHWICK COMMUNITY HIGH SCHOOL  2006 Aug   \n",
       "\n",
       "       Total Cohort Total Grads - n  Total Grads - % of cohort  \\\n",
       "0                 5               s                        NaN   \n",
       "1                55              37                       67.3   \n",
       "2                64              43                       67.2   \n",
       "3                78              43                       55.1   \n",
       "4                78              44                       56.4   \n",
       "...             ...             ...                        ...   \n",
       "25091            65               1                        1.5   \n",
       "25092            64               2                        3.1   \n",
       "25093            79               3                        3.8   \n",
       "25094            57               4                        7.0   \n",
       "25095            57               4                        7.0   \n",
       "\n",
       "      Total Regents - n  Total Regents - % of cohort  \\\n",
       "0                     s                          NaN   \n",
       "1                    17                         30.9   \n",
       "2                    27                         42.2   \n",
       "3                    36                         46.2   \n",
       "4                    37                         47.4   \n",
       "...                 ...                          ...   \n",
       "25091                 0                          0.0   \n",
       "25092                 0                          0.0   \n",
       "25093                 1                          1.3   \n",
       "25094                 2                          3.5   \n",
       "25095                 2                          3.5   \n",
       "\n",
       "       Total Regents - % of grads  ... Regents w/o Advanced - n  \\\n",
       "0                             NaN  ...                        s   \n",
       "1                            45.9  ...                       17   \n",
       "2                            62.8  ...                       27   \n",
       "3                            83.7  ...                       36   \n",
       "4                            84.1  ...                       37   \n",
       "...                           ...  ...                      ...   \n",
       "25091                         0.0  ...                        0   \n",
       "25092                         0.0  ...                        0   \n",
       "25093                        33.3  ...                        1   \n",
       "25094                        50.0  ...                        2   \n",
       "25095                        50.0  ...                        2   \n",
       "\n",
       "       Regents w/o Advanced - % of cohort  Regents w/o Advanced - % of grads  \\\n",
       "0                                     NaN                                NaN   \n",
       "1                                    30.9                               45.9   \n",
       "2                                    42.2                               62.8   \n",
       "3                                    46.2                               83.7   \n",
       "4                                    47.4                               84.1   \n",
       "...                                   ...                                ...   \n",
       "25091                                 0.0                                0.0   \n",
       "25092                                 0.0                                0.0   \n",
       "25093                                 1.3                               33.3   \n",
       "25094                                 3.5                               50.0   \n",
       "25095                                 3.5                               50.0   \n",
       "\n",
       "      Local - n  Local - % of cohort  Local - % of grads Still Enrolled - n  \\\n",
       "0             s                  NaN                 NaN                  s   \n",
       "1            20                 36.4                54.1                 15   \n",
       "2            16                 25.0                37.2                  9   \n",
       "3             7                  9.0                16.3                 16   \n",
       "4             7                  9.0                15.9                 15   \n",
       "...         ...                  ...                 ...                ...   \n",
       "25091         1                  1.5               100.0               44.0   \n",
       "25092         2                  3.1               100.0               38.0   \n",
       "25093         2                  2.5                66.7               46.0   \n",
       "25094         2                  3.5                50.0               34.0   \n",
       "25095         2                  3.5                50.0               34.0   \n",
       "\n",
       "       Still Enrolled - % of cohort  Dropped Out - n Dropped Out - % of cohort  \n",
       "0                               NaN                s                       NaN  \n",
       "1                              27.3                3                       5.5  \n",
       "2                              14.1                9                      14.1  \n",
       "3                              20.5               11                      14.1  \n",
       "4                              19.2               11                      14.1  \n",
       "...                             ...              ...                       ...  \n",
       "25091                          67.7             20.0                      30.8  \n",
       "25092                          59.4             22.0                      34.4  \n",
       "25093                          58.2             28.0                      35.4  \n",
       "25094                          59.6             17.0                      29.8  \n",
       "25095                          59.6             17.0                      29.8  \n",
       "\n",
       "[25096 rows x 23 columns]"
      ],
      "text/html": "<div>\n<style scoped>\n    .dataframe tbody tr th:only-of-type {\n        vertical-align: middle;\n    }\n\n    .dataframe tbody tr th {\n        vertical-align: top;\n    }\n\n    .dataframe thead th {\n        text-align: right;\n    }\n</style>\n<table border=\"1\" class=\"dataframe\">\n  <thead>\n    <tr style=\"text-align: right;\">\n      <th></th>\n      <th>Demographic</th>\n      <th>DBN</th>\n      <th>School Name</th>\n      <th>Cohort</th>\n      <th>Total Cohort</th>\n      <th>Total Grads - n</th>\n      <th>Total Grads - % of cohort</th>\n      <th>Total Regents - n</th>\n      <th>Total Regents - % of cohort</th>\n      <th>Total Regents - % of grads</th>\n      <th>...</th>\n      <th>Regents w/o Advanced - n</th>\n      <th>Regents w/o Advanced - % of cohort</th>\n      <th>Regents w/o Advanced - % of grads</th>\n      <th>Local - n</th>\n      <th>Local - % of cohort</th>\n      <th>Local - % of grads</th>\n      <th>Still Enrolled - n</th>\n      <th>Still Enrolled - % of cohort</th>\n      <th>Dropped Out - n</th>\n      <th>Dropped Out - % of cohort</th>\n    </tr>\n  </thead>\n  <tbody>\n    <tr>\n      <th>0</th>\n      <td>Total Cohort</td>\n      <td>01M292</td>\n      <td>HENRY STREET SCHOOL FOR INTERNATIONAL</td>\n      <td>2003</td>\n      <td>5</td>\n      <td>s</td>\n      <td>NaN</td>\n      <td>s</td>\n      <td>NaN</td>\n      <td>NaN</td>\n      <td>...</td>\n      <td>s</td>\n      <td>NaN</td>\n      <td>NaN</td>\n      <td>s</td>\n      <td>NaN</td>\n      <td>NaN</td>\n      <td>s</td>\n      <td>NaN</td>\n      <td>s</td>\n      <td>NaN</td>\n    </tr>\n    <tr>\n      <th>1</th>\n      <td>Total Cohort</td>\n      <td>01M292</td>\n      <td>HENRY STREET SCHOOL FOR INTERNATIONAL</td>\n      <td>2004</td>\n      <td>55</td>\n      <td>37</td>\n      <td>67.3</td>\n      <td>17</td>\n      <td>30.9</td>\n      <td>45.9</td>\n      <td>...</td>\n      <td>17</td>\n      <td>30.9</td>\n      <td>45.9</td>\n      <td>20</td>\n      <td>36.4</td>\n      <td>54.1</td>\n      <td>15</td>\n      <td>27.3</td>\n      <td>3</td>\n      <td>5.5</td>\n    </tr>\n    <tr>\n      <th>2</th>\n      <td>Total Cohort</td>\n      <td>01M292</td>\n      <td>HENRY STREET SCHOOL FOR INTERNATIONAL</td>\n      <td>2005</td>\n      <td>64</td>\n      <td>43</td>\n      <td>67.2</td>\n      <td>27</td>\n      <td>42.2</td>\n      <td>62.8</td>\n      <td>...</td>\n      <td>27</td>\n      <td>42.2</td>\n      <td>62.8</td>\n      <td>16</td>\n      <td>25.0</td>\n      <td>37.2</td>\n      <td>9</td>\n      <td>14.1</td>\n      <td>9</td>\n      <td>14.1</td>\n    </tr>\n    <tr>\n      <th>3</th>\n      <td>Total Cohort</td>\n      <td>01M292</td>\n      <td>HENRY STREET SCHOOL FOR INTERNATIONAL</td>\n      <td>2006</td>\n      <td>78</td>\n      <td>43</td>\n      <td>55.1</td>\n      <td>36</td>\n      <td>46.2</td>\n      <td>83.7</td>\n      <td>...</td>\n      <td>36</td>\n      <td>46.2</td>\n      <td>83.7</td>\n      <td>7</td>\n      <td>9.0</td>\n      <td>16.3</td>\n      <td>16</td>\n      <td>20.5</td>\n      <td>11</td>\n      <td>14.1</td>\n    </tr>\n    <tr>\n      <th>4</th>\n      <td>Total Cohort</td>\n      <td>01M292</td>\n      <td>HENRY STREET SCHOOL FOR INTERNATIONAL</td>\n      <td>2006 Aug</td>\n      <td>78</td>\n      <td>44</td>\n      <td>56.4</td>\n      <td>37</td>\n      <td>47.4</td>\n      <td>84.1</td>\n      <td>...</td>\n      <td>37</td>\n      <td>47.4</td>\n      <td>84.1</td>\n      <td>7</td>\n      <td>9.0</td>\n      <td>15.9</td>\n      <td>15</td>\n      <td>19.2</td>\n      <td>11</td>\n      <td>14.1</td>\n    </tr>\n    <tr>\n      <th>...</th>\n      <td>...</td>\n      <td>...</td>\n      <td>...</td>\n      <td>...</td>\n      <td>...</td>\n      <td>...</td>\n      <td>...</td>\n      <td>...</td>\n      <td>...</td>\n      <td>...</td>\n      <td>...</td>\n      <td>...</td>\n      <td>...</td>\n      <td>...</td>\n      <td>...</td>\n      <td>...</td>\n      <td>...</td>\n      <td>...</td>\n      <td>...</td>\n      <td>...</td>\n      <td>...</td>\n    </tr>\n    <tr>\n      <th>25091</th>\n      <td>Male</td>\n      <td>32K564</td>\n      <td>BUSHWICK COMMUNITY HIGH SCHOOL</td>\n      <td>2003</td>\n      <td>65</td>\n      <td>1</td>\n      <td>1.5</td>\n      <td>0</td>\n      <td>0.0</td>\n      <td>0.0</td>\n      <td>...</td>\n      <td>0</td>\n      <td>0.0</td>\n      <td>0.0</td>\n      <td>1</td>\n      <td>1.5</td>\n      <td>100.0</td>\n      <td>44.0</td>\n      <td>67.7</td>\n      <td>20.0</td>\n      <td>30.8</td>\n    </tr>\n    <tr>\n      <th>25092</th>\n      <td>Male</td>\n      <td>32K564</td>\n      <td>BUSHWICK COMMUNITY HIGH SCHOOL</td>\n      <td>2004</td>\n      <td>64</td>\n      <td>2</td>\n      <td>3.1</td>\n      <td>0</td>\n      <td>0.0</td>\n      <td>0.0</td>\n      <td>...</td>\n      <td>0</td>\n      <td>0.0</td>\n      <td>0.0</td>\n      <td>2</td>\n      <td>3.1</td>\n      <td>100.0</td>\n      <td>38.0</td>\n      <td>59.4</td>\n      <td>22.0</td>\n      <td>34.4</td>\n    </tr>\n    <tr>\n      <th>25093</th>\n      <td>Male</td>\n      <td>32K564</td>\n      <td>BUSHWICK COMMUNITY HIGH SCHOOL</td>\n      <td>2005</td>\n      <td>79</td>\n      <td>3</td>\n      <td>3.8</td>\n      <td>1</td>\n      <td>1.3</td>\n      <td>33.3</td>\n      <td>...</td>\n      <td>1</td>\n      <td>1.3</td>\n      <td>33.3</td>\n      <td>2</td>\n      <td>2.5</td>\n      <td>66.7</td>\n      <td>46.0</td>\n      <td>58.2</td>\n      <td>28.0</td>\n      <td>35.4</td>\n    </tr>\n    <tr>\n      <th>25094</th>\n      <td>Male</td>\n      <td>32K564</td>\n      <td>BUSHWICK COMMUNITY HIGH SCHOOL</td>\n      <td>2006</td>\n      <td>57</td>\n      <td>4</td>\n      <td>7.0</td>\n      <td>2</td>\n      <td>3.5</td>\n      <td>50.0</td>\n      <td>...</td>\n      <td>2</td>\n      <td>3.5</td>\n      <td>50.0</td>\n      <td>2</td>\n      <td>3.5</td>\n      <td>50.0</td>\n      <td>34.0</td>\n      <td>59.6</td>\n      <td>17.0</td>\n      <td>29.8</td>\n    </tr>\n    <tr>\n      <th>25095</th>\n      <td>Male</td>\n      <td>32K564</td>\n      <td>BUSHWICK COMMUNITY HIGH SCHOOL</td>\n      <td>2006 Aug</td>\n      <td>57</td>\n      <td>4</td>\n      <td>7.0</td>\n      <td>2</td>\n      <td>3.5</td>\n      <td>50.0</td>\n      <td>...</td>\n      <td>2</td>\n      <td>3.5</td>\n      <td>50.0</td>\n      <td>2</td>\n      <td>3.5</td>\n      <td>50.0</td>\n      <td>34.0</td>\n      <td>59.6</td>\n      <td>17.0</td>\n      <td>29.8</td>\n    </tr>\n  </tbody>\n</table>\n<p>25096 rows × 23 columns</p>\n</div>"
     },
     "metadata": {},
     "execution_count": 357
    }
   ],
   "source": [
    "graduation = data['graduation']\n",
    "graduation"
   ]
  },
  {
   "cell_type": "code",
   "execution_count": 358,
   "metadata": {},
   "outputs": [
    {
     "output_type": "stream",
     "name": "stdout",
     "text": [
      "<class 'pandas.core.frame.DataFrame'>\nRangeIndex: 25096 entries, 0 to 25095\nData columns (total 23 columns):\n #   Column                              Non-Null Count  Dtype  \n---  ------                              --------------  -----  \n 0   Demographic                         25096 non-null  object \n 1   DBN                                 25096 non-null  object \n 2   School Name                         25096 non-null  object \n 3   Cohort                              25096 non-null  object \n 4   Total Cohort                        25096 non-null  int64  \n 5   Total Grads - n                     25096 non-null  object \n 6   Total Grads - % of cohort           16704 non-null  float64\n 7   Total Regents - n                   25096 non-null  object \n 8   Total Regents - % of cohort         16704 non-null  float64\n 9   Total Regents - % of grads          16652 non-null  float64\n 10  Advanced Regents - n                25096 non-null  object \n 11  Advanced Regents - % of cohort      16704 non-null  float64\n 12  Advanced Regents - % of grads       16652 non-null  float64\n 13  Regents w/o Advanced - n            25096 non-null  object \n 14  Regents w/o Advanced - % of cohort  16704 non-null  float64\n 15  Regents w/o Advanced - % of grads   16652 non-null  float64\n 16  Local - n                           25096 non-null  object \n 17  Local - % of cohort                 16704 non-null  float64\n 18  Local - % of grads                  16652 non-null  float64\n 19  Still Enrolled - n                  25096 non-null  object \n 20  Still Enrolled - % of cohort        16704 non-null  float64\n 21  Dropped Out - n                     25096 non-null  object \n 22  Dropped Out - % of cohort           16704 non-null  float64\ndtypes: float64(11), int64(1), object(11)\nmemory usage: 4.4+ MB\n"
     ]
    }
   ],
   "source": [
    "graduation.info()"
   ]
  },
  {
   "source": [
    "Demographic and Cohort are causing duplicates in DBN. I will keep only the most recent cohort and only rows where demographics is 'Total Cohort'. "
   ],
   "cell_type": "markdown",
   "metadata": {}
  },
  {
   "cell_type": "code",
   "execution_count": 359,
   "metadata": {},
   "outputs": [
    {
     "output_type": "execute_result",
     "data": {
      "text/plain": [
       "array(['2003', '2004', '2005', '2006', '2006 Aug', '2001', '2002'],\n",
       "      dtype=object)"
      ]
     },
     "metadata": {},
     "execution_count": 359
    }
   ],
   "source": [
    "# filter demographics by Cohort\n",
    "graduation.Cohort.unique()"
   ]
  },
  {
   "cell_type": "code",
   "execution_count": 360,
   "metadata": {},
   "outputs": [],
   "source": [
    "graduation = graduation.loc[graduation.Cohort == '2006']"
   ]
  },
  {
   "cell_type": "code",
   "execution_count": 361,
   "metadata": {},
   "outputs": [
    {
     "output_type": "execute_result",
     "data": {
      "text/plain": [
       "        Demographic     DBN                            School Name Cohort  \\\n",
       "3      Total Cohort  01M292  HENRY STREET SCHOOL FOR INTERNATIONAL   2006   \n",
       "10     Total Cohort  01M448    UNIVERSITY NEIGHBORHOOD HIGH SCHOOL   2006   \n",
       "17     Total Cohort  01M450             EAST SIDE COMMUNITY SCHOOL   2006   \n",
       "24     Total Cohort  01M509                MARTA VALLE HIGH SCHOOL   2006   \n",
       "31     Total Cohort  01M515  LOWER EAST SIDE PREPARATORY HIGH SCHO   2006   \n",
       "...             ...     ...                                    ...    ...   \n",
       "25069          Male  32K549     BUSHWICK SCHOOL FOR SOCIAL JUSTICE   2006   \n",
       "25075          Male  32K552              ACADEMY OF URBAN PLANNING   2006   \n",
       "25081          Male  32K554   ALL CITY LEADERSHIP SECONDARY SCHOOL   2006   \n",
       "25087          Male  32K556  BUSHWICK LEADERS HIGH SCHOOL FOR ACAD   2006   \n",
       "25094          Male  32K564         BUSHWICK COMMUNITY HIGH SCHOOL   2006   \n",
       "\n",
       "       Total Cohort Total Grads - n  Total Grads - % of cohort  \\\n",
       "3                78              43                       55.1   \n",
       "10              124              53                       42.7   \n",
       "17               90              70                       77.8   \n",
       "24               84              47                       56.0   \n",
       "31              193             105                       54.4   \n",
       "...             ...             ...                        ...   \n",
       "25069            45              32                       71.1   \n",
       "25075            50              21                       42.0   \n",
       "25081            24              21                       87.5   \n",
       "25087            51              25                       49.0   \n",
       "25094            57               4                        7.0   \n",
       "\n",
       "      Total Regents - n  Total Regents - % of cohort  \\\n",
       "3                    36                         46.2   \n",
       "10                   42                         33.9   \n",
       "17                   67                         74.4   \n",
       "24                   40                         47.6   \n",
       "31                   91                         47.2   \n",
       "...                 ...                          ...   \n",
       "25069                25                         55.6   \n",
       "25075                19                         38.0   \n",
       "25081                14                         58.3   \n",
       "25087                 8                         15.7   \n",
       "25094                 2                          3.5   \n",
       "\n",
       "       Total Regents - % of grads  ... Regents w/o Advanced - n  \\\n",
       "3                            83.7  ...                       36   \n",
       "10                           79.2  ...                       34   \n",
       "17                           95.7  ...                       67   \n",
       "24                           85.1  ...                       23   \n",
       "31                           86.7  ...                       22   \n",
       "...                           ...  ...                      ...   \n",
       "25069                        78.1  ...                       22   \n",
       "25075                        90.5  ...                       19   \n",
       "25081                        66.7  ...                       11   \n",
       "25087                        32.0  ...                        7   \n",
       "25094                        50.0  ...                        2   \n",
       "\n",
       "       Regents w/o Advanced - % of cohort  Regents w/o Advanced - % of grads  \\\n",
       "3                                    46.2                               83.7   \n",
       "10                                   27.4                               64.2   \n",
       "17                                   74.4                               95.7   \n",
       "24                                   27.4                               48.9   \n",
       "31                                   11.4                               21.0   \n",
       "...                                   ...                                ...   \n",
       "25069                                48.9                               68.8   \n",
       "25075                                38.0                               90.5   \n",
       "25081                                45.8                               52.4   \n",
       "25087                                13.7                               28.0   \n",
       "25094                                 3.5                               50.0   \n",
       "\n",
       "      Local - n  Local - % of cohort  Local - % of grads Still Enrolled - n  \\\n",
       "3             7                  9.0                16.3                 16   \n",
       "10           11                  8.9                20.8                 46   \n",
       "17            3                  3.3                 4.3                 15   \n",
       "24            7                  8.3                14.9                 25   \n",
       "31           14                  7.3                13.3                 53   \n",
       "...         ...                  ...                 ...                ...   \n",
       "25069         7                 15.6                21.9                8.0   \n",
       "25075         2                  4.0                 9.5               24.0   \n",
       "25081         7                 29.2                33.3                2.0   \n",
       "25087        17                 33.3                68.0               12.0   \n",
       "25094         2                  3.5                50.0               34.0   \n",
       "\n",
       "       Still Enrolled - % of cohort  Dropped Out - n Dropped Out - % of cohort  \n",
       "3                              20.5               11                      14.1  \n",
       "10                             37.1               20                      16.1  \n",
       "17                             16.7                5                       5.6  \n",
       "24                             29.8                5                       6.0  \n",
       "31                             27.5               35                      18.1  \n",
       "...                             ...              ...                       ...  \n",
       "25069                          17.8              5.0                      11.1  \n",
       "25075                          48.0              2.0                       4.0  \n",
       "25081                           8.3              1.0                       4.2  \n",
       "25087                          23.5             12.0                      23.5  \n",
       "25094                          59.6             17.0                      29.8  \n",
       "\n",
       "[4130 rows x 23 columns]"
      ],
      "text/html": "<div>\n<style scoped>\n    .dataframe tbody tr th:only-of-type {\n        vertical-align: middle;\n    }\n\n    .dataframe tbody tr th {\n        vertical-align: top;\n    }\n\n    .dataframe thead th {\n        text-align: right;\n    }\n</style>\n<table border=\"1\" class=\"dataframe\">\n  <thead>\n    <tr style=\"text-align: right;\">\n      <th></th>\n      <th>Demographic</th>\n      <th>DBN</th>\n      <th>School Name</th>\n      <th>Cohort</th>\n      <th>Total Cohort</th>\n      <th>Total Grads - n</th>\n      <th>Total Grads - % of cohort</th>\n      <th>Total Regents - n</th>\n      <th>Total Regents - % of cohort</th>\n      <th>Total Regents - % of grads</th>\n      <th>...</th>\n      <th>Regents w/o Advanced - n</th>\n      <th>Regents w/o Advanced - % of cohort</th>\n      <th>Regents w/o Advanced - % of grads</th>\n      <th>Local - n</th>\n      <th>Local - % of cohort</th>\n      <th>Local - % of grads</th>\n      <th>Still Enrolled - n</th>\n      <th>Still Enrolled - % of cohort</th>\n      <th>Dropped Out - n</th>\n      <th>Dropped Out - % of cohort</th>\n    </tr>\n  </thead>\n  <tbody>\n    <tr>\n      <th>3</th>\n      <td>Total Cohort</td>\n      <td>01M292</td>\n      <td>HENRY STREET SCHOOL FOR INTERNATIONAL</td>\n      <td>2006</td>\n      <td>78</td>\n      <td>43</td>\n      <td>55.1</td>\n      <td>36</td>\n      <td>46.2</td>\n      <td>83.7</td>\n      <td>...</td>\n      <td>36</td>\n      <td>46.2</td>\n      <td>83.7</td>\n      <td>7</td>\n      <td>9.0</td>\n      <td>16.3</td>\n      <td>16</td>\n      <td>20.5</td>\n      <td>11</td>\n      <td>14.1</td>\n    </tr>\n    <tr>\n      <th>10</th>\n      <td>Total Cohort</td>\n      <td>01M448</td>\n      <td>UNIVERSITY NEIGHBORHOOD HIGH SCHOOL</td>\n      <td>2006</td>\n      <td>124</td>\n      <td>53</td>\n      <td>42.7</td>\n      <td>42</td>\n      <td>33.9</td>\n      <td>79.2</td>\n      <td>...</td>\n      <td>34</td>\n      <td>27.4</td>\n      <td>64.2</td>\n      <td>11</td>\n      <td>8.9</td>\n      <td>20.8</td>\n      <td>46</td>\n      <td>37.1</td>\n      <td>20</td>\n      <td>16.1</td>\n    </tr>\n    <tr>\n      <th>17</th>\n      <td>Total Cohort</td>\n      <td>01M450</td>\n      <td>EAST SIDE COMMUNITY SCHOOL</td>\n      <td>2006</td>\n      <td>90</td>\n      <td>70</td>\n      <td>77.8</td>\n      <td>67</td>\n      <td>74.4</td>\n      <td>95.7</td>\n      <td>...</td>\n      <td>67</td>\n      <td>74.4</td>\n      <td>95.7</td>\n      <td>3</td>\n      <td>3.3</td>\n      <td>4.3</td>\n      <td>15</td>\n      <td>16.7</td>\n      <td>5</td>\n      <td>5.6</td>\n    </tr>\n    <tr>\n      <th>24</th>\n      <td>Total Cohort</td>\n      <td>01M509</td>\n      <td>MARTA VALLE HIGH SCHOOL</td>\n      <td>2006</td>\n      <td>84</td>\n      <td>47</td>\n      <td>56.0</td>\n      <td>40</td>\n      <td>47.6</td>\n      <td>85.1</td>\n      <td>...</td>\n      <td>23</td>\n      <td>27.4</td>\n      <td>48.9</td>\n      <td>7</td>\n      <td>8.3</td>\n      <td>14.9</td>\n      <td>25</td>\n      <td>29.8</td>\n      <td>5</td>\n      <td>6.0</td>\n    </tr>\n    <tr>\n      <th>31</th>\n      <td>Total Cohort</td>\n      <td>01M515</td>\n      <td>LOWER EAST SIDE PREPARATORY HIGH SCHO</td>\n      <td>2006</td>\n      <td>193</td>\n      <td>105</td>\n      <td>54.4</td>\n      <td>91</td>\n      <td>47.2</td>\n      <td>86.7</td>\n      <td>...</td>\n      <td>22</td>\n      <td>11.4</td>\n      <td>21.0</td>\n      <td>14</td>\n      <td>7.3</td>\n      <td>13.3</td>\n      <td>53</td>\n      <td>27.5</td>\n      <td>35</td>\n      <td>18.1</td>\n    </tr>\n    <tr>\n      <th>...</th>\n      <td>...</td>\n      <td>...</td>\n      <td>...</td>\n      <td>...</td>\n      <td>...</td>\n      <td>...</td>\n      <td>...</td>\n      <td>...</td>\n      <td>...</td>\n      <td>...</td>\n      <td>...</td>\n      <td>...</td>\n      <td>...</td>\n      <td>...</td>\n      <td>...</td>\n      <td>...</td>\n      <td>...</td>\n      <td>...</td>\n      <td>...</td>\n      <td>...</td>\n      <td>...</td>\n    </tr>\n    <tr>\n      <th>25069</th>\n      <td>Male</td>\n      <td>32K549</td>\n      <td>BUSHWICK SCHOOL FOR SOCIAL JUSTICE</td>\n      <td>2006</td>\n      <td>45</td>\n      <td>32</td>\n      <td>71.1</td>\n      <td>25</td>\n      <td>55.6</td>\n      <td>78.1</td>\n      <td>...</td>\n      <td>22</td>\n      <td>48.9</td>\n      <td>68.8</td>\n      <td>7</td>\n      <td>15.6</td>\n      <td>21.9</td>\n      <td>8.0</td>\n      <td>17.8</td>\n      <td>5.0</td>\n      <td>11.1</td>\n    </tr>\n    <tr>\n      <th>25075</th>\n      <td>Male</td>\n      <td>32K552</td>\n      <td>ACADEMY OF URBAN PLANNING</td>\n      <td>2006</td>\n      <td>50</td>\n      <td>21</td>\n      <td>42.0</td>\n      <td>19</td>\n      <td>38.0</td>\n      <td>90.5</td>\n      <td>...</td>\n      <td>19</td>\n      <td>38.0</td>\n      <td>90.5</td>\n      <td>2</td>\n      <td>4.0</td>\n      <td>9.5</td>\n      <td>24.0</td>\n      <td>48.0</td>\n      <td>2.0</td>\n      <td>4.0</td>\n    </tr>\n    <tr>\n      <th>25081</th>\n      <td>Male</td>\n      <td>32K554</td>\n      <td>ALL CITY LEADERSHIP SECONDARY SCHOOL</td>\n      <td>2006</td>\n      <td>24</td>\n      <td>21</td>\n      <td>87.5</td>\n      <td>14</td>\n      <td>58.3</td>\n      <td>66.7</td>\n      <td>...</td>\n      <td>11</td>\n      <td>45.8</td>\n      <td>52.4</td>\n      <td>7</td>\n      <td>29.2</td>\n      <td>33.3</td>\n      <td>2.0</td>\n      <td>8.3</td>\n      <td>1.0</td>\n      <td>4.2</td>\n    </tr>\n    <tr>\n      <th>25087</th>\n      <td>Male</td>\n      <td>32K556</td>\n      <td>BUSHWICK LEADERS HIGH SCHOOL FOR ACAD</td>\n      <td>2006</td>\n      <td>51</td>\n      <td>25</td>\n      <td>49.0</td>\n      <td>8</td>\n      <td>15.7</td>\n      <td>32.0</td>\n      <td>...</td>\n      <td>7</td>\n      <td>13.7</td>\n      <td>28.0</td>\n      <td>17</td>\n      <td>33.3</td>\n      <td>68.0</td>\n      <td>12.0</td>\n      <td>23.5</td>\n      <td>12.0</td>\n      <td>23.5</td>\n    </tr>\n    <tr>\n      <th>25094</th>\n      <td>Male</td>\n      <td>32K564</td>\n      <td>BUSHWICK COMMUNITY HIGH SCHOOL</td>\n      <td>2006</td>\n      <td>57</td>\n      <td>4</td>\n      <td>7.0</td>\n      <td>2</td>\n      <td>3.5</td>\n      <td>50.0</td>\n      <td>...</td>\n      <td>2</td>\n      <td>3.5</td>\n      <td>50.0</td>\n      <td>2</td>\n      <td>3.5</td>\n      <td>50.0</td>\n      <td>34.0</td>\n      <td>59.6</td>\n      <td>17.0</td>\n      <td>29.8</td>\n    </tr>\n  </tbody>\n</table>\n<p>4130 rows × 23 columns</p>\n</div>"
     },
     "metadata": {},
     "execution_count": 361
    }
   ],
   "source": [
    "graduation"
   ]
  },
  {
   "cell_type": "code",
   "execution_count": 362,
   "metadata": {},
   "outputs": [
    {
     "output_type": "execute_result",
     "data": {
      "text/plain": [
       "array(['Total Cohort', 'Asian', 'Black', 'English Language Learners',\n",
       "       'White', 'English Proficient Students',\n",
       "       'Special Education Students', 'General Education Students',\n",
       "       'Hispanic', 'Female', 'Male'], dtype=object)"
      ]
     },
     "metadata": {},
     "execution_count": 362
    }
   ],
   "source": [
    "graduation.Demographic.unique()"
   ]
  },
  {
   "cell_type": "code",
   "execution_count": 363,
   "metadata": {},
   "outputs": [],
   "source": [
    "graduation = graduation.loc[graduation.Demographic == 'Total Cohort']\n",
    "data['graduation'] = graduation"
   ]
  },
  {
   "cell_type": "code",
   "execution_count": 364,
   "metadata": {},
   "outputs": [
    {
     "output_type": "execute_result",
     "data": {
      "text/plain": [
       "DBN                                      object\n",
       "SchoolName                               object\n",
       "AP Test Takers                          float64\n",
       "Total Exams Taken                       float64\n",
       "Number of Exams with scores 3 4 or 5    float64\n",
       "dtype: object"
      ]
     },
     "metadata": {},
     "execution_count": 364
    }
   ],
   "source": [
    "data['ap_2010'].dtypes"
   ]
  },
  {
   "source": [
    "## Combining the Datasets\n",
    "\n",
    "The next task at hand is to combine the datasets. I will use the DBN col to do so."
   ],
   "cell_type": "markdown",
   "metadata": {}
  },
  {
   "cell_type": "code",
   "execution_count": 365,
   "metadata": {},
   "outputs": [
    {
     "output_type": "stream",
     "name": "stdout",
     "text": [
      "<class 'pandas.core.frame.DataFrame'>\nRangeIndex: 258 entries, 0 to 257\nData columns (total 5 columns):\n #   Column                                Non-Null Count  Dtype  \n---  ------                                --------------  -----  \n 0   DBN                                   258 non-null    object \n 1   SchoolName                            258 non-null    object \n 2   AP Test Takers                        233 non-null    float64\n 3   Total Exams Taken                     233 non-null    float64\n 4   Number of Exams with scores 3 4 or 5  151 non-null    float64\ndtypes: float64(3), object(2)\nmemory usage: 10.2+ KB\n"
     ]
    }
   ],
   "source": [
    "ap_2010.info()"
   ]
  },
  {
   "cell_type": "code",
   "execution_count": 366,
   "metadata": {},
   "outputs": [
    {
     "output_type": "stream",
     "name": "stdout",
     "text": [
      "<class 'pandas.core.frame.DataFrame'>\nInt64Index: 405 entries, 3 to 2509\nData columns (total 23 columns):\n #   Column                              Non-Null Count  Dtype  \n---  ------                              --------------  -----  \n 0   Demographic                         405 non-null    object \n 1   DBN                                 405 non-null    object \n 2   School Name                         405 non-null    object \n 3   Cohort                              405 non-null    object \n 4   Total Cohort                        405 non-null    int64  \n 5   Total Grads - n                     405 non-null    object \n 6   Total Grads - % of cohort           378 non-null    float64\n 7   Total Regents - n                   405 non-null    object \n 8   Total Regents - % of cohort         378 non-null    float64\n 9   Total Regents - % of grads          377 non-null    float64\n 10  Advanced Regents - n                405 non-null    object \n 11  Advanced Regents - % of cohort      378 non-null    float64\n 12  Advanced Regents - % of grads       377 non-null    float64\n 13  Regents w/o Advanced - n            405 non-null    object \n 14  Regents w/o Advanced - % of cohort  378 non-null    float64\n 15  Regents w/o Advanced - % of grads   377 non-null    float64\n 16  Local - n                           405 non-null    object \n 17  Local - % of cohort                 378 non-null    float64\n 18  Local - % of grads                  377 non-null    float64\n 19  Still Enrolled - n                  405 non-null    object \n 20  Still Enrolled - % of cohort        378 non-null    float64\n 21  Dropped Out - n                     405 non-null    object \n 22  Dropped Out - % of cohort           378 non-null    float64\ndtypes: float64(11), int64(1), object(11)\nmemory usage: 75.9+ KB\n"
     ]
    }
   ],
   "source": [
    "data['graduation'].info()"
   ]
  },
  {
   "cell_type": "code",
   "execution_count": 367,
   "metadata": {},
   "outputs": [
    {
     "output_type": "stream",
     "name": "stdout",
     "text": [
      "<class 'pandas.core.frame.DataFrame'>\nRangeIndex: 478 entries, 0 to 477\nData columns (total 7 columns):\n #   Column                           Non-Null Count  Dtype  \n---  ------                           --------------  -----  \n 0   DBN                              478 non-null    object \n 1   SCHOOL NAME                      478 non-null    object \n 2   Num of SAT Test Takers           478 non-null    object \n 3   SAT Critical Reading Avg. Score  421 non-null    float64\n 4   SAT Math Avg. Score              421 non-null    float64\n 5   SAT Writing Avg. Score           421 non-null    float64\n 6   sat_score                        421 non-null    float64\ndtypes: float64(4), object(3)\nmemory usage: 26.3+ KB\n"
     ]
    }
   ],
   "source": [
    "data['sat_results'].info()"
   ]
  },
  {
   "cell_type": "code",
   "execution_count": 368,
   "metadata": {},
   "outputs": [
    {
     "output_type": "execute_result",
     "data": {
      "text/plain": [
       "      DBN                                    SCHOOL NAME  \\\n",
       "0  01M292  HENRY STREET SCHOOL FOR INTERNATIONAL STUDIES   \n",
       "1  01M448            UNIVERSITY NEIGHBORHOOD HIGH SCHOOL   \n",
       "2  01M450                     EAST SIDE COMMUNITY SCHOOL   \n",
       "3  01M458                      FORSYTH SATELLITE ACADEMY   \n",
       "4  01M509                        MARTA VALLE HIGH SCHOOL   \n",
       "\n",
       "  Num of SAT Test Takers  SAT Critical Reading Avg. Score  \\\n",
       "0                     29                            355.0   \n",
       "1                     91                            383.0   \n",
       "2                     70                            377.0   \n",
       "3                      7                            414.0   \n",
       "4                     44                            390.0   \n",
       "\n",
       "   SAT Math Avg. Score  SAT Writing Avg. Score  sat_score  \\\n",
       "0                404.0                   363.0     1122.0   \n",
       "1                423.0                   366.0     1172.0   \n",
       "2                402.0                   370.0     1149.0   \n",
       "3                401.0                   359.0     1174.0   \n",
       "4                433.0                   384.0     1207.0   \n",
       "\n",
       "                     SchoolName  AP Test Takers   Total Exams Taken  ...  \\\n",
       "0                           NaN              NaN                NaN  ...   \n",
       "1  UNIVERSITY NEIGHBORHOOD H.S.             39.0               49.0  ...   \n",
       "2        EAST SIDE COMMUNITY HS             19.0               21.0  ...   \n",
       "3                           NaN              NaN                NaN  ...   \n",
       "4                           NaN              NaN                NaN  ...   \n",
       "\n",
       "   Regents w/o Advanced - n Regents w/o Advanced - % of cohort  \\\n",
       "0                        36                               46.2   \n",
       "1                        34                               27.4   \n",
       "2                        67                               74.4   \n",
       "3                       NaN                                NaN   \n",
       "4                        23                               27.4   \n",
       "\n",
       "  Regents w/o Advanced - % of grads Local - n  Local - % of cohort  \\\n",
       "0                              83.7         7                  9.0   \n",
       "1                              64.2        11                  8.9   \n",
       "2                              95.7         3                  3.3   \n",
       "3                               NaN       NaN                  NaN   \n",
       "4                              48.9         7                  8.3   \n",
       "\n",
       "  Local - % of grads  Still Enrolled - n Still Enrolled - % of cohort  \\\n",
       "0               16.3                  16                         20.5   \n",
       "1               20.8                  46                         37.1   \n",
       "2                4.3                  15                         16.7   \n",
       "3                NaN                 NaN                          NaN   \n",
       "4               14.9                  25                         29.8   \n",
       "\n",
       "   Dropped Out - n  Dropped Out - % of cohort  \n",
       "0               11                       14.1  \n",
       "1               20                       16.1  \n",
       "2                5                        5.6  \n",
       "3              NaN                        NaN  \n",
       "4                5                        6.0  \n",
       "\n",
       "[5 rows x 33 columns]"
      ],
      "text/html": "<div>\n<style scoped>\n    .dataframe tbody tr th:only-of-type {\n        vertical-align: middle;\n    }\n\n    .dataframe tbody tr th {\n        vertical-align: top;\n    }\n\n    .dataframe thead th {\n        text-align: right;\n    }\n</style>\n<table border=\"1\" class=\"dataframe\">\n  <thead>\n    <tr style=\"text-align: right;\">\n      <th></th>\n      <th>DBN</th>\n      <th>SCHOOL NAME</th>\n      <th>Num of SAT Test Takers</th>\n      <th>SAT Critical Reading Avg. Score</th>\n      <th>SAT Math Avg. Score</th>\n      <th>SAT Writing Avg. Score</th>\n      <th>sat_score</th>\n      <th>SchoolName</th>\n      <th>AP Test Takers</th>\n      <th>Total Exams Taken</th>\n      <th>...</th>\n      <th>Regents w/o Advanced - n</th>\n      <th>Regents w/o Advanced - % of cohort</th>\n      <th>Regents w/o Advanced - % of grads</th>\n      <th>Local - n</th>\n      <th>Local - % of cohort</th>\n      <th>Local - % of grads</th>\n      <th>Still Enrolled - n</th>\n      <th>Still Enrolled - % of cohort</th>\n      <th>Dropped Out - n</th>\n      <th>Dropped Out - % of cohort</th>\n    </tr>\n  </thead>\n  <tbody>\n    <tr>\n      <th>0</th>\n      <td>01M292</td>\n      <td>HENRY STREET SCHOOL FOR INTERNATIONAL STUDIES</td>\n      <td>29</td>\n      <td>355.0</td>\n      <td>404.0</td>\n      <td>363.0</td>\n      <td>1122.0</td>\n      <td>NaN</td>\n      <td>NaN</td>\n      <td>NaN</td>\n      <td>...</td>\n      <td>36</td>\n      <td>46.2</td>\n      <td>83.7</td>\n      <td>7</td>\n      <td>9.0</td>\n      <td>16.3</td>\n      <td>16</td>\n      <td>20.5</td>\n      <td>11</td>\n      <td>14.1</td>\n    </tr>\n    <tr>\n      <th>1</th>\n      <td>01M448</td>\n      <td>UNIVERSITY NEIGHBORHOOD HIGH SCHOOL</td>\n      <td>91</td>\n      <td>383.0</td>\n      <td>423.0</td>\n      <td>366.0</td>\n      <td>1172.0</td>\n      <td>UNIVERSITY NEIGHBORHOOD H.S.</td>\n      <td>39.0</td>\n      <td>49.0</td>\n      <td>...</td>\n      <td>34</td>\n      <td>27.4</td>\n      <td>64.2</td>\n      <td>11</td>\n      <td>8.9</td>\n      <td>20.8</td>\n      <td>46</td>\n      <td>37.1</td>\n      <td>20</td>\n      <td>16.1</td>\n    </tr>\n    <tr>\n      <th>2</th>\n      <td>01M450</td>\n      <td>EAST SIDE COMMUNITY SCHOOL</td>\n      <td>70</td>\n      <td>377.0</td>\n      <td>402.0</td>\n      <td>370.0</td>\n      <td>1149.0</td>\n      <td>EAST SIDE COMMUNITY HS</td>\n      <td>19.0</td>\n      <td>21.0</td>\n      <td>...</td>\n      <td>67</td>\n      <td>74.4</td>\n      <td>95.7</td>\n      <td>3</td>\n      <td>3.3</td>\n      <td>4.3</td>\n      <td>15</td>\n      <td>16.7</td>\n      <td>5</td>\n      <td>5.6</td>\n    </tr>\n    <tr>\n      <th>3</th>\n      <td>01M458</td>\n      <td>FORSYTH SATELLITE ACADEMY</td>\n      <td>7</td>\n      <td>414.0</td>\n      <td>401.0</td>\n      <td>359.0</td>\n      <td>1174.0</td>\n      <td>NaN</td>\n      <td>NaN</td>\n      <td>NaN</td>\n      <td>...</td>\n      <td>NaN</td>\n      <td>NaN</td>\n      <td>NaN</td>\n      <td>NaN</td>\n      <td>NaN</td>\n      <td>NaN</td>\n      <td>NaN</td>\n      <td>NaN</td>\n      <td>NaN</td>\n      <td>NaN</td>\n    </tr>\n    <tr>\n      <th>4</th>\n      <td>01M509</td>\n      <td>MARTA VALLE HIGH SCHOOL</td>\n      <td>44</td>\n      <td>390.0</td>\n      <td>433.0</td>\n      <td>384.0</td>\n      <td>1207.0</td>\n      <td>NaN</td>\n      <td>NaN</td>\n      <td>NaN</td>\n      <td>...</td>\n      <td>23</td>\n      <td>27.4</td>\n      <td>48.9</td>\n      <td>7</td>\n      <td>8.3</td>\n      <td>14.9</td>\n      <td>25</td>\n      <td>29.8</td>\n      <td>5</td>\n      <td>6.0</td>\n    </tr>\n  </tbody>\n</table>\n<p>5 rows × 33 columns</p>\n</div>"
     },
     "metadata": {},
     "execution_count": 368
    }
   ],
   "source": [
    "combined = data['sat_results']\n",
    "\n",
    "combined = combined.merge(data[\"ap_2010\"], on=\"DBN\", how=\"left\")\n",
    "combined = combined.merge(data[\"graduation\"], on=\"DBN\", how=\"left\")\n",
    "\n",
    "combined.head()"
   ]
  },
  {
   "cell_type": "code",
   "execution_count": 376,
   "metadata": {},
   "outputs": [
    {
     "output_type": "execute_result",
     "data": {
      "text/plain": [
       "(363, 209)"
      ]
     },
     "metadata": {},
     "execution_count": 376
    }
   ],
   "source": [
    "combined.shape"
   ]
  },
  {
   "source": [
    "The rest of the dataframes contains more valuable information and also has less missing DBN values so I will inner join them."
   ],
   "cell_type": "markdown",
   "metadata": {}
  },
  {
   "cell_type": "code",
   "execution_count": 372,
   "metadata": {},
   "outputs": [
    {
     "output_type": "stream",
     "name": "stdout",
     "text": [
      "<class 'pandas.core.frame.DataFrame'>\nInt64Index: 1702 entries, 0 to 55\nData columns (total 23 columns):\n #   Column      Non-Null Count  Dtype  \n---  ------      --------------  -----  \n 0   dbn         1702 non-null   object \n 1   rr_s        1041 non-null   float64\n 2   rr_t        1702 non-null   int64  \n 3   rr_p        1702 non-null   int64  \n 4   N_s         1036 non-null   float64\n 5   N_t         1700 non-null   float64\n 6   N_p         1696 non-null   float64\n 7   saf_p_11    1696 non-null   float64\n 8   com_p_11    1696 non-null   float64\n 9   eng_p_11    1696 non-null   float64\n 10  aca_p_11    1696 non-null   float64\n 11  saf_t_11    1700 non-null   float64\n 12  com_t_11    1700 non-null   float64\n 13  eng_t_11    1700 non-null   float64\n 14  aca_t_11    1700 non-null   float64\n 15  saf_s_11    1036 non-null   float64\n 16  com_s_11    1036 non-null   float64\n 17  eng_s_11    1036 non-null   float64\n 18  aca_s_11    1036 non-null   float64\n 19  saf_tot_11  1702 non-null   float64\n 20  com_tot_11  1702 non-null   float64\n 21  eng_tot_11  1702 non-null   float64\n 22  aca_tot_11  1702 non-null   float64\ndtypes: float64(20), int64(2), object(1)\nmemory usage: 399.1+ KB\n"
     ]
    }
   ],
   "source": [
    "data['survey'].info()"
   ]
  },
  {
   "cell_type": "code",
   "execution_count": 373,
   "metadata": {},
   "outputs": [],
   "source": [
    "data['survey'].rename(columns={'dbn': 'DBN'}, inplace=True)"
   ]
  },
  {
   "cell_type": "code",
   "execution_count": 374,
   "metadata": {},
   "outputs": [
    {
     "output_type": "execute_result",
     "data": {
      "text/plain": [
       "      DBN                                        SCHOOL NAME  \\\n",
       "0  01M292      HENRY STREET SCHOOL FOR INTERNATIONAL STUDIES   \n",
       "1  01M448                UNIVERSITY NEIGHBORHOOD HIGH SCHOOL   \n",
       "2  01M450                         EAST SIDE COMMUNITY SCHOOL   \n",
       "3  01M509                            MARTA VALLE HIGH SCHOOL   \n",
       "4  01M539  NEW EXPLORATIONS INTO SCIENCE, TECHNOLOGY AND ...   \n",
       "\n",
       "  Num of SAT Test Takers  SAT Critical Reading Avg. Score  \\\n",
       "0                     29                            355.0   \n",
       "1                     91                            383.0   \n",
       "2                     70                            377.0   \n",
       "3                     44                            390.0   \n",
       "4                    159                            522.0   \n",
       "\n",
       "   SAT Math Avg. Score  SAT Writing Avg. Score  sat_score  \\\n",
       "0                404.0                   363.0     1122.0   \n",
       "1                423.0                   366.0     1172.0   \n",
       "2                402.0                   370.0     1149.0   \n",
       "3                433.0                   384.0     1207.0   \n",
       "4                574.0                   525.0     1621.0   \n",
       "\n",
       "                       SchoolName  AP Test Takers   Total Exams Taken  ...  \\\n",
       "0                             NaN              NaN                NaN  ...   \n",
       "1    UNIVERSITY NEIGHBORHOOD H.S.             39.0               49.0  ...   \n",
       "2          EAST SIDE COMMUNITY HS             19.0               21.0  ...   \n",
       "3                             NaN              NaN                NaN  ...   \n",
       "4  NEW EXPLORATIONS SCI,TECH,MATH            255.0              377.0  ...   \n",
       "\n",
       "   priority10                                         Location 1  \\\n",
       "0         NaN  220 Henry Street\\nNew York, NY 10002\\n(40.7137...   \n",
       "1         NaN  200 Monroe Street\\nNew York, NY 10002\\n(40.712...   \n",
       "2         NaN  420 East 12 Street\\nNew York, NY 10009\\n(40.72...   \n",
       "3         NaN  145 Stanton Street\\nNew York, NY 10002\\n(40.72...   \n",
       "4         NaN  111 Columbia Street\\nNew York, NY 10002\\n(40.7...   \n",
       "\n",
       "  Community Board Council District  Census Tract        BIN           BBL  \\\n",
       "0             3.0              1.0         201.0  1003223.0  1.002690e+09   \n",
       "1             3.0              1.0         202.0  1003214.0  1.002590e+09   \n",
       "2             3.0              2.0          34.0  1005974.0  1.004390e+09   \n",
       "3             3.0              1.0        3001.0  1004323.0  1.003540e+09   \n",
       "4             3.0              2.0        2201.0  1004070.0  1.003350e+09   \n",
       "\n",
       "                                                 NTA        lat        lon  \n",
       "0  Lower East Side                               ...  40.713764 -73.985260  \n",
       "1  Lower East Side                               ...  40.712332 -73.984797  \n",
       "2  East Village                                  ...  40.729783 -73.983041  \n",
       "3  Chinatown                                     ...  40.720569 -73.985673  \n",
       "4  Lower East Side                               ...  40.718725 -73.979426  \n",
       "\n",
       "[5 rows x 209 columns]"
      ],
      "text/html": "<div>\n<style scoped>\n    .dataframe tbody tr th:only-of-type {\n        vertical-align: middle;\n    }\n\n    .dataframe tbody tr th {\n        vertical-align: top;\n    }\n\n    .dataframe thead th {\n        text-align: right;\n    }\n</style>\n<table border=\"1\" class=\"dataframe\">\n  <thead>\n    <tr style=\"text-align: right;\">\n      <th></th>\n      <th>DBN</th>\n      <th>SCHOOL NAME</th>\n      <th>Num of SAT Test Takers</th>\n      <th>SAT Critical Reading Avg. Score</th>\n      <th>SAT Math Avg. Score</th>\n      <th>SAT Writing Avg. Score</th>\n      <th>sat_score</th>\n      <th>SchoolName</th>\n      <th>AP Test Takers</th>\n      <th>Total Exams Taken</th>\n      <th>...</th>\n      <th>priority10</th>\n      <th>Location 1</th>\n      <th>Community Board</th>\n      <th>Council District</th>\n      <th>Census Tract</th>\n      <th>BIN</th>\n      <th>BBL</th>\n      <th>NTA</th>\n      <th>lat</th>\n      <th>lon</th>\n    </tr>\n  </thead>\n  <tbody>\n    <tr>\n      <th>0</th>\n      <td>01M292</td>\n      <td>HENRY STREET SCHOOL FOR INTERNATIONAL STUDIES</td>\n      <td>29</td>\n      <td>355.0</td>\n      <td>404.0</td>\n      <td>363.0</td>\n      <td>1122.0</td>\n      <td>NaN</td>\n      <td>NaN</td>\n      <td>NaN</td>\n      <td>...</td>\n      <td>NaN</td>\n      <td>220 Henry Street\\nNew York, NY 10002\\n(40.7137...</td>\n      <td>3.0</td>\n      <td>1.0</td>\n      <td>201.0</td>\n      <td>1003223.0</td>\n      <td>1.002690e+09</td>\n      <td>Lower East Side                               ...</td>\n      <td>40.713764</td>\n      <td>-73.985260</td>\n    </tr>\n    <tr>\n      <th>1</th>\n      <td>01M448</td>\n      <td>UNIVERSITY NEIGHBORHOOD HIGH SCHOOL</td>\n      <td>91</td>\n      <td>383.0</td>\n      <td>423.0</td>\n      <td>366.0</td>\n      <td>1172.0</td>\n      <td>UNIVERSITY NEIGHBORHOOD H.S.</td>\n      <td>39.0</td>\n      <td>49.0</td>\n      <td>...</td>\n      <td>NaN</td>\n      <td>200 Monroe Street\\nNew York, NY 10002\\n(40.712...</td>\n      <td>3.0</td>\n      <td>1.0</td>\n      <td>202.0</td>\n      <td>1003214.0</td>\n      <td>1.002590e+09</td>\n      <td>Lower East Side                               ...</td>\n      <td>40.712332</td>\n      <td>-73.984797</td>\n    </tr>\n    <tr>\n      <th>2</th>\n      <td>01M450</td>\n      <td>EAST SIDE COMMUNITY SCHOOL</td>\n      <td>70</td>\n      <td>377.0</td>\n      <td>402.0</td>\n      <td>370.0</td>\n      <td>1149.0</td>\n      <td>EAST SIDE COMMUNITY HS</td>\n      <td>19.0</td>\n      <td>21.0</td>\n      <td>...</td>\n      <td>NaN</td>\n      <td>420 East 12 Street\\nNew York, NY 10009\\n(40.72...</td>\n      <td>3.0</td>\n      <td>2.0</td>\n      <td>34.0</td>\n      <td>1005974.0</td>\n      <td>1.004390e+09</td>\n      <td>East Village                                  ...</td>\n      <td>40.729783</td>\n      <td>-73.983041</td>\n    </tr>\n    <tr>\n      <th>3</th>\n      <td>01M509</td>\n      <td>MARTA VALLE HIGH SCHOOL</td>\n      <td>44</td>\n      <td>390.0</td>\n      <td>433.0</td>\n      <td>384.0</td>\n      <td>1207.0</td>\n      <td>NaN</td>\n      <td>NaN</td>\n      <td>NaN</td>\n      <td>...</td>\n      <td>NaN</td>\n      <td>145 Stanton Street\\nNew York, NY 10002\\n(40.72...</td>\n      <td>3.0</td>\n      <td>1.0</td>\n      <td>3001.0</td>\n      <td>1004323.0</td>\n      <td>1.003540e+09</td>\n      <td>Chinatown                                     ...</td>\n      <td>40.720569</td>\n      <td>-73.985673</td>\n    </tr>\n    <tr>\n      <th>4</th>\n      <td>01M539</td>\n      <td>NEW EXPLORATIONS INTO SCIENCE, TECHNOLOGY AND ...</td>\n      <td>159</td>\n      <td>522.0</td>\n      <td>574.0</td>\n      <td>525.0</td>\n      <td>1621.0</td>\n      <td>NEW EXPLORATIONS SCI,TECH,MATH</td>\n      <td>255.0</td>\n      <td>377.0</td>\n      <td>...</td>\n      <td>NaN</td>\n      <td>111 Columbia Street\\nNew York, NY 10002\\n(40.7...</td>\n      <td>3.0</td>\n      <td>2.0</td>\n      <td>2201.0</td>\n      <td>1004070.0</td>\n      <td>1.003350e+09</td>\n      <td>Lower East Side                               ...</td>\n      <td>40.718725</td>\n      <td>-73.979426</td>\n    </tr>\n  </tbody>\n</table>\n<p>5 rows × 209 columns</p>\n</div>"
     },
     "metadata": {},
     "execution_count": 374
    }
   ],
   "source": [
    "# merging the other stuff\n",
    "combined = combined.merge(data['class_size'], on='DBN', how='inner')\n",
    "combined = combined.merge(data['demographics'], on='DBN', how='inner')\n",
    "combined = combined.merge(data['survey'], on='DBN', how='inner')\n",
    "combined = combined.merge(data['hs_directory'], on='DBN', how='inner')\n",
    "\n",
    "combined.head()"
   ]
  },
  {
   "cell_type": "code",
   "execution_count": 375,
   "metadata": {},
   "outputs": [
    {
     "output_type": "execute_result",
     "data": {
      "text/plain": [
       "(363, 209)"
      ]
     },
     "metadata": {},
     "execution_count": 375
    }
   ],
   "source": [
    "combined.shape"
   ]
  },
  {
   "cell_type": "code",
   "execution_count": 380,
   "metadata": {},
   "outputs": [
    {
     "output_type": "stream",
     "name": "stdout",
     "text": [
      "<class 'pandas.core.frame.DataFrame'>\nInt64Index: 363 entries, 0 to 362\nData columns (total 209 columns):\n #   Column                                Non-Null Count  Dtype  \n---  ------                                --------------  -----  \n 0   DBN                                   363 non-null    object \n 1   SCHOOL NAME                           363 non-null    object \n 2   Num of SAT Test Takers                363 non-null    object \n 3   SAT Critical Reading Avg. Score       335 non-null    float64\n 4   SAT Math Avg. Score                   335 non-null    float64\n 5   SAT Writing Avg. Score                335 non-null    float64\n 6   sat_score                             335 non-null    float64\n 7   SchoolName                            228 non-null    object \n 8   AP Test Takers                        208 non-null    float64\n 9   Total Exams Taken                     208 non-null    float64\n 10  Number of Exams with scores 3 4 or 5  140 non-null    float64\n 11  Demographic                           310 non-null    object \n 12  School Name                           310 non-null    object \n 13  Cohort                                310 non-null    object \n 14  Total Cohort                          310 non-null    float64\n 15  Total Grads - n                       310 non-null    object \n 16  Total Grads - % of cohort             292 non-null    float64\n 17  Total Regents - n                     310 non-null    object \n 18  Total Regents - % of cohort           292 non-null    float64\n 19  Total Regents - % of grads            291 non-null    float64\n 20  Advanced Regents - n                  310 non-null    object \n 21  Advanced Regents - % of cohort        292 non-null    float64\n 22  Advanced Regents - % of grads         291 non-null    float64\n 23  Regents w/o Advanced - n              310 non-null    object \n 24  Regents w/o Advanced - % of cohort    292 non-null    float64\n 25  Regents w/o Advanced - % of grads     291 non-null    float64\n 26  Local - n                             310 non-null    object \n 27  Local - % of cohort                   292 non-null    float64\n 28  Local - % of grads                    291 non-null    float64\n 29  Still Enrolled - n                    310 non-null    object \n 30  Still Enrolled - % of cohort          292 non-null    float64\n 31  Dropped Out - n                       310 non-null    object \n 32  Dropped Out - % of cohort             292 non-null    float64\n 33  CSD_x                                 363 non-null    int64  \n 34  NUMBER OF STUDENTS / SEATS FILLED_x   363 non-null    float64\n 35  NUMBER OF SECTIONS_x                  363 non-null    float64\n 36  AVERAGE CLASS SIZE_x                  363 non-null    float64\n 37  SIZE OF SMALLEST CLASS_x              363 non-null    float64\n 38  SIZE OF LARGEST CLASS_x               363 non-null    float64\n 39  SCHOOLWIDE PUPIL-TEACHER RATIO_x      0 non-null      float64\n 40  Name_x                                363 non-null    object \n 41  schoolyear_x                          363 non-null    int64  \n 42  fl_percent_x                          0 non-null      object \n 43  frl_percent_x                         363 non-null    float64\n 44  total_enrollment_x                    363 non-null    int64  \n 45  prek_x                                363 non-null    object \n 46  k_x                                   363 non-null    object \n 47  grade1_x                              363 non-null    object \n 48  grade2_x                              363 non-null    object \n 49  grade3_x                              363 non-null    object \n 50  grade4_x                              363 non-null    object \n 51  grade5_x                              363 non-null    object \n 52  grade6_x                              363 non-null    object \n 53  grade7_x                              363 non-null    object \n 54  grade8_x                              363 non-null    object \n 55  grade9_x                              363 non-null    object \n 56  grade10_x                             363 non-null    object \n 57  grade11_x                             363 non-null    object \n 58  grade12_x                             363 non-null    object \n 59  ell_num_x                             363 non-null    float64\n 60  ell_percent_x                         363 non-null    float64\n 61  sped_num_x                            363 non-null    float64\n 62  sped_percent_x                        363 non-null    float64\n 63  ctt_num_x                             363 non-null    object \n 64  selfcontained_num_x                   363 non-null    object \n 65  asian_num_x                           363 non-null    int64  \n 66  asian_per_x                           363 non-null    float64\n 67  black_num_x                           363 non-null    int64  \n 68  black_per_x                           363 non-null    float64\n 69  hispanic_num_x                        363 non-null    int64  \n 70  hispanic_per_x                        363 non-null    float64\n 71  white_num_x                           363 non-null    int64  \n 72  white_per_x                           363 non-null    float64\n 73  male_num_x                            363 non-null    float64\n 74  male_per_x                            363 non-null    float64\n 75  female_num_x                          363 non-null    float64\n 76  female_per_x                          363 non-null    float64\n 77  CSD_y                                 363 non-null    int64  \n 78  NUMBER OF STUDENTS / SEATS FILLED_y   363 non-null    float64\n 79  NUMBER OF SECTIONS_y                  363 non-null    float64\n 80  AVERAGE CLASS SIZE_y                  363 non-null    float64\n 81  SIZE OF SMALLEST CLASS_y              363 non-null    float64\n 82  SIZE OF LARGEST CLASS_y               363 non-null    float64\n 83  SCHOOLWIDE PUPIL-TEACHER RATIO_y      0 non-null      float64\n 84  Name_y                                363 non-null    object \n 85  schoolyear_y                          363 non-null    int64  \n 86  fl_percent_y                          0 non-null      object \n 87  frl_percent_y                         363 non-null    float64\n 88  total_enrollment_y                    363 non-null    int64  \n 89  prek_y                                363 non-null    object \n 90  k_y                                   363 non-null    object \n 91  grade1_y                              363 non-null    object \n 92  grade2_y                              363 non-null    object \n 93  grade3_y                              363 non-null    object \n 94  grade4_y                              363 non-null    object \n 95  grade5_y                              363 non-null    object \n 96  grade6_y                              363 non-null    object \n 97  grade7_y                              363 non-null    object \n 98  grade8_y                              363 non-null    object \n 99  grade9_y                              363 non-null    object \n 100 grade10_y                             363 non-null    object \n 101 grade11_y                             363 non-null    object \n 102 grade12_y                             363 non-null    object \n 103 ell_num_y                             363 non-null    float64\n 104 ell_percent_y                         363 non-null    float64\n 105 sped_num_y                            363 non-null    float64\n 106 sped_percent_y                        363 non-null    float64\n 107 ctt_num_y                             363 non-null    object \n 108 selfcontained_num_y                   363 non-null    object \n 109 asian_num_y                           363 non-null    int64  \n 110 asian_per_y                           363 non-null    float64\n 111 black_num_y                           363 non-null    int64  \n 112 black_per_y                           363 non-null    float64\n 113 hispanic_num_y                        363 non-null    int64  \n 114 hispanic_per_y                        363 non-null    float64\n 115 white_num_y                           363 non-null    int64  \n 116 white_per_y                           363 non-null    float64\n 117 male_num_y                            363 non-null    float64\n 118 male_per_y                            363 non-null    float64\n 119 female_num_y                          363 non-null    float64\n 120 female_per_y                          363 non-null    float64\n 121 rr_s                                  363 non-null    float64\n 122 rr_t                                  363 non-null    int64  \n 123 rr_p                                  363 non-null    int64  \n 124 N_s                                   360 non-null    float64\n 125 N_t                                   363 non-null    float64\n 126 N_p                                   363 non-null    float64\n 127 saf_p_11                              363 non-null    float64\n 128 com_p_11                              363 non-null    float64\n 129 eng_p_11                              363 non-null    float64\n 130 aca_p_11                              363 non-null    float64\n 131 saf_t_11                              363 non-null    float64\n 132 com_t_11                              363 non-null    float64\n 133 eng_t_11                              363 non-null    float64\n 134 aca_t_11                              363 non-null    float64\n 135 saf_s_11                              360 non-null    float64\n 136 com_s_11                              360 non-null    float64\n 137 eng_s_11                              360 non-null    float64\n 138 aca_s_11                              360 non-null    float64\n 139 saf_tot_11                            363 non-null    float64\n 140 com_tot_11                            363 non-null    float64\n 141 eng_tot_11                            363 non-null    float64\n 142 aca_tot_11                            363 non-null    float64\n 143 dbn                                   363 non-null    object \n 144 school_name                           363 non-null    object \n 145 borough                               363 non-null    object \n 146 building_code                         363 non-null    object \n 147 phone_number                          363 non-null    object \n 148 fax_number                            362 non-null    object \n 149 grade_span_min                        361 non-null    float64\n 150 grade_span_max                        363 non-null    int64  \n 151 expgrade_span_min                     0 non-null      float64\n 152 expgrade_span_max                     1 non-null      float64\n 153 bus                                   362 non-null    object \n 154 subway                                302 non-null    object \n 155 primary_address_line_1                363 non-null    object \n 156 city                                  363 non-null    object \n 157 state_code                            363 non-null    object \n 158 postcode                              363 non-null    int64  \n 159 website                               363 non-null    object \n 160 total_students                        363 non-null    float64\n 161 campus_name                           166 non-null    object \n 162 school_type                           69 non-null     object \n 163 overview_paragraph                    363 non-null    object \n 164 program_highlights                    362 non-null    object \n 165 language_classes                      351 non-null    object \n 166 advancedplacement_courses             306 non-null    object \n 167 online_ap_courses                     53 non-null     object \n 168 online_language_courses               55 non-null     object \n 169 extracurricular_activities            363 non-null    object \n 170 psal_sports_boys                      317 non-null    object \n 171 psal_sports_girls                     317 non-null    object \n 172 psal_sports_coed                      125 non-null    object \n 173 school_sports                         257 non-null    object \n 174 partner_cbo                           315 non-null    object \n 175 partner_hospital                      184 non-null    object \n 176 partner_highered                      344 non-null    object \n 177 partner_cultural                      282 non-null    object \n 178 partner_nonprofit                     271 non-null    object \n 179 partner_corporate                     184 non-null    object \n 180 partner_financial                     71 non-null     object \n 181 partner_other                         175 non-null    object \n 182 addtl_info1                           296 non-null    object \n 183 addtl_info2                           191 non-null    object \n 184 start_time                            362 non-null    object \n 185 end_time                              362 non-null    object \n 186 se_services                           363 non-null    object \n 187 ell_programs                          363 non-null    object \n 188 school_accessibility_description      363 non-null    object \n 189 number_programs                       363 non-null    int64  \n 190 priority01                            363 non-null    object \n 191 priority02                            285 non-null    object \n 192 priority03                            184 non-null    object \n 193 priority04                            118 non-null    object \n 194 priority05                            29 non-null     object \n 195 priority06                            12 non-null     object \n 196 priority07                            2 non-null      object \n 197 priority08                            0 non-null      object \n 198 priority09                            0 non-null      object \n 199 priority10                            0 non-null      object \n 200 Location 1                            363 non-null    object \n 201 Community Board                       361 non-null    float64\n 202 Council District                      361 non-null    float64\n 203 Census Tract                          361 non-null    float64\n 204 BIN                                   360 non-null    float64\n 205 BBL                                   360 non-null    float64\n 206 NTA                                   361 non-null    object \n 207 lat                                   363 non-null    float64\n 208 lon                                   363 non-null    float64\ndtypes: float64(88), int64(19), object(102)\nmemory usage: 605.5+ KB\n"
     ]
    }
   ],
   "source": [
    "combined.info(verbose=True, null_counts=True)"
   ]
  },
  {
   "source": [
    "## Handling Missing Values\n",
    "\n",
    "In order to fill NaN values in the columns, I will compute the means for that column and use it to fill in. \n"
   ],
   "cell_type": "markdown",
   "metadata": {}
  },
  {
   "cell_type": "code",
   "execution_count": 385,
   "metadata": {},
   "outputs": [
    {
     "output_type": "execute_result",
     "data": {
      "text/plain": [
       "        DBN                                        SCHOOL NAME  \\\n",
       "0    01M292      HENRY STREET SCHOOL FOR INTERNATIONAL STUDIES   \n",
       "1    01M448                UNIVERSITY NEIGHBORHOOD HIGH SCHOOL   \n",
       "2    01M450                         EAST SIDE COMMUNITY SCHOOL   \n",
       "3    01M509                            MARTA VALLE HIGH SCHOOL   \n",
       "4    01M539  NEW EXPLORATIONS INTO SCIENCE, TECHNOLOGY AND ...   \n",
       "..      ...                                                ...   \n",
       "358  32K545        EBC HIGH SCHOOL FOR PUBLIC SERVICE–BUSHWICK   \n",
       "359  32K549                 BUSHWICK SCHOOL FOR SOCIAL JUSTICE   \n",
       "360  32K552                          ACADEMY OF URBAN PLANNING   \n",
       "361  32K554               ALL CITY LEADERSHIP SECONDARY SCHOOL   \n",
       "362  32K556  BUSHWICK LEADERS HIGH SCHOOL FOR ACADEMIC EXCE...   \n",
       "\n",
       "    Num of SAT Test Takers  SAT Critical Reading Avg. Score  \\\n",
       "0                       29                            355.0   \n",
       "1                       91                            383.0   \n",
       "2                       70                            377.0   \n",
       "3                       44                            390.0   \n",
       "4                      159                            522.0   \n",
       "..                     ...                              ...   \n",
       "358                     88                            384.0   \n",
       "359                     75                            348.0   \n",
       "360                     67                            342.0   \n",
       "361                     39                            428.0   \n",
       "362                     23                            347.0   \n",
       "\n",
       "     SAT Math Avg. Score  SAT Writing Avg. Score  sat_score  \\\n",
       "0                  404.0                   363.0     1122.0   \n",
       "1                  423.0                   366.0     1172.0   \n",
       "2                  402.0                   370.0     1149.0   \n",
       "3                  433.0                   384.0     1207.0   \n",
       "4                  574.0                   525.0     1621.0   \n",
       "..                   ...                     ...        ...   \n",
       "358                409.0                   361.0     1154.0   \n",
       "359                353.0                   334.0     1035.0   \n",
       "360                364.0                   354.0     1060.0   \n",
       "361                465.0                   422.0     1315.0   \n",
       "362                358.0                   350.0     1055.0   \n",
       "\n",
       "                                            SchoolName  AP Test Takers   \\\n",
       "0                                                    0       129.028846   \n",
       "1                         UNIVERSITY NEIGHBORHOOD H.S.        39.000000   \n",
       "2                               EAST SIDE COMMUNITY HS        19.000000   \n",
       "3                                                    0       129.028846   \n",
       "4                       NEW EXPLORATIONS SCI,TECH,MATH       255.000000   \n",
       "..                                                 ...              ...   \n",
       "358                      EBC-HS FOR PUB SERVICE (BUSH)        47.000000   \n",
       "359                                                  0       129.028846   \n",
       "360                          Academy of Urban Planning        76.000000   \n",
       "361               All City Leadership Secondary School         7.000000   \n",
       "362  Bushwick Leaders High School for Academic Exce...        34.000000   \n",
       "\n",
       "     Total Exams Taken  ...  priority10  \\\n",
       "0           197.038462  ...         0.0   \n",
       "1            49.000000  ...         0.0   \n",
       "2            21.000000  ...         0.0   \n",
       "3           197.038462  ...         0.0   \n",
       "4           377.000000  ...         0.0   \n",
       "..                 ...  ...         ...   \n",
       "358          64.000000  ...         0.0   \n",
       "359         197.038462  ...         0.0   \n",
       "360         100.000000  ...         0.0   \n",
       "361           8.000000  ...         0.0   \n",
       "362          35.000000  ...         0.0   \n",
       "\n",
       "                                            Location 1 Community Board  \\\n",
       "0    220 Henry Street\\nNew York, NY 10002\\n(40.7137...             3.0   \n",
       "1    200 Monroe Street\\nNew York, NY 10002\\n(40.712...             3.0   \n",
       "2    420 East 12 Street\\nNew York, NY 10009\\n(40.72...             3.0   \n",
       "3    145 Stanton Street\\nNew York, NY 10002\\n(40.72...             3.0   \n",
       "4    111 Columbia Street\\nNew York, NY 10002\\n(40.7...             3.0   \n",
       "..                                                 ...             ...   \n",
       "358  1155 Dekalb Avenue\\nBrooklyn, NY 11221\\n(40.69...             4.0   \n",
       "359  400 Irving Avenue\\nBrooklyn, NY 11237\\n(40.696...             4.0   \n",
       "360  400 Irving Avenue\\nBrooklyn, NY 11237\\n(40.696...             4.0   \n",
       "361  321 Palmetto Street\\nBrooklyn, NY 11237\\n(40.6...             4.0   \n",
       "362  797 Bushwick Avenue\\nBrooklyn, NY 11221\\n(40.6...             4.0   \n",
       "\n",
       "    Council District  Census Tract        BIN           BBL  \\\n",
       "0                1.0         201.0  1003223.0  1.002690e+09   \n",
       "1                1.0         202.0  1003214.0  1.002590e+09   \n",
       "2                2.0          34.0  1005974.0  1.004390e+09   \n",
       "3                1.0        3001.0  1004323.0  1.003540e+09   \n",
       "4                2.0        2201.0  1004070.0  1.003350e+09   \n",
       "..               ...           ...        ...           ...   \n",
       "358             34.0         393.0  3073462.0  3.032300e+09   \n",
       "359             37.0         435.0  3076908.0  3.033650e+09   \n",
       "360             37.0         435.0  3076908.0  3.033650e+09   \n",
       "361             37.0         433.0  3413715.0  3.033440e+09   \n",
       "362             34.0         393.0  3073761.0  3.032420e+09   \n",
       "\n",
       "                                                   NTA        lat        lon  \n",
       "0    Lower East Side                               ...  40.713764 -73.985260  \n",
       "1    Lower East Side                               ...  40.712332 -73.984797  \n",
       "2    East Village                                  ...  40.729783 -73.983041  \n",
       "3    Chinatown                                     ...  40.720569 -73.985673  \n",
       "4    Lower East Side                               ...  40.718725 -73.979426  \n",
       "..                                                 ...        ...        ...  \n",
       "358  Bushwick South                                ...  40.694482 -73.929154  \n",
       "359  Bushwick North                                ...  40.696962 -73.910816  \n",
       "360  Bushwick North                                ...  40.696962 -73.910816  \n",
       "361  Bushwick North                                ...  40.697408 -73.913153  \n",
       "362  Bushwick South                                ...  40.694996 -73.927986  \n",
       "\n",
       "[363 rows x 209 columns]"
      ],
      "text/html": "<div>\n<style scoped>\n    .dataframe tbody tr th:only-of-type {\n        vertical-align: middle;\n    }\n\n    .dataframe tbody tr th {\n        vertical-align: top;\n    }\n\n    .dataframe thead th {\n        text-align: right;\n    }\n</style>\n<table border=\"1\" class=\"dataframe\">\n  <thead>\n    <tr style=\"text-align: right;\">\n      <th></th>\n      <th>DBN</th>\n      <th>SCHOOL NAME</th>\n      <th>Num of SAT Test Takers</th>\n      <th>SAT Critical Reading Avg. Score</th>\n      <th>SAT Math Avg. Score</th>\n      <th>SAT Writing Avg. Score</th>\n      <th>sat_score</th>\n      <th>SchoolName</th>\n      <th>AP Test Takers</th>\n      <th>Total Exams Taken</th>\n      <th>...</th>\n      <th>priority10</th>\n      <th>Location 1</th>\n      <th>Community Board</th>\n      <th>Council District</th>\n      <th>Census Tract</th>\n      <th>BIN</th>\n      <th>BBL</th>\n      <th>NTA</th>\n      <th>lat</th>\n      <th>lon</th>\n    </tr>\n  </thead>\n  <tbody>\n    <tr>\n      <th>0</th>\n      <td>01M292</td>\n      <td>HENRY STREET SCHOOL FOR INTERNATIONAL STUDIES</td>\n      <td>29</td>\n      <td>355.0</td>\n      <td>404.0</td>\n      <td>363.0</td>\n      <td>1122.0</td>\n      <td>0</td>\n      <td>129.028846</td>\n      <td>197.038462</td>\n      <td>...</td>\n      <td>0.0</td>\n      <td>220 Henry Street\\nNew York, NY 10002\\n(40.7137...</td>\n      <td>3.0</td>\n      <td>1.0</td>\n      <td>201.0</td>\n      <td>1003223.0</td>\n      <td>1.002690e+09</td>\n      <td>Lower East Side                               ...</td>\n      <td>40.713764</td>\n      <td>-73.985260</td>\n    </tr>\n    <tr>\n      <th>1</th>\n      <td>01M448</td>\n      <td>UNIVERSITY NEIGHBORHOOD HIGH SCHOOL</td>\n      <td>91</td>\n      <td>383.0</td>\n      <td>423.0</td>\n      <td>366.0</td>\n      <td>1172.0</td>\n      <td>UNIVERSITY NEIGHBORHOOD H.S.</td>\n      <td>39.000000</td>\n      <td>49.000000</td>\n      <td>...</td>\n      <td>0.0</td>\n      <td>200 Monroe Street\\nNew York, NY 10002\\n(40.712...</td>\n      <td>3.0</td>\n      <td>1.0</td>\n      <td>202.0</td>\n      <td>1003214.0</td>\n      <td>1.002590e+09</td>\n      <td>Lower East Side                               ...</td>\n      <td>40.712332</td>\n      <td>-73.984797</td>\n    </tr>\n    <tr>\n      <th>2</th>\n      <td>01M450</td>\n      <td>EAST SIDE COMMUNITY SCHOOL</td>\n      <td>70</td>\n      <td>377.0</td>\n      <td>402.0</td>\n      <td>370.0</td>\n      <td>1149.0</td>\n      <td>EAST SIDE COMMUNITY HS</td>\n      <td>19.000000</td>\n      <td>21.000000</td>\n      <td>...</td>\n      <td>0.0</td>\n      <td>420 East 12 Street\\nNew York, NY 10009\\n(40.72...</td>\n      <td>3.0</td>\n      <td>2.0</td>\n      <td>34.0</td>\n      <td>1005974.0</td>\n      <td>1.004390e+09</td>\n      <td>East Village                                  ...</td>\n      <td>40.729783</td>\n      <td>-73.983041</td>\n    </tr>\n    <tr>\n      <th>3</th>\n      <td>01M509</td>\n      <td>MARTA VALLE HIGH SCHOOL</td>\n      <td>44</td>\n      <td>390.0</td>\n      <td>433.0</td>\n      <td>384.0</td>\n      <td>1207.0</td>\n      <td>0</td>\n      <td>129.028846</td>\n      <td>197.038462</td>\n      <td>...</td>\n      <td>0.0</td>\n      <td>145 Stanton Street\\nNew York, NY 10002\\n(40.72...</td>\n      <td>3.0</td>\n      <td>1.0</td>\n      <td>3001.0</td>\n      <td>1004323.0</td>\n      <td>1.003540e+09</td>\n      <td>Chinatown                                     ...</td>\n      <td>40.720569</td>\n      <td>-73.985673</td>\n    </tr>\n    <tr>\n      <th>4</th>\n      <td>01M539</td>\n      <td>NEW EXPLORATIONS INTO SCIENCE, TECHNOLOGY AND ...</td>\n      <td>159</td>\n      <td>522.0</td>\n      <td>574.0</td>\n      <td>525.0</td>\n      <td>1621.0</td>\n      <td>NEW EXPLORATIONS SCI,TECH,MATH</td>\n      <td>255.000000</td>\n      <td>377.000000</td>\n      <td>...</td>\n      <td>0.0</td>\n      <td>111 Columbia Street\\nNew York, NY 10002\\n(40.7...</td>\n      <td>3.0</td>\n      <td>2.0</td>\n      <td>2201.0</td>\n      <td>1004070.0</td>\n      <td>1.003350e+09</td>\n      <td>Lower East Side                               ...</td>\n      <td>40.718725</td>\n      <td>-73.979426</td>\n    </tr>\n    <tr>\n      <th>...</th>\n      <td>...</td>\n      <td>...</td>\n      <td>...</td>\n      <td>...</td>\n      <td>...</td>\n      <td>...</td>\n      <td>...</td>\n      <td>...</td>\n      <td>...</td>\n      <td>...</td>\n      <td>...</td>\n      <td>...</td>\n      <td>...</td>\n      <td>...</td>\n      <td>...</td>\n      <td>...</td>\n      <td>...</td>\n      <td>...</td>\n      <td>...</td>\n      <td>...</td>\n      <td>...</td>\n    </tr>\n    <tr>\n      <th>358</th>\n      <td>32K545</td>\n      <td>EBC HIGH SCHOOL FOR PUBLIC SERVICE–BUSHWICK</td>\n      <td>88</td>\n      <td>384.0</td>\n      <td>409.0</td>\n      <td>361.0</td>\n      <td>1154.0</td>\n      <td>EBC-HS FOR PUB SERVICE (BUSH)</td>\n      <td>47.000000</td>\n      <td>64.000000</td>\n      <td>...</td>\n      <td>0.0</td>\n      <td>1155 Dekalb Avenue\\nBrooklyn, NY 11221\\n(40.69...</td>\n      <td>4.0</td>\n      <td>34.0</td>\n      <td>393.0</td>\n      <td>3073462.0</td>\n      <td>3.032300e+09</td>\n      <td>Bushwick South                                ...</td>\n      <td>40.694482</td>\n      <td>-73.929154</td>\n    </tr>\n    <tr>\n      <th>359</th>\n      <td>32K549</td>\n      <td>BUSHWICK SCHOOL FOR SOCIAL JUSTICE</td>\n      <td>75</td>\n      <td>348.0</td>\n      <td>353.0</td>\n      <td>334.0</td>\n      <td>1035.0</td>\n      <td>0</td>\n      <td>129.028846</td>\n      <td>197.038462</td>\n      <td>...</td>\n      <td>0.0</td>\n      <td>400 Irving Avenue\\nBrooklyn, NY 11237\\n(40.696...</td>\n      <td>4.0</td>\n      <td>37.0</td>\n      <td>435.0</td>\n      <td>3076908.0</td>\n      <td>3.033650e+09</td>\n      <td>Bushwick North                                ...</td>\n      <td>40.696962</td>\n      <td>-73.910816</td>\n    </tr>\n    <tr>\n      <th>360</th>\n      <td>32K552</td>\n      <td>ACADEMY OF URBAN PLANNING</td>\n      <td>67</td>\n      <td>342.0</td>\n      <td>364.0</td>\n      <td>354.0</td>\n      <td>1060.0</td>\n      <td>Academy of Urban Planning</td>\n      <td>76.000000</td>\n      <td>100.000000</td>\n      <td>...</td>\n      <td>0.0</td>\n      <td>400 Irving Avenue\\nBrooklyn, NY 11237\\n(40.696...</td>\n      <td>4.0</td>\n      <td>37.0</td>\n      <td>435.0</td>\n      <td>3076908.0</td>\n      <td>3.033650e+09</td>\n      <td>Bushwick North                                ...</td>\n      <td>40.696962</td>\n      <td>-73.910816</td>\n    </tr>\n    <tr>\n      <th>361</th>\n      <td>32K554</td>\n      <td>ALL CITY LEADERSHIP SECONDARY SCHOOL</td>\n      <td>39</td>\n      <td>428.0</td>\n      <td>465.0</td>\n      <td>422.0</td>\n      <td>1315.0</td>\n      <td>All City Leadership Secondary School</td>\n      <td>7.000000</td>\n      <td>8.000000</td>\n      <td>...</td>\n      <td>0.0</td>\n      <td>321 Palmetto Street\\nBrooklyn, NY 11237\\n(40.6...</td>\n      <td>4.0</td>\n      <td>37.0</td>\n      <td>433.0</td>\n      <td>3413715.0</td>\n      <td>3.033440e+09</td>\n      <td>Bushwick North                                ...</td>\n      <td>40.697408</td>\n      <td>-73.913153</td>\n    </tr>\n    <tr>\n      <th>362</th>\n      <td>32K556</td>\n      <td>BUSHWICK LEADERS HIGH SCHOOL FOR ACADEMIC EXCE...</td>\n      <td>23</td>\n      <td>347.0</td>\n      <td>358.0</td>\n      <td>350.0</td>\n      <td>1055.0</td>\n      <td>Bushwick Leaders High School for Academic Exce...</td>\n      <td>34.000000</td>\n      <td>35.000000</td>\n      <td>...</td>\n      <td>0.0</td>\n      <td>797 Bushwick Avenue\\nBrooklyn, NY 11221\\n(40.6...</td>\n      <td>4.0</td>\n      <td>34.0</td>\n      <td>393.0</td>\n      <td>3073761.0</td>\n      <td>3.032420e+09</td>\n      <td>Bushwick South                                ...</td>\n      <td>40.694996</td>\n      <td>-73.927986</td>\n    </tr>\n  </tbody>\n</table>\n<p>363 rows × 209 columns</p>\n</div>"
     },
     "metadata": {},
     "execution_count": 385
    }
   ],
   "source": [
    "# calculate the means\n",
    "means = combined.mean()\n",
    "# filling missing values\n",
    "combined.fillna(means, inplace=True)\n",
    "# fill remaining missing values with 0\n",
    "combined.fillna(0,inplace=True)\n",
    "combined"
   ]
  },
  {
   "source": [
    "## Adding School District Column\n",
    "\n",
    "In order to map out our analyses on school districts a column containing the first two chars of the DBN col would be preferable."
   ],
   "cell_type": "markdown",
   "metadata": {}
  },
  {
   "cell_type": "code",
   "execution_count": 388,
   "metadata": {},
   "outputs": [
    {
     "output_type": "execute_result",
     "data": {
      "text/plain": [
       "0     01\n",
       "1     01\n",
       "2     01\n",
       "3     01\n",
       "4     01\n",
       "5     01\n",
       "6     02\n",
       "7     02\n",
       "8     02\n",
       "9     02\n",
       "10    02\n",
       "11    02\n",
       "12    02\n",
       "13    02\n",
       "14    02\n",
       "15    02\n",
       "16    02\n",
       "17    02\n",
       "18    02\n",
       "19    02\n",
       "Name: school_dist, dtype: object"
      ]
     },
     "metadata": {},
     "execution_count": 388
    }
   ],
   "source": [
    "# define func to pull out first two chars of a string\n",
    "def first_two(instr):\n",
    "    return instr[0:2]\n",
    "\n",
    "# apply to DBN\n",
    "combined['school_dist'] = combined['DBN'].apply(first_two)\n",
    "\n",
    "combined['school_dist'].head(20)"
   ]
  },
  {
   "source": [
    "# Analyzing and Visualizing the Data"
   ],
   "cell_type": "markdown",
   "metadata": {}
  },
  {
   "cell_type": "code",
   "execution_count": null,
   "metadata": {},
   "outputs": [],
   "source": []
  }
 ]
}