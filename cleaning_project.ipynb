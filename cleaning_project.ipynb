{
 "metadata": {
  "language_info": {
   "codemirror_mode": {
    "name": "ipython",
    "version": 3
   },
   "file_extension": ".py",
   "mimetype": "text/x-python",
   "name": "python",
   "nbconvert_exporter": "python",
   "pygments_lexer": "ipython3",
   "version": "3.8.5-final"
  },
  "orig_nbformat": 2,
  "kernelspec": {
   "name": "python3",
   "display_name": "Python 3"
  }
 },
 "nbformat": 4,
 "nbformat_minor": 2,
 "cells": [
  {
   "source": [
    "# Investiagating School Data\n",
    "\n",
    "*Disclaimer: This project is based on the data cleaning walkthrough provided by dataquest.io. Though my own take on this project might differ from what can be found on their website.*\n",
    "\n",
    "### The Project\n",
    "In this project I will try to showcase my skills in data cleaning, data exploration and presentation. While I will perform some analyses on this project, they will remain at a lower level of complexity. If you want to see my performance on more complex issues, I would refer you to my other projects.\n",
    "\n",
    "### The Question\n",
    "In this project, I will try to investigate whether standardized testing in U.S. highschools is efficiant and if certain groups are at a disadvantage.  \n",
    "\n",
    "### The Data\n",
    "In order to answer said question, I am going to use publicly accessible SAT data from 2012 from the city of New York. In order to investigate demographics I need more data though. Here's a list of all datasets I am going to use:\n",
    "\n",
    "* [SAT scores by school](https://data.cityofnewyork.us/Education/2012-SAT-Results/f9bf-2cp4) - SAT scores for each high school in New York City\n",
    "* [School attendance](https://data.cityofnewyork.us/Education/2010-2011-School-Attendance-and-Enrollment-Statist/7z8d-msnt) - Attendance information for each school in New York City\n",
    "* [Class size](https://data.cityofnewyork.us/Education/2010-2011-Class-Size-School-level-detail/urz7-pzb3) - Information on class size for each school\n",
    "* [AP test results](https://data.cityofnewyork.us/Education/AP-College-Board-2010-School-Level-Results/itfs-ms3e) - Advanced Placement (AP) exam results for each high school (passing an optional AP exam in a particular subject can earn a student college credit in that subject)\n",
    "* [Graduation outcomes](https://data.cityofnewyork.us/Education/2005-2010-Graduation-Outcomes-School-Level/vh2h-md7a) - The percentage of students who graduated, and other outcome information\n",
    "* [Demographics](https://data.cityofnewyork.us/Education/2006-2012-School-Demographics-and-Accountability-S/ihfw-zy9j) - Demographic information for each school\n",
    "* [School survey](https://data.cityofnewyork.us/Education/2011-NYC-School-Survey/mnz3-dyi8) - Surveys of parents, teachers, and students at each school\n",
    "\n",
    "\n",
    "\n",
    "\n",
    "\n",
    "\n",
    "\n",
    "\n"
   ],
   "cell_type": "markdown",
   "metadata": {}
  },
  {
   "source": [
    "## Reading the Data"
   ],
   "cell_type": "markdown",
   "metadata": {}
  },
  {
   "cell_type": "code",
   "execution_count": 145,
   "metadata": {},
   "outputs": [],
   "source": [
    "#read in the csv files\n",
    "import pandas as pd\n",
    "data_files = [\"ap_2010.csv\",\n",
    "    \"class_size.csv\",\n",
    "    \"demographics.csv\",\n",
    "    \"graduation.csv\",\n",
    "    \"hs_directory.csv\",\n",
    "    \"sat_results.csv\"\n",
    "]\n",
    "data = {}\n",
    "for f in data_files:\n",
    "    d = pd.read_csv('data/{}'.format(f))\n",
    "    key_name = f.replace('.csv', '')\n",
    "    data[key_name] = d"
   ]
  },
  {
   "cell_type": "code",
   "execution_count": 146,
   "metadata": {},
   "outputs": [
    {
     "output_type": "execute_result",
     "data": {
      "text/plain": [
       "      DBN                                    SCHOOL NAME  \\\n",
       "0  01M292  HENRY STREET SCHOOL FOR INTERNATIONAL STUDIES   \n",
       "1  01M448            UNIVERSITY NEIGHBORHOOD HIGH SCHOOL   \n",
       "2  01M450                     EAST SIDE COMMUNITY SCHOOL   \n",
       "3  01M458                      FORSYTH SATELLITE ACADEMY   \n",
       "4  01M509                        MARTA VALLE HIGH SCHOOL   \n",
       "\n",
       "  Num of SAT Test Takers SAT Critical Reading Avg. Score SAT Math Avg. Score  \\\n",
       "0                     29                             355                 404   \n",
       "1                     91                             383                 423   \n",
       "2                     70                             377                 402   \n",
       "3                      7                             414                 401   \n",
       "4                     44                             390                 433   \n",
       "\n",
       "  SAT Writing Avg. Score  \n",
       "0                    363  \n",
       "1                    366  \n",
       "2                    370  \n",
       "3                    359  \n",
       "4                    384  "
      ],
      "text/html": "<div>\n<style scoped>\n    .dataframe tbody tr th:only-of-type {\n        vertical-align: middle;\n    }\n\n    .dataframe tbody tr th {\n        vertical-align: top;\n    }\n\n    .dataframe thead th {\n        text-align: right;\n    }\n</style>\n<table border=\"1\" class=\"dataframe\">\n  <thead>\n    <tr style=\"text-align: right;\">\n      <th></th>\n      <th>DBN</th>\n      <th>SCHOOL NAME</th>\n      <th>Num of SAT Test Takers</th>\n      <th>SAT Critical Reading Avg. Score</th>\n      <th>SAT Math Avg. Score</th>\n      <th>SAT Writing Avg. Score</th>\n    </tr>\n  </thead>\n  <tbody>\n    <tr>\n      <th>0</th>\n      <td>01M292</td>\n      <td>HENRY STREET SCHOOL FOR INTERNATIONAL STUDIES</td>\n      <td>29</td>\n      <td>355</td>\n      <td>404</td>\n      <td>363</td>\n    </tr>\n    <tr>\n      <th>1</th>\n      <td>01M448</td>\n      <td>UNIVERSITY NEIGHBORHOOD HIGH SCHOOL</td>\n      <td>91</td>\n      <td>383</td>\n      <td>423</td>\n      <td>366</td>\n    </tr>\n    <tr>\n      <th>2</th>\n      <td>01M450</td>\n      <td>EAST SIDE COMMUNITY SCHOOL</td>\n      <td>70</td>\n      <td>377</td>\n      <td>402</td>\n      <td>370</td>\n    </tr>\n    <tr>\n      <th>3</th>\n      <td>01M458</td>\n      <td>FORSYTH SATELLITE ACADEMY</td>\n      <td>7</td>\n      <td>414</td>\n      <td>401</td>\n      <td>359</td>\n    </tr>\n    <tr>\n      <th>4</th>\n      <td>01M509</td>\n      <td>MARTA VALLE HIGH SCHOOL</td>\n      <td>44</td>\n      <td>390</td>\n      <td>433</td>\n      <td>384</td>\n    </tr>\n  </tbody>\n</table>\n</div>"
     },
     "metadata": {},
     "execution_count": 146
    }
   ],
   "source": [
    "data['sat_results'].head()"
   ]
  },
  {
   "cell_type": "code",
   "execution_count": 147,
   "metadata": {},
   "outputs": [
    {
     "output_type": "stream",
     "name": "stdout",
     "text": [
      "      DBN                             SchoolName  AP Test Takers   \\\n0  01M448           UNIVERSITY NEIGHBORHOOD H.S.             39.0   \n1  01M450                 EAST SIDE COMMUNITY HS             19.0   \n2  01M515                    LOWER EASTSIDE PREP             24.0   \n3  01M539         NEW EXPLORATIONS SCI,TECH,MATH            255.0   \n4  02M296  High School of Hospitality Management              NaN   \n\n   Total Exams Taken  Number of Exams with scores 3 4 or 5  \n0               49.0                                  10.0  \n1               21.0                                   NaN  \n2               26.0                                  24.0  \n3              377.0                                 191.0  \n4                NaN                                   NaN  \n   CSD BOROUGH SCHOOL CODE                SCHOOL NAME GRADE  PROGRAM TYPE  \\\n0    1       M        M015  P.S. 015 Roberto Clemente     0K       GEN ED   \n1    1       M        M015  P.S. 015 Roberto Clemente     0K          CTT   \n2    1       M        M015  P.S. 015 Roberto Clemente     01       GEN ED   \n3    1       M        M015  P.S. 015 Roberto Clemente     01          CTT   \n4    1       M        M015  P.S. 015 Roberto Clemente     02       GEN ED   \n\n  CORE SUBJECT (MS CORE and 9-12 ONLY) CORE COURSE (MS CORE and 9-12 ONLY)  \\\n0                                    -                                   -   \n1                                    -                                   -   \n2                                    -                                   -   \n3                                    -                                   -   \n4                                    -                                   -   \n\n  SERVICE CATEGORY(K-9* ONLY)  NUMBER OF STUDENTS / SEATS FILLED  \\\n0                           -                               19.0   \n1                           -                               21.0   \n2                           -                               17.0   \n3                           -                               17.0   \n4                           -                               15.0   \n\n   NUMBER OF SECTIONS  AVERAGE CLASS SIZE  SIZE OF SMALLEST CLASS  \\\n0                 1.0                19.0                    19.0   \n1                 1.0                21.0                    21.0   \n2                 1.0                17.0                    17.0   \n3                 1.0                17.0                    17.0   \n4                 1.0                15.0                    15.0   \n\n   SIZE OF LARGEST CLASS DATA SOURCE  SCHOOLWIDE PUPIL-TEACHER RATIO  \n0                   19.0         ATS                             NaN  \n1                   21.0         ATS                             NaN  \n2                   17.0         ATS                             NaN  \n3                   17.0         ATS                             NaN  \n4                   15.0         ATS                             NaN  \n      DBN                       Name  schoolyear fl_percent  frl_percent  \\\n0  01M015  P.S. 015 ROBERTO CLEMENTE    20052006       89.4          NaN   \n1  01M015  P.S. 015 ROBERTO CLEMENTE    20062007       89.4          NaN   \n2  01M015  P.S. 015 ROBERTO CLEMENTE    20072008       89.4          NaN   \n3  01M015  P.S. 015 ROBERTO CLEMENTE    20082009       89.4          NaN   \n4  01M015  P.S. 015 ROBERTO CLEMENTE    20092010                    96.5   \n\n   total_enrollment prek   k grade1 grade2  ... black_num black_per  \\\n0               281   15  36     40     33  ...        74      26.3   \n1               243   15  29     39     38  ...        68      28.0   \n2               261   18  43     39     36  ...        77      29.5   \n3               252   17  37     44     32  ...        75      29.8   \n4               208   16  40     28     32  ...        67      32.2   \n\n  hispanic_num hispanic_per white_num white_per male_num male_per female_num  \\\n0          189         67.3         5       1.8    158.0     56.2      123.0   \n1          153         63.0         4       1.6    140.0     57.6      103.0   \n2          157         60.2         7       2.7    143.0     54.8      118.0   \n3          149         59.1         7       2.8    149.0     59.1      103.0   \n4          118         56.7         6       2.9    124.0     59.6       84.0   \n\n  female_per  \n0       43.8  \n1       42.4  \n2       45.2  \n3       40.9  \n4       40.4  \n\n[5 rows x 38 columns]\n    Demographic     DBN                            School Name    Cohort  \\\n0  Total Cohort  01M292  HENRY STREET SCHOOL FOR INTERNATIONAL      2003   \n1  Total Cohort  01M292  HENRY STREET SCHOOL FOR INTERNATIONAL      2004   \n2  Total Cohort  01M292  HENRY STREET SCHOOL FOR INTERNATIONAL      2005   \n3  Total Cohort  01M292  HENRY STREET SCHOOL FOR INTERNATIONAL      2006   \n4  Total Cohort  01M292  HENRY STREET SCHOOL FOR INTERNATIONAL  2006 Aug   \n\n   Total Cohort Total Grads - n  Total Grads - % of cohort Total Regents - n  \\\n0             5               s                        NaN                 s   \n1            55              37                       67.3                17   \n2            64              43                       67.2                27   \n3            78              43                       55.1                36   \n4            78              44                       56.4                37   \n\n   Total Regents - % of cohort  Total Regents - % of grads  ...  \\\n0                          NaN                         NaN  ...   \n1                         30.9                        45.9  ...   \n2                         42.2                        62.8  ...   \n3                         46.2                        83.7  ...   \n4                         47.4                        84.1  ...   \n\n  Regents w/o Advanced - n  Regents w/o Advanced - % of cohort  \\\n0                        s                                 NaN   \n1                       17                                30.9   \n2                       27                                42.2   \n3                       36                                46.2   \n4                       37                                47.4   \n\n   Regents w/o Advanced - % of grads Local - n  Local - % of cohort  \\\n0                                NaN         s                  NaN   \n1                               45.9        20                 36.4   \n2                               62.8        16                 25.0   \n3                               83.7         7                  9.0   \n4                               84.1         7                  9.0   \n\n   Local - % of grads Still Enrolled - n  Still Enrolled - % of cohort  \\\n0                 NaN                  s                           NaN   \n1                54.1                 15                          27.3   \n2                37.2                  9                          14.1   \n3                16.3                 16                          20.5   \n4                15.9                 15                          19.2   \n\n   Dropped Out - n Dropped Out - % of cohort  \n0                s                       NaN  \n1                3                       5.5  \n2                9                      14.1  \n3               11                      14.1  \n4               11                      14.1  \n\n[5 rows x 23 columns]\n      dbn                                        school_name    borough  \\\n0  27Q260          Frederick Douglass Academy VI High School     Queens   \n1  21K559        Life Academy High School for Film and Music   Brooklyn   \n2  16K393     Frederick Douglass Academy IV Secondary School   Brooklyn   \n3  08X305                               Pablo Neruda Academy      Bronx   \n4  03M485  Fiorello H. LaGuardia High School of Music & A...  Manhattan   \n\n  building_code  phone_number    fax_number  grade_span_min  grade_span_max  \\\n0          Q465  718-471-2154  718-471-2890             9.0              12   \n1          K400  718-333-7750  718-333-7775             9.0              12   \n2          K026  718-574-2820  718-574-2821             9.0              12   \n3          X450  718-824-1682  718-824-1663             9.0              12   \n4          M485  212-496-0700  212-724-5748             9.0              12   \n\n   expgrade_span_min  expgrade_span_max  ... priority08 priority09 priority10  \\\n0                NaN                NaN  ...        NaN        NaN        NaN   \n1                NaN                NaN  ...        NaN        NaN        NaN   \n2                NaN                NaN  ...        NaN        NaN        NaN   \n3                NaN                NaN  ...        NaN        NaN        NaN   \n4                NaN                NaN  ...        NaN        NaN        NaN   \n\n                                          Location 1 Community Board  \\\n0  8 21 Bay 25 Street\\nFar Rockaway, NY 11691\\n(4...            14.0   \n1  2630 Benson Avenue\\nBrooklyn, NY 11214\\n(40.59...            13.0   \n2  1014 Lafayette Avenue\\nBrooklyn, NY 11221\\n(40...             3.0   \n3  1980 Lafayette Avenue\\nBronx, NY 10473\\n(40.82...             9.0   \n4  100 Amsterdam Avenue\\nNew York, NY 10023\\n(40....             7.0   \n\n   Council District Census Tract        BIN           BBL  \\\n0              31.0     100802.0  4300730.0  4.157360e+09   \n1              47.0        306.0  3186454.0  3.068830e+09   \n2              36.0        291.0  3393805.0  3.016160e+09   \n3              18.0         16.0  2022205.0  2.036040e+09   \n4               6.0        151.0  1030341.0  1.011560e+09   \n\n                                                 NTA  \n0  Far Rockaway-Bayswater                        ...  \n1  Gravesend                                     ...  \n2  Stuyvesant Heights                            ...  \n3  Soundview-Castle Hill-Clason Point-Harding Par...  \n4  Lincoln Square                                ...  \n\n[5 rows x 64 columns]\n      DBN                                    SCHOOL NAME  \\\n0  01M292  HENRY STREET SCHOOL FOR INTERNATIONAL STUDIES   \n1  01M448            UNIVERSITY NEIGHBORHOOD HIGH SCHOOL   \n2  01M450                     EAST SIDE COMMUNITY SCHOOL   \n3  01M458                      FORSYTH SATELLITE ACADEMY   \n4  01M509                        MARTA VALLE HIGH SCHOOL   \n\n  Num of SAT Test Takers SAT Critical Reading Avg. Score SAT Math Avg. Score  \\\n0                     29                             355                 404   \n1                     91                             383                 423   \n2                     70                             377                 402   \n3                      7                             414                 401   \n4                     44                             390                 433   \n\n  SAT Writing Avg. Score  \n0                    363  \n1                    366  \n2                    370  \n3                    359  \n4                    384  \n"
     ]
    }
   ],
   "source": [
    "for c in data:\n",
    "    print(data[c].head())"
   ]
  },
  {
   "cell_type": "code",
   "execution_count": 148,
   "metadata": {},
   "outputs": [],
   "source": [
    "# reading in the survey files\n",
    "\n",
    "all_survey = pd.read_csv('data/survey_all.txt', delimiter='\\t', encoding='windows-1252')\n",
    "d75_survey = pd.read_csv('data/survey_d75.txt', delimiter='\\t', encoding='windows-1252')"
   ]
  },
  {
   "cell_type": "code",
   "execution_count": 149,
   "metadata": {},
   "outputs": [
    {
     "output_type": "execute_result",
     "data": {
      "text/plain": [
       "      dbn    bn                      schoolname  d75 studentssurveyed  \\\n",
       "0  01M015  M015       P.S. 015 Roberto Clemente    0               No   \n",
       "1  01M019  M019             P.S. 019 Asher Levy    0               No   \n",
       "2  01M020  M020            P.S. 020 Anna Silver    0               No   \n",
       "3  01M034  M034  P.S. 034 Franklin D. Roosevelt    0              Yes   \n",
       "4  01M063  M063       P.S. 063 William McKinley    0               No   \n",
       "\n",
       "   highschool                  schooltype  rr_s  rr_t  rr_p  ...  s_q14_2  \\\n",
       "0         0.0           Elementary School   NaN    88    60  ...      NaN   \n",
       "1         0.0           Elementary School   NaN   100    60  ...      NaN   \n",
       "2         0.0           Elementary School   NaN    88    73  ...      NaN   \n",
       "3         0.0  Elementary / Middle School  89.0    73    50  ...      NaN   \n",
       "4         0.0           Elementary School   NaN   100    60  ...      NaN   \n",
       "\n",
       "   s_q14_3  s_q14_4  s_q14_5  s_q14_6  s_q14_7  s_q14_8  s_q14_9  s_q14_10  \\\n",
       "0      NaN      NaN      NaN      NaN      NaN      NaN      NaN       NaN   \n",
       "1      NaN      NaN      NaN      NaN      NaN      NaN      NaN       NaN   \n",
       "2      NaN      NaN      NaN      NaN      NaN      NaN      NaN       NaN   \n",
       "3      NaN      NaN      NaN      NaN      NaN      NaN      NaN       NaN   \n",
       "4      NaN      NaN      NaN      NaN      NaN      NaN      NaN       NaN   \n",
       "\n",
       "   s_q14_11  \n",
       "0       NaN  \n",
       "1       NaN  \n",
       "2       NaN  \n",
       "3       NaN  \n",
       "4       NaN  \n",
       "\n",
       "[5 rows x 2773 columns]"
      ],
      "text/html": "<div>\n<style scoped>\n    .dataframe tbody tr th:only-of-type {\n        vertical-align: middle;\n    }\n\n    .dataframe tbody tr th {\n        vertical-align: top;\n    }\n\n    .dataframe thead th {\n        text-align: right;\n    }\n</style>\n<table border=\"1\" class=\"dataframe\">\n  <thead>\n    <tr style=\"text-align: right;\">\n      <th></th>\n      <th>dbn</th>\n      <th>bn</th>\n      <th>schoolname</th>\n      <th>d75</th>\n      <th>studentssurveyed</th>\n      <th>highschool</th>\n      <th>schooltype</th>\n      <th>rr_s</th>\n      <th>rr_t</th>\n      <th>rr_p</th>\n      <th>...</th>\n      <th>s_q14_2</th>\n      <th>s_q14_3</th>\n      <th>s_q14_4</th>\n      <th>s_q14_5</th>\n      <th>s_q14_6</th>\n      <th>s_q14_7</th>\n      <th>s_q14_8</th>\n      <th>s_q14_9</th>\n      <th>s_q14_10</th>\n      <th>s_q14_11</th>\n    </tr>\n  </thead>\n  <tbody>\n    <tr>\n      <th>0</th>\n      <td>01M015</td>\n      <td>M015</td>\n      <td>P.S. 015 Roberto Clemente</td>\n      <td>0</td>\n      <td>No</td>\n      <td>0.0</td>\n      <td>Elementary School</td>\n      <td>NaN</td>\n      <td>88</td>\n      <td>60</td>\n      <td>...</td>\n      <td>NaN</td>\n      <td>NaN</td>\n      <td>NaN</td>\n      <td>NaN</td>\n      <td>NaN</td>\n      <td>NaN</td>\n      <td>NaN</td>\n      <td>NaN</td>\n      <td>NaN</td>\n      <td>NaN</td>\n    </tr>\n    <tr>\n      <th>1</th>\n      <td>01M019</td>\n      <td>M019</td>\n      <td>P.S. 019 Asher Levy</td>\n      <td>0</td>\n      <td>No</td>\n      <td>0.0</td>\n      <td>Elementary School</td>\n      <td>NaN</td>\n      <td>100</td>\n      <td>60</td>\n      <td>...</td>\n      <td>NaN</td>\n      <td>NaN</td>\n      <td>NaN</td>\n      <td>NaN</td>\n      <td>NaN</td>\n      <td>NaN</td>\n      <td>NaN</td>\n      <td>NaN</td>\n      <td>NaN</td>\n      <td>NaN</td>\n    </tr>\n    <tr>\n      <th>2</th>\n      <td>01M020</td>\n      <td>M020</td>\n      <td>P.S. 020 Anna Silver</td>\n      <td>0</td>\n      <td>No</td>\n      <td>0.0</td>\n      <td>Elementary School</td>\n      <td>NaN</td>\n      <td>88</td>\n      <td>73</td>\n      <td>...</td>\n      <td>NaN</td>\n      <td>NaN</td>\n      <td>NaN</td>\n      <td>NaN</td>\n      <td>NaN</td>\n      <td>NaN</td>\n      <td>NaN</td>\n      <td>NaN</td>\n      <td>NaN</td>\n      <td>NaN</td>\n    </tr>\n    <tr>\n      <th>3</th>\n      <td>01M034</td>\n      <td>M034</td>\n      <td>P.S. 034 Franklin D. Roosevelt</td>\n      <td>0</td>\n      <td>Yes</td>\n      <td>0.0</td>\n      <td>Elementary / Middle School</td>\n      <td>89.0</td>\n      <td>73</td>\n      <td>50</td>\n      <td>...</td>\n      <td>NaN</td>\n      <td>NaN</td>\n      <td>NaN</td>\n      <td>NaN</td>\n      <td>NaN</td>\n      <td>NaN</td>\n      <td>NaN</td>\n      <td>NaN</td>\n      <td>NaN</td>\n      <td>NaN</td>\n    </tr>\n    <tr>\n      <th>4</th>\n      <td>01M063</td>\n      <td>M063</td>\n      <td>P.S. 063 William McKinley</td>\n      <td>0</td>\n      <td>No</td>\n      <td>0.0</td>\n      <td>Elementary School</td>\n      <td>NaN</td>\n      <td>100</td>\n      <td>60</td>\n      <td>...</td>\n      <td>NaN</td>\n      <td>NaN</td>\n      <td>NaN</td>\n      <td>NaN</td>\n      <td>NaN</td>\n      <td>NaN</td>\n      <td>NaN</td>\n      <td>NaN</td>\n      <td>NaN</td>\n      <td>NaN</td>\n    </tr>\n  </tbody>\n</table>\n<p>5 rows × 2773 columns</p>\n</div>"
     },
     "metadata": {},
     "execution_count": 149
    }
   ],
   "source": [
    "survey = pd.concat([all_survey, d75_survey], axis=0)\n",
    "survey.head()"
   ]
  },
  {
   "source": [
    "Most of the data displayed is not of interest for us. It seems the most interesting columns for us, according to the dictionary available at the source of the data are:\n",
    "\n",
    "\\[\"dbn\", \"rr_s\", \"rr_t\", \"rr_p\", \"N_s\", \"N_t\", \"N_p\", \"saf_p_11\", \"com_p_11\", \"eng_p_11\", \"aca_p_11\", \"saf_t_11\", \"com_t_11\", \"eng_t_11\", \"aca_t_11\", \"saf_s_11\", \"com_s_11\", \"eng_s_11\", \"aca_s_11\", \"saf_tot_11\", \"com_tot_11\", \"eng_tot_11\", \"aca_tot_11\"\\]\n",
    "\n",
    "We want to filter the data and also change the name of the column 'dbn' to 'DBN' to match our other datasets.\n"
   ],
   "cell_type": "markdown",
   "metadata": {}
  },
  {
   "cell_type": "code",
   "execution_count": 150,
   "metadata": {},
   "outputs": [],
   "source": [
    "survey['DBN'] = survey['dbn']"
   ]
  },
  {
   "cell_type": "code",
   "execution_count": 151,
   "metadata": {},
   "outputs": [
    {
     "output_type": "execute_result",
     "data": {
      "text/plain": [
       "      dbn    bn                      schoolname  d75 studentssurveyed  \\\n",
       "0  01M015  M015       P.S. 015 Roberto Clemente    0               No   \n",
       "1  01M019  M019             P.S. 019 Asher Levy    0               No   \n",
       "2  01M020  M020            P.S. 020 Anna Silver    0               No   \n",
       "3  01M034  M034  P.S. 034 Franklin D. Roosevelt    0              Yes   \n",
       "4  01M063  M063       P.S. 063 William McKinley    0               No   \n",
       "\n",
       "   highschool                  schooltype  rr_s  rr_t  rr_p  ...  s_q14_3  \\\n",
       "0         0.0           Elementary School   NaN    88    60  ...      NaN   \n",
       "1         0.0           Elementary School   NaN   100    60  ...      NaN   \n",
       "2         0.0           Elementary School   NaN    88    73  ...      NaN   \n",
       "3         0.0  Elementary / Middle School  89.0    73    50  ...      NaN   \n",
       "4         0.0           Elementary School   NaN   100    60  ...      NaN   \n",
       "\n",
       "   s_q14_4  s_q14_5  s_q14_6  s_q14_7  s_q14_8  s_q14_9  s_q14_10  s_q14_11  \\\n",
       "0      NaN      NaN      NaN      NaN      NaN      NaN       NaN       NaN   \n",
       "1      NaN      NaN      NaN      NaN      NaN      NaN       NaN       NaN   \n",
       "2      NaN      NaN      NaN      NaN      NaN      NaN       NaN       NaN   \n",
       "3      NaN      NaN      NaN      NaN      NaN      NaN       NaN       NaN   \n",
       "4      NaN      NaN      NaN      NaN      NaN      NaN       NaN       NaN   \n",
       "\n",
       "      DBN  \n",
       "0  01M015  \n",
       "1  01M019  \n",
       "2  01M020  \n",
       "3  01M034  \n",
       "4  01M063  \n",
       "\n",
       "[5 rows x 2774 columns]"
      ],
      "text/html": "<div>\n<style scoped>\n    .dataframe tbody tr th:only-of-type {\n        vertical-align: middle;\n    }\n\n    .dataframe tbody tr th {\n        vertical-align: top;\n    }\n\n    .dataframe thead th {\n        text-align: right;\n    }\n</style>\n<table border=\"1\" class=\"dataframe\">\n  <thead>\n    <tr style=\"text-align: right;\">\n      <th></th>\n      <th>dbn</th>\n      <th>bn</th>\n      <th>schoolname</th>\n      <th>d75</th>\n      <th>studentssurveyed</th>\n      <th>highschool</th>\n      <th>schooltype</th>\n      <th>rr_s</th>\n      <th>rr_t</th>\n      <th>rr_p</th>\n      <th>...</th>\n      <th>s_q14_3</th>\n      <th>s_q14_4</th>\n      <th>s_q14_5</th>\n      <th>s_q14_6</th>\n      <th>s_q14_7</th>\n      <th>s_q14_8</th>\n      <th>s_q14_9</th>\n      <th>s_q14_10</th>\n      <th>s_q14_11</th>\n      <th>DBN</th>\n    </tr>\n  </thead>\n  <tbody>\n    <tr>\n      <th>0</th>\n      <td>01M015</td>\n      <td>M015</td>\n      <td>P.S. 015 Roberto Clemente</td>\n      <td>0</td>\n      <td>No</td>\n      <td>0.0</td>\n      <td>Elementary School</td>\n      <td>NaN</td>\n      <td>88</td>\n      <td>60</td>\n      <td>...</td>\n      <td>NaN</td>\n      <td>NaN</td>\n      <td>NaN</td>\n      <td>NaN</td>\n      <td>NaN</td>\n      <td>NaN</td>\n      <td>NaN</td>\n      <td>NaN</td>\n      <td>NaN</td>\n      <td>01M015</td>\n    </tr>\n    <tr>\n      <th>1</th>\n      <td>01M019</td>\n      <td>M019</td>\n      <td>P.S. 019 Asher Levy</td>\n      <td>0</td>\n      <td>No</td>\n      <td>0.0</td>\n      <td>Elementary School</td>\n      <td>NaN</td>\n      <td>100</td>\n      <td>60</td>\n      <td>...</td>\n      <td>NaN</td>\n      <td>NaN</td>\n      <td>NaN</td>\n      <td>NaN</td>\n      <td>NaN</td>\n      <td>NaN</td>\n      <td>NaN</td>\n      <td>NaN</td>\n      <td>NaN</td>\n      <td>01M019</td>\n    </tr>\n    <tr>\n      <th>2</th>\n      <td>01M020</td>\n      <td>M020</td>\n      <td>P.S. 020 Anna Silver</td>\n      <td>0</td>\n      <td>No</td>\n      <td>0.0</td>\n      <td>Elementary School</td>\n      <td>NaN</td>\n      <td>88</td>\n      <td>73</td>\n      <td>...</td>\n      <td>NaN</td>\n      <td>NaN</td>\n      <td>NaN</td>\n      <td>NaN</td>\n      <td>NaN</td>\n      <td>NaN</td>\n      <td>NaN</td>\n      <td>NaN</td>\n      <td>NaN</td>\n      <td>01M020</td>\n    </tr>\n    <tr>\n      <th>3</th>\n      <td>01M034</td>\n      <td>M034</td>\n      <td>P.S. 034 Franklin D. Roosevelt</td>\n      <td>0</td>\n      <td>Yes</td>\n      <td>0.0</td>\n      <td>Elementary / Middle School</td>\n      <td>89.0</td>\n      <td>73</td>\n      <td>50</td>\n      <td>...</td>\n      <td>NaN</td>\n      <td>NaN</td>\n      <td>NaN</td>\n      <td>NaN</td>\n      <td>NaN</td>\n      <td>NaN</td>\n      <td>NaN</td>\n      <td>NaN</td>\n      <td>NaN</td>\n      <td>01M034</td>\n    </tr>\n    <tr>\n      <th>4</th>\n      <td>01M063</td>\n      <td>M063</td>\n      <td>P.S. 063 William McKinley</td>\n      <td>0</td>\n      <td>No</td>\n      <td>0.0</td>\n      <td>Elementary School</td>\n      <td>NaN</td>\n      <td>100</td>\n      <td>60</td>\n      <td>...</td>\n      <td>NaN</td>\n      <td>NaN</td>\n      <td>NaN</td>\n      <td>NaN</td>\n      <td>NaN</td>\n      <td>NaN</td>\n      <td>NaN</td>\n      <td>NaN</td>\n      <td>NaN</td>\n      <td>01M063</td>\n    </tr>\n  </tbody>\n</table>\n<p>5 rows × 2774 columns</p>\n</div>"
     },
     "metadata": {},
     "execution_count": 151
    }
   ],
   "source": [
    "survey.head()"
   ]
  },
  {
   "cell_type": "code",
   "execution_count": 152,
   "metadata": {},
   "outputs": [],
   "source": [
    "target_fields =[\n",
    "\"dbn\", \"rr_s\", \"rr_t\", \"rr_p\", \"N_s\", \"N_t\", \"N_p\", \"saf_p_11\", \"com_p_11\", \"eng_p_11\", \"aca_p_11\", \"saf_t_11\", \"com_t_11\", \"eng_t_11\", \"aca_t_11\", \"saf_s_11\", \"com_s_11\", \"eng_s_11\", \"aca_s_11\", \"saf_tot_11\", \"com_tot_11\", \"eng_tot_11\", \"aca_tot_11\"\n",
    "]\n",
    "\n",
    "data['survey'] = survey.loc[:, target_fields]\n"
   ]
  },
  {
   "cell_type": "code",
   "execution_count": 153,
   "metadata": {},
   "outputs": [
    {
     "output_type": "execute_result",
     "data": {
      "text/plain": [
       "       dbn  rr_s  rr_t  rr_p    N_s   N_t    N_p  saf_p_11  com_p_11  \\\n",
       "0   01M015   NaN    88    60    NaN  22.0   90.0       8.5       7.6   \n",
       "1   01M019   NaN   100    60    NaN  34.0  161.0       8.4       7.6   \n",
       "2   01M020   NaN    88    73    NaN  42.0  367.0       8.9       8.3   \n",
       "3   01M034  89.0    73    50  145.0  29.0  151.0       8.8       8.2   \n",
       "4   01M063   NaN   100    60    NaN  23.0   90.0       8.7       7.9   \n",
       "..     ...   ...   ...   ...    ...   ...    ...       ...       ...   \n",
       "51  75X352  90.0    58    48   38.0  46.0  160.0       8.9       8.3   \n",
       "52  75X721  84.0    90    48  237.0  82.0  239.0       8.6       7.6   \n",
       "53  75X723  77.0    74    20  103.0  69.0   74.0       8.4       7.8   \n",
       "54  75X754  63.0    93    22  336.0  82.0  124.0       8.3       7.5   \n",
       "55  75X811  38.0    63    19   44.0  71.0  119.0       8.5       7.8   \n",
       "\n",
       "    eng_p_11  ...  eng_t_11  aca_t_11  saf_s_11  com_s_11  eng_s_11  aca_s_11  \\\n",
       "0        7.5  ...       7.6       7.9       NaN       NaN       NaN       NaN   \n",
       "1        7.6  ...       8.9       9.1       NaN       NaN       NaN       NaN   \n",
       "2        8.3  ...       6.8       7.5       NaN       NaN       NaN       NaN   \n",
       "3        8.0  ...       6.8       7.8       6.2       5.9       6.5       7.4   \n",
       "4        8.1  ...       7.8       8.1       NaN       NaN       NaN       NaN   \n",
       "..       ...  ...       ...       ...       ...       ...       ...       ...   \n",
       "51       7.9  ...       5.7       5.8       6.8       6.0       7.8       7.6   \n",
       "52       7.5  ...       6.7       7.0       7.8       7.2       7.8       7.9   \n",
       "53       7.8  ...       6.7       7.6       6.7       7.2       7.7       7.7   \n",
       "54       7.5  ...       6.6       7.1       6.8       6.6       7.6       7.7   \n",
       "55       7.7  ...       6.5       7.0       7.7       6.1       7.7       7.7   \n",
       "\n",
       "    saf_tot_11  com_tot_11  eng_tot_11  aca_tot_11  \n",
       "0          8.0         7.7         7.5         7.9  \n",
       "1          8.5         8.1         8.2         8.4  \n",
       "2          8.2         7.3         7.5         8.0  \n",
       "3          7.3         6.7         7.1         7.9  \n",
       "4          8.5         7.6         7.9         8.0  \n",
       "..         ...         ...         ...         ...  \n",
       "51         7.4         6.6         7.1         7.2  \n",
       "52         8.0         7.1         7.3         7.6  \n",
       "53         7.6         7.4         7.4         7.7  \n",
       "54         7.2         6.9         7.3         7.5  \n",
       "55         7.7         6.8         7.3         7.5  \n",
       "\n",
       "[1702 rows x 23 columns]"
      ],
      "text/html": "<div>\n<style scoped>\n    .dataframe tbody tr th:only-of-type {\n        vertical-align: middle;\n    }\n\n    .dataframe tbody tr th {\n        vertical-align: top;\n    }\n\n    .dataframe thead th {\n        text-align: right;\n    }\n</style>\n<table border=\"1\" class=\"dataframe\">\n  <thead>\n    <tr style=\"text-align: right;\">\n      <th></th>\n      <th>dbn</th>\n      <th>rr_s</th>\n      <th>rr_t</th>\n      <th>rr_p</th>\n      <th>N_s</th>\n      <th>N_t</th>\n      <th>N_p</th>\n      <th>saf_p_11</th>\n      <th>com_p_11</th>\n      <th>eng_p_11</th>\n      <th>...</th>\n      <th>eng_t_11</th>\n      <th>aca_t_11</th>\n      <th>saf_s_11</th>\n      <th>com_s_11</th>\n      <th>eng_s_11</th>\n      <th>aca_s_11</th>\n      <th>saf_tot_11</th>\n      <th>com_tot_11</th>\n      <th>eng_tot_11</th>\n      <th>aca_tot_11</th>\n    </tr>\n  </thead>\n  <tbody>\n    <tr>\n      <th>0</th>\n      <td>01M015</td>\n      <td>NaN</td>\n      <td>88</td>\n      <td>60</td>\n      <td>NaN</td>\n      <td>22.0</td>\n      <td>90.0</td>\n      <td>8.5</td>\n      <td>7.6</td>\n      <td>7.5</td>\n      <td>...</td>\n      <td>7.6</td>\n      <td>7.9</td>\n      <td>NaN</td>\n      <td>NaN</td>\n      <td>NaN</td>\n      <td>NaN</td>\n      <td>8.0</td>\n      <td>7.7</td>\n      <td>7.5</td>\n      <td>7.9</td>\n    </tr>\n    <tr>\n      <th>1</th>\n      <td>01M019</td>\n      <td>NaN</td>\n      <td>100</td>\n      <td>60</td>\n      <td>NaN</td>\n      <td>34.0</td>\n      <td>161.0</td>\n      <td>8.4</td>\n      <td>7.6</td>\n      <td>7.6</td>\n      <td>...</td>\n      <td>8.9</td>\n      <td>9.1</td>\n      <td>NaN</td>\n      <td>NaN</td>\n      <td>NaN</td>\n      <td>NaN</td>\n      <td>8.5</td>\n      <td>8.1</td>\n      <td>8.2</td>\n      <td>8.4</td>\n    </tr>\n    <tr>\n      <th>2</th>\n      <td>01M020</td>\n      <td>NaN</td>\n      <td>88</td>\n      <td>73</td>\n      <td>NaN</td>\n      <td>42.0</td>\n      <td>367.0</td>\n      <td>8.9</td>\n      <td>8.3</td>\n      <td>8.3</td>\n      <td>...</td>\n      <td>6.8</td>\n      <td>7.5</td>\n      <td>NaN</td>\n      <td>NaN</td>\n      <td>NaN</td>\n      <td>NaN</td>\n      <td>8.2</td>\n      <td>7.3</td>\n      <td>7.5</td>\n      <td>8.0</td>\n    </tr>\n    <tr>\n      <th>3</th>\n      <td>01M034</td>\n      <td>89.0</td>\n      <td>73</td>\n      <td>50</td>\n      <td>145.0</td>\n      <td>29.0</td>\n      <td>151.0</td>\n      <td>8.8</td>\n      <td>8.2</td>\n      <td>8.0</td>\n      <td>...</td>\n      <td>6.8</td>\n      <td>7.8</td>\n      <td>6.2</td>\n      <td>5.9</td>\n      <td>6.5</td>\n      <td>7.4</td>\n      <td>7.3</td>\n      <td>6.7</td>\n      <td>7.1</td>\n      <td>7.9</td>\n    </tr>\n    <tr>\n      <th>4</th>\n      <td>01M063</td>\n      <td>NaN</td>\n      <td>100</td>\n      <td>60</td>\n      <td>NaN</td>\n      <td>23.0</td>\n      <td>90.0</td>\n      <td>8.7</td>\n      <td>7.9</td>\n      <td>8.1</td>\n      <td>...</td>\n      <td>7.8</td>\n      <td>8.1</td>\n      <td>NaN</td>\n      <td>NaN</td>\n      <td>NaN</td>\n      <td>NaN</td>\n      <td>8.5</td>\n      <td>7.6</td>\n      <td>7.9</td>\n      <td>8.0</td>\n    </tr>\n    <tr>\n      <th>...</th>\n      <td>...</td>\n      <td>...</td>\n      <td>...</td>\n      <td>...</td>\n      <td>...</td>\n      <td>...</td>\n      <td>...</td>\n      <td>...</td>\n      <td>...</td>\n      <td>...</td>\n      <td>...</td>\n      <td>...</td>\n      <td>...</td>\n      <td>...</td>\n      <td>...</td>\n      <td>...</td>\n      <td>...</td>\n      <td>...</td>\n      <td>...</td>\n      <td>...</td>\n      <td>...</td>\n    </tr>\n    <tr>\n      <th>51</th>\n      <td>75X352</td>\n      <td>90.0</td>\n      <td>58</td>\n      <td>48</td>\n      <td>38.0</td>\n      <td>46.0</td>\n      <td>160.0</td>\n      <td>8.9</td>\n      <td>8.3</td>\n      <td>7.9</td>\n      <td>...</td>\n      <td>5.7</td>\n      <td>5.8</td>\n      <td>6.8</td>\n      <td>6.0</td>\n      <td>7.8</td>\n      <td>7.6</td>\n      <td>7.4</td>\n      <td>6.6</td>\n      <td>7.1</td>\n      <td>7.2</td>\n    </tr>\n    <tr>\n      <th>52</th>\n      <td>75X721</td>\n      <td>84.0</td>\n      <td>90</td>\n      <td>48</td>\n      <td>237.0</td>\n      <td>82.0</td>\n      <td>239.0</td>\n      <td>8.6</td>\n      <td>7.6</td>\n      <td>7.5</td>\n      <td>...</td>\n      <td>6.7</td>\n      <td>7.0</td>\n      <td>7.8</td>\n      <td>7.2</td>\n      <td>7.8</td>\n      <td>7.9</td>\n      <td>8.0</td>\n      <td>7.1</td>\n      <td>7.3</td>\n      <td>7.6</td>\n    </tr>\n    <tr>\n      <th>53</th>\n      <td>75X723</td>\n      <td>77.0</td>\n      <td>74</td>\n      <td>20</td>\n      <td>103.0</td>\n      <td>69.0</td>\n      <td>74.0</td>\n      <td>8.4</td>\n      <td>7.8</td>\n      <td>7.8</td>\n      <td>...</td>\n      <td>6.7</td>\n      <td>7.6</td>\n      <td>6.7</td>\n      <td>7.2</td>\n      <td>7.7</td>\n      <td>7.7</td>\n      <td>7.6</td>\n      <td>7.4</td>\n      <td>7.4</td>\n      <td>7.7</td>\n    </tr>\n    <tr>\n      <th>54</th>\n      <td>75X754</td>\n      <td>63.0</td>\n      <td>93</td>\n      <td>22</td>\n      <td>336.0</td>\n      <td>82.0</td>\n      <td>124.0</td>\n      <td>8.3</td>\n      <td>7.5</td>\n      <td>7.5</td>\n      <td>...</td>\n      <td>6.6</td>\n      <td>7.1</td>\n      <td>6.8</td>\n      <td>6.6</td>\n      <td>7.6</td>\n      <td>7.7</td>\n      <td>7.2</td>\n      <td>6.9</td>\n      <td>7.3</td>\n      <td>7.5</td>\n    </tr>\n    <tr>\n      <th>55</th>\n      <td>75X811</td>\n      <td>38.0</td>\n      <td>63</td>\n      <td>19</td>\n      <td>44.0</td>\n      <td>71.0</td>\n      <td>119.0</td>\n      <td>8.5</td>\n      <td>7.8</td>\n      <td>7.7</td>\n      <td>...</td>\n      <td>6.5</td>\n      <td>7.0</td>\n      <td>7.7</td>\n      <td>6.1</td>\n      <td>7.7</td>\n      <td>7.7</td>\n      <td>7.7</td>\n      <td>6.8</td>\n      <td>7.3</td>\n      <td>7.5</td>\n    </tr>\n  </tbody>\n</table>\n<p>1702 rows × 23 columns</p>\n</div>"
     },
     "metadata": {},
     "execution_count": 153
    }
   ],
   "source": [
    "data['survey']"
   ]
  },
  {
   "source": [
    "## Insert DBN Fields\n",
    "\n",
    "Almost all of our datasets contain the column 'DBN' so that is a great column to later merge the data on. Some datasets do not contain said field though, so I need to make up for that. Since DBN is just the padded CSD plus the School Code like in the 'class_size' dataset I can combine those two columns."
   ],
   "cell_type": "markdown",
   "metadata": {}
  },
  {
   "cell_type": "code",
   "execution_count": 154,
   "metadata": {},
   "outputs": [],
   "source": [
    "data['hs_directory']['DBN'] = data['hs_directory']['dbn']\n",
    "\n",
    "# define function to create padded CSDs\n",
    "def pad_csd(num):\n",
    "    return str(num).zfill(2)\n",
    "data[\"class_size\"][\"padded_csd\"] = data[\"class_size\"][\"CSD\"].apply(pad_csd)"
   ]
  },
  {
   "cell_type": "code",
   "execution_count": 155,
   "metadata": {},
   "outputs": [
    {
     "output_type": "execute_result",
     "data": {
      "text/plain": [
       "   CSD BOROUGH SCHOOL CODE                SCHOOL NAME GRADE  PROGRAM TYPE  \\\n",
       "0    1       M        M015  P.S. 015 Roberto Clemente     0K       GEN ED   \n",
       "1    1       M        M015  P.S. 015 Roberto Clemente     0K          CTT   \n",
       "2    1       M        M015  P.S. 015 Roberto Clemente     01       GEN ED   \n",
       "3    1       M        M015  P.S. 015 Roberto Clemente     01          CTT   \n",
       "4    1       M        M015  P.S. 015 Roberto Clemente     02       GEN ED   \n",
       "\n",
       "  CORE SUBJECT (MS CORE and 9-12 ONLY) CORE COURSE (MS CORE and 9-12 ONLY)  \\\n",
       "0                                    -                                   -   \n",
       "1                                    -                                   -   \n",
       "2                                    -                                   -   \n",
       "3                                    -                                   -   \n",
       "4                                    -                                   -   \n",
       "\n",
       "  SERVICE CATEGORY(K-9* ONLY)  NUMBER OF STUDENTS / SEATS FILLED  \\\n",
       "0                           -                               19.0   \n",
       "1                           -                               21.0   \n",
       "2                           -                               17.0   \n",
       "3                           -                               17.0   \n",
       "4                           -                               15.0   \n",
       "\n",
       "   NUMBER OF SECTIONS  AVERAGE CLASS SIZE  SIZE OF SMALLEST CLASS  \\\n",
       "0                 1.0                19.0                    19.0   \n",
       "1                 1.0                21.0                    21.0   \n",
       "2                 1.0                17.0                    17.0   \n",
       "3                 1.0                17.0                    17.0   \n",
       "4                 1.0                15.0                    15.0   \n",
       "\n",
       "   SIZE OF LARGEST CLASS DATA SOURCE  SCHOOLWIDE PUPIL-TEACHER RATIO  \\\n",
       "0                   19.0         ATS                             NaN   \n",
       "1                   21.0         ATS                             NaN   \n",
       "2                   17.0         ATS                             NaN   \n",
       "3                   17.0         ATS                             NaN   \n",
       "4                   15.0         ATS                             NaN   \n",
       "\n",
       "  padded_csd  \n",
       "0         01  \n",
       "1         01  \n",
       "2         01  \n",
       "3         01  \n",
       "4         01  "
      ],
      "text/html": "<div>\n<style scoped>\n    .dataframe tbody tr th:only-of-type {\n        vertical-align: middle;\n    }\n\n    .dataframe tbody tr th {\n        vertical-align: top;\n    }\n\n    .dataframe thead th {\n        text-align: right;\n    }\n</style>\n<table border=\"1\" class=\"dataframe\">\n  <thead>\n    <tr style=\"text-align: right;\">\n      <th></th>\n      <th>CSD</th>\n      <th>BOROUGH</th>\n      <th>SCHOOL CODE</th>\n      <th>SCHOOL NAME</th>\n      <th>GRADE</th>\n      <th>PROGRAM TYPE</th>\n      <th>CORE SUBJECT (MS CORE and 9-12 ONLY)</th>\n      <th>CORE COURSE (MS CORE and 9-12 ONLY)</th>\n      <th>SERVICE CATEGORY(K-9* ONLY)</th>\n      <th>NUMBER OF STUDENTS / SEATS FILLED</th>\n      <th>NUMBER OF SECTIONS</th>\n      <th>AVERAGE CLASS SIZE</th>\n      <th>SIZE OF SMALLEST CLASS</th>\n      <th>SIZE OF LARGEST CLASS</th>\n      <th>DATA SOURCE</th>\n      <th>SCHOOLWIDE PUPIL-TEACHER RATIO</th>\n      <th>padded_csd</th>\n    </tr>\n  </thead>\n  <tbody>\n    <tr>\n      <th>0</th>\n      <td>1</td>\n      <td>M</td>\n      <td>M015</td>\n      <td>P.S. 015 Roberto Clemente</td>\n      <td>0K</td>\n      <td>GEN ED</td>\n      <td>-</td>\n      <td>-</td>\n      <td>-</td>\n      <td>19.0</td>\n      <td>1.0</td>\n      <td>19.0</td>\n      <td>19.0</td>\n      <td>19.0</td>\n      <td>ATS</td>\n      <td>NaN</td>\n      <td>01</td>\n    </tr>\n    <tr>\n      <th>1</th>\n      <td>1</td>\n      <td>M</td>\n      <td>M015</td>\n      <td>P.S. 015 Roberto Clemente</td>\n      <td>0K</td>\n      <td>CTT</td>\n      <td>-</td>\n      <td>-</td>\n      <td>-</td>\n      <td>21.0</td>\n      <td>1.0</td>\n      <td>21.0</td>\n      <td>21.0</td>\n      <td>21.0</td>\n      <td>ATS</td>\n      <td>NaN</td>\n      <td>01</td>\n    </tr>\n    <tr>\n      <th>2</th>\n      <td>1</td>\n      <td>M</td>\n      <td>M015</td>\n      <td>P.S. 015 Roberto Clemente</td>\n      <td>01</td>\n      <td>GEN ED</td>\n      <td>-</td>\n      <td>-</td>\n      <td>-</td>\n      <td>17.0</td>\n      <td>1.0</td>\n      <td>17.0</td>\n      <td>17.0</td>\n      <td>17.0</td>\n      <td>ATS</td>\n      <td>NaN</td>\n      <td>01</td>\n    </tr>\n    <tr>\n      <th>3</th>\n      <td>1</td>\n      <td>M</td>\n      <td>M015</td>\n      <td>P.S. 015 Roberto Clemente</td>\n      <td>01</td>\n      <td>CTT</td>\n      <td>-</td>\n      <td>-</td>\n      <td>-</td>\n      <td>17.0</td>\n      <td>1.0</td>\n      <td>17.0</td>\n      <td>17.0</td>\n      <td>17.0</td>\n      <td>ATS</td>\n      <td>NaN</td>\n      <td>01</td>\n    </tr>\n    <tr>\n      <th>4</th>\n      <td>1</td>\n      <td>M</td>\n      <td>M015</td>\n      <td>P.S. 015 Roberto Clemente</td>\n      <td>02</td>\n      <td>GEN ED</td>\n      <td>-</td>\n      <td>-</td>\n      <td>-</td>\n      <td>15.0</td>\n      <td>1.0</td>\n      <td>15.0</td>\n      <td>15.0</td>\n      <td>15.0</td>\n      <td>ATS</td>\n      <td>NaN</td>\n      <td>01</td>\n    </tr>\n  </tbody>\n</table>\n</div>"
     },
     "metadata": {},
     "execution_count": 155
    }
   ],
   "source": [
    "data[\"class_size\"].head()"
   ]
  },
  {
   "cell_type": "code",
   "execution_count": 156,
   "metadata": {},
   "outputs": [
    {
     "output_type": "stream",
     "name": "stdout",
     "text": [
      "<class 'pandas.core.frame.DataFrame'>\nRangeIndex: 27611 entries, 0 to 27610\nData columns (total 17 columns):\n #   Column                                Non-Null Count  Dtype  \n---  ------                                --------------  -----  \n 0   CSD                                   27611 non-null  int64  \n 1   BOROUGH                               27611 non-null  object \n 2   SCHOOL CODE                           27611 non-null  object \n 3   SCHOOL NAME                           27611 non-null  object \n 4   GRADE                                 26127 non-null  object \n 5   PROGRAM TYPE                          26127 non-null  object \n 6   CORE SUBJECT (MS CORE and 9-12 ONLY)  26127 non-null  object \n 7   CORE COURSE (MS CORE and 9-12 ONLY)   26127 non-null  object \n 8   SERVICE CATEGORY(K-9* ONLY)           26127 non-null  object \n 9   NUMBER OF STUDENTS / SEATS FILLED     26127 non-null  float64\n 10  NUMBER OF SECTIONS                    26127 non-null  float64\n 11  AVERAGE CLASS SIZE                    26127 non-null  float64\n 12  SIZE OF SMALLEST CLASS                26127 non-null  float64\n 13  SIZE OF LARGEST CLASS                 26127 non-null  float64\n 14  DATA SOURCE                           26127 non-null  object \n 15  SCHOOLWIDE PUPIL-TEACHER RATIO        1484 non-null   float64\n 16  padded_csd                            27611 non-null  object \ndtypes: float64(6), int64(1), object(10)\nmemory usage: 3.6+ MB\n"
     ]
    }
   ],
   "source": [
    "data[\"class_size\"].info()"
   ]
  },
  {
   "cell_type": "code",
   "execution_count": 157,
   "metadata": {},
   "outputs": [],
   "source": [
    "data[\"class_size\"][\"DBN\"] = data[\"class_size\"][\"padded_csd\"] + data[\"class_size\"][\"SCHOOL CODE\"]"
   ]
  },
  {
   "cell_type": "code",
   "execution_count": 158,
   "metadata": {},
   "outputs": [
    {
     "output_type": "execute_result",
     "data": {
      "text/plain": [
       "   CSD BOROUGH SCHOOL CODE                SCHOOL NAME GRADE  PROGRAM TYPE  \\\n",
       "0    1       M        M015  P.S. 015 Roberto Clemente     0K       GEN ED   \n",
       "1    1       M        M015  P.S. 015 Roberto Clemente     0K          CTT   \n",
       "2    1       M        M015  P.S. 015 Roberto Clemente     01       GEN ED   \n",
       "3    1       M        M015  P.S. 015 Roberto Clemente     01          CTT   \n",
       "4    1       M        M015  P.S. 015 Roberto Clemente     02       GEN ED   \n",
       "\n",
       "  CORE SUBJECT (MS CORE and 9-12 ONLY) CORE COURSE (MS CORE and 9-12 ONLY)  \\\n",
       "0                                    -                                   -   \n",
       "1                                    -                                   -   \n",
       "2                                    -                                   -   \n",
       "3                                    -                                   -   \n",
       "4                                    -                                   -   \n",
       "\n",
       "  SERVICE CATEGORY(K-9* ONLY)  NUMBER OF STUDENTS / SEATS FILLED  \\\n",
       "0                           -                               19.0   \n",
       "1                           -                               21.0   \n",
       "2                           -                               17.0   \n",
       "3                           -                               17.0   \n",
       "4                           -                               15.0   \n",
       "\n",
       "   NUMBER OF SECTIONS  AVERAGE CLASS SIZE  SIZE OF SMALLEST CLASS  \\\n",
       "0                 1.0                19.0                    19.0   \n",
       "1                 1.0                21.0                    21.0   \n",
       "2                 1.0                17.0                    17.0   \n",
       "3                 1.0                17.0                    17.0   \n",
       "4                 1.0                15.0                    15.0   \n",
       "\n",
       "   SIZE OF LARGEST CLASS DATA SOURCE  SCHOOLWIDE PUPIL-TEACHER RATIO  \\\n",
       "0                   19.0         ATS                             NaN   \n",
       "1                   21.0         ATS                             NaN   \n",
       "2                   17.0         ATS                             NaN   \n",
       "3                   17.0         ATS                             NaN   \n",
       "4                   15.0         ATS                             NaN   \n",
       "\n",
       "  padded_csd     DBN  \n",
       "0         01  01M015  \n",
       "1         01  01M015  \n",
       "2         01  01M015  \n",
       "3         01  01M015  \n",
       "4         01  01M015  "
      ],
      "text/html": "<div>\n<style scoped>\n    .dataframe tbody tr th:only-of-type {\n        vertical-align: middle;\n    }\n\n    .dataframe tbody tr th {\n        vertical-align: top;\n    }\n\n    .dataframe thead th {\n        text-align: right;\n    }\n</style>\n<table border=\"1\" class=\"dataframe\">\n  <thead>\n    <tr style=\"text-align: right;\">\n      <th></th>\n      <th>CSD</th>\n      <th>BOROUGH</th>\n      <th>SCHOOL CODE</th>\n      <th>SCHOOL NAME</th>\n      <th>GRADE</th>\n      <th>PROGRAM TYPE</th>\n      <th>CORE SUBJECT (MS CORE and 9-12 ONLY)</th>\n      <th>CORE COURSE (MS CORE and 9-12 ONLY)</th>\n      <th>SERVICE CATEGORY(K-9* ONLY)</th>\n      <th>NUMBER OF STUDENTS / SEATS FILLED</th>\n      <th>NUMBER OF SECTIONS</th>\n      <th>AVERAGE CLASS SIZE</th>\n      <th>SIZE OF SMALLEST CLASS</th>\n      <th>SIZE OF LARGEST CLASS</th>\n      <th>DATA SOURCE</th>\n      <th>SCHOOLWIDE PUPIL-TEACHER RATIO</th>\n      <th>padded_csd</th>\n      <th>DBN</th>\n    </tr>\n  </thead>\n  <tbody>\n    <tr>\n      <th>0</th>\n      <td>1</td>\n      <td>M</td>\n      <td>M015</td>\n      <td>P.S. 015 Roberto Clemente</td>\n      <td>0K</td>\n      <td>GEN ED</td>\n      <td>-</td>\n      <td>-</td>\n      <td>-</td>\n      <td>19.0</td>\n      <td>1.0</td>\n      <td>19.0</td>\n      <td>19.0</td>\n      <td>19.0</td>\n      <td>ATS</td>\n      <td>NaN</td>\n      <td>01</td>\n      <td>01M015</td>\n    </tr>\n    <tr>\n      <th>1</th>\n      <td>1</td>\n      <td>M</td>\n      <td>M015</td>\n      <td>P.S. 015 Roberto Clemente</td>\n      <td>0K</td>\n      <td>CTT</td>\n      <td>-</td>\n      <td>-</td>\n      <td>-</td>\n      <td>21.0</td>\n      <td>1.0</td>\n      <td>21.0</td>\n      <td>21.0</td>\n      <td>21.0</td>\n      <td>ATS</td>\n      <td>NaN</td>\n      <td>01</td>\n      <td>01M015</td>\n    </tr>\n    <tr>\n      <th>2</th>\n      <td>1</td>\n      <td>M</td>\n      <td>M015</td>\n      <td>P.S. 015 Roberto Clemente</td>\n      <td>01</td>\n      <td>GEN ED</td>\n      <td>-</td>\n      <td>-</td>\n      <td>-</td>\n      <td>17.0</td>\n      <td>1.0</td>\n      <td>17.0</td>\n      <td>17.0</td>\n      <td>17.0</td>\n      <td>ATS</td>\n      <td>NaN</td>\n      <td>01</td>\n      <td>01M015</td>\n    </tr>\n    <tr>\n      <th>3</th>\n      <td>1</td>\n      <td>M</td>\n      <td>M015</td>\n      <td>P.S. 015 Roberto Clemente</td>\n      <td>01</td>\n      <td>CTT</td>\n      <td>-</td>\n      <td>-</td>\n      <td>-</td>\n      <td>17.0</td>\n      <td>1.0</td>\n      <td>17.0</td>\n      <td>17.0</td>\n      <td>17.0</td>\n      <td>ATS</td>\n      <td>NaN</td>\n      <td>01</td>\n      <td>01M015</td>\n    </tr>\n    <tr>\n      <th>4</th>\n      <td>1</td>\n      <td>M</td>\n      <td>M015</td>\n      <td>P.S. 015 Roberto Clemente</td>\n      <td>02</td>\n      <td>GEN ED</td>\n      <td>-</td>\n      <td>-</td>\n      <td>-</td>\n      <td>15.0</td>\n      <td>1.0</td>\n      <td>15.0</td>\n      <td>15.0</td>\n      <td>15.0</td>\n      <td>ATS</td>\n      <td>NaN</td>\n      <td>01</td>\n      <td>01M015</td>\n    </tr>\n  </tbody>\n</table>\n</div>"
     },
     "metadata": {},
     "execution_count": 158
    }
   ],
   "source": [
    "data[\"class_size\"].head()"
   ]
  },
  {
   "source": [
    "## Combining SAT Scores\n",
    "\n",
    "In the following, I will create a variable summing up the SAT scores in the three different sections of the exam in order to facilitate correlating scores with demographic factors."
   ],
   "cell_type": "markdown",
   "metadata": {}
  },
  {
   "cell_type": "code",
   "execution_count": 159,
   "metadata": {},
   "outputs": [
    {
     "output_type": "stream",
     "name": "stdout",
     "text": [
      "<class 'pandas.core.frame.DataFrame'>\nRangeIndex: 478 entries, 0 to 477\nData columns (total 6 columns):\n #   Column                           Non-Null Count  Dtype  \n---  ------                           --------------  -----  \n 0   DBN                              478 non-null    object \n 1   SCHOOL NAME                      478 non-null    object \n 2   Num of SAT Test Takers           478 non-null    object \n 3   SAT Critical Reading Avg. Score  421 non-null    float64\n 4   SAT Math Avg. Score              421 non-null    float64\n 5   SAT Writing Avg. Score           421 non-null    float64\ndtypes: float64(3), object(3)\nmemory usage: 22.5+ KB\n"
     ]
    }
   ],
   "source": [
    "target_cols = ['SAT Math Avg. Score', 'SAT Critical Reading Avg. Score', 'SAT Writing Avg. Score']\n",
    "for col in target_cols:\n",
    "    data['sat_results'].loc[:,col] = pd.to_numeric(data['sat_results'].loc[:,col],errors='coerce')\n",
    "data['sat_results'].info()"
   ]
  },
  {
   "cell_type": "code",
   "execution_count": 160,
   "metadata": {},
   "outputs": [],
   "source": [
    "data['sat_results']['sat_score'] = data['sat_results'][target_cols[0]] + data['sat_results'][target_cols[1]] + data['sat_results'][target_cols[2]]"
   ]
  },
  {
   "cell_type": "code",
   "execution_count": 161,
   "metadata": {},
   "outputs": [
    {
     "output_type": "execute_result",
     "data": {
      "text/plain": [
       "      DBN                                    SCHOOL NAME  \\\n",
       "0  01M292  HENRY STREET SCHOOL FOR INTERNATIONAL STUDIES   \n",
       "1  01M448            UNIVERSITY NEIGHBORHOOD HIGH SCHOOL   \n",
       "2  01M450                     EAST SIDE COMMUNITY SCHOOL   \n",
       "3  01M458                      FORSYTH SATELLITE ACADEMY   \n",
       "4  01M509                        MARTA VALLE HIGH SCHOOL   \n",
       "\n",
       "  Num of SAT Test Takers  SAT Critical Reading Avg. Score  \\\n",
       "0                     29                            355.0   \n",
       "1                     91                            383.0   \n",
       "2                     70                            377.0   \n",
       "3                      7                            414.0   \n",
       "4                     44                            390.0   \n",
       "\n",
       "   SAT Math Avg. Score  SAT Writing Avg. Score  sat_score  \n",
       "0                404.0                   363.0     1122.0  \n",
       "1                423.0                   366.0     1172.0  \n",
       "2                402.0                   370.0     1149.0  \n",
       "3                401.0                   359.0     1174.0  \n",
       "4                433.0                   384.0     1207.0  "
      ],
      "text/html": "<div>\n<style scoped>\n    .dataframe tbody tr th:only-of-type {\n        vertical-align: middle;\n    }\n\n    .dataframe tbody tr th {\n        vertical-align: top;\n    }\n\n    .dataframe thead th {\n        text-align: right;\n    }\n</style>\n<table border=\"1\" class=\"dataframe\">\n  <thead>\n    <tr style=\"text-align: right;\">\n      <th></th>\n      <th>DBN</th>\n      <th>SCHOOL NAME</th>\n      <th>Num of SAT Test Takers</th>\n      <th>SAT Critical Reading Avg. Score</th>\n      <th>SAT Math Avg. Score</th>\n      <th>SAT Writing Avg. Score</th>\n      <th>sat_score</th>\n    </tr>\n  </thead>\n  <tbody>\n    <tr>\n      <th>0</th>\n      <td>01M292</td>\n      <td>HENRY STREET SCHOOL FOR INTERNATIONAL STUDIES</td>\n      <td>29</td>\n      <td>355.0</td>\n      <td>404.0</td>\n      <td>363.0</td>\n      <td>1122.0</td>\n    </tr>\n    <tr>\n      <th>1</th>\n      <td>01M448</td>\n      <td>UNIVERSITY NEIGHBORHOOD HIGH SCHOOL</td>\n      <td>91</td>\n      <td>383.0</td>\n      <td>423.0</td>\n      <td>366.0</td>\n      <td>1172.0</td>\n    </tr>\n    <tr>\n      <th>2</th>\n      <td>01M450</td>\n      <td>EAST SIDE COMMUNITY SCHOOL</td>\n      <td>70</td>\n      <td>377.0</td>\n      <td>402.0</td>\n      <td>370.0</td>\n      <td>1149.0</td>\n    </tr>\n    <tr>\n      <th>3</th>\n      <td>01M458</td>\n      <td>FORSYTH SATELLITE ACADEMY</td>\n      <td>7</td>\n      <td>414.0</td>\n      <td>401.0</td>\n      <td>359.0</td>\n      <td>1174.0</td>\n    </tr>\n    <tr>\n      <th>4</th>\n      <td>01M509</td>\n      <td>MARTA VALLE HIGH SCHOOL</td>\n      <td>44</td>\n      <td>390.0</td>\n      <td>433.0</td>\n      <td>384.0</td>\n      <td>1207.0</td>\n    </tr>\n  </tbody>\n</table>\n</div>"
     },
     "metadata": {},
     "execution_count": 161
    }
   ],
   "source": [
    "data['sat_results'].head()"
   ]
  },
  {
   "source": [
    "## Parsing Geographic Coordinates for Schools\n",
    "\n",
    "Parsing latitude and longitude for each school is going to be the next step in line.  The coordinates are currently in the text field 'Location 1' in the 'hs_directory' data set."
   ],
   "cell_type": "markdown",
   "metadata": {}
  },
  {
   "cell_type": "code",
   "execution_count": 162,
   "metadata": {},
   "outputs": [
    {
     "output_type": "execute_result",
     "data": {
      "text/plain": [
       "0    8 21 Bay 25 Street\\nFar Rockaway, NY 11691\\n(4...\n",
       "1    2630 Benson Avenue\\nBrooklyn, NY 11214\\n(40.59...\n",
       "2    1014 Lafayette Avenue\\nBrooklyn, NY 11221\\n(40...\n",
       "3    1980 Lafayette Avenue\\nBronx, NY 10473\\n(40.82...\n",
       "4    100 Amsterdam Avenue\\nNew York, NY 10023\\n(40....\n",
       "Name: Location 1, dtype: object"
      ]
     },
     "metadata": {},
     "execution_count": 162
    }
   ],
   "source": [
    "data['hs_directory']['Location 1'].head()"
   ]
  },
  {
   "source": [
    "I will extract the coordinates using a regex pattern."
   ],
   "cell_type": "markdown",
   "metadata": {}
  },
  {
   "cell_type": "code",
   "execution_count": 163,
   "metadata": {},
   "outputs": [
    {
     "output_type": "execute_result",
     "data": {
      "text/plain": [
       "      dbn                                        school_name    borough  \\\n",
       "0  27Q260          Frederick Douglass Academy VI High School     Queens   \n",
       "1  21K559        Life Academy High School for Film and Music   Brooklyn   \n",
       "2  16K393     Frederick Douglass Academy IV Secondary School   Brooklyn   \n",
       "3  08X305                               Pablo Neruda Academy      Bronx   \n",
       "4  03M485  Fiorello H. LaGuardia High School of Music & A...  Manhattan   \n",
       "\n",
       "  building_code  phone_number    fax_number  grade_span_min  grade_span_max  \\\n",
       "0          Q465  718-471-2154  718-471-2890             9.0              12   \n",
       "1          K400  718-333-7750  718-333-7775             9.0              12   \n",
       "2          K026  718-574-2820  718-574-2821             9.0              12   \n",
       "3          X450  718-824-1682  718-824-1663             9.0              12   \n",
       "4          M485  212-496-0700  212-724-5748             9.0              12   \n",
       "\n",
       "   expgrade_span_min  expgrade_span_max  ... priority10  \\\n",
       "0                NaN                NaN  ...        NaN   \n",
       "1                NaN                NaN  ...        NaN   \n",
       "2                NaN                NaN  ...        NaN   \n",
       "3                NaN                NaN  ...        NaN   \n",
       "4                NaN                NaN  ...        NaN   \n",
       "\n",
       "                                          Location 1 Community Board  \\\n",
       "0  8 21 Bay 25 Street\\nFar Rockaway, NY 11691\\n(4...            14.0   \n",
       "1  2630 Benson Avenue\\nBrooklyn, NY 11214\\n(40.59...            13.0   \n",
       "2  1014 Lafayette Avenue\\nBrooklyn, NY 11221\\n(40...             3.0   \n",
       "3  1980 Lafayette Avenue\\nBronx, NY 10473\\n(40.82...             9.0   \n",
       "4  100 Amsterdam Avenue\\nNew York, NY 10023\\n(40....             7.0   \n",
       "\n",
       "  Council District Census Tract        BIN           BBL  \\\n",
       "0             31.0     100802.0  4300730.0  4.157360e+09   \n",
       "1             47.0        306.0  3186454.0  3.068830e+09   \n",
       "2             36.0        291.0  3393805.0  3.016160e+09   \n",
       "3             18.0         16.0  2022205.0  2.036040e+09   \n",
       "4              6.0        151.0  1030341.0  1.011560e+09   \n",
       "\n",
       "                                                 NTA     DBN           lat  \n",
       "0  Far Rockaway-Bayswater                        ...  27Q260  40.601989336  \n",
       "1  Gravesend                                     ...  21K559  40.593593811  \n",
       "2  Stuyvesant Heights                            ...  16K393  40.692133704  \n",
       "3  Soundview-Castle Hill-Clason Point-Harding Par...  08X305  40.822303765  \n",
       "4  Lincoln Square                                ...  03M485  40.773670507  \n",
       "\n",
       "[5 rows x 66 columns]"
      ],
      "text/html": "<div>\n<style scoped>\n    .dataframe tbody tr th:only-of-type {\n        vertical-align: middle;\n    }\n\n    .dataframe tbody tr th {\n        vertical-align: top;\n    }\n\n    .dataframe thead th {\n        text-align: right;\n    }\n</style>\n<table border=\"1\" class=\"dataframe\">\n  <thead>\n    <tr style=\"text-align: right;\">\n      <th></th>\n      <th>dbn</th>\n      <th>school_name</th>\n      <th>borough</th>\n      <th>building_code</th>\n      <th>phone_number</th>\n      <th>fax_number</th>\n      <th>grade_span_min</th>\n      <th>grade_span_max</th>\n      <th>expgrade_span_min</th>\n      <th>expgrade_span_max</th>\n      <th>...</th>\n      <th>priority10</th>\n      <th>Location 1</th>\n      <th>Community Board</th>\n      <th>Council District</th>\n      <th>Census Tract</th>\n      <th>BIN</th>\n      <th>BBL</th>\n      <th>NTA</th>\n      <th>DBN</th>\n      <th>lat</th>\n    </tr>\n  </thead>\n  <tbody>\n    <tr>\n      <th>0</th>\n      <td>27Q260</td>\n      <td>Frederick Douglass Academy VI High School</td>\n      <td>Queens</td>\n      <td>Q465</td>\n      <td>718-471-2154</td>\n      <td>718-471-2890</td>\n      <td>9.0</td>\n      <td>12</td>\n      <td>NaN</td>\n      <td>NaN</td>\n      <td>...</td>\n      <td>NaN</td>\n      <td>8 21 Bay 25 Street\\nFar Rockaway, NY 11691\\n(4...</td>\n      <td>14.0</td>\n      <td>31.0</td>\n      <td>100802.0</td>\n      <td>4300730.0</td>\n      <td>4.157360e+09</td>\n      <td>Far Rockaway-Bayswater                        ...</td>\n      <td>27Q260</td>\n      <td>40.601989336</td>\n    </tr>\n    <tr>\n      <th>1</th>\n      <td>21K559</td>\n      <td>Life Academy High School for Film and Music</td>\n      <td>Brooklyn</td>\n      <td>K400</td>\n      <td>718-333-7750</td>\n      <td>718-333-7775</td>\n      <td>9.0</td>\n      <td>12</td>\n      <td>NaN</td>\n      <td>NaN</td>\n      <td>...</td>\n      <td>NaN</td>\n      <td>2630 Benson Avenue\\nBrooklyn, NY 11214\\n(40.59...</td>\n      <td>13.0</td>\n      <td>47.0</td>\n      <td>306.0</td>\n      <td>3186454.0</td>\n      <td>3.068830e+09</td>\n      <td>Gravesend                                     ...</td>\n      <td>21K559</td>\n      <td>40.593593811</td>\n    </tr>\n    <tr>\n      <th>2</th>\n      <td>16K393</td>\n      <td>Frederick Douglass Academy IV Secondary School</td>\n      <td>Brooklyn</td>\n      <td>K026</td>\n      <td>718-574-2820</td>\n      <td>718-574-2821</td>\n      <td>9.0</td>\n      <td>12</td>\n      <td>NaN</td>\n      <td>NaN</td>\n      <td>...</td>\n      <td>NaN</td>\n      <td>1014 Lafayette Avenue\\nBrooklyn, NY 11221\\n(40...</td>\n      <td>3.0</td>\n      <td>36.0</td>\n      <td>291.0</td>\n      <td>3393805.0</td>\n      <td>3.016160e+09</td>\n      <td>Stuyvesant Heights                            ...</td>\n      <td>16K393</td>\n      <td>40.692133704</td>\n    </tr>\n    <tr>\n      <th>3</th>\n      <td>08X305</td>\n      <td>Pablo Neruda Academy</td>\n      <td>Bronx</td>\n      <td>X450</td>\n      <td>718-824-1682</td>\n      <td>718-824-1663</td>\n      <td>9.0</td>\n      <td>12</td>\n      <td>NaN</td>\n      <td>NaN</td>\n      <td>...</td>\n      <td>NaN</td>\n      <td>1980 Lafayette Avenue\\nBronx, NY 10473\\n(40.82...</td>\n      <td>9.0</td>\n      <td>18.0</td>\n      <td>16.0</td>\n      <td>2022205.0</td>\n      <td>2.036040e+09</td>\n      <td>Soundview-Castle Hill-Clason Point-Harding Par...</td>\n      <td>08X305</td>\n      <td>40.822303765</td>\n    </tr>\n    <tr>\n      <th>4</th>\n      <td>03M485</td>\n      <td>Fiorello H. LaGuardia High School of Music &amp; A...</td>\n      <td>Manhattan</td>\n      <td>M485</td>\n      <td>212-496-0700</td>\n      <td>212-724-5748</td>\n      <td>9.0</td>\n      <td>12</td>\n      <td>NaN</td>\n      <td>NaN</td>\n      <td>...</td>\n      <td>NaN</td>\n      <td>100 Amsterdam Avenue\\nNew York, NY 10023\\n(40....</td>\n      <td>7.0</td>\n      <td>6.0</td>\n      <td>151.0</td>\n      <td>1030341.0</td>\n      <td>1.011560e+09</td>\n      <td>Lincoln Square                                ...</td>\n      <td>03M485</td>\n      <td>40.773670507</td>\n    </tr>\n  </tbody>\n</table>\n<p>5 rows × 66 columns</p>\n</div>"
     },
     "metadata": {},
     "execution_count": 163
    }
   ],
   "source": [
    "import re\n",
    "\n",
    "# define function to find pattern in string\n",
    "def find_coordinates(str):\n",
    "    pattern = r'\\(.+\\)'\n",
    "    coordinates = re.findall(pattern, str)\n",
    "    # strip expected pattern of junk chars, split them up and strip them\n",
    "    latitude = coordinates[0].split(\",\")[0].replace(\"(\", \"\")\n",
    "    return latitude\n",
    "\n",
    "data['hs_directory']['lat'] = data['hs_directory']['Location 1'].apply(find_coordinates)\n",
    "data['hs_directory'].head()\n",
    "\n",
    "\n"
   ]
  },
  {
   "cell_type": "code",
   "execution_count": 164,
   "metadata": {},
   "outputs": [
    {
     "output_type": "execute_result",
     "data": {
      "text/plain": [
       "      dbn                                        school_name    borough  \\\n",
       "0  27Q260          Frederick Douglass Academy VI High School     Queens   \n",
       "1  21K559        Life Academy High School for Film and Music   Brooklyn   \n",
       "2  16K393     Frederick Douglass Academy IV Secondary School   Brooklyn   \n",
       "3  08X305                               Pablo Neruda Academy      Bronx   \n",
       "4  03M485  Fiorello H. LaGuardia High School of Music & A...  Manhattan   \n",
       "\n",
       "  building_code  phone_number    fax_number  grade_span_min  grade_span_max  \\\n",
       "0          Q465  718-471-2154  718-471-2890             9.0              12   \n",
       "1          K400  718-333-7750  718-333-7775             9.0              12   \n",
       "2          K026  718-574-2820  718-574-2821             9.0              12   \n",
       "3          X450  718-824-1682  718-824-1663             9.0              12   \n",
       "4          M485  212-496-0700  212-724-5748             9.0              12   \n",
       "\n",
       "   expgrade_span_min  expgrade_span_max  ...  \\\n",
       "0                NaN                NaN  ...   \n",
       "1                NaN                NaN  ...   \n",
       "2                NaN                NaN  ...   \n",
       "3                NaN                NaN  ...   \n",
       "4                NaN                NaN  ...   \n",
       "\n",
       "                                          Location 1 Community Board  \\\n",
       "0  8 21 Bay 25 Street\\nFar Rockaway, NY 11691\\n(4...            14.0   \n",
       "1  2630 Benson Avenue\\nBrooklyn, NY 11214\\n(40.59...            13.0   \n",
       "2  1014 Lafayette Avenue\\nBrooklyn, NY 11221\\n(40...             3.0   \n",
       "3  1980 Lafayette Avenue\\nBronx, NY 10473\\n(40.82...             9.0   \n",
       "4  100 Amsterdam Avenue\\nNew York, NY 10023\\n(40....             7.0   \n",
       "\n",
       "  Council District Census Tract        BIN           BBL  \\\n",
       "0             31.0     100802.0  4300730.0  4.157360e+09   \n",
       "1             47.0        306.0  3186454.0  3.068830e+09   \n",
       "2             36.0        291.0  3393805.0  3.016160e+09   \n",
       "3             18.0         16.0  2022205.0  2.036040e+09   \n",
       "4              6.0        151.0  1030341.0  1.011560e+09   \n",
       "\n",
       "                                                 NTA     DBN           lat  \\\n",
       "0  Far Rockaway-Bayswater                        ...  27Q260  40.601989336   \n",
       "1  Gravesend                                     ...  21K559  40.593593811   \n",
       "2  Stuyvesant Heights                            ...  16K393  40.692133704   \n",
       "3  Soundview-Castle Hill-Clason Point-Harding Par...  08X305  40.822303765   \n",
       "4  Lincoln Square                                ...  03M485  40.773670507   \n",
       "\n",
       "              lon  \n",
       "0   -73.762834323  \n",
       "1   -73.984729232  \n",
       "2   -73.931503172  \n",
       "3    -73.85596139  \n",
       "4   -73.985268558  \n",
       "\n",
       "[5 rows x 67 columns]"
      ],
      "text/html": "<div>\n<style scoped>\n    .dataframe tbody tr th:only-of-type {\n        vertical-align: middle;\n    }\n\n    .dataframe tbody tr th {\n        vertical-align: top;\n    }\n\n    .dataframe thead th {\n        text-align: right;\n    }\n</style>\n<table border=\"1\" class=\"dataframe\">\n  <thead>\n    <tr style=\"text-align: right;\">\n      <th></th>\n      <th>dbn</th>\n      <th>school_name</th>\n      <th>borough</th>\n      <th>building_code</th>\n      <th>phone_number</th>\n      <th>fax_number</th>\n      <th>grade_span_min</th>\n      <th>grade_span_max</th>\n      <th>expgrade_span_min</th>\n      <th>expgrade_span_max</th>\n      <th>...</th>\n      <th>Location 1</th>\n      <th>Community Board</th>\n      <th>Council District</th>\n      <th>Census Tract</th>\n      <th>BIN</th>\n      <th>BBL</th>\n      <th>NTA</th>\n      <th>DBN</th>\n      <th>lat</th>\n      <th>lon</th>\n    </tr>\n  </thead>\n  <tbody>\n    <tr>\n      <th>0</th>\n      <td>27Q260</td>\n      <td>Frederick Douglass Academy VI High School</td>\n      <td>Queens</td>\n      <td>Q465</td>\n      <td>718-471-2154</td>\n      <td>718-471-2890</td>\n      <td>9.0</td>\n      <td>12</td>\n      <td>NaN</td>\n      <td>NaN</td>\n      <td>...</td>\n      <td>8 21 Bay 25 Street\\nFar Rockaway, NY 11691\\n(4...</td>\n      <td>14.0</td>\n      <td>31.0</td>\n      <td>100802.0</td>\n      <td>4300730.0</td>\n      <td>4.157360e+09</td>\n      <td>Far Rockaway-Bayswater                        ...</td>\n      <td>27Q260</td>\n      <td>40.601989336</td>\n      <td>-73.762834323</td>\n    </tr>\n    <tr>\n      <th>1</th>\n      <td>21K559</td>\n      <td>Life Academy High School for Film and Music</td>\n      <td>Brooklyn</td>\n      <td>K400</td>\n      <td>718-333-7750</td>\n      <td>718-333-7775</td>\n      <td>9.0</td>\n      <td>12</td>\n      <td>NaN</td>\n      <td>NaN</td>\n      <td>...</td>\n      <td>2630 Benson Avenue\\nBrooklyn, NY 11214\\n(40.59...</td>\n      <td>13.0</td>\n      <td>47.0</td>\n      <td>306.0</td>\n      <td>3186454.0</td>\n      <td>3.068830e+09</td>\n      <td>Gravesend                                     ...</td>\n      <td>21K559</td>\n      <td>40.593593811</td>\n      <td>-73.984729232</td>\n    </tr>\n    <tr>\n      <th>2</th>\n      <td>16K393</td>\n      <td>Frederick Douglass Academy IV Secondary School</td>\n      <td>Brooklyn</td>\n      <td>K026</td>\n      <td>718-574-2820</td>\n      <td>718-574-2821</td>\n      <td>9.0</td>\n      <td>12</td>\n      <td>NaN</td>\n      <td>NaN</td>\n      <td>...</td>\n      <td>1014 Lafayette Avenue\\nBrooklyn, NY 11221\\n(40...</td>\n      <td>3.0</td>\n      <td>36.0</td>\n      <td>291.0</td>\n      <td>3393805.0</td>\n      <td>3.016160e+09</td>\n      <td>Stuyvesant Heights                            ...</td>\n      <td>16K393</td>\n      <td>40.692133704</td>\n      <td>-73.931503172</td>\n    </tr>\n    <tr>\n      <th>3</th>\n      <td>08X305</td>\n      <td>Pablo Neruda Academy</td>\n      <td>Bronx</td>\n      <td>X450</td>\n      <td>718-824-1682</td>\n      <td>718-824-1663</td>\n      <td>9.0</td>\n      <td>12</td>\n      <td>NaN</td>\n      <td>NaN</td>\n      <td>...</td>\n      <td>1980 Lafayette Avenue\\nBronx, NY 10473\\n(40.82...</td>\n      <td>9.0</td>\n      <td>18.0</td>\n      <td>16.0</td>\n      <td>2022205.0</td>\n      <td>2.036040e+09</td>\n      <td>Soundview-Castle Hill-Clason Point-Harding Par...</td>\n      <td>08X305</td>\n      <td>40.822303765</td>\n      <td>-73.85596139</td>\n    </tr>\n    <tr>\n      <th>4</th>\n      <td>03M485</td>\n      <td>Fiorello H. LaGuardia High School of Music &amp; A...</td>\n      <td>Manhattan</td>\n      <td>M485</td>\n      <td>212-496-0700</td>\n      <td>212-724-5748</td>\n      <td>9.0</td>\n      <td>12</td>\n      <td>NaN</td>\n      <td>NaN</td>\n      <td>...</td>\n      <td>100 Amsterdam Avenue\\nNew York, NY 10023\\n(40....</td>\n      <td>7.0</td>\n      <td>6.0</td>\n      <td>151.0</td>\n      <td>1030341.0</td>\n      <td>1.011560e+09</td>\n      <td>Lincoln Square                                ...</td>\n      <td>03M485</td>\n      <td>40.773670507</td>\n      <td>-73.985268558</td>\n    </tr>\n  </tbody>\n</table>\n<p>5 rows × 67 columns</p>\n</div>"
     },
     "metadata": {},
     "execution_count": 164
    }
   ],
   "source": [
    "# define function to find pattern in string\n",
    "def find_coordinates(str):\n",
    "    pattern = r'\\(.+\\)'\n",
    "    coordinates = re.findall(pattern, str)\n",
    "    # strip expected pattern of junk chars, split them up and strip them\n",
    "    latitude = coordinates[0].split(\",\")[1].replace(\")\", \"\")\n",
    "    return latitude\n",
    "\n",
    "data['hs_directory']['lon'] = data['hs_directory']['Location 1'].apply(find_coordinates)\n",
    "data['hs_directory'].head()"
   ]
  },
  {
   "cell_type": "code",
   "execution_count": 165,
   "metadata": {},
   "outputs": [
    {
     "output_type": "execute_result",
     "data": {
      "text/plain": [
       "      dbn                                        school_name    borough  \\\n",
       "0  27Q260          Frederick Douglass Academy VI High School     Queens   \n",
       "1  21K559        Life Academy High School for Film and Music   Brooklyn   \n",
       "2  16K393     Frederick Douglass Academy IV Secondary School   Brooklyn   \n",
       "3  08X305                               Pablo Neruda Academy      Bronx   \n",
       "4  03M485  Fiorello H. LaGuardia High School of Music & A...  Manhattan   \n",
       "\n",
       "  building_code  phone_number    fax_number  grade_span_min  grade_span_max  \\\n",
       "0          Q465  718-471-2154  718-471-2890             9.0              12   \n",
       "1          K400  718-333-7750  718-333-7775             9.0              12   \n",
       "2          K026  718-574-2820  718-574-2821             9.0              12   \n",
       "3          X450  718-824-1682  718-824-1663             9.0              12   \n",
       "4          M485  212-496-0700  212-724-5748             9.0              12   \n",
       "\n",
       "   expgrade_span_min  expgrade_span_max  ...  \\\n",
       "0                NaN                NaN  ...   \n",
       "1                NaN                NaN  ...   \n",
       "2                NaN                NaN  ...   \n",
       "3                NaN                NaN  ...   \n",
       "4                NaN                NaN  ...   \n",
       "\n",
       "                                          Location 1 Community Board  \\\n",
       "0  8 21 Bay 25 Street\\nFar Rockaway, NY 11691\\n(4...            14.0   \n",
       "1  2630 Benson Avenue\\nBrooklyn, NY 11214\\n(40.59...            13.0   \n",
       "2  1014 Lafayette Avenue\\nBrooklyn, NY 11221\\n(40...             3.0   \n",
       "3  1980 Lafayette Avenue\\nBronx, NY 10473\\n(40.82...             9.0   \n",
       "4  100 Amsterdam Avenue\\nNew York, NY 10023\\n(40....             7.0   \n",
       "\n",
       "  Council District Census Tract        BIN           BBL  \\\n",
       "0             31.0     100802.0  4300730.0  4.157360e+09   \n",
       "1             47.0        306.0  3186454.0  3.068830e+09   \n",
       "2             36.0        291.0  3393805.0  3.016160e+09   \n",
       "3             18.0         16.0  2022205.0  2.036040e+09   \n",
       "4              6.0        151.0  1030341.0  1.011560e+09   \n",
       "\n",
       "                                                 NTA     DBN        lat  \\\n",
       "0  Far Rockaway-Bayswater                        ...  27Q260  40.601989   \n",
       "1  Gravesend                                     ...  21K559  40.593594   \n",
       "2  Stuyvesant Heights                            ...  16K393  40.692134   \n",
       "3  Soundview-Castle Hill-Clason Point-Harding Par...  08X305  40.822304   \n",
       "4  Lincoln Square                                ...  03M485  40.773671   \n",
       "\n",
       "         lon  \n",
       "0 -73.762834  \n",
       "1 -73.984729  \n",
       "2 -73.931503  \n",
       "3 -73.855961  \n",
       "4 -73.985269  \n",
       "\n",
       "[5 rows x 67 columns]"
      ],
      "text/html": "<div>\n<style scoped>\n    .dataframe tbody tr th:only-of-type {\n        vertical-align: middle;\n    }\n\n    .dataframe tbody tr th {\n        vertical-align: top;\n    }\n\n    .dataframe thead th {\n        text-align: right;\n    }\n</style>\n<table border=\"1\" class=\"dataframe\">\n  <thead>\n    <tr style=\"text-align: right;\">\n      <th></th>\n      <th>dbn</th>\n      <th>school_name</th>\n      <th>borough</th>\n      <th>building_code</th>\n      <th>phone_number</th>\n      <th>fax_number</th>\n      <th>grade_span_min</th>\n      <th>grade_span_max</th>\n      <th>expgrade_span_min</th>\n      <th>expgrade_span_max</th>\n      <th>...</th>\n      <th>Location 1</th>\n      <th>Community Board</th>\n      <th>Council District</th>\n      <th>Census Tract</th>\n      <th>BIN</th>\n      <th>BBL</th>\n      <th>NTA</th>\n      <th>DBN</th>\n      <th>lat</th>\n      <th>lon</th>\n    </tr>\n  </thead>\n  <tbody>\n    <tr>\n      <th>0</th>\n      <td>27Q260</td>\n      <td>Frederick Douglass Academy VI High School</td>\n      <td>Queens</td>\n      <td>Q465</td>\n      <td>718-471-2154</td>\n      <td>718-471-2890</td>\n      <td>9.0</td>\n      <td>12</td>\n      <td>NaN</td>\n      <td>NaN</td>\n      <td>...</td>\n      <td>8 21 Bay 25 Street\\nFar Rockaway, NY 11691\\n(4...</td>\n      <td>14.0</td>\n      <td>31.0</td>\n      <td>100802.0</td>\n      <td>4300730.0</td>\n      <td>4.157360e+09</td>\n      <td>Far Rockaway-Bayswater                        ...</td>\n      <td>27Q260</td>\n      <td>40.601989</td>\n      <td>-73.762834</td>\n    </tr>\n    <tr>\n      <th>1</th>\n      <td>21K559</td>\n      <td>Life Academy High School for Film and Music</td>\n      <td>Brooklyn</td>\n      <td>K400</td>\n      <td>718-333-7750</td>\n      <td>718-333-7775</td>\n      <td>9.0</td>\n      <td>12</td>\n      <td>NaN</td>\n      <td>NaN</td>\n      <td>...</td>\n      <td>2630 Benson Avenue\\nBrooklyn, NY 11214\\n(40.59...</td>\n      <td>13.0</td>\n      <td>47.0</td>\n      <td>306.0</td>\n      <td>3186454.0</td>\n      <td>3.068830e+09</td>\n      <td>Gravesend                                     ...</td>\n      <td>21K559</td>\n      <td>40.593594</td>\n      <td>-73.984729</td>\n    </tr>\n    <tr>\n      <th>2</th>\n      <td>16K393</td>\n      <td>Frederick Douglass Academy IV Secondary School</td>\n      <td>Brooklyn</td>\n      <td>K026</td>\n      <td>718-574-2820</td>\n      <td>718-574-2821</td>\n      <td>9.0</td>\n      <td>12</td>\n      <td>NaN</td>\n      <td>NaN</td>\n      <td>...</td>\n      <td>1014 Lafayette Avenue\\nBrooklyn, NY 11221\\n(40...</td>\n      <td>3.0</td>\n      <td>36.0</td>\n      <td>291.0</td>\n      <td>3393805.0</td>\n      <td>3.016160e+09</td>\n      <td>Stuyvesant Heights                            ...</td>\n      <td>16K393</td>\n      <td>40.692134</td>\n      <td>-73.931503</td>\n    </tr>\n    <tr>\n      <th>3</th>\n      <td>08X305</td>\n      <td>Pablo Neruda Academy</td>\n      <td>Bronx</td>\n      <td>X450</td>\n      <td>718-824-1682</td>\n      <td>718-824-1663</td>\n      <td>9.0</td>\n      <td>12</td>\n      <td>NaN</td>\n      <td>NaN</td>\n      <td>...</td>\n      <td>1980 Lafayette Avenue\\nBronx, NY 10473\\n(40.82...</td>\n      <td>9.0</td>\n      <td>18.0</td>\n      <td>16.0</td>\n      <td>2022205.0</td>\n      <td>2.036040e+09</td>\n      <td>Soundview-Castle Hill-Clason Point-Harding Par...</td>\n      <td>08X305</td>\n      <td>40.822304</td>\n      <td>-73.855961</td>\n    </tr>\n    <tr>\n      <th>4</th>\n      <td>03M485</td>\n      <td>Fiorello H. LaGuardia High School of Music &amp; A...</td>\n      <td>Manhattan</td>\n      <td>M485</td>\n      <td>212-496-0700</td>\n      <td>212-724-5748</td>\n      <td>9.0</td>\n      <td>12</td>\n      <td>NaN</td>\n      <td>NaN</td>\n      <td>...</td>\n      <td>100 Amsterdam Avenue\\nNew York, NY 10023\\n(40....</td>\n      <td>7.0</td>\n      <td>6.0</td>\n      <td>151.0</td>\n      <td>1030341.0</td>\n      <td>1.011560e+09</td>\n      <td>Lincoln Square                                ...</td>\n      <td>03M485</td>\n      <td>40.773671</td>\n      <td>-73.985269</td>\n    </tr>\n  </tbody>\n</table>\n<p>5 rows × 67 columns</p>\n</div>"
     },
     "metadata": {},
     "execution_count": 165
    }
   ],
   "source": [
    "data['hs_directory']['lat'] = pd.to_numeric(data['hs_directory']['lat'], errors='coerce')\n",
    "data['hs_directory']['lon'] = pd.to_numeric(data['hs_directory']['lon'], errors='coerce')\n",
    "data['hs_directory'].head()"
   ]
  },
  {
   "cell_type": "code",
   "execution_count": 166,
   "metadata": {},
   "outputs": [
    {
     "output_type": "stream",
     "name": "stdout",
     "text": [
      "<class 'pandas.core.frame.DataFrame'>\nRangeIndex: 435 entries, 0 to 434\nData columns (total 67 columns):\n #   Column                            Non-Null Count  Dtype  \n---  ------                            --------------  -----  \n 0   dbn                               435 non-null    object \n 1   school_name                       435 non-null    object \n 2   borough                           435 non-null    object \n 3   building_code                     435 non-null    object \n 4   phone_number                      435 non-null    object \n 5   fax_number                        423 non-null    object \n 6   grade_span_min                    432 non-null    float64\n 7   grade_span_max                    435 non-null    int64  \n 8   expgrade_span_min                 31 non-null     float64\n 9   expgrade_span_max                 33 non-null     float64\n 10  bus                               434 non-null    object \n 11  subway                            358 non-null    object \n 12  primary_address_line_1            435 non-null    object \n 13  city                              435 non-null    object \n 14  state_code                        435 non-null    object \n 15  postcode                          435 non-null    int64  \n 16  website                           430 non-null    object \n 17  total_students                    426 non-null    float64\n 18  campus_name                       217 non-null    object \n 19  school_type                       104 non-null    object \n 20  overview_paragraph                434 non-null    object \n 21  program_highlights                434 non-null    object \n 22  language_classes                  412 non-null    object \n 23  advancedplacement_courses         340 non-null    object \n 24  online_ap_courses                 64 non-null     object \n 25  online_language_courses           73 non-null     object \n 26  extracurricular_activities        435 non-null    object \n 27  psal_sports_boys                  373 non-null    object \n 28  psal_sports_girls                 373 non-null    object \n 29  psal_sports_coed                  147 non-null    object \n 30  school_sports                     297 non-null    object \n 31  partner_cbo                       354 non-null    object \n 32  partner_hospital                  196 non-null    object \n 33  partner_highered                  378 non-null    object \n 34  partner_cultural                  305 non-null    object \n 35  partner_nonprofit                 297 non-null    object \n 36  partner_corporate                 198 non-null    object \n 37  partner_financial                 72 non-null     object \n 38  partner_other                     188 non-null    object \n 39  addtl_info1                       354 non-null    object \n 40  addtl_info2                       229 non-null    object \n 41  start_time                        431 non-null    object \n 42  end_time                          431 non-null    object \n 43  se_services                       435 non-null    object \n 44  ell_programs                      435 non-null    object \n 45  school_accessibility_description  435 non-null    object \n 46  number_programs                   435 non-null    int64  \n 47  priority01                        435 non-null    object \n 48  priority02                        352 non-null    object \n 49  priority03                        243 non-null    object \n 50  priority04                        177 non-null    object \n 51  priority05                        39 non-null     object \n 52  priority06                        17 non-null     object \n 53  priority07                        4 non-null      object \n 54  priority08                        1 non-null      object \n 55  priority09                        1 non-null      object \n 56  priority10                        1 non-null      object \n 57  Location 1                        435 non-null    object \n 58  Community Board                   432 non-null    float64\n 59  Council District                  432 non-null    float64\n 60  Census Tract                      432 non-null    float64\n 61  BIN                               431 non-null    float64\n 62  BBL                               431 non-null    float64\n 63  NTA                               432 non-null    object \n 64  DBN                               435 non-null    object \n 65  lat                               435 non-null    float64\n 66  lon                               435 non-null    float64\ndtypes: float64(11), int64(3), object(53)\nmemory usage: 227.8+ KB\n"
     ]
    }
   ],
   "source": [
    "data['hs_directory'].info()"
   ]
  },
  {
   "source": [
    "# Condensing Data\n",
    "\n",
    "## Condensing the Class Size Dataset\n",
    "I plan to join the datasets on the DBN col. Therefore it is critical that those values are unique in all of the datasets. While that is already the case in most of our datasets, the class_size dataset appears to contain some duplicates here. "
   ],
   "cell_type": "markdown",
   "metadata": {}
  },
  {
   "cell_type": "code",
   "execution_count": 167,
   "metadata": {},
   "outputs": [
    {
     "output_type": "execute_result",
     "data": {
      "text/plain": [
       "   CSD BOROUGH SCHOOL CODE                SCHOOL NAME GRADE  PROGRAM TYPE  \\\n",
       "0    1       M        M015  P.S. 015 Roberto Clemente     0K       GEN ED   \n",
       "1    1       M        M015  P.S. 015 Roberto Clemente     0K          CTT   \n",
       "2    1       M        M015  P.S. 015 Roberto Clemente     01       GEN ED   \n",
       "3    1       M        M015  P.S. 015 Roberto Clemente     01          CTT   \n",
       "4    1       M        M015  P.S. 015 Roberto Clemente     02       GEN ED   \n",
       "5    1       M        M015  P.S. 015 Roberto Clemente     02          CTT   \n",
       "6    1       M        M015  P.S. 015 Roberto Clemente     03       GEN ED   \n",
       "7    1       M        M015  P.S. 015 Roberto Clemente     03          CTT   \n",
       "8    1       M        M015  P.S. 015 Roberto Clemente     04       GEN ED   \n",
       "9    1       M        M015  P.S. 015 Roberto Clemente     05       GEN ED   \n",
       "\n",
       "  CORE SUBJECT (MS CORE and 9-12 ONLY) CORE COURSE (MS CORE and 9-12 ONLY)  \\\n",
       "0                                    -                                   -   \n",
       "1                                    -                                   -   \n",
       "2                                    -                                   -   \n",
       "3                                    -                                   -   \n",
       "4                                    -                                   -   \n",
       "5                                    -                                   -   \n",
       "6                                    -                                   -   \n",
       "7                                    -                                   -   \n",
       "8                                    -                                   -   \n",
       "9                                    -                                   -   \n",
       "\n",
       "  SERVICE CATEGORY(K-9* ONLY)  NUMBER OF STUDENTS / SEATS FILLED  \\\n",
       "0                           -                               19.0   \n",
       "1                           -                               21.0   \n",
       "2                           -                               17.0   \n",
       "3                           -                               17.0   \n",
       "4                           -                               15.0   \n",
       "5                           -                               17.0   \n",
       "6                           -                               12.0   \n",
       "7                           -                               15.0   \n",
       "8                           -                               26.0   \n",
       "9                           -                               27.0   \n",
       "\n",
       "   NUMBER OF SECTIONS  AVERAGE CLASS SIZE  SIZE OF SMALLEST CLASS  \\\n",
       "0                 1.0                19.0                    19.0   \n",
       "1                 1.0                21.0                    21.0   \n",
       "2                 1.0                17.0                    17.0   \n",
       "3                 1.0                17.0                    17.0   \n",
       "4                 1.0                15.0                    15.0   \n",
       "5                 1.0                17.0                    17.0   \n",
       "6                 1.0                12.0                    12.0   \n",
       "7                 1.0                15.0                    15.0   \n",
       "8                 2.0                13.0                    12.0   \n",
       "9                 1.0                27.0                    27.0   \n",
       "\n",
       "   SIZE OF LARGEST CLASS DATA SOURCE  SCHOOLWIDE PUPIL-TEACHER RATIO  \\\n",
       "0                   19.0         ATS                             NaN   \n",
       "1                   21.0         ATS                             NaN   \n",
       "2                   17.0         ATS                             NaN   \n",
       "3                   17.0         ATS                             NaN   \n",
       "4                   15.0         ATS                             NaN   \n",
       "5                   17.0         ATS                             NaN   \n",
       "6                   12.0         ATS                             NaN   \n",
       "7                   15.0         ATS                             NaN   \n",
       "8                   14.0         ATS                             NaN   \n",
       "9                   27.0         ATS                             NaN   \n",
       "\n",
       "  padded_csd     DBN  \n",
       "0         01  01M015  \n",
       "1         01  01M015  \n",
       "2         01  01M015  \n",
       "3         01  01M015  \n",
       "4         01  01M015  \n",
       "5         01  01M015  \n",
       "6         01  01M015  \n",
       "7         01  01M015  \n",
       "8         01  01M015  \n",
       "9         01  01M015  "
      ],
      "text/html": "<div>\n<style scoped>\n    .dataframe tbody tr th:only-of-type {\n        vertical-align: middle;\n    }\n\n    .dataframe tbody tr th {\n        vertical-align: top;\n    }\n\n    .dataframe thead th {\n        text-align: right;\n    }\n</style>\n<table border=\"1\" class=\"dataframe\">\n  <thead>\n    <tr style=\"text-align: right;\">\n      <th></th>\n      <th>CSD</th>\n      <th>BOROUGH</th>\n      <th>SCHOOL CODE</th>\n      <th>SCHOOL NAME</th>\n      <th>GRADE</th>\n      <th>PROGRAM TYPE</th>\n      <th>CORE SUBJECT (MS CORE and 9-12 ONLY)</th>\n      <th>CORE COURSE (MS CORE and 9-12 ONLY)</th>\n      <th>SERVICE CATEGORY(K-9* ONLY)</th>\n      <th>NUMBER OF STUDENTS / SEATS FILLED</th>\n      <th>NUMBER OF SECTIONS</th>\n      <th>AVERAGE CLASS SIZE</th>\n      <th>SIZE OF SMALLEST CLASS</th>\n      <th>SIZE OF LARGEST CLASS</th>\n      <th>DATA SOURCE</th>\n      <th>SCHOOLWIDE PUPIL-TEACHER RATIO</th>\n      <th>padded_csd</th>\n      <th>DBN</th>\n    </tr>\n  </thead>\n  <tbody>\n    <tr>\n      <th>0</th>\n      <td>1</td>\n      <td>M</td>\n      <td>M015</td>\n      <td>P.S. 015 Roberto Clemente</td>\n      <td>0K</td>\n      <td>GEN ED</td>\n      <td>-</td>\n      <td>-</td>\n      <td>-</td>\n      <td>19.0</td>\n      <td>1.0</td>\n      <td>19.0</td>\n      <td>19.0</td>\n      <td>19.0</td>\n      <td>ATS</td>\n      <td>NaN</td>\n      <td>01</td>\n      <td>01M015</td>\n    </tr>\n    <tr>\n      <th>1</th>\n      <td>1</td>\n      <td>M</td>\n      <td>M015</td>\n      <td>P.S. 015 Roberto Clemente</td>\n      <td>0K</td>\n      <td>CTT</td>\n      <td>-</td>\n      <td>-</td>\n      <td>-</td>\n      <td>21.0</td>\n      <td>1.0</td>\n      <td>21.0</td>\n      <td>21.0</td>\n      <td>21.0</td>\n      <td>ATS</td>\n      <td>NaN</td>\n      <td>01</td>\n      <td>01M015</td>\n    </tr>\n    <tr>\n      <th>2</th>\n      <td>1</td>\n      <td>M</td>\n      <td>M015</td>\n      <td>P.S. 015 Roberto Clemente</td>\n      <td>01</td>\n      <td>GEN ED</td>\n      <td>-</td>\n      <td>-</td>\n      <td>-</td>\n      <td>17.0</td>\n      <td>1.0</td>\n      <td>17.0</td>\n      <td>17.0</td>\n      <td>17.0</td>\n      <td>ATS</td>\n      <td>NaN</td>\n      <td>01</td>\n      <td>01M015</td>\n    </tr>\n    <tr>\n      <th>3</th>\n      <td>1</td>\n      <td>M</td>\n      <td>M015</td>\n      <td>P.S. 015 Roberto Clemente</td>\n      <td>01</td>\n      <td>CTT</td>\n      <td>-</td>\n      <td>-</td>\n      <td>-</td>\n      <td>17.0</td>\n      <td>1.0</td>\n      <td>17.0</td>\n      <td>17.0</td>\n      <td>17.0</td>\n      <td>ATS</td>\n      <td>NaN</td>\n      <td>01</td>\n      <td>01M015</td>\n    </tr>\n    <tr>\n      <th>4</th>\n      <td>1</td>\n      <td>M</td>\n      <td>M015</td>\n      <td>P.S. 015 Roberto Clemente</td>\n      <td>02</td>\n      <td>GEN ED</td>\n      <td>-</td>\n      <td>-</td>\n      <td>-</td>\n      <td>15.0</td>\n      <td>1.0</td>\n      <td>15.0</td>\n      <td>15.0</td>\n      <td>15.0</td>\n      <td>ATS</td>\n      <td>NaN</td>\n      <td>01</td>\n      <td>01M015</td>\n    </tr>\n    <tr>\n      <th>5</th>\n      <td>1</td>\n      <td>M</td>\n      <td>M015</td>\n      <td>P.S. 015 Roberto Clemente</td>\n      <td>02</td>\n      <td>CTT</td>\n      <td>-</td>\n      <td>-</td>\n      <td>-</td>\n      <td>17.0</td>\n      <td>1.0</td>\n      <td>17.0</td>\n      <td>17.0</td>\n      <td>17.0</td>\n      <td>ATS</td>\n      <td>NaN</td>\n      <td>01</td>\n      <td>01M015</td>\n    </tr>\n    <tr>\n      <th>6</th>\n      <td>1</td>\n      <td>M</td>\n      <td>M015</td>\n      <td>P.S. 015 Roberto Clemente</td>\n      <td>03</td>\n      <td>GEN ED</td>\n      <td>-</td>\n      <td>-</td>\n      <td>-</td>\n      <td>12.0</td>\n      <td>1.0</td>\n      <td>12.0</td>\n      <td>12.0</td>\n      <td>12.0</td>\n      <td>ATS</td>\n      <td>NaN</td>\n      <td>01</td>\n      <td>01M015</td>\n    </tr>\n    <tr>\n      <th>7</th>\n      <td>1</td>\n      <td>M</td>\n      <td>M015</td>\n      <td>P.S. 015 Roberto Clemente</td>\n      <td>03</td>\n      <td>CTT</td>\n      <td>-</td>\n      <td>-</td>\n      <td>-</td>\n      <td>15.0</td>\n      <td>1.0</td>\n      <td>15.0</td>\n      <td>15.0</td>\n      <td>15.0</td>\n      <td>ATS</td>\n      <td>NaN</td>\n      <td>01</td>\n      <td>01M015</td>\n    </tr>\n    <tr>\n      <th>8</th>\n      <td>1</td>\n      <td>M</td>\n      <td>M015</td>\n      <td>P.S. 015 Roberto Clemente</td>\n      <td>04</td>\n      <td>GEN ED</td>\n      <td>-</td>\n      <td>-</td>\n      <td>-</td>\n      <td>26.0</td>\n      <td>2.0</td>\n      <td>13.0</td>\n      <td>12.0</td>\n      <td>14.0</td>\n      <td>ATS</td>\n      <td>NaN</td>\n      <td>01</td>\n      <td>01M015</td>\n    </tr>\n    <tr>\n      <th>9</th>\n      <td>1</td>\n      <td>M</td>\n      <td>M015</td>\n      <td>P.S. 015 Roberto Clemente</td>\n      <td>05</td>\n      <td>GEN ED</td>\n      <td>-</td>\n      <td>-</td>\n      <td>-</td>\n      <td>27.0</td>\n      <td>1.0</td>\n      <td>27.0</td>\n      <td>27.0</td>\n      <td>27.0</td>\n      <td>ATS</td>\n      <td>NaN</td>\n      <td>01</td>\n      <td>01M015</td>\n    </tr>\n  </tbody>\n</table>\n</div>"
     },
     "metadata": {},
     "execution_count": 167
    }
   ],
   "source": [
    "data[\"class_size\"].head(10)"
   ]
  },
  {
   "source": [
    "Each schools data seems to be disaggregated by grade, program and courses. Since these are not parameters I need for my analysis I will drop most of them, especially rows where the grade is not between 9 and 12 (since this is an analysis of high school data). "
   ],
   "cell_type": "markdown",
   "metadata": {}
  },
  {
   "cell_type": "code",
   "execution_count": 168,
   "metadata": {},
   "outputs": [
    {
     "output_type": "execute_result",
     "data": {
      "text/plain": [
       "array(['0K', '01', '02', '03', '04', '05', '0K-09', nan, '06', '07', '08',\n",
       "       'MS Core', '09-12', '09'], dtype=object)"
      ]
     },
     "metadata": {},
     "execution_count": 168
    }
   ],
   "source": [
    "# create variable to facilitate code\n",
    "class_size = data[\"class_size\"]\n",
    "\n",
    "# investigate values in GRADE col\n",
    "class_size[\"GRADE \"].unique()\n"
   ]
  },
  {
   "source": [
    "class_size.info()"
   ],
   "cell_type": "code",
   "metadata": {},
   "execution_count": 169,
   "outputs": [
    {
     "output_type": "stream",
     "name": "stdout",
     "text": [
      "<class 'pandas.core.frame.DataFrame'>\nRangeIndex: 27611 entries, 0 to 27610\nData columns (total 18 columns):\n #   Column                                Non-Null Count  Dtype  \n---  ------                                --------------  -----  \n 0   CSD                                   27611 non-null  int64  \n 1   BOROUGH                               27611 non-null  object \n 2   SCHOOL CODE                           27611 non-null  object \n 3   SCHOOL NAME                           27611 non-null  object \n 4   GRADE                                 26127 non-null  object \n 5   PROGRAM TYPE                          26127 non-null  object \n 6   CORE SUBJECT (MS CORE and 9-12 ONLY)  26127 non-null  object \n 7   CORE COURSE (MS CORE and 9-12 ONLY)   26127 non-null  object \n 8   SERVICE CATEGORY(K-9* ONLY)           26127 non-null  object \n 9   NUMBER OF STUDENTS / SEATS FILLED     26127 non-null  float64\n 10  NUMBER OF SECTIONS                    26127 non-null  float64\n 11  AVERAGE CLASS SIZE                    26127 non-null  float64\n 12  SIZE OF SMALLEST CLASS                26127 non-null  float64\n 13  SIZE OF LARGEST CLASS                 26127 non-null  float64\n 14  DATA SOURCE                           26127 non-null  object \n 15  SCHOOLWIDE PUPIL-TEACHER RATIO        1484 non-null   float64\n 16  padded_csd                            27611 non-null  object \n 17  DBN                                   27611 non-null  object \ndtypes: float64(6), int64(1), object(11)\nmemory usage: 3.8+ MB\n"
     ]
    }
   ]
  },
  {
   "cell_type": "code",
   "execution_count": 170,
   "metadata": {},
   "outputs": [
    {
     "output_type": "execute_result",
     "data": {
      "text/plain": [
       "Int64Index([    0,     1,     2,     3,     4,     5,     6,     7,     8,\n",
       "                9,\n",
       "            ...\n",
       "            27547, 27548, 27549, 27550, 27551, 27552, 27553, 27570, 27594,\n",
       "            27610],\n",
       "           dtype='int64', length=16967)"
      ]
     },
     "metadata": {},
     "execution_count": 170
    }
   ],
   "source": [
    "# drop non high school classes\n",
    "drop_rows = class_size.index[class_size[\"GRADE \"] != \"09-12\"]\n",
    "drop_rows"
   ]
  },
  {
   "cell_type": "code",
   "execution_count": 171,
   "metadata": {},
   "outputs": [],
   "source": [
    "class_size.drop(drop_rows, inplace=True)"
   ]
  },
  {
   "cell_type": "code",
   "execution_count": 174,
   "metadata": {},
   "outputs": [
    {
     "output_type": "execute_result",
     "data": {
      "text/plain": [
       "Int64Index([  240,   241,   242,   243,   244,   245,   246,   247,   248,\n",
       "              249,\n",
       "            ...\n",
       "            27539, 27586, 27587, 27588, 27589, 27590, 27591, 27592, 27593,\n",
       "            27609],\n",
       "           dtype='int64', length=4131)"
      ]
     },
     "metadata": {},
     "execution_count": 174
    }
   ],
   "source": [
    "drop_rows_pr = class_size.index[class_size[\"PROGRAM TYPE\"] != \"GEN ED\"]\n",
    "drop_rows_pr"
   ]
  },
  {
   "cell_type": "code",
   "execution_count": 175,
   "metadata": {},
   "outputs": [
    {
     "output_type": "execute_result",
     "data": {
      "text/plain": [
       "       CSD BOROUGH SCHOOL CODE                                    SCHOOL NAME  \\\n",
       "225      1       M        M292  Henry Street School for International Studies   \n",
       "226      1       M        M292  Henry Street School for International Studies   \n",
       "227      1       M        M292  Henry Street School for International Studies   \n",
       "228      1       M        M292  Henry Street School for International Studies   \n",
       "229      1       M        M292  Henry Street School for International Studies   \n",
       "...    ...     ...         ...                                            ...   \n",
       "27604   32       K        K564                 Bushwick Community High School   \n",
       "27605   32       K        K564                 Bushwick Community High School   \n",
       "27606   32       K        K564                 Bushwick Community High School   \n",
       "27607   32       K        K564                 Bushwick Community High School   \n",
       "27608   32       K        K564                 Bushwick Community High School   \n",
       "\n",
       "      GRADE  PROGRAM TYPE CORE SUBJECT (MS CORE and 9-12 ONLY)  \\\n",
       "225    09-12       GEN ED                              ENGLISH   \n",
       "226    09-12       GEN ED                              ENGLISH   \n",
       "227    09-12       GEN ED                              ENGLISH   \n",
       "228    09-12       GEN ED                              ENGLISH   \n",
       "229    09-12       GEN ED                                 MATH   \n",
       "...      ...          ...                                  ...   \n",
       "27604  09-12       GEN ED                              SCIENCE   \n",
       "27605  09-12       GEN ED                       SOCIAL STUDIES   \n",
       "27606  09-12       GEN ED                       SOCIAL STUDIES   \n",
       "27607  09-12       GEN ED                       SOCIAL STUDIES   \n",
       "27608  09-12       GEN ED                       SOCIAL STUDIES   \n",
       "\n",
       "      CORE COURSE (MS CORE and 9-12 ONLY) SERVICE CATEGORY(K-9* ONLY)  \\\n",
       "225                             English 9                           -   \n",
       "226                            English 10                           -   \n",
       "227                            English 11                           -   \n",
       "228                            English 12                           -   \n",
       "229                    Integrated Algebra                           -   \n",
       "...                                   ...                         ...   \n",
       "27604                             Physics                           -   \n",
       "27605          Global History & Geography                           -   \n",
       "27606             US History & Government                           -   \n",
       "27607                           Economics                           -   \n",
       "27608         Participation in Government                           -   \n",
       "\n",
       "       NUMBER OF STUDENTS / SEATS FILLED  NUMBER OF SECTIONS  \\\n",
       "225                                 63.0                 3.0   \n",
       "226                                 79.0                 3.0   \n",
       "227                                 38.0                 2.0   \n",
       "228                                 69.0                 3.0   \n",
       "229                                 53.0                 3.0   \n",
       "...                                  ...                 ...   \n",
       "27604                               49.0                 2.0   \n",
       "27605                              237.0                10.0   \n",
       "27606                              256.0                10.0   \n",
       "27607                               65.0                 2.0   \n",
       "27608                               53.0                 2.0   \n",
       "\n",
       "       AVERAGE CLASS SIZE  SIZE OF SMALLEST CLASS  SIZE OF LARGEST CLASS  \\\n",
       "225                  21.0                    19.0                   25.0   \n",
       "226                  26.3                    24.0                   31.0   \n",
       "227                  19.0                    16.0                   22.0   \n",
       "228                  23.0                    13.0                   30.0   \n",
       "229                  17.7                    16.0                   21.0   \n",
       "...                   ...                     ...                    ...   \n",
       "27604                24.5                    22.0                   27.0   \n",
       "27605                23.7                    15.0                   31.0   \n",
       "27606                25.6                    15.0                   35.0   \n",
       "27607                32.5                    32.0                   33.0   \n",
       "27608                26.5                    25.0                   28.0   \n",
       "\n",
       "      DATA SOURCE  SCHOOLWIDE PUPIL-TEACHER RATIO padded_csd     DBN  \n",
       "225         STARS                             NaN         01  01M292  \n",
       "226         STARS                             NaN         01  01M292  \n",
       "227         STARS                             NaN         01  01M292  \n",
       "228         STARS                             NaN         01  01M292  \n",
       "229         STARS                             NaN         01  01M292  \n",
       "...           ...                             ...        ...     ...  \n",
       "27604       STARS                             NaN         32  32K564  \n",
       "27605       STARS                             NaN         32  32K564  \n",
       "27606       STARS                             NaN         32  32K564  \n",
       "27607       STARS                             NaN         32  32K564  \n",
       "27608       STARS                             NaN         32  32K564  \n",
       "\n",
       "[6513 rows x 18 columns]"
      ],
      "text/html": "<div>\n<style scoped>\n    .dataframe tbody tr th:only-of-type {\n        vertical-align: middle;\n    }\n\n    .dataframe tbody tr th {\n        vertical-align: top;\n    }\n\n    .dataframe thead th {\n        text-align: right;\n    }\n</style>\n<table border=\"1\" class=\"dataframe\">\n  <thead>\n    <tr style=\"text-align: right;\">\n      <th></th>\n      <th>CSD</th>\n      <th>BOROUGH</th>\n      <th>SCHOOL CODE</th>\n      <th>SCHOOL NAME</th>\n      <th>GRADE</th>\n      <th>PROGRAM TYPE</th>\n      <th>CORE SUBJECT (MS CORE and 9-12 ONLY)</th>\n      <th>CORE COURSE (MS CORE and 9-12 ONLY)</th>\n      <th>SERVICE CATEGORY(K-9* ONLY)</th>\n      <th>NUMBER OF STUDENTS / SEATS FILLED</th>\n      <th>NUMBER OF SECTIONS</th>\n      <th>AVERAGE CLASS SIZE</th>\n      <th>SIZE OF SMALLEST CLASS</th>\n      <th>SIZE OF LARGEST CLASS</th>\n      <th>DATA SOURCE</th>\n      <th>SCHOOLWIDE PUPIL-TEACHER RATIO</th>\n      <th>padded_csd</th>\n      <th>DBN</th>\n    </tr>\n  </thead>\n  <tbody>\n    <tr>\n      <th>225</th>\n      <td>1</td>\n      <td>M</td>\n      <td>M292</td>\n      <td>Henry Street School for International Studies</td>\n      <td>09-12</td>\n      <td>GEN ED</td>\n      <td>ENGLISH</td>\n      <td>English 9</td>\n      <td>-</td>\n      <td>63.0</td>\n      <td>3.0</td>\n      <td>21.0</td>\n      <td>19.0</td>\n      <td>25.0</td>\n      <td>STARS</td>\n      <td>NaN</td>\n      <td>01</td>\n      <td>01M292</td>\n    </tr>\n    <tr>\n      <th>226</th>\n      <td>1</td>\n      <td>M</td>\n      <td>M292</td>\n      <td>Henry Street School for International Studies</td>\n      <td>09-12</td>\n      <td>GEN ED</td>\n      <td>ENGLISH</td>\n      <td>English 10</td>\n      <td>-</td>\n      <td>79.0</td>\n      <td>3.0</td>\n      <td>26.3</td>\n      <td>24.0</td>\n      <td>31.0</td>\n      <td>STARS</td>\n      <td>NaN</td>\n      <td>01</td>\n      <td>01M292</td>\n    </tr>\n    <tr>\n      <th>227</th>\n      <td>1</td>\n      <td>M</td>\n      <td>M292</td>\n      <td>Henry Street School for International Studies</td>\n      <td>09-12</td>\n      <td>GEN ED</td>\n      <td>ENGLISH</td>\n      <td>English 11</td>\n      <td>-</td>\n      <td>38.0</td>\n      <td>2.0</td>\n      <td>19.0</td>\n      <td>16.0</td>\n      <td>22.0</td>\n      <td>STARS</td>\n      <td>NaN</td>\n      <td>01</td>\n      <td>01M292</td>\n    </tr>\n    <tr>\n      <th>228</th>\n      <td>1</td>\n      <td>M</td>\n      <td>M292</td>\n      <td>Henry Street School for International Studies</td>\n      <td>09-12</td>\n      <td>GEN ED</td>\n      <td>ENGLISH</td>\n      <td>English 12</td>\n      <td>-</td>\n      <td>69.0</td>\n      <td>3.0</td>\n      <td>23.0</td>\n      <td>13.0</td>\n      <td>30.0</td>\n      <td>STARS</td>\n      <td>NaN</td>\n      <td>01</td>\n      <td>01M292</td>\n    </tr>\n    <tr>\n      <th>229</th>\n      <td>1</td>\n      <td>M</td>\n      <td>M292</td>\n      <td>Henry Street School for International Studies</td>\n      <td>09-12</td>\n      <td>GEN ED</td>\n      <td>MATH</td>\n      <td>Integrated Algebra</td>\n      <td>-</td>\n      <td>53.0</td>\n      <td>3.0</td>\n      <td>17.7</td>\n      <td>16.0</td>\n      <td>21.0</td>\n      <td>STARS</td>\n      <td>NaN</td>\n      <td>01</td>\n      <td>01M292</td>\n    </tr>\n    <tr>\n      <th>...</th>\n      <td>...</td>\n      <td>...</td>\n      <td>...</td>\n      <td>...</td>\n      <td>...</td>\n      <td>...</td>\n      <td>...</td>\n      <td>...</td>\n      <td>...</td>\n      <td>...</td>\n      <td>...</td>\n      <td>...</td>\n      <td>...</td>\n      <td>...</td>\n      <td>...</td>\n      <td>...</td>\n      <td>...</td>\n      <td>...</td>\n    </tr>\n    <tr>\n      <th>27604</th>\n      <td>32</td>\n      <td>K</td>\n      <td>K564</td>\n      <td>Bushwick Community High School</td>\n      <td>09-12</td>\n      <td>GEN ED</td>\n      <td>SCIENCE</td>\n      <td>Physics</td>\n      <td>-</td>\n      <td>49.0</td>\n      <td>2.0</td>\n      <td>24.5</td>\n      <td>22.0</td>\n      <td>27.0</td>\n      <td>STARS</td>\n      <td>NaN</td>\n      <td>32</td>\n      <td>32K564</td>\n    </tr>\n    <tr>\n      <th>27605</th>\n      <td>32</td>\n      <td>K</td>\n      <td>K564</td>\n      <td>Bushwick Community High School</td>\n      <td>09-12</td>\n      <td>GEN ED</td>\n      <td>SOCIAL STUDIES</td>\n      <td>Global History &amp; Geography</td>\n      <td>-</td>\n      <td>237.0</td>\n      <td>10.0</td>\n      <td>23.7</td>\n      <td>15.0</td>\n      <td>31.0</td>\n      <td>STARS</td>\n      <td>NaN</td>\n      <td>32</td>\n      <td>32K564</td>\n    </tr>\n    <tr>\n      <th>27606</th>\n      <td>32</td>\n      <td>K</td>\n      <td>K564</td>\n      <td>Bushwick Community High School</td>\n      <td>09-12</td>\n      <td>GEN ED</td>\n      <td>SOCIAL STUDIES</td>\n      <td>US History &amp; Government</td>\n      <td>-</td>\n      <td>256.0</td>\n      <td>10.0</td>\n      <td>25.6</td>\n      <td>15.0</td>\n      <td>35.0</td>\n      <td>STARS</td>\n      <td>NaN</td>\n      <td>32</td>\n      <td>32K564</td>\n    </tr>\n    <tr>\n      <th>27607</th>\n      <td>32</td>\n      <td>K</td>\n      <td>K564</td>\n      <td>Bushwick Community High School</td>\n      <td>09-12</td>\n      <td>GEN ED</td>\n      <td>SOCIAL STUDIES</td>\n      <td>Economics</td>\n      <td>-</td>\n      <td>65.0</td>\n      <td>2.0</td>\n      <td>32.5</td>\n      <td>32.0</td>\n      <td>33.0</td>\n      <td>STARS</td>\n      <td>NaN</td>\n      <td>32</td>\n      <td>32K564</td>\n    </tr>\n    <tr>\n      <th>27608</th>\n      <td>32</td>\n      <td>K</td>\n      <td>K564</td>\n      <td>Bushwick Community High School</td>\n      <td>09-12</td>\n      <td>GEN ED</td>\n      <td>SOCIAL STUDIES</td>\n      <td>Participation in Government</td>\n      <td>-</td>\n      <td>53.0</td>\n      <td>2.0</td>\n      <td>26.5</td>\n      <td>25.0</td>\n      <td>28.0</td>\n      <td>STARS</td>\n      <td>NaN</td>\n      <td>32</td>\n      <td>32K564</td>\n    </tr>\n  </tbody>\n</table>\n<p>6513 rows × 18 columns</p>\n</div>"
     },
     "metadata": {},
     "execution_count": 175
    }
   ],
   "source": [
    "class_size.drop(drop_rows_pr, inplace=True)\n",
    "class_size"
   ]
  }
 ]
}